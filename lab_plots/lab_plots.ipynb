{
 "cells": [
  {
   "cell_type": "markdown",
   "metadata": {},
   "source": [
    "# Lab: Plots\n",
    "\n",
    "You may not know this, but the salaries of the employees at the University of Illinois are publicly available! We have curated this data in a nice, structured dataset called `graybook.csv` for you to explore.  The goal of this lab is to work with real UIUC salary data to explore its properties, answer important questions, and to think about the implications of collecting and analyzing this data.  Throughout the lab, it is important to think about being a critical consumer of data who can not only use statistics and programming to analyze data but can also think about the \"why\" part of data science both in the classroom and in the world, as well how you can use what you learn in class to answer real questions that you have. Let’s get started!\n",
    "\n",
    "In this lab, you will:\n",
    "\n",
    "- Work with real UIUC salary data to explore some of the statistics that we talked about in class: mean, median, standard deviation, etc.\n",
    "- Practice creating plots to visualize quantitative data: boxplots and histograms.\n",
    "- See how data science can be used in the real world to think about important social justice issues through individual reflection and discussions with your group.\n",
    "\n",
    "## PRE-LAB SURVEY\n",
    "\n",
    "We are doing a pre and post lab survey this week! Please complete this survey BEFORE you start the lab to get +2 extra credit points! Who doesn't want extra credit?!  This will help us make the labs better and should take about 5 minutes :) Click the link below to access the survey.\n",
    "\n",
    "[Click Here for the Pre-Lab Survey](https://docs.google.com/forms/d/e/1FAIpQLSck64etK3BifqID33YNDyv0qRE_gXA8xd56tNSYzVDng9i53Q/viewform?usp=sf_link)\n",
    "\n",
    "## Group\n",
    "\n",
    "Edit the next Python cell to add information about who you're working within your lab section:"
   ]
  },
  {
   "cell_type": "code",
   "execution_count": 1,
   "metadata": {},
   "outputs": [],
   "source": [
    "# First, meet your CAs and TA if you haven't already!\n",
    "# ...first name is enough, we'll know who they are! :)\n",
    "ta_name = \"Herman\"\n",
    "ca1_name = \"Justin\"\n",
    "ca2_name = \"Jessica\"\n",
    "ca3_name = \"\"\n",
    "\n",
    "# Also, make sure to meet your team for this Lab! Find out their name, what major they're in,\n",
    "# and learn something new about them that you never knew before!\n",
    "partner1_name = \"Jai Rajpal\"\n",
    "partner1_netid = \"\"\n",
    "partner1_major = \"Information Sciences\"\n",
    "\n",
    "partner2_name = \"\"\n",
    "partner2_netid = \"\"\n",
    "partner2_major = \"\"\n",
    "\n",
    "partner3_name = \"\"\n",
    "partner3_netid = \"\"\n",
    "partner3_major = \"\""
   ]
  },
  {
   "cell_type": "markdown",
   "metadata": {},
   "source": [
    "## Table of Contents <a id='toc'></a>\n",
    "\n",
    "**Use the Outline view (View > Command Palette > Type \"outline\") for navigation.**\n",
    "\n",
    "* Puzzle 1\n",
    "    * Puzzle 1.1\n",
    "    * Puzzle 1.2\n",
    "    * Puzzle 1.3\n",
    "    * Puzzle 1.4\n",
    "    * Puzzle 1.5\n",
    "* Puzzle 2\n",
    "    * Puzzle 2.1\n",
    "    * Puzzle 2.2\n",
    "    * Puzzle 2.3 \n",
    "* Puzzle 3\n",
    "    * Puzzle 3.1\n",
    "    * Puzzle 3.2\n",
    "* Puzzle 4\n",
    "    * Puzzle 4.1\n",
    "    * Puzzle 4.2\n",
    "* Puzzle 5"
   ]
  },
  {
   "cell_type": "markdown",
   "metadata": {},
   "source": [
    "## Getting Help\n",
    "Remember, there are a lot of ways to get help if you find yourself stuck:\n",
    "\n",
    "1. In your lab section, you can ask your TA or CAs.\n",
    "2. Post your question in the course Discord.\n",
    "3. Office Hours:\n",
    "  - In-person office hours **every Monday, Wednesday, Thursday, and Friday** from 4:00 PM - 6:00 PM in Siebel Center for Design (SCD) Rm. 0060\n",
    "  - Zoom office hours **every Tuesday** from 5:00 PM - 6:30 PM (see the course website for links).\n",
    "\n",
    "## Install MatPlotLib\n",
    "\n",
    "In this lab, we will be creating two types of simple visualizations: Histograms and Box Plots.  To do this, we need to make sure `matplotlib` is installed.\n",
    "\n",
    "Pull up your terminal and run the following code:\n",
    "\n",
    "WINDOWS USERS: \n",
    "\n",
    "`py -m pip install matplotlib`\n",
    "\n",
    "MacOS USERS: \n",
    "\n",
    "`python3 -m pip install matplotlib`\n",
    "\n",
    "## Import the Data\n",
    "\n",
    "In the same directory as this notebook, find the dataset called `graybook.csv` that is provided.  We will use the other dataset later on ;) You know what to do to import the libraries and read in the data! :)\n",
    "\n",
    "Look at the variable names, how many rows and columns there, and anything else you may notice!"
   ]
  },
  {
   "cell_type": "code",
   "execution_count": 4,
   "metadata": {
    "deletable": false,
    "nbgrader": {
     "cell_type": "code",
     "checksum": "40a9b55a4721908243d995f8d7f2fbb7",
     "grade": false,
     "grade_id": "cell-27971beecac131cc",
     "locked": false,
     "schema_version": 3,
     "solution": true,
     "task": false
    }
   },
   "outputs": [],
   "source": [
    "#import the graybook.csv dataset below \n"
   ]
  },
  {
   "cell_type": "code",
   "execution_count": 5,
   "metadata": {},
   "outputs": [
    {
     "data": {
      "text/html": "<div>\n<style scoped>\n    .dataframe tbody tr th:only-of-type {\n        vertical-align: middle;\n    }\n\n    .dataframe tbody tr th {\n        vertical-align: top;\n    }\n\n    .dataframe thead th {\n        text-align: right;\n    }\n</style>\n<table border=\"1\" class=\"dataframe\">\n  <thead>\n    <tr style=\"text-align: right;\">\n      <th></th>\n      <th>Employee Name</th>\n      <th>Academic Title</th>\n      <th>Primary Job Title</th>\n      <th>Primary College</th>\n      <th>Primary Department</th>\n      <th>Salary</th>\n      <th>PrevFTE</th>\n      <th>FTE</th>\n      <th>All Titles</th>\n      <th>Empl Class</th>\n      <th>PrevSalary</th>\n    </tr>\n  </thead>\n  <tbody>\n    <tr>\n      <th>0</th>\n      <td>Edakara, Manu I</td>\n      <td>NaN</td>\n      <td>ASSOC DIR ENTREPRNRL CMTY</td>\n      <td>Business</td>\n      <td>Academy Entrepreneurial Ldrshp</td>\n      <td>66300.00</td>\n      <td>1.0</td>\n      <td>1.0</td>\n      <td>['ASSOC DIR ENTREPRNRL CMTY']</td>\n      <td>['BA']</td>\n      <td>65000.00</td>\n    </tr>\n    <tr>\n      <th>1</th>\n      <td>Quarton, John Edward</td>\n      <td>NaN</td>\n      <td>SR DIR INNOVA ENTRPRNRL PRGM</td>\n      <td>Business</td>\n      <td>Academy Entrepreneurial Ldrshp</td>\n      <td>150480.70</td>\n      <td>1.0</td>\n      <td>1.0</td>\n      <td>['SR DIR INNOVA ENTRPRNRL PRGM' 'DIR HOEFT T&amp;M...</td>\n      <td>['BA']</td>\n      <td>147530.00</td>\n    </tr>\n    <tr>\n      <th>2</th>\n      <td>Werpetinski, Valeri A</td>\n      <td>NaN</td>\n      <td>VST ASSOC DIR, ENTRPRNRL EDUC</td>\n      <td>Business</td>\n      <td>Academy Entrepreneurial Ldrshp</td>\n      <td>71400.00</td>\n      <td>1.0</td>\n      <td>1.0</td>\n      <td>['VST ASSOC DIR, ENTRPRNRL EDUC']</td>\n      <td>['BA']</td>\n      <td>70000.00</td>\n    </tr>\n    <tr>\n      <th>3</th>\n      <td>Abdel-Khalik, Ahmed Rashad</td>\n      <td>PROF</td>\n      <td>PROF</td>\n      <td>Business</td>\n      <td>Accountancy</td>\n      <td>318007.00</td>\n      <td>1.0</td>\n      <td>1.0</td>\n      <td>['DIR CIERA' 'PROF' 'V K ZIMMERMAN PROF']</td>\n      <td>['BC' 'AA']</td>\n      <td>312556.00</td>\n    </tr>\n    <tr>\n      <th>4</th>\n      <td>Ahmed, Waqar</td>\n      <td>LECTURER</td>\n      <td>LECTURER</td>\n      <td>Business</td>\n      <td>Accountancy</td>\n      <td>96691.00</td>\n      <td>1.0</td>\n      <td>1.0</td>\n      <td>['LECTURER']</td>\n      <td>['AA']</td>\n      <td>96691.00</td>\n    </tr>\n    <tr>\n      <th>...</th>\n      <td>...</td>\n      <td>...</td>\n      <td>...</td>\n      <td>...</td>\n      <td>...</td>\n      <td>...</td>\n      <td>...</td>\n      <td>...</td>\n      <td>...</td>\n      <td>...</td>\n      <td>...</td>\n    </tr>\n    <tr>\n      <th>3550</th>\n      <td>Wolfson, Ouri</td>\n      <td>PROF</td>\n      <td>???</td>\n      <td>???</td>\n      <td>???</td>\n      <td>200456.78</td>\n      <td>0.0</td>\n      <td>0.0</td>\n      <td>['PROF']</td>\n      <td>['AA']</td>\n      <td>200456.78</td>\n    </tr>\n    <tr>\n      <th>3551</th>\n      <td>Wu, Maryalice S</td>\n      <td>ADJ ASST PROF</td>\n      <td>???</td>\n      <td>???</td>\n      <td>???</td>\n      <td>81962.71</td>\n      <td>0.0</td>\n      <td>0.0</td>\n      <td>['ADJ ASST PROF']</td>\n      <td>['AA']</td>\n      <td>80355.60</td>\n    </tr>\n    <tr>\n      <th>3552</th>\n      <td>Yau, Peter M</td>\n      <td>RES ASST PROF</td>\n      <td>???</td>\n      <td>???</td>\n      <td>???</td>\n      <td>131447.50</td>\n      <td>0.0</td>\n      <td>0.0</td>\n      <td>['RES ASST PROF']</td>\n      <td>['AL']</td>\n      <td>128617.91</td>\n    </tr>\n    <tr>\n      <th>3553</th>\n      <td>Yodh, Jaya G</td>\n      <td>RES ASST PROF</td>\n      <td>???</td>\n      <td>???</td>\n      <td>???</td>\n      <td>112200.00</td>\n      <td>0.0</td>\n      <td>0.0</td>\n      <td>['RES ASST PROF']</td>\n      <td>['AL']</td>\n      <td>110000.00</td>\n    </tr>\n    <tr>\n      <th>3554</th>\n      <td>Zerai, Assata</td>\n      <td>PROF</td>\n      <td>???</td>\n      <td>???</td>\n      <td>???</td>\n      <td>187530.00</td>\n      <td>0.0</td>\n      <td>0.0</td>\n      <td>['PROF']</td>\n      <td>['AA']</td>\n      <td>184441.29</td>\n    </tr>\n  </tbody>\n</table>\n<p>3555 rows × 11 columns</p>\n</div>",
      "text/plain": "                   Employee Name Academic Title  \\\n0                Edakara, Manu I            NaN   \n1           Quarton, John Edward            NaN   \n2          Werpetinski, Valeri A            NaN   \n3     Abdel-Khalik, Ahmed Rashad           PROF   \n4                   Ahmed, Waqar       LECTURER   \n...                          ...            ...   \n3550               Wolfson, Ouri           PROF   \n3551             Wu, Maryalice S  ADJ ASST PROF   \n3552                Yau, Peter M  RES ASST PROF   \n3553                Yodh, Jaya G  RES ASST PROF   \n3554               Zerai, Assata           PROF   \n\n                  Primary Job Title Primary College  \\\n0         ASSOC DIR ENTREPRNRL CMTY        Business   \n1      SR DIR INNOVA ENTRPRNRL PRGM        Business   \n2     VST ASSOC DIR, ENTRPRNRL EDUC        Business   \n3                              PROF        Business   \n4                          LECTURER        Business   \n...                             ...             ...   \n3550                            ???             ???   \n3551                            ???             ???   \n3552                            ???             ???   \n3553                            ???             ???   \n3554                            ???             ???   \n\n                  Primary Department     Salary  PrevFTE  FTE  \\\n0     Academy Entrepreneurial Ldrshp   66300.00      1.0  1.0   \n1     Academy Entrepreneurial Ldrshp  150480.70      1.0  1.0   \n2     Academy Entrepreneurial Ldrshp   71400.00      1.0  1.0   \n3                        Accountancy  318007.00      1.0  1.0   \n4                        Accountancy   96691.00      1.0  1.0   \n...                              ...        ...      ...  ...   \n3550                             ???  200456.78      0.0  0.0   \n3551                             ???   81962.71      0.0  0.0   \n3552                             ???  131447.50      0.0  0.0   \n3553                             ???  112200.00      0.0  0.0   \n3554                             ???  187530.00      0.0  0.0   \n\n                                             All Titles   Empl Class  \\\n0                         ['ASSOC DIR ENTREPRNRL CMTY']       ['BA']   \n1     ['SR DIR INNOVA ENTRPRNRL PRGM' 'DIR HOEFT T&M...       ['BA']   \n2                     ['VST ASSOC DIR, ENTRPRNRL EDUC']       ['BA']   \n3             ['DIR CIERA' 'PROF' 'V K ZIMMERMAN PROF']  ['BC' 'AA']   \n4                                          ['LECTURER']       ['AA']   \n...                                                 ...          ...   \n3550                                           ['PROF']       ['AA']   \n3551                                  ['ADJ ASST PROF']       ['AA']   \n3552                                  ['RES ASST PROF']       ['AL']   \n3553                                  ['RES ASST PROF']       ['AL']   \n3554                                           ['PROF']       ['AA']   \n\n      PrevSalary  \n0       65000.00  \n1      147530.00  \n2       70000.00  \n3      312556.00  \n4       96691.00  \n...          ...  \n3550   200456.78  \n3551    80355.60  \n3552   128617.91  \n3553   110000.00  \n3554   184441.29  \n\n[3555 rows x 11 columns]"
     },
     "execution_count": 5,
     "metadata": {},
     "output_type": "execute_result"
    }
   ],
   "source": [
    "import pandas as pd\n",
    "df=pd.read_csv(\"graybook.csv\")\n",
    "df"
   ]
  },
  {
   "cell_type": "markdown",
   "metadata": {},
   "source": [
    "## Puzzle 1: Exploratory Data Analysis (EDA)\n",
    "As we discussed in lecture, the first step of any data analysis is to get familiar with your dataset.  Think about what this data can tell you and what variables are included.  Data scientists always start with this step.\n",
    "\n",
    "\n",
    "Let’s do some overall exploratory data analysis to get some baseline data to compare to.  Before you do the calculations, guess what you think the average salary is at UIUC. Enter your answer below.\n",
    "\n",
    "### Puzzle 1.1: ❓ Individual Reflection ❓ \n",
    "\n",
    "Guess for Overall Average Salary."
   ]
  },
  {
   "cell_type": "markdown",
   "metadata": {},
   "source": [
    "***Double click this cell and type your answer here.***\n",
    "100,000"
   ]
  },
  {
   "cell_type": "markdown",
   "metadata": {},
   "source": [
    "### Puzzle 1.2: Descriptive Statistics\n",
    "\n",
    "Next, using all of the data, find the following information:\n",
    "\n",
    "1. the number of employees at UIUC\n",
    "2. the mean salary\n",
    "3. the median salary\n",
    "4. the standard deviation"
   ]
  },
  {
   "cell_type": "code",
   "execution_count": 6,
   "metadata": {
    "deletable": false,
    "nbgrader": {
     "cell_type": "code",
     "checksum": "b1bea43f79c33b854e1f15dfe00b180b",
     "grade": false,
     "grade_id": "cell-419796a0b415e588",
     "locked": false,
     "schema_version": 3,
     "solution": true,
     "task": false
    }
   },
   "outputs": [
    {
     "data": {
      "text/plain": "3555"
     },
     "execution_count": 6,
     "metadata": {},
     "output_type": "execute_result"
    }
   ],
   "source": [
    "university_num_emp = len(df)\n",
    "university_num_emp\n",
    "\n"
   ]
  },
  {
   "cell_type": "code",
   "execution_count": 8,
   "metadata": {
    "deletable": false,
    "nbgrader": {
     "cell_type": "code",
     "checksum": "f86aac497feb3ecd4289626231b44964",
     "grade": false,
     "grade_id": "cell-4dbbeef1022a20e4",
     "locked": false,
     "schema_version": 3,
     "solution": true,
     "task": false
    }
   },
   "outputs": [
    {
     "data": {
      "text/plain": "101284.91668642375"
     },
     "execution_count": 8,
     "metadata": {},
     "output_type": "execute_result"
    }
   ],
   "source": [
    "university_mean_sal = df[\"Salary\"].mean()\n",
    "university_mean_sal\n",
    "\n"
   ]
  },
  {
   "cell_type": "code",
   "execution_count": 9,
   "metadata": {
    "deletable": false,
    "nbgrader": {
     "cell_type": "code",
     "checksum": "e8f355f508ffadd1f9b645c9686c73ea",
     "grade": false,
     "grade_id": "cell-727195c3fef2cf78",
     "locked": false,
     "schema_version": 3,
     "solution": true,
     "task": false
    }
   },
   "outputs": [
    {
     "data": {
      "text/plain": "86995.0"
     },
     "execution_count": 9,
     "metadata": {},
     "output_type": "execute_result"
    }
   ],
   "source": [
    "university_median_sal = df[\"Salary\"].median()\n",
    "university_median_sal\n",
    "\n"
   ]
  },
  {
   "cell_type": "code",
   "execution_count": 10,
   "metadata": {
    "deletable": false,
    "nbgrader": {
     "cell_type": "code",
     "checksum": "3da9719c35e35c72a09a1068d100b0f1",
     "grade": false,
     "grade_id": "cell-35e651d14a628e50",
     "locked": false,
     "schema_version": 3,
     "solution": true,
     "task": false
    }
   },
   "outputs": [
    {
     "data": {
      "text/plain": "55129.29496464768"
     },
     "execution_count": 10,
     "metadata": {},
     "output_type": "execute_result"
    }
   ],
   "source": [
    "university_std_sal = df[\"Salary\"].std()\n",
    "university_std_sal\n",
    "\n"
   ]
  },
  {
   "cell_type": "code",
   "execution_count": 11,
   "metadata": {
    "deletable": false,
    "editable": false,
    "nbgrader": {
     "cell_type": "code",
     "checksum": "56f09ea04974ac5c89f390a8825daa39",
     "grade": true,
     "grade_id": "cell-04e624817d681f8e",
     "locked": true,
     "points": 1,
     "schema_version": 3,
     "solution": false,
     "task": false
    }
   },
   "outputs": [
    {
     "name": "stdout",
     "output_type": "stream",
     "text": [
      "🎉 All tests passed! 🎉\n"
     ]
    }
   ],
   "source": [
    "## == TEST CASES for Puzzle 1.1 ==\n",
    "# - This read-only cell contains test cases for your previous cell.\n",
    "# - If this cell runs with a message (with the emoji showing), you PASSED all test cases!\n",
    "# - If this cell results in any errors, check your previous cell, make changes, and RE-RUN your code and then this cell.\n",
    "x = university_num_emp + university_mean_sal + university_median_sal + university_std_sal\n",
    "y = ((university_mean_sal - university_median_sal) * university_std_sal) / university_num_emp\n",
    "\n",
    "assert( abs(x - 246964.21165107167) < 1 ), \"It looks like your calculations are off?\"\n",
    "assert( abs(y - 221601.415478511) < 1 ), \"It looks like your calculations are off?\"\n",
    "\n",
    "## == SUCCESS MESSAGE ==\n",
    "# You will only see this message (with the emoji showing) if you passed all test cases:\n",
    "tada = \"\\N{PARTY POPPER}\"\n",
    "print(f\"{tada} All tests passed! {tada}\")"
   ]
  },
  {
   "cell_type": "markdown",
   "metadata": {},
   "source": [
    "### Visual Displays of Data -- A Key Part of EDA!\n",
    "\n",
    "Now, we are a bit more familiar with the dataset and some summary statistics. Looking at overall descriptive statistics helps us summarize all of the observations in a column, rather than having to scroll through all of the observations!  However, descriptive statistics alone often don’t tell the whole story.  \n",
    "\n",
    "In lecture, we will see Anscombe’s Quartet (a set of 4 datasets with the exact same descriptive statistics that look completely different when graphed). This shows us that visual displays of data are also a necessary and important part of exploratory data analysis. \n",
    "\n",
    "### Puzzle 1.3: Histograms\n",
    "\n",
    "Let’s start by looking at one of the most simple, yet powerful visual displays of data, a histogram.  Histograms are used to show the overall shape of the data and they allow us to see frequencies.  Create a frequency histogram of the salaries at UIUC.\n"
   ]
  },
  {
   "cell_type": "code",
   "execution_count": 4,
   "metadata": {},
   "outputs": [
    {
     "data": {
      "text/plain": "<matplotlib.axes._subplots.AxesSubplot at 0x7fdb04b54550>"
     },
     "execution_count": 4,
     "metadata": {},
     "output_type": "execute_result"
    },
    {
     "data": {
      "image/png": "[encoded data removed]",
      "text/plain": "<Figure size 432x288 with 1 Axes>"
     },
     "metadata": {
      "needs_background": "light"
     },
     "output_type": "display_data"
    }
   ],
   "source": [
    "# create your histogram here\n",
    "df[\"Salary\"].hist()"
   ]
  },
  {
   "cell_type": "markdown",
   "metadata": {},
   "source": [
    "### Puzzle 1.4: Boxplots\n",
    "\n",
    "Next, let’s look at another simple, yet power visualization: a boxplot! Create a boxplot of the overall salary data at UIUC. "
   ]
  },
  {
   "cell_type": "code",
   "execution_count": 19,
   "metadata": {},
   "outputs": [
    {
     "data": {
      "text/plain": "<matplotlib.axes._subplots.AxesSubplot at 0x7ffdea2c6e50>"
     },
     "execution_count": 19,
     "metadata": {},
     "output_type": "execute_result"
    },
    {
     "data": {
      "image/png": "[encoded data removed]",
      "text/plain": "<Figure size 432x288 with 1 Axes>"
     },
     "metadata": {
      "needs_background": "light"
     },
     "output_type": "display_data"
    }
   ],
   "source": [
    "# create your boxplot here\n",
    "df.boxplot(\"Salary\")"
   ]
  },
  {
   "cell_type": "markdown",
   "metadata": {},
   "source": [
    "### Puzzle 1.5: ❓ Individual Reflection ❓\n",
    "\n",
    "Explain why is it valuable to look at visual displays of salary data in addition to descriptive statistics like the mean, median, and SD. Write at least 3 sentences."
   ]
  },
  {
   "cell_type": "markdown",
   "metadata": {},
   "source": [
    "***Double click this cell and type your answer here.***\n",
    "It's easier to understand a statistic when there is a visualization. For instance, visualizations allow us to better understand variation within a dataset. Ultimately, data through visualizations allow us to tell stories, answer questions, and solve problems. A statistic is good however visual displays of data makes it more powerful. To truly understand a dataset, we have to see the data but not just as numbers but in the form of a visualization."
   ]
  },
  {
   "cell_type": "markdown",
   "metadata": {},
   "source": [
    "### ❓ Group Discussion ❓\n",
    "Share what you said with your group members! \n",
    "\n",
    "## Puzzle 2: Department-Level Data\n",
    "\n",
    "One of the interesting properties of the salary dataset is that you can see what department each professor is from and look at the same data at a department level.  In other words, you can calculate descriptive statistics and look at visual displays of data for each department.  Let’s explore whether or not there are salary discrepancies among a few departments.\n",
    "\n",
    "### Puzzle 2.1:\n",
    "There was a certain function you learned that will help you **group** all of the people in each department so you can find departmental aggregates.  In other words, you want to group by `'Primary Department'`.\n",
    "\n",
    "Next, instead of just grouping by a single aggregate, use **Python list syntax** to aggregate by `count`, `mean`, and `median` to find the mean and median salary, as well as the count for how many people are in each department.  \n",
    "\n",
    "*(You can view technical docs here:\n",
    "https://pandas.pydata.org/pandas-docs/stable/reference/groupby.html)*"
   ]
  },
  {
   "cell_type": "code",
   "execution_count": 5,
   "metadata": {
    "deletable": false,
    "nbgrader": {
     "cell_type": "code",
     "checksum": "912abaecdf749394d0921e160cd15746",
     "grade": false,
     "grade_id": "cell-72189b308296916b",
     "locked": false,
     "schema_version": 3,
     "solution": true,
     "task": false
    }
   },
   "outputs": [
    {
     "data": {
      "text/html": "<div>\n<style scoped>\n    .dataframe tbody tr th:only-of-type {\n        vertical-align: middle;\n    }\n\n    .dataframe tbody tr th {\n        vertical-align: top;\n    }\n\n    .dataframe thead tr th {\n        text-align: left;\n    }\n</style>\n<table border=\"1\" class=\"dataframe\">\n  <thead>\n    <tr>\n      <th></th>\n      <th>Primary Department</th>\n      <th colspan=\"3\" halign=\"left\">Salary</th>\n    </tr>\n    <tr>\n      <th></th>\n      <th></th>\n      <th>count</th>\n      <th>median</th>\n      <th>mean</th>\n    </tr>\n  </thead>\n  <tbody>\n    <tr>\n      <th>106</th>\n      <td>Micro and Nanotechnology Lab</td>\n      <td>11</td>\n      <td>84146.00</td>\n      <td>78343.272727</td>\n    </tr>\n    <tr>\n      <th>64</th>\n      <td>English</td>\n      <td>59</td>\n      <td>89514.08</td>\n      <td>96333.858475</td>\n    </tr>\n    <tr>\n      <th>26</th>\n      <td>Bioengineering</td>\n      <td>36</td>\n      <td>98100.00</td>\n      <td>116103.336667</td>\n    </tr>\n    <tr>\n      <th>132</th>\n      <td>Speech &amp; Hearing Science</td>\n      <td>18</td>\n      <td>85770.50</td>\n      <td>91466.281111</td>\n    </tr>\n    <tr>\n      <th>23</th>\n      <td>Astronomy</td>\n      <td>11</td>\n      <td>90522.00</td>\n      <td>91278.743636</td>\n    </tr>\n  </tbody>\n</table>\n</div>",
      "text/plain": "               Primary Department Salary                         \n                                   count    median           mean\n106  Micro and Nanotechnology Lab     11  84146.00   78343.272727\n64                        English     59  89514.08   96333.858475\n26                 Bioengineering     36  98100.00  116103.336667\n132      Speech & Hearing Science     18  85770.50   91466.281111\n23                      Astronomy     11  90522.00   91278.743636"
     },
     "execution_count": 5,
     "metadata": {},
     "output_type": "execute_result"
    }
   ],
   "source": [
    "group = df.groupby(\"Primary Department\")\n",
    "\n",
    "agg_df=group.agg(['count','median','mean']).reset_index()\n",
    "\n",
    "# Here, we only care about two columns so we are selecting those columns to be in our dataset\n",
    "agg_df = agg_df[[\"Primary Department\", \"Salary\"]]\n",
    "\n",
    "# Display 5 random rows to make sure it works:\n",
    "agg_df.sample(5)"
   ]
  },
  {
   "cell_type": "code",
   "execution_count": 6,
   "metadata": {
    "deletable": false,
    "editable": false,
    "nbgrader": {
     "cell_type": "code",
     "checksum": "0bbf4ebd7bc25281632fc296ffd2b063",
     "grade": true,
     "grade_id": "cell-d4a69c902629304a",
     "locked": true,
     "points": 1,
     "schema_version": 3,
     "solution": false,
     "task": false
    }
   },
   "outputs": [
    {
     "name": "stdout",
     "output_type": "stream",
     "text": [
      "🎉 All tests passed! 🎉\n"
     ]
    }
   ],
   "source": [
    "## == TEST CASES for Puzzle 2.1 ==\n",
    "# - This read-only cell contains test cases for your previous cell.\n",
    "# - If this cell runs with a message (with the emoji showing), you PASSED all test cases!\n",
    "# - If this cell results in any errors, check your previous cell, make changes, and RE-RUN your code and then this cell.\n",
    "assert( len(agg_df) == 140 ), \"You should have 140 different departments.  Check to make sure you grouped the data?\"\n",
    "assert( \"Salary\" in agg_df ), \"You must have a salary output\"\n",
    "assert( \"mean\" in agg_df[\"Salary\"] ), \"Make sure you have a mean in your salary\"\n",
    "assert( \"count\" in agg_df[\"Salary\"] ), \"Make sure you have a count in your salary\"\n",
    "assert( \"median\" in agg_df[\"Salary\"] ), \"Make sure you have a median in your salary\"\n",
    "assert( len(agg_df.columns) == 4 ), \"Make sure you have ONLY the salary data and the department\"\n",
    "\n",
    "## == SUCCESS MESSAGE ==\n",
    "# You will only see this message (with the emoji showing) if you passed all test cases:\n",
    "tada = \"\\N{PARTY POPPER}\"\n",
    "print(f\"{tada} All tests passed! {tada}\")"
   ]
  },
  {
   "cell_type": "markdown",
   "metadata": {},
   "source": [
    "### Puzzle 2.2:\n",
    "\n",
    "Create a histogram of the salaries in your home department.  In other words, if your major is Statistics, you should have a histogram of all the salaries in the Statistics Department. Also, find the maximum and minimum salary in your home department. If you're undecided, pick a department you are interested in."
   ]
  },
  {
   "cell_type": "code",
   "execution_count": 51,
   "metadata": {},
   "outputs": [
    {
     "data": {
      "text/plain": "<matplotlib.axes._subplots.AxesSubplot at 0x7ffdeab19a00>"
     },
     "execution_count": 51,
     "metadata": {},
     "output_type": "execute_result"
    },
    {
     "data": {
      "image/png": "[encoded data removed]",
      "text/plain": "<Figure size 432x288 with 1 Axes>"
     },
     "metadata": {
      "needs_background": "light"
     },
     "output_type": "display_data"
    }
   ],
   "source": [
    "# histogram of your home department\n",
    "df[df[\"Primary Department\"]==\"Statistics\"][\"Salary\"].hist()"
   ]
  },
  {
   "cell_type": "code",
   "execution_count": 53,
   "metadata": {},
   "outputs": [
    {
     "name": "stdout",
     "output_type": "stream",
     "text": [
      "180000.0\n",
      "32500.0\n"
     ]
    }
   ],
   "source": [
    "#find the max and min salary for your home deparment\n",
    "\n",
    "max_salary = df[df[\"Primary Department\"]==\"Statistics\"][\"Salary\"].max()\n",
    "print(max_salary)\n",
    "\n",
    "min_salary = df[df[\"Primary Department\"]==\"Statistics\"][\"Salary\"].min()\n",
    "print(min_salary)"
   ]
  },
  {
   "cell_type": "markdown",
   "metadata": {},
   "source": [
    "### ❓ Group Discussion ❓\n",
    "\n",
    "Share the results with the people at your table. Do you notice any similarities or differences between departments?\n",
    "\n",
    "### Puzzle 2.3: ❓ Individual Reflection ❓\n",
    "\n",
    "Write down something you learned from your group discussion! Write at least 3 sentences."
   ]
  },
  {
   "cell_type": "markdown",
   "metadata": {},
   "source": [
    "***Double click this cell and type your answer here.***\n",
    "I learned how to group the data by department. I also learned how to create a salaries histogram specifying a certain major department. I also learned that each department has different variatioßn in salaries. Furthermore, I learned that the Computer Science Department faculty on average make more than the other departments respectively."
   ]
  },
  {
   "cell_type": "markdown",
   "metadata": {},
   "source": [
    "## Puzzle 3: Genders and Salaries\n",
    "\n",
    "Data can often reveal systemic problems or discrimination. For example, in many companies, men and women are promoted at different rates.  Let’s look at a subset of the salary dataset to investigate whether or not there is a difference in salaries between faculty who identify as men and women in two departments. We have this data for the STAT and CS departments (Karle and Wade’s home departments) and have compiled it in a dataset called `statcssalaries.csv`. This data is also located in the same directory as this lab!\n",
    "\n",
    "### Puzzle 3.1:\n",
    "\n",
    "Load the second dataset `statcssalaries.csv` and create two boxplots of the male salaries and female salaries in this dataset.  "
   ]
  },
  {
   "cell_type": "code",
   "execution_count": 16,
   "metadata": {
    "deletable": false,
    "nbgrader": {
     "cell_type": "code",
     "checksum": "fbf16695acaebfe92f608b5121644035",
     "grade": false,
     "grade_id": "cell-dca5763613817466",
     "locked": false,
     "schema_version": 3,
     "solution": true,
     "task": false
    }
   },
   "outputs": [
    {
     "data": {
      "text/plain": "Gender\nF    AxesSubplot(0.125,0.125;0.775x0.755)\nM    AxesSubplot(0.125,0.125;0.775x0.755)\ndtype: object"
     },
     "execution_count": 16,
     "metadata": {},
     "output_type": "execute_result"
    },
    {
     "data": {
      "image/png": "[encoded data removed]",
      "text/plain": "<Figure size 432x288 with 1 Axes>"
     },
     "metadata": {
      "needs_background": "light"
     },
     "output_type": "display_data"
    },
    {
     "data": {
      "image/png": "[encoded data removed]",
      "text/plain": "<Figure size 432x288 with 1 Axes>"
     },
     "metadata": {
      "needs_background": "light"
     },
     "output_type": "display_data"
    }
   ],
   "source": [
    "# load the dataset\n",
    "import matplotlib.pyplot as plt\n",
    "df1=pd.read_csv(\"statcssalaries.csv\")\n",
    "\n",
    "\n",
    "\n",
    "# create the two boxplots\n",
    "\n",
    "df1.groupby(\"Gender\").plot.box()\n",
    "\n"
   ]
  },
  {
   "cell_type": "code",
   "execution_count": 17,
   "metadata": {},
   "outputs": [
    {
     "data": {
      "text/html": "<div>\n<style scoped>\n    .dataframe tbody tr th:only-of-type {\n        vertical-align: middle;\n    }\n\n    .dataframe tbody tr th {\n        vertical-align: top;\n    }\n\n    .dataframe thead th {\n        text-align: right;\n    }\n</style>\n<table border=\"1\" class=\"dataframe\">\n  <thead>\n    <tr style=\"text-align: right;\">\n      <th></th>\n      <th>Employee Name</th>\n      <th>Academic Title</th>\n      <th>Primary Job Title</th>\n      <th>Primary College</th>\n      <th>Primary Department</th>\n      <th>Salary</th>\n      <th>Gender</th>\n    </tr>\n  </thead>\n  <tbody>\n    <tr>\n      <th>0</th>\n      <td>Abdelzaher, Tarek</td>\n      <td>PROF</td>\n      <td>PROF</td>\n      <td>Engineering</td>\n      <td>Computer Science</td>\n      <td>164851.00</td>\n      <td>M</td>\n    </tr>\n    <tr>\n      <th>1</th>\n      <td>Adve, Sarita V</td>\n      <td>PROF</td>\n      <td>PROF</td>\n      <td>Engineering</td>\n      <td>Computer Science</td>\n      <td>180490.00</td>\n      <td>F</td>\n    </tr>\n    <tr>\n      <th>2</th>\n      <td>Adve, Vikram Sadanand</td>\n      <td>PROF</td>\n      <td>PROF</td>\n      <td>Engineering</td>\n      <td>Computer Science</td>\n      <td>186454.00</td>\n      <td>M</td>\n    </tr>\n    <tr>\n      <th>3</th>\n      <td>Agha, Gul A</td>\n      <td>PROF</td>\n      <td>PROF</td>\n      <td>Engineering</td>\n      <td>Computer Science</td>\n      <td>181124.38</td>\n      <td>M</td>\n    </tr>\n    <tr>\n      <th>4</th>\n      <td>Alawini, Abdussalam Alhadi M</td>\n      <td>TEACHING ASST PROF</td>\n      <td>TEACHING ASST PROF</td>\n      <td>Engineering</td>\n      <td>Computer Science</td>\n      <td>90000.00</td>\n      <td>M</td>\n    </tr>\n    <tr>\n      <th>...</th>\n      <td>...</td>\n      <td>...</td>\n      <td>...</td>\n      <td>...</td>\n      <td>...</td>\n      <td>...</td>\n      <td>...</td>\n    </tr>\n    <tr>\n      <th>128</th>\n      <td>Stepanov, Alexey G</td>\n      <td>SR LECTURER</td>\n      <td>SR LECTURER</td>\n      <td>Liberal Arts &amp; Sciences</td>\n      <td>Statistics</td>\n      <td>81001.00</td>\n      <td>M</td>\n    </tr>\n    <tr>\n      <th>129</th>\n      <td>Unger, David</td>\n      <td>SR INSTRUCTOR</td>\n      <td>SR INSTRUCTOR</td>\n      <td>Liberal Arts &amp; Sciences</td>\n      <td>Statistics</td>\n      <td>87582.80</td>\n      <td>M</td>\n    </tr>\n    <tr>\n      <th>130</th>\n      <td>Yang, Yun</td>\n      <td>ASST PROF</td>\n      <td>ASST PROF</td>\n      <td>Liberal Arts &amp; Sciences</td>\n      <td>Statistics</td>\n      <td>102000.00</td>\n      <td>M</td>\n    </tr>\n    <tr>\n      <th>131</th>\n      <td>Zhao, Sihai Dave</td>\n      <td>ASST PROF</td>\n      <td>ASST PROF</td>\n      <td>Liberal Arts &amp; Sciences</td>\n      <td>Statistics</td>\n      <td>93219.09</td>\n      <td>M</td>\n    </tr>\n    <tr>\n      <th>132</th>\n      <td>Zhu, Ruoqing</td>\n      <td>ASST PROF</td>\n      <td>ASST PROF</td>\n      <td>Liberal Arts &amp; Sciences</td>\n      <td>Statistics</td>\n      <td>94849.60</td>\n      <td>M</td>\n    </tr>\n  </tbody>\n</table>\n<p>133 rows × 7 columns</p>\n</div>",
      "text/plain": "                    Employee Name      Academic Title   Primary Job Title  \\\n0               Abdelzaher, Tarek                PROF                PROF   \n1                  Adve, Sarita V                PROF                PROF   \n2           Adve, Vikram Sadanand                PROF                PROF   \n3                     Agha, Gul A                PROF                PROF   \n4    Alawini, Abdussalam Alhadi M  TEACHING ASST PROF  TEACHING ASST PROF   \n..                            ...                 ...                 ...   \n128            Stepanov, Alexey G         SR LECTURER         SR LECTURER   \n129                  Unger, David       SR INSTRUCTOR       SR INSTRUCTOR   \n130                     Yang, Yun           ASST PROF           ASST PROF   \n131              Zhao, Sihai Dave           ASST PROF           ASST PROF   \n132                  Zhu, Ruoqing           ASST PROF           ASST PROF   \n\n             Primary College Primary Department     Salary Gender  \n0                Engineering   Computer Science  164851.00      M  \n1                Engineering   Computer Science  180490.00      F  \n2                Engineering   Computer Science  186454.00      M  \n3                Engineering   Computer Science  181124.38      M  \n4                Engineering   Computer Science   90000.00      M  \n..                       ...                ...        ...    ...  \n128  Liberal Arts & Sciences         Statistics   81001.00      M  \n129  Liberal Arts & Sciences         Statistics   87582.80      M  \n130  Liberal Arts & Sciences         Statistics  102000.00      M  \n131  Liberal Arts & Sciences         Statistics   93219.09      M  \n132  Liberal Arts & Sciences         Statistics   94849.60      M  \n\n[133 rows x 7 columns]"
     },
     "execution_count": 17,
     "metadata": {},
     "output_type": "execute_result"
    }
   ],
   "source": [
    "df1"
   ]
  },
  {
   "cell_type": "markdown",
   "metadata": {},
   "source": [
    "### Puzzle 3.2:\n",
    "\n",
    "Next, calculate the overall mean, median, and SD of the salaries for this data."
   ]
  },
  {
   "cell_type": "code",
   "execution_count": 18,
   "metadata": {
    "deletable": false,
    "nbgrader": {
     "cell_type": "code",
     "checksum": "2fdb936f99485f2c4244bfd1a6eb4b08",
     "grade": false,
     "grade_id": "cell-8d360389fd08fc8f",
     "locked": false,
     "schema_version": 3,
     "solution": true,
     "task": false
    }
   },
   "outputs": [
    {
     "name": "stdout",
     "output_type": "stream",
     "text": [
      "121030.35902255638\n",
      "110992.0\n",
      "49959.50619890204\n"
     ]
    }
   ],
   "source": [
    "overall_mean = df1[\"Salary\"].mean()\n",
    "print(overall_mean)\n",
    "\n",
    "overall_median = df1[\"Salary\"].median()\n",
    "print(overall_median)\n",
    "\n",
    "overall_SD = df1['Salary'].std()\n",
    "print(overall_SD)"
   ]
  },
  {
   "cell_type": "code",
   "execution_count": null,
   "metadata": {},
   "outputs": [],
   "source": []
  },
  {
   "cell_type": "code",
   "execution_count": 19,
   "metadata": {},
   "outputs": [
    {
     "name": "stdout",
     "output_type": "stream",
     "text": [
      "🎉 All tests passed! 🎉\n"
     ]
    }
   ],
   "source": [
    "## == TEST CASES for Puzzle 3.2 ==\n",
    "# - This read-only cell contains test cases for your previous cell.\n",
    "# - If this cell runs with a message (with the emoji showing), you PASSED all test cases!\n",
    "# - If this cell results in any errors, check your previous cell, make changes, and RE-RUN your code and then this cell.\n",
    "x = overall_median + overall_median + overall_SD\n",
    "y = ((overall_mean - overall_median) * overall_SD) / overall_SD\n",
    "\n",
    "assert( abs(x - 271945.50619890203) > 1 ), \"It looks like your calculations are off?\"\n",
    "assert( (y - 10038.359022556397) < 1 ), \"It looks like your calculations are off?\"\n",
    "\n",
    "## == SUCCESS MESSAGE ==\n",
    "# You will only see this message (with the emoji showing) if you passed all test cases:\n",
    "tada = \"\\N{PARTY POPPER}\"\n",
    "print(f\"{tada} All tests passed! {tada}\")"
   ]
  },
  {
   "cell_type": "markdown",
   "metadata": {},
   "source": [
    "## Puzzle 4: Exploring Your Own Interests\n",
    "\n",
    "At this point of the lab, we have investigated a lot of questions, however, these have been questions that we have told you to answer. As a data scientist, it is important to be able to use the data science skills that you learn in the classroom to answer real questions that you have.  \n",
    "\n",
    "### Puzzle 4.1: ❓ Individual Reflection ❓\n",
    "\n",
    "Think about two questions that you have that have not been answered. Record them below.  Then, answer at least one of these questions using Python and either dataset.\n",
    "\n",
    "Double click the cells below to type in your questions."
   ]
  },
  {
   "cell_type": "markdown",
   "metadata": {},
   "source": [
    "***Unanswered Question 1:***"
   ]
  },
  {
   "cell_type": "code",
   "execution_count": 23,
   "metadata": {},
   "outputs": [
    {
     "data": {
      "text/html": "<div>\n<style scoped>\n    .dataframe tbody tr th:only-of-type {\n        vertical-align: middle;\n    }\n\n    .dataframe tbody tr th {\n        vertical-align: top;\n    }\n\n    .dataframe thead th {\n        text-align: right;\n    }\n</style>\n<table border=\"1\" class=\"dataframe\">\n  <thead>\n    <tr style=\"text-align: right;\">\n      <th></th>\n      <th>Primary Department</th>\n      <th>Salary</th>\n    </tr>\n  </thead>\n  <tbody>\n    <tr>\n      <th>0</th>\n      <td>Computer Science</td>\n      <td>98065.168571</td>\n    </tr>\n    <tr>\n      <th>1</th>\n      <td>Statistics</td>\n      <td>99786.538750</td>\n    </tr>\n  </tbody>\n</table>\n</div>",
      "text/plain": "  Primary Department        Salary\n0   Computer Science  98065.168571\n1         Statistics  99786.538750"
     },
     "execution_count": 23,
     "metadata": {},
     "output_type": "execute_result"
    }
   ],
   "source": [
    "#answered what is average salary of females in the computer science department versus statistics department?\n",
    "df2=df1[df1.Gender==\"F\"]\n",
    "df2=df2.groupby('Primary Department').agg('mean').reset_index()\n",
    "df2"
   ]
  },
  {
   "cell_type": "code",
   "execution_count": 24,
   "metadata": {},
   "outputs": [
    {
     "data": {
      "text/html": "<div>\n<style scoped>\n    .dataframe tbody tr th:only-of-type {\n        vertical-align: middle;\n    }\n\n    .dataframe tbody tr th {\n        vertical-align: top;\n    }\n\n    .dataframe thead th {\n        text-align: right;\n    }\n</style>\n<table border=\"1\" class=\"dataframe\">\n  <thead>\n    <tr style=\"text-align: right;\">\n      <th></th>\n      <th>Primary Department</th>\n      <th>Salary</th>\n    </tr>\n  </thead>\n  <tbody>\n    <tr>\n      <th>0</th>\n      <td>Computer Science</td>\n      <td>137373.704935</td>\n    </tr>\n    <tr>\n      <th>1</th>\n      <td>Statistics</td>\n      <td>98757.272000</td>\n    </tr>\n  </tbody>\n</table>\n</div>",
      "text/plain": "  Primary Department         Salary\n0   Computer Science  137373.704935\n1         Statistics   98757.272000"
     },
     "execution_count": 24,
     "metadata": {},
     "output_type": "execute_result"
    }
   ],
   "source": [
    "df4=df1[df1.Gender==\"M\"]\n",
    "df4=df4.groupby('Primary Department').agg('mean').reset_index()\n",
    "df4"
   ]
  },
  {
   "cell_type": "markdown",
   "metadata": {},
   "source": [
    "***Unanswered Question 2:***"
   ]
  },
  {
   "cell_type": "code",
   "execution_count": 35,
   "metadata": {},
   "outputs": [
    {
     "data": {
      "text/html": "<div>\n<style scoped>\n    .dataframe tbody tr th:only-of-type {\n        vertical-align: middle;\n    }\n\n    .dataframe tbody tr th {\n        vertical-align: top;\n    }\n\n    .dataframe thead th {\n        text-align: right;\n    }\n</style>\n<table border=\"1\" class=\"dataframe\">\n  <thead>\n    <tr style=\"text-align: right;\">\n      <th></th>\n      <th>Academic Title</th>\n      <th>Salary</th>\n    </tr>\n  </thead>\n  <tbody>\n    <tr>\n      <th>0</th>\n      <td>ADJ</td>\n      <td>32500.000000</td>\n    </tr>\n    <tr>\n      <th>4</th>\n      <td>INSTRUCTOR</td>\n      <td>65087.650000</td>\n    </tr>\n    <tr>\n      <th>5</th>\n      <td>LECTURER</td>\n      <td>76836.800000</td>\n    </tr>\n    <tr>\n      <th>3</th>\n      <td>CLIN ASST PROF</td>\n      <td>81340.825000</td>\n    </tr>\n    <tr>\n      <th>11</th>\n      <td>SR LECTURER</td>\n      <td>83699.380000</td>\n    </tr>\n    <tr>\n      <th>8</th>\n      <td>RES ASST PROF</td>\n      <td>86726.500000</td>\n    </tr>\n    <tr>\n      <th>10</th>\n      <td>SR INSTRUCTOR</td>\n      <td>87287.905000</td>\n    </tr>\n    <tr>\n      <th>13</th>\n      <td>TEACHING ASST PROF</td>\n      <td>92037.272727</td>\n    </tr>\n    <tr>\n      <th>12</th>\n      <td>TEACHING ASSOC PROF</td>\n      <td>102500.000000</td>\n    </tr>\n    <tr>\n      <th>2</th>\n      <td>ASST PROF</td>\n      <td>105708.621739</td>\n    </tr>\n    <tr>\n      <th>14</th>\n      <td>TEACHING PROF</td>\n      <td>113300.000000</td>\n    </tr>\n    <tr>\n      <th>7</th>\n      <td>RES ASSOC PROF</td>\n      <td>117851.000000</td>\n    </tr>\n    <tr>\n      <th>1</th>\n      <td>ASSOC PROF</td>\n      <td>127222.412727</td>\n    </tr>\n    <tr>\n      <th>6</th>\n      <td>PROF</td>\n      <td>171638.776809</td>\n    </tr>\n    <tr>\n      <th>9</th>\n      <td>RES PROF</td>\n      <td>202895.910000</td>\n    </tr>\n  </tbody>\n</table>\n</div>",
      "text/plain": "         Academic Title         Salary\n0                   ADJ   32500.000000\n4            INSTRUCTOR   65087.650000\n5              LECTURER   76836.800000\n3        CLIN ASST PROF   81340.825000\n11          SR LECTURER   83699.380000\n8         RES ASST PROF   86726.500000\n10        SR INSTRUCTOR   87287.905000\n13   TEACHING ASST PROF   92037.272727\n12  TEACHING ASSOC PROF  102500.000000\n2             ASST PROF  105708.621739\n14        TEACHING PROF  113300.000000\n7        RES ASSOC PROF  117851.000000\n1            ASSOC PROF  127222.412727\n6                  PROF  171638.776809\n9              RES PROF  202895.910000"
     },
     "execution_count": 35,
     "metadata": {},
     "output_type": "execute_result"
    }
   ],
   "source": [
    "# answered what is the average salary of individuals with various academic titles? \n",
    "df3= df1.groupby(\"Academic Title\").agg('mean').reset_index()\n",
    "df3= df3.sort_values(by= \"Salary\")\n",
    "df3"
   ]
  },
  {
   "cell_type": "markdown",
   "metadata": {},
   "source": [
    "### Puzzle 4.2: ❓ Individual Reflection ❓\n",
    "\n",
    "Describe which question you answered and how you answered it. "
   ]
  },
  {
   "cell_type": "markdown",
   "metadata": {},
   "source": [
    "I first answered the question what is average salary of females in the computer science department versus statistics department? I answered this question by first creating a dataframe of purely females. I then grouped the data by Primary Department and then aggregated the data by 'mean' to calculate average salaries within different departments. I found that females in the the Computer Science Department on avaergae  make $98,000 versus $99,786 in the Statistics Department.\n",
    "\n",
    "I then answered the question what is the average salary of individuals with various academic titles? I answered this question by grouping the data by academic titles and then aggregating the data by 'mean' to calculate avaergies salaries based on academic titles. I then sortedn the 14 acdemic titles in ascending order to visually see which positions make the most money on average. "
   ]
  },
  {
   "cell_type": "markdown",
   "metadata": {},
   "source": [
    "### ❓ Group Discussion ❓\n",
    "\n",
    "Share your question and results with your group. "
   ]
  },
  {
   "cell_type": "markdown",
   "metadata": {},
   "source": [
    "## Puzzle 5: Final Reflection\n",
    "\n",
    "As a data scientist, it is important to think about the implications of collecting and not collecting certain data.  Data that is not collected in an analysis is called *counter data*.  \n",
    "\n",
    "Many times, data is collected to make a profit.  Data has even been referred to as “the new oil” because it is oftentimes seen as an uncapped natural resource and if you can figure out how to capture and refine it, it can lead to a massive profit.\n",
    "\n",
    "It’s also important to think about who data analysis can benefit and who it can harm.  It’s also important to think about why the data is collected and why counter data is not collected.  \n",
    "\n",
    "\n",
    "## ❓ Individual Reflection ❓\n",
    "Write a paragraph style response (at least 5 sentences) summarizing what you learned from working with the salary data. We have listed a few questions below to give you some ideas on what to write about if you need them.\n",
    "\n",
    "- What is some counter data that you’d like to collect in regard to salaries? Why do you think it’s important to collect this data?  \n",
    "- Who benefits from collecting this salary data?  Who does this data harm?\n",
    "- Why do you think this salary data is public? Can you think of any reasons that this could be problematic? \n",
    "- What did you learn from looking at the salaries stratified by gender?\n"
   ]
  },
  {
   "cell_type": "markdown",
   "metadata": {},
   "source": [
    "***Double click this cell and type your answer here.***\n",
    "\n",
    "Data can be used to create visualizations which can then be used to create stories, answer questions, and solve problems. Some counter data I would like to collect would be years of experience and education background of professors, associate professors etc. Having this type of data in the data set would add more context as to why an individual makes their salary. Another counter data that would be interesting to collect would be information on how many students a professor teaches. This data would also provide context for their salary and total impact in the university. A potentially really important counter data to collect would be salaries of low wage workers such as janitors and cleaners. It's important to collect this data because the University of Illinois does not just employ professors and teachers but many low wage workers. This low wage salary data would alter potential distributions of the dataset.\n",
    "\n",
    "The general public beenfits from collecting this salary data because they would have a better understanding of how the University pays different professions and on what criteria. The data may harm the university if the data shows that the university is underpaying certain professions. Salary data is public because salartytransparency is an essential step to close the gender pay gap. If salaries were not public, the gender pay gap would be very pronounced but the public would not be able to prove it. Salary transparency could be problematic because people may feel that their salary is confidential for them.\n",
    "\n",
    "After looking the salaries stratified by gender, I learned that men on average have higher salaries than women.\n"
   ]
  },
  {
   "cell_type": "markdown",
   "metadata": {},
   "source": [
    "## POST-LAB SURVEY\n",
    "\n",
    "Remember, we are doing a pre and post lab survey this week! Please complete this survey AFTER you finish the lab to get +2 additional extra credit points! This will also help us make the labs better and should take about 10 minutes :) Click the link below to access the survey.\n",
    "\n",
    "[Click Here for the Post Lab Survey](https://docs.google.com/forms/d/1wdCVlHJ27JTQxoIXQPN1gle7WpgRcnDd9bXyvkxeKO0/edit?usp=sharing)\n",
    "\n",
    "## Submit Your Work\n",
    "\n",
    "You're almost done -- congratulations! 🎉\n",
    "\n",
    "You need to do two more things:\n",
    "\n",
    "1.  Save your work. To do this, go to File -> Save All\n",
    "\n",
    "2.  After you have saved, exit this notebook and follow the webpage instructions to commit this lab to your Git repository!"
   ]
  }
 ],
 "metadata": {
  "kernelspec": {
   "display_name": "Python 3.8.3 64-bit ('base': conda)",
   "name": "python383jvsc74a57bd0b8532a2b837a6fbe15094c719a0937c54384c2ad0b93f1b59ac25bc98c717a2b"
  },
  "language_info": {
   "codemirror_mode": {
    "name": "ipython",
    "version": 3
   },
   "file_extension": ".py",
   "mimetype": "text/x-python",
   "name": "python",
   "nbconvert_exporter": "python",
   "pygments_lexer": "ipython3",
   "version": "3.8.3"
  }
 },
 "nbformat": 4,
 "nbformat_minor": 4
}