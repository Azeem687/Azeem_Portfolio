{
 "cells": [
  {
   "cell_type": "markdown",
   "metadata": {},
   "source": [
    "# Lab: Random Variable\n",
    "\n",
    "Today, you'll finish one more simulation and move on to exploring analysis of random variables all while catching Pokemon.\n",
    "\n",
    "## Group\n",
    "Edit the next Python cell to add information about who you're working within your lab section:"
   ]
  },
  {
   "cell_type": "code",
   "execution_count": null,
   "metadata": {},
   "outputs": [],
   "source": [
    "# First, write down the names of your TAs and CAs\n",
    "ta_name = \"Heman\"\n",
    "ca1_name = \"Justin\"\n",
    "ca2_name = \"Jessica\"\n",
    "ca3_name = \"\"\n",
    "\n",
    "\n",
    "# Also, make sure to meet your team for this lab! Find out their name, what major they're in,\n",
    "# and learn something new about them that you never knew before!\n",
    "partner1_name = \"\"\n",
    "partner1_netid = \"\"\n",
    "partner1_major = \"\"\n",
    "\n",
    "partner2_name = \"\"\n",
    "partner2_netid = \"\"\n",
    "partner2_major = \"\"\n",
    "\n",
    "partner3_name = \"\"\n",
    "partner3_netid = \"\"\n",
    "partner3_major = \"\""
   ]
  },
  {
   "cell_type": "markdown",
   "metadata": {},
   "source": [
    "## Table of Contents <a id='toc'></a>\n",
    "\n",
    "**Use the Outline view (View > Command Palette > Type \"outline\") for navigation.**\n",
    "\n",
    "* Examples\n",
    "* Puzzle 1\n",
    "    * Puzzle 1.1\n",
    "    * Puzzle 1.2\n",
    "* Puzzle 2\n",
    "    * Puzzle 2.1\n",
    "    * Puzzle 2.2\n",
    "    * Puzzle 2.3 \n",
    "    * Puzzle 2.4\n",
    "* Puzzle 3\n",
    "    * Puzzle 3.1\n",
    "    * Puzzle 3.2\n",
    "    * Puzzle 3.3\n",
    "    * Puzzle 3.4\n",
    "\n",
    "# Puzzle 1: Catching Pokemon\n",
    "\n",
    "## Puzzle 1.1: Pokemon Near You\n",
    "\n",
    "There are 10 Pokemon near you right now! View them on your PokeDex by importing the `pokemon_near.csv` to the DataFrame below:"
   ]
  },
  {
   "cell_type": "code",
   "execution_count": 35,
   "metadata": {},
   "outputs": [
    {
     "data": {
      "text/html": "<div>\n<style scoped>\n    .dataframe tbody tr th:only-of-type {\n        vertical-align: middle;\n    }\n\n    .dataframe tbody tr th {\n        vertical-align: top;\n    }\n\n    .dataframe thead th {\n        text-align: right;\n    }\n</style>\n<table border=\"1\" class=\"dataframe\">\n  <thead>\n    <tr style=\"text-align: right;\">\n      <th></th>\n      <th>Name</th>\n      <th>Type</th>\n    </tr>\n  </thead>\n  <tbody>\n    <tr>\n      <th>0</th>\n      <td>Bulbasaur</td>\n      <td>grass</td>\n    </tr>\n    <tr>\n      <th>1</th>\n      <td>Starmie</td>\n      <td>water</td>\n    </tr>\n    <tr>\n      <th>2</th>\n      <td>Gengar</td>\n      <td>ghost</td>\n    </tr>\n    <tr>\n      <th>3</th>\n      <td>Wartortle</td>\n      <td>water</td>\n    </tr>\n    <tr>\n      <th>4</th>\n      <td>Krabby</td>\n      <td>water</td>\n    </tr>\n    <tr>\n      <th>5</th>\n      <td>Psyduck</td>\n      <td>water</td>\n    </tr>\n    <tr>\n      <th>6</th>\n      <td>Seadra</td>\n      <td>water</td>\n    </tr>\n    <tr>\n      <th>7</th>\n      <td>Charizard</td>\n      <td>fire</td>\n    </tr>\n    <tr>\n      <th>8</th>\n      <td>Poliwag</td>\n      <td>water</td>\n    </tr>\n    <tr>\n      <th>9</th>\n      <td>Dewgong</td>\n      <td>water</td>\n    </tr>\n  </tbody>\n</table>\n</div>",
      "text/plain": "        Name   Type\n0  Bulbasaur  grass\n1    Starmie  water\n2     Gengar  ghost\n3  Wartortle  water\n4     Krabby  water\n5    Psyduck  water\n6     Seadra  water\n7  Charizard   fire\n8    Poliwag  water\n9    Dewgong  water"
     },
     "execution_count": 35,
     "metadata": {},
     "output_type": "execute_result"
    }
   ],
   "source": [
    "import pandas as pd\n",
    "df1= pd.read_csv(\"pokemon_near.csv\")\n",
    "df1"
   ]
  },
  {
   "cell_type": "markdown",
   "metadata": {},
   "source": [
    "Notice that there are:\n",
    "* Seven Water type Pokemon\n",
    "* Three Non-Water type Pokemon\n",
    "\n",
    "### First 5 Encounters\n",
    "\n",
    "You want to catch **water** pokemon today so you go catch the **first 5 pokemon** you encounter out of the 10 that are near you. The order of the pokemon do not matter, so there are only four possible \"first five encounters\" (Assume each pokemon appears randomly and is equally likely to appear):\n",
    "\n",
    "* Possible Encounters #1: Three Non-Waters, Two Waters\n",
    "* Possible Encounters #2: Two Non-Waters, Three Waters\n",
    "* Possible Encounters #3: One Non-Waters, Four Waters\n",
    "* Possible Encounters #4: Zero Non-Waters, Five Waters\n",
    "\n",
    "## Puzzle 1.2: Using Statistics\n",
    "\n",
    "Compute the probability that you will **encounter all water pokemon** in the following cell. Remember:\n",
    "\n",
    "* You are encountering 5 pokemon out of the 10 near your location, with water and non-water types of Pokemon.\n",
    "* To encounter all five water pokemon, you must **NOT** encounter a non-water pokemon.\n",
    "* The answer is **NOT** 0.25 (1 out of 4). Some starting encounters are more likely than others.\n",
    "\n",
    "**Hint (double-click this cell to see it):** <span style=\"color:#ffffff00\">This is a case of drawing without replacement.</span>"
   ]
  },
  {
   "cell_type": "code",
   "execution_count": 36,
   "metadata": {
    "nbgrader": {
     "grade": false,
     "grade_id": "cell-71bc8c45675e0751",
     "locked": false,
     "schema_version": 3,
     "solution": true,
     "task": false
    }
   },
   "outputs": [
    {
     "data": {
      "text/plain": "0.08333333333333333"
     },
     "execution_count": 36,
     "metadata": {},
     "output_type": "execute_result"
    }
   ],
   "source": [
    "P_5waters = 7/10*6/9*5/8*4/7*3/6\n",
    "P_5waters\n"
   ]
  },
  {
   "cell_type": "code",
   "execution_count": 37,
   "metadata": {
    "nbgrader": {
     "grade": true,
     "grade_id": "cell-95c72a857f5ebebd",
     "locked": true,
     "points": 1,
     "schema_version": 3,
     "solution": false,
     "task": false
    }
   },
   "outputs": [
    {
     "name": "stdout",
     "output_type": "stream",
     "text": [
      "🎉 All tests passed! 🎉\n",
      "\n"
     ]
    }
   ],
   "source": [
    "## == TEST CASES for Puzzle 1 ==\n",
    "# - This read-only cell contains test cases for your previous cell(s).\n",
    "# - If this cell runs without any errors in the output, you PASSED all test cases!\n",
    "# - If this cell results errors, check you previous cell, make changes, and RE-RUN your code and then this cell.\n",
    "import math\n",
    "assert( math.isclose(P_5waters, 0.08333333333333331)), \"Your P_5waters appears to be incorrect.\"\n",
    "\n",
    "## == SUCCESS MESSAGE ==\n",
    "# You will only see this message (with the emoji showing) if you passed all test cases:\n",
    "tada = \"\\N{PARTY POPPER}\"\n",
    "print(f\"{tada} All tests passed! {tada}\")\n",
    "print()"
   ]
  },
  {
   "cell_type": "markdown",
   "metadata": {},
   "source": [
    "# Puzzle 2: Simulating Pokemon Encounters\n",
    "\n",
    "## Puzzle 2.1: Simulation of Encountering 5 Pokemon Once\n",
    "\n",
    "Finding the probability of encountering exactly one, two, or all three non-water pokemon becomes increasingly complex. You **DO** have the math to do it (but the equations get VERY long quickly).\n",
    "\n",
    "Instead of calculating the number of water pokemon, we can simulate this in Python! Create a **function** that simulates encountering your first five pokemon of the ten near your location. The function will `return` the total number of water pokemon encountered.\n",
    "\n",
    "**Hint (double-click this cell to see it):** <span style=\"color:#ffffff00\">You may use df.sample and count the number of rows with \"water\" as Type.</span>"
   ]
  },
  {
   "cell_type": "code",
   "execution_count": 41,
   "metadata": {
    "nbgrader": {
     "grade": false,
     "grade_id": "cell-b81ef52c7e60017b",
     "locked": false,
     "schema_version": 3,
     "solution": true,
     "task": false
    }
   },
   "outputs": [],
   "source": [
    "def firstFiveWaters():\n",
    "    df2= df1.sample(5, replace= False)\n",
    "    return len(df2[df2.Type==\"water\"])"
   ]
  },
  {
   "cell_type": "code",
   "execution_count": 42,
   "metadata": {
    "nbgrader": {
     "grade": false,
     "grade_id": "cell-c83b57fc622ea996",
     "locked": false,
     "schema_version": 3,
     "solution": true,
     "task": false
    }
   },
   "outputs": [
    {
     "data": {
      "text/plain": "3"
     },
     "execution_count": 42,
     "metadata": {},
     "output_type": "execute_result"
    }
   ],
   "source": [
    "# Here's a cell to run to test your function:\n",
    "firstFiveWaters()\n"
   ]
  },
  {
   "cell_type": "code",
   "execution_count": 16,
   "metadata": {
    "nbgrader": {
     "grade": true,
     "grade_id": "cell-b38a24f4ba267c8f",
     "locked": true,
     "points": 1,
     "schema_version": 3,
     "solution": false,
     "task": false
    }
   },
   "outputs": [
    {
     "name": "stdout",
     "output_type": "stream",
     "text": [
      "🎉 All tests passed! 🎉\n",
      "\n"
     ]
    }
   ],
   "source": [
    "## == TEST CASES for Puzzle 2 ==\n",
    "# - This read-only cell contains test cases for your previous cell(s).\n",
    "# - If this cell runs without any errors in the output, you PASSED all test cases!\n",
    "# - If this cell results errors, check you previous cell, make changes, and RE-RUN your code and then this cell.\n",
    "import random\n",
    "random.seed(107)\n",
    "has2 = False\n",
    "has3 = False\n",
    "has4 = False\n",
    "has5 = False\n",
    "\n",
    "for i in range(1000):\n",
    "    v = firstFiveWaters()\n",
    "    if (v == 2): has2 = True\n",
    "    elif (v == 3): has3 = True\n",
    "    elif (v == 4): has4 = True\n",
    "    elif (v == 5): has5 = True\n",
    "    else: assert( False ), f\"Your five encounters had {v} waters, this is not possible. :(\"\n",
    "    \n",
    "    if (has2 and has3 and has4 and has5): break\n",
    "\n",
    "assert( has2 ), \"Your five encounters never had 2 waters. It is possible to have 3 non-waters and 2 waters.\"\n",
    "assert( has3 ), \"Your five encounters never had 3 waters. It is possible to have 2 non-waters and 3 waters.\"\n",
    "assert( has4 ), \"Your five encounters never had 4 waters. It is possible to have 1 non-waters and 4 waters.\"\n",
    "assert( has5 ), \"Your five encounters never had 5 waters. It is possible to have 0 non-waters and 5 waters.\"\n",
    "\n",
    "## == SUCCESS MESSAGE ==\n",
    "# You will only see this message (with the emoji showing) if you passed all test cases:\n",
    "tada = \"\\N{PARTY POPPER}\"\n",
    "print(f\"{tada} All tests passed! {tada}\")\n",
    "print()"
   ]
  },
  {
   "cell_type": "markdown",
   "metadata": {},
   "source": [
    "## Puzzle 2.2: Simulation of 1,000 \"First 5 Encounters\"\n",
    "\n",
    "Using your `firstFiveWaters()` function from Puzzle 2, simulate and store the number of water pokemon from 1,000 \"first five encounters\". Make sure to store the number of water pokemon encountered in a column named `waters`.\n"
   ]
  },
  {
   "cell_type": "code",
   "execution_count": 43,
   "metadata": {
    "nbgrader": {
     "grade": false,
     "grade_id": "cell-7c24651ffe3346f9",
     "locked": false,
     "schema_version": 3,
     "solution": true,
     "task": false
    }
   },
   "outputs": [
    {
     "data": {
      "text/html": "<div>\n<style scoped>\n    .dataframe tbody tr th:only-of-type {\n        vertical-align: middle;\n    }\n\n    .dataframe tbody tr th {\n        vertical-align: top;\n    }\n\n    .dataframe thead th {\n        text-align: right;\n    }\n</style>\n<table border=\"1\" class=\"dataframe\">\n  <thead>\n    <tr style=\"text-align: right;\">\n      <th></th>\n      <th>waters</th>\n    </tr>\n  </thead>\n  <tbody>\n    <tr>\n      <th>0</th>\n      <td>4</td>\n    </tr>\n    <tr>\n      <th>1</th>\n      <td>4</td>\n    </tr>\n    <tr>\n      <th>2</th>\n      <td>5</td>\n    </tr>\n    <tr>\n      <th>3</th>\n      <td>3</td>\n    </tr>\n    <tr>\n      <th>4</th>\n      <td>4</td>\n    </tr>\n    <tr>\n      <th>...</th>\n      <td>...</td>\n    </tr>\n    <tr>\n      <th>995</th>\n      <td>4</td>\n    </tr>\n    <tr>\n      <th>996</th>\n      <td>3</td>\n    </tr>\n    <tr>\n      <th>997</th>\n      <td>3</td>\n    </tr>\n    <tr>\n      <th>998</th>\n      <td>3</td>\n    </tr>\n    <tr>\n      <th>999</th>\n      <td>3</td>\n    </tr>\n  </tbody>\n</table>\n<p>1000 rows × 1 columns</p>\n</div>",
      "text/plain": "     waters\n0         4\n1         4\n2         5\n3         3\n4         4\n..      ...\n995       4\n996       3\n997       3\n998       3\n999       3\n\n[1000 rows x 1 columns]"
     },
     "execution_count": 43,
     "metadata": {},
     "output_type": "execute_result"
    }
   ],
   "source": [
    "# DO NOT DELETE THE SEED\n",
    "random.seed(107) # make sure you have imported random (e.g., by running the last test case)\n",
    "\n",
    "# Run your simulation\n",
    "data= []\n",
    "for i in range(1000):\n",
    "    waters= firstFiveWaters()\n",
    "    d= {\"waters\": waters}\n",
    "    data.append(d)\n",
    "df= pd.DataFrame(data)\n",
    "df"
   ]
  },
  {
   "cell_type": "markdown",
   "metadata": {},
   "source": [
    "## Puzzle 2.3: Building a Probability Histogram of Water Encounters\n",
    "\n",
    "Create a probability histogram showing the number of water pokemon in the starting encounters you simulated. Choose the correct number of bins to create a histogram that looks great!\n",
    "\n",
    "**Hint (double-click this cell to see it):** <span style=\"color:#ffffff00\">You can use df.hist() function with the arguments **density** and **bins**.</span>"
   ]
  },
  {
   "cell_type": "code",
   "execution_count": 44,
   "metadata": {},
   "outputs": [
    {
     "data": {
      "text/plain": "array([[<matplotlib.axes._subplots.AxesSubplot object at 0x7fe276f5c670>]],\n      dtype=object)"
     },
     "execution_count": 44,
     "metadata": {},
     "output_type": "execute_result"
    },
    {
     "data": {
      "image/png": "[encoded data removed]",
      "text/plain": "<Figure size 432x288 with 1 Axes>"
     },
     "metadata": {
      "needs_background": "light"
     },
     "output_type": "display_data"
    }
   ],
   "source": [
    "df.hist(density=1, bins= [2,3,4,5,6])"
   ]
  },
  {
   "cell_type": "code",
   "execution_count": null,
   "metadata": {
    "nbgrader": {
     "grade": false,
     "grade_id": "cell-13e35f14341ed84f",
     "locked": false,
     "schema_version": 3,
     "solution": true,
     "task": false
    }
   },
   "outputs": [],
   "source": []
  },
  {
   "cell_type": "code",
   "execution_count": 45,
   "metadata": {
    "nbgrader": {
     "grade": true,
     "grade_id": "cell-064cb0bd59cefe49",
     "locked": true,
     "points": 1,
     "schema_version": 3,
     "solution": false,
     "task": false
    }
   },
   "outputs": [
    {
     "name": "stdout",
     "output_type": "stream",
     "text": [
      "🎉 All tests passed! 🎉\n"
     ]
    }
   ],
   "source": [
    "## == TEST CASES for Puzzle 3 ==\n",
    "# - This read-only cell contains test cases for your previous cell(s).\n",
    "# - If this cell runs without any errors in the output, you PASSED all test cases!\n",
    "# - If this cell results errors, check you previous cell, make changes, and RE-RUN your code and then this cell.\n",
    "import math\n",
    "assert( len(df) == 1000 ), \"Your simulation must have 1,000 observations.\"\n",
    "assert( 'waters' in df ), \"Your simulation must have a column called `waters`.\"\n",
    "assert( math.isclose(df['waters'].mean(), 3.5, abs_tol= 0.1)), \"Your simulation should have a mean value around 3.5 -- you may want to check if your Puzzle 2 function is correct?\"\n",
    "\n",
    "## == SUCCESS MESSAGE ==\n",
    "# You will only see this message (with the emoji showing) if you passed all test cases:\n",
    "tada = \"\\N{PARTY POPPER}\"\n",
    "print(f\"{tada} All tests passed! {tada}\")\n"
   ]
  },
  {
   "cell_type": "markdown",
   "metadata": {},
   "source": [
    "## Puzzle 2.4: ❓ Random Variables of Simulations ❓\n",
    "\n",
    " Think about the simulation you just ran in Puzzle 2. Consider the following questions:\n",
    "\n",
    "* What is the random variable?\n",
    "* What are the possible outcomes?"
   ]
  },
  {
   "cell_type": "markdown",
   "metadata": {},
   "source": [
    "***Double click this cell and type your answer here.***\n",
    "The random variable is the number of water pokemons found. The possible outcomes are 2 water pokemons, 3 water pokemons, 4 water pokemons, and 5 water pokemons. \n"
   ]
  },
  {
   "cell_type": "markdown",
   "metadata": {},
   "source": [
    "# Puzzle 3: Your Random Variable\n",
    "\n",
    "In your simulation, you created a random variable! Let's call this random variable $W$:\n",
    "\n",
    "$W$ is the number of water pokemon you encounter in your first 5 encounters.\n",
    "\n",
    "## Puzzle 3.1: Estimating Probability with Histogram\n",
    "\n",
    "Using the histogram above, complete the following cells for the different probabilities of $W$ for various numbers of water pokemon. Remember! These are just probability estimates based off of your previous histogram! i.e. You can \"eye-ball\" it. You should **NOT** use `df` for this puzzle."
   ]
  },
  {
   "cell_type": "code",
   "execution_count": 55,
   "metadata": {
    "nbgrader": {
     "grade": false,
     "grade_id": "cell-59a28408426605b1",
     "locked": false,
     "schema_version": 3,
     "solution": true,
     "task": false
    }
   },
   "outputs": [
    {
     "data": {
      "text/plain": "0.085"
     },
     "execution_count": 55,
     "metadata": {},
     "output_type": "execute_result"
    }
   ],
   "source": [
    "# Probability of 2 water pokemon:\n",
    "W_2waters = 0.085\n",
    "W_2waters\n"
   ]
  },
  {
   "cell_type": "code",
   "execution_count": 56,
   "metadata": {
    "nbgrader": {
     "grade": false,
     "grade_id": "cell-c80474f2a9eb5a2b",
     "locked": false,
     "schema_version": 3,
     "solution": true,
     "task": false
    }
   },
   "outputs": [
    {
     "data": {
      "text/plain": "0.39"
     },
     "execution_count": 56,
     "metadata": {},
     "output_type": "execute_result"
    }
   ],
   "source": [
    "# Probability of 3 water pokemon:\n",
    "W_3waters = 0.39\n",
    "W_3waters\n"
   ]
  },
  {
   "cell_type": "code",
   "execution_count": 57,
   "metadata": {
    "nbgrader": {
     "grade": false,
     "grade_id": "cell-cf52cb61d300e8c2",
     "locked": false,
     "schema_version": 3,
     "solution": true,
     "task": false
    }
   },
   "outputs": [
    {
     "data": {
      "text/plain": "0.44"
     },
     "execution_count": 57,
     "metadata": {},
     "output_type": "execute_result"
    }
   ],
   "source": [
    "# Probability of 4 water pokemon:\n",
    "W_4waters = 0.44\n",
    "W_4waters\n"
   ]
  },
  {
   "cell_type": "code",
   "execution_count": 58,
   "metadata": {
    "nbgrader": {
     "grade": false,
     "grade_id": "cell-a835e934dde8fb6b",
     "locked": false,
     "schema_version": 3,
     "solution": true,
     "task": false
    }
   },
   "outputs": [
    {
     "data": {
      "text/plain": "0.085"
     },
     "execution_count": 58,
     "metadata": {},
     "output_type": "execute_result"
    }
   ],
   "source": [
    "# Probability of 5 water pokemon:\n",
    "W_5waters = 0.085\n",
    "W_5waters\n"
   ]
  },
  {
   "cell_type": "markdown",
   "metadata": {},
   "source": [
    "### Sanity Check\n",
    "\n",
    "Remember, all probabilities must add up to 1!  Let's see if yours do and if they don't, adjust them so that they add to 1."
   ]
  },
  {
   "cell_type": "code",
   "execution_count": 59,
   "metadata": {},
   "outputs": [
    {
     "data": {
      "text/plain": "1.0"
     },
     "execution_count": 59,
     "metadata": {},
     "output_type": "execute_result"
    }
   ],
   "source": [
    "W_all = W_2waters + W_3waters + W_4waters + W_5waters\n",
    "W_all\n"
   ]
  },
  {
   "cell_type": "markdown",
   "metadata": {},
   "source": [
    "Let's also check that your simulation matches (or nearly matches) your calculated probability."
   ]
  },
  {
   "cell_type": "code",
   "execution_count": 60,
   "metadata": {},
   "outputs": [
    {
     "data": {
      "text/plain": "-0.0016666666666666774"
     },
     "execution_count": 60,
     "metadata": {},
     "output_type": "execute_result"
    }
   ],
   "source": [
    "# The result of this cell should be 0 or *VERY CLOSE* to 0:\n",
    "P_5waters - W_5waters\n"
   ]
  },
  {
   "cell_type": "code",
   "execution_count": 61,
   "metadata": {
    "nbgrader": {
     "grade": true,
     "grade_id": "cell-8193ddffa24a34b7",
     "locked": true,
     "points": 1,
     "schema_version": 3,
     "solution": false,
     "task": false
    }
   },
   "outputs": [
    {
     "name": "stdout",
     "output_type": "stream",
     "text": [
      "🎉 All tests passed! 🎉\n"
     ]
    }
   ],
   "source": [
    "## == TEST CASES for Puzzle 4 ==\n",
    "# - This read-only cell contains test cases for your previous cell(s).\n",
    "# - If this cell runs without any errors in the output, you PASSED all test cases!\n",
    "# - If this cell results errors, check you previous cell, make changes, and RE-RUN your code and then this cell.\n",
    "import math\n",
    "assert( math.isclose(W_2waters + W_3waters + W_4waters + W_5waters, 1)), \"Your probabilities must add up to 1.0!\"\n",
    "assert( abs(P_5waters - W_5waters) < 0.05), \"The probability from your simulation must closely match the expected result (from Puzzle #1)\"\n",
    "\n",
    "## == SUCCESS MESSAGE ==\n",
    "# You will only see this message (with the emoji showing) if you passed all test cases:\n",
    "tada = \"\\N{PARTY POPPER}\"\n",
    "print(f\"{tada} All tests passed! {tada}\")\n"
   ]
  },
  {
   "cell_type": "markdown",
   "metadata": {},
   "source": [
    "## Puzzle 3.2: Statistics on $W$: Mean\n",
    "\n",
    "Based on what you developed for $W$, find the mean for $W$. In other words, find the expected value. The formula is in your notes from lecture. Compare the expected value with the simulation mean.\n",
    "\n",
    "**Hint (double-click this cell to see it):** <span style=\"color:#ffffff00\">Remember the formula for the expected value is X1*P1 + ... + Xn*Pn</span>"
   ]
  },
  {
   "cell_type": "code",
   "execution_count": 65,
   "metadata": {
    "nbgrader": {
     "grade": false,
     "grade_id": "cell-19470b85b11e7aaf",
     "locked": false,
     "schema_version": 3,
     "solution": true,
     "task": false
    }
   },
   "outputs": [
    {
     "data": {
      "text/plain": "3.5249999999999995"
     },
     "execution_count": 65,
     "metadata": {},
     "output_type": "execute_result"
    }
   ],
   "source": [
    "# Mean for W:\n",
    "W_mean = W_2waters *2 + W_3waters*3 + W_4waters*4 + W_5waters*5\n",
    "W_mean\n"
   ]
  },
  {
   "cell_type": "markdown",
   "metadata": {},
   "source": [
    "**Hint (double-click this cell to see it):** <span style=\"color:#ffffff00\">Use df and the mean() function to find the estimated mean of W</span>"
   ]
  },
  {
   "cell_type": "code",
   "execution_count": 64,
   "metadata": {},
   "outputs": [
    {
     "data": {
      "text/plain": "waters    3.502\ndtype: float64"
     },
     "execution_count": 64,
     "metadata": {},
     "output_type": "execute_result"
    }
   ],
   "source": [
    "# Also, estimated Mean for W:\n",
    "W_mean_est = df.mean()\n",
    "W_mean_est"
   ]
  },
  {
   "cell_type": "markdown",
   "metadata": {},
   "source": [
    "Let's also check that your simulation mean matches (or nearly matches) your calculated expected value."
   ]
  },
  {
   "cell_type": "code",
   "execution_count": 66,
   "metadata": {},
   "outputs": [
    {
     "data": {
      "text/plain": "waters    0.023\ndtype: float64"
     },
     "execution_count": 66,
     "metadata": {},
     "output_type": "execute_result"
    }
   ],
   "source": [
    "# The result of this cell should be 0 or *VERY CLOSE* to 0:\n",
    "W_mean - W_mean_est\n"
   ]
  },
  {
   "cell_type": "code",
   "execution_count": 67,
   "metadata": {
    "nbgrader": {
     "grade": true,
     "grade_id": "cell-ca509ebbfe97e489",
     "locked": true,
     "points": 0,
     "schema_version": 3,
     "solution": false,
     "task": false
    }
   },
   "outputs": [
    {
     "name": "stdout",
     "output_type": "stream",
     "text": [
      "🎉 All tests passed! 🎉\n"
     ]
    }
   ],
   "source": [
    "## == TEST CASES for Puzzle 5 ==\n",
    "# - This read-only cell contains test cases for your previous cell(s).\n",
    "# - If this cell runs without any errors in the output, you PASSED all test cases!\n",
    "# - If this cell results errors, check you previous cell, make changes, and RE-RUN your code and then this cell.\n",
    "import math\n",
    "assert( abs(W_mean-3.5) < 0.1 ), \"Double check your formula for W_mean!\"\n",
    "assert( math.isclose(W_mean_est, 3.5, abs_tol= 0.1)), \"Double check your code for W_mean_est!\"\n",
    "\n",
    "## == SUCCESS MESSAGE ==\n",
    "# You will only see this message (with the emoji showing) if you passed all test cases:\n",
    "tada = \"\\N{PARTY POPPER}\"\n",
    "print(f\"{tada} All tests passed! {tada}\")\n"
   ]
  },
  {
   "cell_type": "markdown",
   "metadata": {},
   "source": [
    "## Puzzle 3.3: Statistics on $W$: Standard Deviation\n",
    "\n",
    "Based on what you developed for $W$ and your mean of $W$, `W_mean`, find the standard deviation for $W$. In other words, find the standard error. The formula is in your notes from lecture. Compare the standard error with the simulation standard deviation.\n",
    "\n",
    "**Hint (double-click this cell to see it):** <span style=\"color:#ffffff00\">Remember the formula for the standard error is ( P1*(X1-Xm)**2 + ... + Pn*(Xn-Xm)**2 )**0.5</span>"
   ]
  },
  {
   "cell_type": "code",
   "execution_count": 69,
   "metadata": {},
   "outputs": [
    {
     "data": {
      "text/plain": "0.7677076266392043"
     },
     "execution_count": 69,
     "metadata": {},
     "output_type": "execute_result"
    }
   ],
   "source": [
    "# Standard Deviation for W:\n",
    "W_sd = W_2waters*(2-W_mean)**2 + W_3waters*(3-W_mean)**2 + W_4waters*(4-W_mean)**2 + W_5waters*(5-W_mean)**2\n",
    "W_sd= W_sd**0.5\n",
    "W_sd\n"
   ]
  },
  {
   "cell_type": "markdown",
   "metadata": {},
   "source": [
    "**Hint (double-click this cell to see it):** <span style=\"color:#ffffff00\">Use df and the std() function to find the estimated standard deviation of W</span>"
   ]
  },
  {
   "cell_type": "code",
   "execution_count": 70,
   "metadata": {},
   "outputs": [
    {
     "data": {
      "text/plain": "waters    0.782693\ndtype: float64"
     },
     "execution_count": 70,
     "metadata": {},
     "output_type": "execute_result"
    }
   ],
   "source": [
    "# Also, estimated standard deviation for W:\n",
    "W_sd_est = df.std()\n",
    "W_sd_est"
   ]
  },
  {
   "cell_type": "markdown",
   "metadata": {},
   "source": [
    "Let's also check that your simulation standard deviation matches (or nearly matches) your calculated standard error."
   ]
  },
  {
   "cell_type": "code",
   "execution_count": 71,
   "metadata": {},
   "outputs": [
    {
     "data": {
      "text/plain": "waters   -0.014986\ndtype: float64"
     },
     "execution_count": 71,
     "metadata": {},
     "output_type": "execute_result"
    }
   ],
   "source": [
    "# The result of this cell should be 0 or *VERY CLOSE* to 0:\n",
    "W_sd - W_sd_est\n"
   ]
  },
  {
   "cell_type": "code",
   "execution_count": 72,
   "metadata": {},
   "outputs": [
    {
     "name": "stdout",
     "output_type": "stream",
     "text": [
      "🎉 All tests passed! 🎉\n",
      "Now go catch'em all!\n"
     ]
    }
   ],
   "source": [
    "## == TEST CASES for Puzzle 5 ==\n",
    "# - This read-only cell contains test cases for your previous cell(s).\n",
    "# - If this cell runs without any errors in the output, you PASSED all test cases!\n",
    "# - If this cell results errors, check you previous cell, make changes, and RE-RUN your code and then this cell.\n",
    "assert( abs(W_sd-0.75) < 0.2 ), \"Double check your formula for W_sd!\"\n",
    "assert( math.isclose(W_sd_est, 0.7473510109269499, abs_tol= 0.05)), \"Double check your code for W_sd_est!\"\n",
    "\n",
    "## == SUCCESS MESSAGE ==\n",
    "# You will only see this message (with the emoji showing) if you passed all test cases:\n",
    "tada = \"\\N{PARTY POPPER}\"\n",
    "print(f\"{tada} All tests passed! {tada}\")\n",
    "print(f\"Now go catch'em all!\")\n"
   ]
  },
  {
   "cell_type": "markdown",
   "metadata": {},
   "source": [
    "## Puzzle 3.4: Law of Large Numbers, Simulations, and Random Variables $\\longrightarrow$ Statistical Analysis\n",
    "\n",
    "❓ **Individual Reflection Question** ❓ Think about the simulation and random variable analysis you did in Parts 2 and 3. Consider the following questions:\n",
    "\n",
    "* How does the number of simulation runs affect our estimates of the mean and standard deviation of the random variable $W$?\n",
    "* How many simulation runs do you think is sufficient for estimating these statistics on $W$?"
   ]
  },
  {
   "cell_type": "markdown",
   "metadata": {},
   "source": [
    "***Double click this cell and type your answer here.***\n",
    "The more simulations you run, the closer the estimated mean and standrad deviation for the random variable approaches the actual mean and standard deviation of W. I think 3000 runs are sufficient in estmiating these statistics on W as 1000 simulations runs were very close"
   ]
  },
  {
   "cell_type": "markdown",
   "metadata": {},
   "source": [
    "# Submit Your Work\n",
    "\n",
    "You're almost done -- congratulations!\n",
    "\n",
    "You need to do two more things:\n",
    "\n",
    "1. Save your work. To do this, go to **File -> Save All**\n",
    "2. After you have saved, exit this notebook and follow the webpage instructions to commit this lab to your Git repository."
   ]
  }
 ],
 "metadata": {
  "celltoolbar": "Create Assignment",
  "interpreter": {
   "hash": "aee8b7b246df8f9039afb4144a1f6fd8d2ca17a180786b69acc140d282b71a49"
  },
  "kernelspec": {
   "display_name": "Python 3.8.3 64-bit ('base': conda)",
   "name": "python383jvsc74a57bd0b8532a2b837a6fbe15094c719a0937c54384c2ad0b93f1b59ac25bc98c717a2b"
  },
  "language_info": {
   "codemirror_mode": {
    "name": "ipython",
    "version": 3
   },
   "file_extension": ".py",
   "mimetype": "text/x-python",
   "name": "python",
   "nbconvert_exporter": "python",
   "pygments_lexer": "ipython3",
   "version": "3.8.3"
  }
 },
 "nbformat": 4,
 "nbformat_minor": 4
}