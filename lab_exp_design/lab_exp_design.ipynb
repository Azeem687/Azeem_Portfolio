{
 "cells": [
  {
   "cell_type": "markdown",
   "metadata": {},
   "source": [
    "# Lab: Experimental Design\n",
    "\n",
    "## Group\n",
    "\n",
    "Edit the next Python cell to add information about who you're working within your lab section:"
   ]
  },
  {
   "cell_type": "code",
   "execution_count": 47,
   "metadata": {},
   "outputs": [],
   "source": [
    "partner1_name = \"Jai Rajpal\"\n",
    "partner1_netid = \"\"\n",
    "partner1_major = \"Information Sciences\"\n",
    "\n",
    "partner2_name = \"\"\n",
    "partner2_netid = \"\"\n",
    "partner2_major = \"\"\n",
    "\n",
    "partner3_name = \"\"\n",
    "partner3_netid = \"\"\n",
    "partner3_major = \"\""
   ]
  },
  {
   "cell_type": "markdown",
   "metadata": {},
   "source": [
    "## Table of Contents <a id='toc'></a>\n",
    "\n",
    "- [Setup](#p0)\n",
    "- [Puzzle 1.1](#p11)\n",
    "- [Puzzle 1.2](#p12)\n",
    "- [Puzzle 1.3](#p13)\n",
    "- [Puzzle 1.4](#p14)\n",
    "- [Puzzle 2.1](#p21)\n",
    "- [Puzzle 2.2](#p22)\n",
    "- [Puzzle 2.3](#p23)\n",
    "- [Puzzle 3.1](#p31)\n",
    "- [Puzzle 3.2](#p32)\n",
    "- [Puzzle 3.3](#p33)\n",
    "- [Puzzle 3.4](#p34)\n",
    "- [Puzzle 3.5](#p35)\n",
    "- [Finale](#p4)"
   ]
  },
  {
   "cell_type": "markdown",
   "metadata": {},
   "source": [
    "## Getting Help\n",
    "Remember, there are a lot of ways to get help if you find yourself stuck:\n",
    "\n",
    "1. In your lab section, you can ask your TA or CAs.\n",
    "2. Post your question in the course Discord.\n",
    "3. Office Hours:\n",
    "  - In-person office hours **every Monday, Wednesday, Thursday, and Friday** from 4:00 PM - 6:00 PM in Siebel Center for Design (SCD) Rm. 0060\n",
    "  - Zoom office hours **every Tuesday** from 5:00 PM - 6:30 PM (see the course website for links).\n",
    "\n",
    "In this lab, you will:\n",
    "\n",
    "- Download a dataset and place it in your working directory\n",
    "- Utilize pandas to see how different sampling techniques affect your results\n",
    "- Perform data cleaning on the dataset\n",
    "- Think creatively on using pandas to solve real-world problems\n",
    "\n",
    "## Welcome to Elite Feet!\n",
    "\n",
    "You are a data scientist at Elite Feet. You just got hired to perform an experiment to test new shoe inserts that are supposed to make shoes feel 83% more comfortable!\n",
    "\n",
    "You have found 22 ~~victims~~ participants who have agreed to try the shoe inserts for free. Now it's time to run the experiments to see if these work! You first have to divide the participants up into a treatment group (people who use the inserts) and a control group (people who don't use the inserts). Let's get going!\n",
    "\n",
    "### Setup\n",
    "\n",
    "In the _beginning_ of every project, you will always need to:\n",
    "\n",
    "1. Download the dataset and place it into **your working directory**. \n",
    "2. Import the `pandas` library (as `pd`) to use pandas functions.\n",
    "3. Read the dataset into a DataFrame `df` using `pd.read_csv()`\n",
    "\n",
    "### This Lab's Dataset: Former Stat 107 Students!\n",
    "\n",
    "You will use a dataset created by former Stat 107 students.  Assume they are the participants in this study!\n",
    "\n",
    "- This dataset is in the lab_exp_design folder and it's named data.csv. So it's already where it needs to be!\n",
    "\n",
    "\n",
    "### Complete The Setup Your Python Notebook <a id='p0'></a> ([back to toc](#toc))\n",
    "\n",
    "Use the following two cells to finish up the setup by following 3 steps above:"
   ]
  },
  {
   "cell_type": "code",
   "execution_count": 49,
   "metadata": {},
   "outputs": [],
   "source": [
    "# Import the pandas library as pd\n",
    "\n",
    "import pandas as pd"
   ]
  },
  {
   "cell_type": "code",
   "execution_count": 50,
   "metadata": {
    "nbgrader": {
     "grade": false,
     "grade_id": "cell-60586fba048b7e50",
     "locked": false,
     "schema_version": 3,
     "solution": true
    }
   },
   "outputs": [
    {
     "data": {
      "text/html": "<div>\n<style scoped>\n    .dataframe tbody tr th:only-of-type {\n        vertical-align: middle;\n    }\n\n    .dataframe tbody tr th {\n        vertical-align: top;\n    }\n\n    .dataframe thead th {\n        text-align: right;\n    }\n</style>\n<table border=\"1\" class=\"dataframe\">\n  <thead>\n    <tr style=\"text-align: right;\">\n      <th></th>\n      <th>Unnamed: 0</th>\n      <th>Name</th>\n      <th>Major?</th>\n      <th>Year?</th>\n      <th>Cats or Dogs</th>\n      <th>Siblings?</th>\n      <th>Shoe Size?</th>\n      <th>Fav. Food</th>\n      <th>Fav. Color</th>\n      <th>Phone.</th>\n      <th>...</th>\n      <th>McDonald's or Burger King</th>\n      <th>Gym Per Week</th>\n      <th>Birth Month</th>\n      <th>STAT at UIUC</th>\n      <th>Programming at UIUC</th>\n      <th>Credit Hours?</th>\n      <th>Ideal Sleep Hours</th>\n      <th>Eat Out Per Week</th>\n      <th>Eye Color</th>\n      <th>Height</th>\n    </tr>\n  </thead>\n  <tbody>\n    <tr>\n      <th>0</th>\n      <td>1</td>\n      <td>Jesse</td>\n      <td>Undeclared</td>\n      <td>Freshmen</td>\n      <td>Dogs</td>\n      <td>1</td>\n      <td>9.0</td>\n      <td>KBBQ</td>\n      <td>Blue</td>\n      <td>iPhone</td>\n      <td>...</td>\n      <td>McDonald's</td>\n      <td>0</td>\n      <td>5</td>\n      <td>0</td>\n      <td>1</td>\n      <td>15</td>\n      <td>10.0</td>\n      <td>1</td>\n      <td>Black</td>\n      <td>0</td>\n    </tr>\n    <tr>\n      <th>1</th>\n      <td>2</td>\n      <td>Bing</td>\n      <td>Psychology</td>\n      <td>Junior</td>\n      <td>Dogs</td>\n      <td>0</td>\n      <td>5.5</td>\n      <td>French Fries</td>\n      <td>Grey</td>\n      <td>iPhone</td>\n      <td>...</td>\n      <td>McDonald's</td>\n      <td>2</td>\n      <td>5</td>\n      <td>2</td>\n      <td>0</td>\n      <td>22</td>\n      <td>6.0</td>\n      <td>3</td>\n      <td>Brown</td>\n      <td>60</td>\n    </tr>\n    <tr>\n      <th>2</th>\n      <td>3</td>\n      <td>Jiayi</td>\n      <td>psychology</td>\n      <td>freshman</td>\n      <td>cats</td>\n      <td>0</td>\n      <td>7.0</td>\n      <td>hotpot</td>\n      <td>blue</td>\n      <td>iphone</td>\n      <td>...</td>\n      <td>neither</td>\n      <td>0</td>\n      <td>1</td>\n      <td>0</td>\n      <td>0</td>\n      <td>17</td>\n      <td>7.0</td>\n      <td>2</td>\n      <td>black</td>\n      <td>63</td>\n    </tr>\n    <tr>\n      <th>3</th>\n      <td>4</td>\n      <td>Tamun</td>\n      <td>Psychology</td>\n      <td>Freshman</td>\n      <td>dogs</td>\n      <td>1</td>\n      <td>8.0</td>\n      <td>Indian Food</td>\n      <td>Seafoam green</td>\n      <td>iPhone</td>\n      <td>...</td>\n      <td>McDonalds</td>\n      <td>4</td>\n      <td>12</td>\n      <td>1</td>\n      <td>0</td>\n      <td>18</td>\n      <td>8.0</td>\n      <td>3</td>\n      <td>Brown</td>\n      <td>63</td>\n    </tr>\n    <tr>\n      <th>4</th>\n      <td>5</td>\n      <td>Gabby</td>\n      <td>Undeclared</td>\n      <td>Sophomore</td>\n      <td>Dogs</td>\n      <td>1</td>\n      <td>8.5</td>\n      <td>Ribs</td>\n      <td>Periwinkle</td>\n      <td>iPhone</td>\n      <td>...</td>\n      <td>Neither</td>\n      <td>3</td>\n      <td>12</td>\n      <td>2</td>\n      <td>0</td>\n      <td>17</td>\n      <td>10.5</td>\n      <td>1</td>\n      <td>Brown &amp; Green</td>\n      <td>64</td>\n    </tr>\n    <tr>\n      <th>5</th>\n      <td>6</td>\n      <td>Cecilia</td>\n      <td>Agricultural Consumer Economics</td>\n      <td>Junior</td>\n      <td>Dogs</td>\n      <td>1</td>\n      <td>7.5</td>\n      <td>Brownie</td>\n      <td>White</td>\n      <td>Iphone</td>\n      <td>...</td>\n      <td>McDonald's</td>\n      <td>0</td>\n      <td>2</td>\n      <td>1</td>\n      <td>0</td>\n      <td>15</td>\n      <td>8.0</td>\n      <td>4</td>\n      <td>Black</td>\n      <td>64</td>\n    </tr>\n    <tr>\n      <th>6</th>\n      <td>7</td>\n      <td>Jasmine</td>\n      <td>MCB</td>\n      <td>Sophomore</td>\n      <td>Dogs</td>\n      <td>2</td>\n      <td>8.0</td>\n      <td>sushi</td>\n      <td>grey</td>\n      <td>iphone</td>\n      <td>...</td>\n      <td>McDonalds</td>\n      <td>0</td>\n      <td>1</td>\n      <td>0</td>\n      <td>0</td>\n      <td>18</td>\n      <td>7.0</td>\n      <td>3</td>\n      <td>brown</td>\n      <td>64</td>\n    </tr>\n    <tr>\n      <th>7</th>\n      <td>8</td>\n      <td>Pavitra</td>\n      <td>Ag Consumer Econ</td>\n      <td>Junior</td>\n      <td>Dogs</td>\n      <td>0</td>\n      <td>7.5</td>\n      <td>mac and cheese</td>\n      <td>purple</td>\n      <td>iphone</td>\n      <td>...</td>\n      <td>mcdonalds</td>\n      <td>5</td>\n      <td>9</td>\n      <td>2</td>\n      <td>1</td>\n      <td>16</td>\n      <td>8.0</td>\n      <td>2</td>\n      <td>brown</td>\n      <td>65</td>\n    </tr>\n    <tr>\n      <th>8</th>\n      <td>9</td>\n      <td>Brian</td>\n      <td>Chemistry</td>\n      <td>Sophomore</td>\n      <td>Dogs</td>\n      <td>1</td>\n      <td>9.5</td>\n      <td>Tacos</td>\n      <td>Gold</td>\n      <td>IPhone</td>\n      <td>...</td>\n      <td>McDonalds</td>\n      <td>0</td>\n      <td>6</td>\n      <td>0</td>\n      <td>0</td>\n      <td>16</td>\n      <td>7.0</td>\n      <td>2</td>\n      <td>Brown</td>\n      <td>65</td>\n    </tr>\n    <tr>\n      <th>9</th>\n      <td>10</td>\n      <td>Kelly</td>\n      <td>Computer Scinece</td>\n      <td>super senior</td>\n      <td>Cats</td>\n      <td>0</td>\n      <td>7.0</td>\n      <td>Guacamole</td>\n      <td>Purple</td>\n      <td>iPhone</td>\n      <td>...</td>\n      <td>McDonald's</td>\n      <td>4</td>\n      <td>2</td>\n      <td>0.5</td>\n      <td>5</td>\n      <td>12</td>\n      <td>10.0</td>\n      <td>3</td>\n      <td>Hazel</td>\n      <td>65</td>\n    </tr>\n    <tr>\n      <th>10</th>\n      <td>11</td>\n      <td>Ali</td>\n      <td>Undeclared</td>\n      <td>Sophomore</td>\n      <td>Dogs</td>\n      <td>2</td>\n      <td>9.0</td>\n      <td>Sushi</td>\n      <td>Blue</td>\n      <td>iPhone</td>\n      <td>...</td>\n      <td>Burger King</td>\n      <td>0</td>\n      <td>2</td>\n      <td>0</td>\n      <td>1</td>\n      <td>15</td>\n      <td>10.0</td>\n      <td>2</td>\n      <td>Blue</td>\n      <td>66</td>\n    </tr>\n    <tr>\n      <th>11</th>\n      <td>12</td>\n      <td>Mariel</td>\n      <td>Global Studies</td>\n      <td>Freshman</td>\n      <td>Dogs</td>\n      <td>1</td>\n      <td>9.0</td>\n      <td>sushi</td>\n      <td>none</td>\n      <td>iPhone</td>\n      <td>...</td>\n      <td>Neither</td>\n      <td>4</td>\n      <td>10</td>\n      <td>1</td>\n      <td>0</td>\n      <td>17</td>\n      <td>10.0</td>\n      <td>3</td>\n      <td>Brown</td>\n      <td>67</td>\n    </tr>\n    <tr>\n      <th>12</th>\n      <td>13</td>\n      <td>April</td>\n      <td>Human Nutrition</td>\n      <td>Senior</td>\n      <td>Dogs</td>\n      <td>0</td>\n      <td>6.5</td>\n      <td>Hotpot</td>\n      <td>Blue</td>\n      <td>iPhone</td>\n      <td>...</td>\n      <td>Neither</td>\n      <td>2</td>\n      <td>9</td>\n      <td>0</td>\n      <td>0</td>\n      <td>22</td>\n      <td>8.0</td>\n      <td>3</td>\n      <td>Black</td>\n      <td>67</td>\n    </tr>\n    <tr>\n      <th>13</th>\n      <td>14</td>\n      <td>Dean</td>\n      <td>Economics</td>\n      <td>Sophomore</td>\n      <td>Dogs</td>\n      <td>1</td>\n      <td>7.5</td>\n      <td>Ramen</td>\n      <td>Green</td>\n      <td>Android</td>\n      <td>...</td>\n      <td>McDonald's</td>\n      <td>0</td>\n      <td>3</td>\n      <td>1</td>\n      <td>0</td>\n      <td>16</td>\n      <td>10.0</td>\n      <td>4</td>\n      <td>Brown</td>\n      <td>68</td>\n    </tr>\n    <tr>\n      <th>14</th>\n      <td>15</td>\n      <td>Hermon</td>\n      <td>MCB</td>\n      <td>senior</td>\n      <td>Dogs</td>\n      <td>1</td>\n      <td>10.0</td>\n      <td>Burrito</td>\n      <td>Red</td>\n      <td>iPhone</td>\n      <td>...</td>\n      <td>McDees</td>\n      <td>0</td>\n      <td>4</td>\n      <td>2</td>\n      <td>0</td>\n      <td>16</td>\n      <td>7.0</td>\n      <td>~4</td>\n      <td>Brown</td>\n      <td>68</td>\n    </tr>\n    <tr>\n      <th>15</th>\n      <td>16</td>\n      <td>Karle</td>\n      <td>Statistics</td>\n      <td>Old</td>\n      <td>Cats</td>\n      <td>2</td>\n      <td>8.5</td>\n      <td>Tacos</td>\n      <td>Pink</td>\n      <td>iPhone</td>\n      <td>...</td>\n      <td>Neither</td>\n      <td>3</td>\n      <td>10</td>\n      <td>20+</td>\n      <td>1</td>\n      <td>4</td>\n      <td>10.0</td>\n      <td>3</td>\n      <td>Green</td>\n      <td>70</td>\n    </tr>\n    <tr>\n      <th>16</th>\n      <td>17</td>\n      <td>Ming</td>\n      <td>Econ and Stats</td>\n      <td>Sophomore</td>\n      <td>Cats</td>\n      <td>1</td>\n      <td>10.0</td>\n      <td>KBBQ/Ramen</td>\n      <td>Blue</td>\n      <td>Android</td>\n      <td>...</td>\n      <td>McDonalds</td>\n      <td>0</td>\n      <td>7</td>\n      <td>2</td>\n      <td>1</td>\n      <td>18</td>\n      <td>10.0</td>\n      <td>3-Feb</td>\n      <td>Brown</td>\n      <td>70</td>\n    </tr>\n    <tr>\n      <th>17</th>\n      <td>18</td>\n      <td>David</td>\n      <td>Kinesiology</td>\n      <td>Sophomore</td>\n      <td>Cats</td>\n      <td>2</td>\n      <td>10.0</td>\n      <td>Pizza</td>\n      <td>Purple</td>\n      <td>iPhone</td>\n      <td>...</td>\n      <td>neither</td>\n      <td>3</td>\n      <td>7</td>\n      <td>1</td>\n      <td>0</td>\n      <td>16</td>\n      <td>7.0</td>\n      <td>0</td>\n      <td>Grey</td>\n      <td>70</td>\n    </tr>\n    <tr>\n      <th>18</th>\n      <td>19</td>\n      <td>Omri</td>\n      <td>Lighting Design &amp; Technology</td>\n      <td>Junior</td>\n      <td>Dogs</td>\n      <td>1</td>\n      <td>10.0</td>\n      <td>Pasta</td>\n      <td>Blue</td>\n      <td>iPhone</td>\n      <td>...</td>\n      <td>McDonald's</td>\n      <td>3</td>\n      <td>9</td>\n      <td>1</td>\n      <td>0</td>\n      <td>20</td>\n      <td>8.0</td>\n      <td>3</td>\n      <td>Brown</td>\n      <td>70</td>\n    </tr>\n    <tr>\n      <th>19</th>\n      <td>20</td>\n      <td>Nick</td>\n      <td>Advertising</td>\n      <td>freshman</td>\n      <td>dogs</td>\n      <td>1</td>\n      <td>10.0</td>\n      <td>Mac &amp; Cheese</td>\n      <td>blue</td>\n      <td>iPhone</td>\n      <td>...</td>\n      <td>McDonald's</td>\n      <td>3</td>\n      <td>12</td>\n      <td>1</td>\n      <td>0</td>\n      <td>15</td>\n      <td>8.0</td>\n      <td>2</td>\n      <td>brown</td>\n      <td>72</td>\n    </tr>\n    <tr>\n      <th>20</th>\n      <td>21</td>\n      <td>Pedro</td>\n      <td>Political Science</td>\n      <td>Sophmore</td>\n      <td>Dogs</td>\n      <td>1</td>\n      <td>13.0</td>\n      <td>BBQ Ribs</td>\n      <td>grey</td>\n      <td>Iphone</td>\n      <td>...</td>\n      <td>Burger King</td>\n      <td>0</td>\n      <td>2</td>\n      <td>1</td>\n      <td>0</td>\n      <td>16</td>\n      <td>9.0</td>\n      <td>2</td>\n      <td>Brown</td>\n      <td>74</td>\n    </tr>\n    <tr>\n      <th>21</th>\n      <td>22</td>\n      <td>Wade</td>\n      <td>Computer Scinece</td>\n      <td>Old</td>\n      <td>Dogs</td>\n      <td>2</td>\n      <td>13.0</td>\n      <td>BBQ</td>\n      <td>Purple</td>\n      <td>Android</td>\n      <td>...</td>\n      <td>MCDs</td>\n      <td>0</td>\n      <td>11</td>\n      <td>0</td>\n      <td>5</td>\n      <td>13</td>\n      <td>8.0</td>\n      <td>2</td>\n      <td>Brown</td>\n      <td>77</td>\n    </tr>\n  </tbody>\n</table>\n<p>22 rows × 38 columns</p>\n</div>",
      "text/plain": "    Unnamed: 0     Name                           Major?         Year?  \\\n0            1    Jesse                       Undeclared      Freshmen   \n1            2     Bing                       Psychology        Junior   \n2            3   Jiayi                        psychology      freshman   \n3            4    Tamun                       Psychology      Freshman   \n4            5    Gabby                       Undeclared     Sophomore   \n5            6  Cecilia  Agricultural Consumer Economics        Junior   \n6            7  Jasmine                              MCB     Sophomore   \n7            8  Pavitra                 Ag Consumer Econ        Junior   \n8            9    Brian                        Chemistry     Sophomore   \n9           10    Kelly                 Computer Scinece  super senior   \n10          11      Ali                       Undeclared     Sophomore   \n11          12   Mariel                   Global Studies      Freshman   \n12          13    April                  Human Nutrition        Senior   \n13          14     Dean                        Economics     Sophomore   \n14          15   Hermon                              MCB       senior    \n15          16    Karle                       Statistics           Old   \n16          17     Ming                   Econ and Stats     Sophomore   \n17          18    David                      Kinesiology     Sophomore   \n18          19     Omri     Lighting Design & Technology        Junior   \n19          20     Nick                      Advertising      freshman   \n20          21    Pedro                Political Science      Sophmore   \n21          22     Wade                 Computer Scinece           Old   \n\n   Cats or Dogs  Siblings?  Shoe Size?       Fav. Food     Fav. Color  \\\n0          Dogs          1         9.0            KBBQ           Blue   \n1          Dogs          0         5.5    French Fries           Grey   \n2          cats          0         7.0          hotpot           blue   \n3          dogs          1         8.0     Indian Food  Seafoam green   \n4          Dogs          1         8.5            Ribs     Periwinkle   \n5          Dogs          1         7.5         Brownie          White   \n6          Dogs          2         8.0           sushi           grey   \n7          Dogs          0         7.5  mac and cheese         purple   \n8          Dogs          1         9.5           Tacos           Gold   \n9          Cats          0         7.0       Guacamole         Purple   \n10         Dogs          2         9.0           Sushi           Blue   \n11         Dogs          1         9.0           sushi           none   \n12         Dogs          0         6.5          Hotpot           Blue   \n13         Dogs          1         7.5           Ramen          Green   \n14         Dogs          1        10.0         Burrito            Red   \n15         Cats          2         8.5           Tacos           Pink   \n16         Cats          1        10.0      KBBQ/Ramen           Blue   \n17         Cats          2        10.0           Pizza         Purple   \n18         Dogs          1        10.0           Pasta           Blue   \n19         dogs          1        10.0    Mac & Cheese           blue   \n20         Dogs          1        13.0        BBQ Ribs           grey   \n21         Dogs          2        13.0             BBQ         Purple   \n\n     Phone.  ... McDonald's or Burger King Gym Per Week Birth Month  \\\n0    iPhone  ...                McDonald's            0           5   \n1    iPhone  ...               McDonald's             2           5   \n2    iphone  ...                   neither            0           1   \n3    iPhone  ...                 McDonalds            4          12   \n4    iPhone  ...                   Neither            3          12   \n5    Iphone  ...                McDonald's            0           2   \n6    iphone  ...                 McDonalds            0           1   \n7    iphone  ...                 mcdonalds            5           9   \n8    IPhone  ...                 McDonalds            0           6   \n9    iPhone  ...                McDonald's            4           2   \n10   iPhone  ...               Burger King            0           2   \n11   iPhone  ...                   Neither            4          10   \n12   iPhone  ...                   Neither            2           9   \n13  Android  ...                McDonald's            0           3   \n14  iPhone   ...                    McDees            0           4   \n15   iPhone  ...                   Neither            3          10   \n16  Android  ...                 McDonalds            0           7   \n17   iPhone  ...                   neither            3           7   \n18   iPhone  ...                McDonald's            3           9   \n19   iPhone  ...                McDonald's            3          12   \n20   Iphone  ...               Burger King            0           2   \n21  Android  ...                      MCDs            0          11   \n\n   STAT at UIUC Programming at UIUC Credit Hours? Ideal Sleep Hours  \\\n0             0                   1            15              10.0   \n1             2                   0            22               6.0   \n2             0                   0            17               7.0   \n3             1                   0            18               8.0   \n4             2                   0            17              10.5   \n5             1                   0            15               8.0   \n6             0                   0            18               7.0   \n7             2                   1            16               8.0   \n8             0                   0            16               7.0   \n9           0.5                   5            12              10.0   \n10            0                   1            15              10.0   \n11            1                   0            17              10.0   \n12            0                   0            22               8.0   \n13            1                   0            16              10.0   \n14            2                   0            16               7.0   \n15          20+                   1             4              10.0   \n16            2                   1            18              10.0   \n17            1                   0            16               7.0   \n18            1                   0            20               8.0   \n19            1                   0            15               8.0   \n20            1                   0            16               9.0   \n21            0                   5            13               8.0   \n\n   Eat Out Per Week      Eye Color Height  \n0                 1          Black      0  \n1                 3          Brown     60  \n2                 2          black     63  \n3                 3          Brown     63  \n4                 1  Brown & Green     64  \n5                 4          Black     64  \n6                 3          brown     64  \n7                 2          brown     65  \n8                 2          Brown     65  \n9                 3          Hazel     65  \n10                2           Blue     66  \n11                3          Brown     67  \n12                3          Black     67  \n13                4          Brown     68  \n14               ~4          Brown     68  \n15                3          Green     70  \n16            3-Feb          Brown     70  \n17                0           Grey     70  \n18                3          Brown     70  \n19                2          brown     72  \n20                2          Brown     74  \n21                2          Brown     77  \n\n[22 rows x 38 columns]"
     },
     "execution_count": 50,
     "metadata": {},
     "output_type": "execute_result"
    }
   ],
   "source": [
    "# Read the dataset into a DataFrame\n",
    "df = pd.read_csv(\"data.csv\")\n",
    "df"
   ]
  },
  {
   "cell_type": "code",
   "execution_count": 52,
   "metadata": {
    "nbgrader": {
     "grade": true,
     "grade_id": "cell-579c71bea191072e",
     "locked": true,
     "points": 1,
     "schema_version": 3,
     "solution": false
    }
   },
   "outputs": [
    {
     "name": "stdout",
     "output_type": "stream",
     "text": [
      "🎉 All tests passed! 🎉\n",
      "\n"
     ]
    }
   ],
   "source": [
    "## == TEST CASES for Puzzle 1.1 ==\n",
    "# - This read-only cell contains test cases for your previous cell.\n",
    "# - If this cell runs without any error our output, you PASSED all test cases!\n",
    "# - If this cell results in any errors, check you previous cell, make changes, and RE-RUN your code and then this cell.\n",
    "\n",
    "assert(len(df) == 22), \"The dataframe does not appear to have correct dataset loaded\"\n",
    "\n",
    "## == SUCCESS MESSAGE ==\n",
    "# You will only see this message (with the emoji showing) if you passed all test cases:\n",
    "tada = \"\\N{PARTY POPPER}\"\n",
    "print(f\"{tada} All tests passed! {tada}\")\n",
    "print()"
   ]
  },
  {
   "cell_type": "markdown",
   "metadata": {},
   "source": [
    "## The Data\n",
    "\n",
    "You have a file called data.csv which contains the names of participants in the order they registered to participate in the study. This file contains useful information for you like the participants' gender, age, height, shoe size, and opinion of Crocs.\n",
    "\n",
    "Taylor Swift, a popular data scientist, has decided that average shoe size is going to be an important variable for the study, and that is what she wants you to measure first for both the treatment and control groups. Ideally, the averages for the two groups should be about the same because like we learned in lecture, we want the **two groups** to be as **alike** as possible.\n",
    "\n",
    "## Puzzle 1: The Easy Way\n",
    "\n",
    "Taylor's coworker, Olivia, who is known for taking short cuts, says she knows how to split the participants into two groups: take the first 11 people from the list and put them into the control group, then put the rest of them in the treatment group.\n",
    "\n",
    "### Quick tip: Pandas cheat sheet will help! Use it!\n",
    "\n",
    "*If you don't have it, just Google **pandas cheat sheet*** or look on our class website under \"Resources.\"\n",
    "\n",
    "Use the pandas cheat sheet and create the treatment and control groups using Olivia's strategy.  Instead of just using one DataFrame, we will want to create two new DataFrames:\n",
    "\n",
    "- `control`, a DataFrame that contains the control group\n",
    "- `treatment`, a DataFrame that contains the treatment group\n",
    "\n",
    "Because `control` and `treatment` are just DataFrames, they can do all the same things as `df` except by a different name.  This means you will have three DataFrames:\n",
    "\n",
    "- `df`, contains all of your data\n",
    "- `control`, contains your control group data\n",
    "- `treatment`, contains your treatment group data\n",
    "\n",
    "### Puzzle 1.1: Create The Control Group <a id='p11'></a> ([back to toc](#toc))\n",
    "\n",
    "Using Olivia's strategy, create the control group DataFrame `control` by selecting a subset of the data from `df`. \n",
    "\n",
    "**Hint:** Use the pandas cheat sheet and what we have learned in lecture to do this!"
   ]
  },
  {
   "cell_type": "code",
   "execution_count": 8,
   "metadata": {
    "nbgrader": {
     "grade": false,
     "grade_id": "cell-ca145fc4784cb587",
     "locked": false,
     "schema_version": 3,
     "solution": true
    }
   },
   "outputs": [
    {
     "data": {
      "text/html": "<div>\n<style scoped>\n    .dataframe tbody tr th:only-of-type {\n        vertical-align: middle;\n    }\n\n    .dataframe tbody tr th {\n        vertical-align: top;\n    }\n\n    .dataframe thead th {\n        text-align: right;\n    }\n</style>\n<table border=\"1\" class=\"dataframe\">\n  <thead>\n    <tr style=\"text-align: right;\">\n      <th></th>\n      <th>Unnamed: 0</th>\n      <th>Name</th>\n      <th>Major?</th>\n      <th>Year?</th>\n      <th>Cats or Dogs</th>\n      <th>Siblings?</th>\n      <th>Shoe Size?</th>\n      <th>Fav. Food</th>\n      <th>Fav. Color</th>\n      <th>Phone.</th>\n      <th>...</th>\n      <th>McDonald's or Burger King</th>\n      <th>Gym Per Week</th>\n      <th>Birth Month</th>\n      <th>STAT at UIUC</th>\n      <th>Programming at UIUC</th>\n      <th>Credit Hours?</th>\n      <th>Ideal Sleep Hours</th>\n      <th>Eat Out Per Week</th>\n      <th>Eye Color</th>\n      <th>Height</th>\n    </tr>\n  </thead>\n  <tbody>\n    <tr>\n      <th>0</th>\n      <td>1</td>\n      <td>Jesse</td>\n      <td>Undeclared</td>\n      <td>Freshmen</td>\n      <td>Dogs</td>\n      <td>1</td>\n      <td>9.0</td>\n      <td>KBBQ</td>\n      <td>Blue</td>\n      <td>iPhone</td>\n      <td>...</td>\n      <td>McDonald's</td>\n      <td>0</td>\n      <td>5</td>\n      <td>0</td>\n      <td>1</td>\n      <td>15</td>\n      <td>10.0</td>\n      <td>1</td>\n      <td>Black</td>\n      <td>0</td>\n    </tr>\n    <tr>\n      <th>1</th>\n      <td>2</td>\n      <td>Bing</td>\n      <td>Psychology</td>\n      <td>Junior</td>\n      <td>Dogs</td>\n      <td>0</td>\n      <td>5.5</td>\n      <td>French Fries</td>\n      <td>Grey</td>\n      <td>iPhone</td>\n      <td>...</td>\n      <td>McDonald's</td>\n      <td>2</td>\n      <td>5</td>\n      <td>2</td>\n      <td>0</td>\n      <td>22</td>\n      <td>6.0</td>\n      <td>3</td>\n      <td>Brown</td>\n      <td>60</td>\n    </tr>\n    <tr>\n      <th>2</th>\n      <td>3</td>\n      <td>Jiayi</td>\n      <td>psychology</td>\n      <td>freshman</td>\n      <td>cats</td>\n      <td>0</td>\n      <td>7.0</td>\n      <td>hotpot</td>\n      <td>blue</td>\n      <td>iphone</td>\n      <td>...</td>\n      <td>neither</td>\n      <td>0</td>\n      <td>1</td>\n      <td>0</td>\n      <td>0</td>\n      <td>17</td>\n      <td>7.0</td>\n      <td>2</td>\n      <td>black</td>\n      <td>63</td>\n    </tr>\n    <tr>\n      <th>3</th>\n      <td>4</td>\n      <td>Tamun</td>\n      <td>Psychology</td>\n      <td>Freshman</td>\n      <td>dogs</td>\n      <td>1</td>\n      <td>8.0</td>\n      <td>Indian Food</td>\n      <td>Seafoam green</td>\n      <td>iPhone</td>\n      <td>...</td>\n      <td>McDonalds</td>\n      <td>4</td>\n      <td>12</td>\n      <td>1</td>\n      <td>0</td>\n      <td>18</td>\n      <td>8.0</td>\n      <td>3</td>\n      <td>Brown</td>\n      <td>63</td>\n    </tr>\n    <tr>\n      <th>4</th>\n      <td>5</td>\n      <td>Gabby</td>\n      <td>Undeclared</td>\n      <td>Sophomore</td>\n      <td>Dogs</td>\n      <td>1</td>\n      <td>8.5</td>\n      <td>Ribs</td>\n      <td>Periwinkle</td>\n      <td>iPhone</td>\n      <td>...</td>\n      <td>Neither</td>\n      <td>3</td>\n      <td>12</td>\n      <td>2</td>\n      <td>0</td>\n      <td>17</td>\n      <td>10.5</td>\n      <td>1</td>\n      <td>Brown &amp; Green</td>\n      <td>64</td>\n    </tr>\n    <tr>\n      <th>5</th>\n      <td>6</td>\n      <td>Cecilia</td>\n      <td>Agricultural Consumer Economics</td>\n      <td>Junior</td>\n      <td>Dogs</td>\n      <td>1</td>\n      <td>7.5</td>\n      <td>Brownie</td>\n      <td>White</td>\n      <td>Iphone</td>\n      <td>...</td>\n      <td>McDonald's</td>\n      <td>0</td>\n      <td>2</td>\n      <td>1</td>\n      <td>0</td>\n      <td>15</td>\n      <td>8.0</td>\n      <td>4</td>\n      <td>Black</td>\n      <td>64</td>\n    </tr>\n    <tr>\n      <th>6</th>\n      <td>7</td>\n      <td>Jasmine</td>\n      <td>MCB</td>\n      <td>Sophomore</td>\n      <td>Dogs</td>\n      <td>2</td>\n      <td>8.0</td>\n      <td>sushi</td>\n      <td>grey</td>\n      <td>iphone</td>\n      <td>...</td>\n      <td>McDonalds</td>\n      <td>0</td>\n      <td>1</td>\n      <td>0</td>\n      <td>0</td>\n      <td>18</td>\n      <td>7.0</td>\n      <td>3</td>\n      <td>brown</td>\n      <td>64</td>\n    </tr>\n    <tr>\n      <th>7</th>\n      <td>8</td>\n      <td>Pavitra</td>\n      <td>Ag Consumer Econ</td>\n      <td>Junior</td>\n      <td>Dogs</td>\n      <td>0</td>\n      <td>7.5</td>\n      <td>mac and cheese</td>\n      <td>purple</td>\n      <td>iphone</td>\n      <td>...</td>\n      <td>mcdonalds</td>\n      <td>5</td>\n      <td>9</td>\n      <td>2</td>\n      <td>1</td>\n      <td>16</td>\n      <td>8.0</td>\n      <td>2</td>\n      <td>brown</td>\n      <td>65</td>\n    </tr>\n    <tr>\n      <th>8</th>\n      <td>9</td>\n      <td>Brian</td>\n      <td>Chemistry</td>\n      <td>Sophomore</td>\n      <td>Dogs</td>\n      <td>1</td>\n      <td>9.5</td>\n      <td>Tacos</td>\n      <td>Gold</td>\n      <td>IPhone</td>\n      <td>...</td>\n      <td>McDonalds</td>\n      <td>0</td>\n      <td>6</td>\n      <td>0</td>\n      <td>0</td>\n      <td>16</td>\n      <td>7.0</td>\n      <td>2</td>\n      <td>Brown</td>\n      <td>65</td>\n    </tr>\n    <tr>\n      <th>9</th>\n      <td>10</td>\n      <td>Kelly</td>\n      <td>Computer Scinece</td>\n      <td>super senior</td>\n      <td>Cats</td>\n      <td>0</td>\n      <td>7.0</td>\n      <td>Guacamole</td>\n      <td>Purple</td>\n      <td>iPhone</td>\n      <td>...</td>\n      <td>McDonald's</td>\n      <td>4</td>\n      <td>2</td>\n      <td>0.5</td>\n      <td>5</td>\n      <td>12</td>\n      <td>10.0</td>\n      <td>3</td>\n      <td>Hazel</td>\n      <td>65</td>\n    </tr>\n    <tr>\n      <th>10</th>\n      <td>11</td>\n      <td>Ali</td>\n      <td>Undeclared</td>\n      <td>Sophomore</td>\n      <td>Dogs</td>\n      <td>2</td>\n      <td>9.0</td>\n      <td>Sushi</td>\n      <td>Blue</td>\n      <td>iPhone</td>\n      <td>...</td>\n      <td>Burger King</td>\n      <td>0</td>\n      <td>2</td>\n      <td>0</td>\n      <td>1</td>\n      <td>15</td>\n      <td>10.0</td>\n      <td>2</td>\n      <td>Blue</td>\n      <td>66</td>\n    </tr>\n  </tbody>\n</table>\n<p>11 rows × 38 columns</p>\n</div>",
      "text/plain": "    Unnamed: 0     Name                           Major?         Year?  \\\n0            1    Jesse                       Undeclared      Freshmen   \n1            2     Bing                       Psychology        Junior   \n2            3   Jiayi                        psychology      freshman   \n3            4    Tamun                       Psychology      Freshman   \n4            5    Gabby                       Undeclared     Sophomore   \n5            6  Cecilia  Agricultural Consumer Economics        Junior   \n6            7  Jasmine                              MCB     Sophomore   \n7            8  Pavitra                 Ag Consumer Econ        Junior   \n8            9    Brian                        Chemistry     Sophomore   \n9           10    Kelly                 Computer Scinece  super senior   \n10          11      Ali                       Undeclared     Sophomore   \n\n   Cats or Dogs  Siblings?  Shoe Size?       Fav. Food     Fav. Color  Phone.  \\\n0          Dogs          1         9.0            KBBQ           Blue  iPhone   \n1          Dogs          0         5.5    French Fries           Grey  iPhone   \n2          cats          0         7.0          hotpot           blue  iphone   \n3          dogs          1         8.0     Indian Food  Seafoam green  iPhone   \n4          Dogs          1         8.5            Ribs     Periwinkle  iPhone   \n5          Dogs          1         7.5         Brownie          White  Iphone   \n6          Dogs          2         8.0           sushi           grey  iphone   \n7          Dogs          0         7.5  mac and cheese         purple  iphone   \n8          Dogs          1         9.5           Tacos           Gold  IPhone   \n9          Cats          0         7.0       Guacamole         Purple  iPhone   \n10         Dogs          2         9.0           Sushi           Blue  iPhone   \n\n    ... McDonald's or Burger King Gym Per Week Birth Month STAT at UIUC  \\\n0   ...                McDonald's            0           5            0   \n1   ...               McDonald's             2           5            2   \n2   ...                   neither            0           1            0   \n3   ...                 McDonalds            4          12            1   \n4   ...                   Neither            3          12            2   \n5   ...                McDonald's            0           2            1   \n6   ...                 McDonalds            0           1            0   \n7   ...                 mcdonalds            5           9            2   \n8   ...                 McDonalds            0           6            0   \n9   ...                McDonald's            4           2          0.5   \n10  ...               Burger King            0           2            0   \n\n   Programming at UIUC Credit Hours? Ideal Sleep Hours Eat Out Per Week  \\\n0                    1            15              10.0                1   \n1                    0            22               6.0                3   \n2                    0            17               7.0                2   \n3                    0            18               8.0                3   \n4                    0            17              10.5                1   \n5                    0            15               8.0                4   \n6                    0            18               7.0                3   \n7                    1            16               8.0                2   \n8                    0            16               7.0                2   \n9                    5            12              10.0                3   \n10                   1            15              10.0                2   \n\n        Eye Color Height  \n0           Black      0  \n1           Brown     60  \n2           black     63  \n3           Brown     63  \n4   Brown & Green     64  \n5           Black     64  \n6           brown     64  \n7           brown     65  \n8           Brown     65  \n9           Hazel     65  \n10           Blue     66  \n\n[11 rows x 38 columns]"
     },
     "execution_count": 8,
     "metadata": {},
     "output_type": "execute_result"
    }
   ],
   "source": [
    "# Assign the people into the control group Using *Olivia's strategy*\n",
    "control = df.head(11)\n",
    "control"
   ]
  },
  {
   "cell_type": "code",
   "execution_count": null,
   "metadata": {
    "nbgrader": {
     "grade": true,
     "grade_id": "cell-7542098f4c3f3f50",
     "locked": true,
     "points": 1,
     "schema_version": 3,
     "solution": false
    }
   },
   "outputs": [],
   "source": [
    "## == TEST CASES for Puzzle 1.1 ==\n",
    "# - This read-only cell contains test cases for your previous cell.\n",
    "# - If this cell runs without any error our output, you PASSED all test cases!\n",
    "# - If this cell results in any errors, check you previous cell, make changes, and RE-RUN your code and then this cell.\n",
    "\n",
    "assert(len(control) == 11), \"The control group does not appear to have correctly chosen\"\n",
    "assert((control[\"Name\"] == df[\"Name\"][10]).sum() == 1), \"The control group does not appear to have correctly chosen\"\n",
    "\n",
    "## == SUCCESS MESSAGE ==\n",
    "# You will only see this message (with the emoji showing) if you passed all test cases:\n",
    "tada = \"\\N{PARTY POPPER}\"\n",
    "print(f\"{tada} All tests passed! {tada}\")\n",
    "print()"
   ]
  },
  {
   "cell_type": "markdown",
   "metadata": {},
   "source": [
    "### Puzzle 1.2:  Create The Treatment Group <a id='p12'></a> ([back to toc](#toc))\n",
    "\n",
    "Using Olivia's strategy, create the treatment group DataFrame `treatment`:"
   ]
  },
  {
   "cell_type": "code",
   "execution_count": null,
   "metadata": {},
   "outputs": [],
   "source": []
  },
  {
   "cell_type": "code",
   "execution_count": 9,
   "metadata": {
    "nbgrader": {
     "grade": false,
     "grade_id": "cell-3c27ef5f7d3b3705",
     "locked": false,
     "schema_version": 3,
     "solution": true
    }
   },
   "outputs": [
    {
     "data": {
      "text/html": "<div>\n<style scoped>\n    .dataframe tbody tr th:only-of-type {\n        vertical-align: middle;\n    }\n\n    .dataframe tbody tr th {\n        vertical-align: top;\n    }\n\n    .dataframe thead th {\n        text-align: right;\n    }\n</style>\n<table border=\"1\" class=\"dataframe\">\n  <thead>\n    <tr style=\"text-align: right;\">\n      <th></th>\n      <th>Unnamed: 0</th>\n      <th>Name</th>\n      <th>Major?</th>\n      <th>Year?</th>\n      <th>Cats or Dogs</th>\n      <th>Siblings?</th>\n      <th>Shoe Size?</th>\n      <th>Fav. Food</th>\n      <th>Fav. Color</th>\n      <th>Phone.</th>\n      <th>...</th>\n      <th>McDonald's or Burger King</th>\n      <th>Gym Per Week</th>\n      <th>Birth Month</th>\n      <th>STAT at UIUC</th>\n      <th>Programming at UIUC</th>\n      <th>Credit Hours?</th>\n      <th>Ideal Sleep Hours</th>\n      <th>Eat Out Per Week</th>\n      <th>Eye Color</th>\n      <th>Height</th>\n    </tr>\n  </thead>\n  <tbody>\n    <tr>\n      <th>11</th>\n      <td>12</td>\n      <td>Mariel</td>\n      <td>Global Studies</td>\n      <td>Freshman</td>\n      <td>Dogs</td>\n      <td>1</td>\n      <td>9.0</td>\n      <td>sushi</td>\n      <td>none</td>\n      <td>iPhone</td>\n      <td>...</td>\n      <td>Neither</td>\n      <td>4</td>\n      <td>10</td>\n      <td>1</td>\n      <td>0</td>\n      <td>17</td>\n      <td>10.0</td>\n      <td>3</td>\n      <td>Brown</td>\n      <td>67</td>\n    </tr>\n    <tr>\n      <th>12</th>\n      <td>13</td>\n      <td>April</td>\n      <td>Human Nutrition</td>\n      <td>Senior</td>\n      <td>Dogs</td>\n      <td>0</td>\n      <td>6.5</td>\n      <td>Hotpot</td>\n      <td>Blue</td>\n      <td>iPhone</td>\n      <td>...</td>\n      <td>Neither</td>\n      <td>2</td>\n      <td>9</td>\n      <td>0</td>\n      <td>0</td>\n      <td>22</td>\n      <td>8.0</td>\n      <td>3</td>\n      <td>Black</td>\n      <td>67</td>\n    </tr>\n    <tr>\n      <th>13</th>\n      <td>14</td>\n      <td>Dean</td>\n      <td>Economics</td>\n      <td>Sophomore</td>\n      <td>Dogs</td>\n      <td>1</td>\n      <td>7.5</td>\n      <td>Ramen</td>\n      <td>Green</td>\n      <td>Android</td>\n      <td>...</td>\n      <td>McDonald's</td>\n      <td>0</td>\n      <td>3</td>\n      <td>1</td>\n      <td>0</td>\n      <td>16</td>\n      <td>10.0</td>\n      <td>4</td>\n      <td>Brown</td>\n      <td>68</td>\n    </tr>\n    <tr>\n      <th>14</th>\n      <td>15</td>\n      <td>Hermon</td>\n      <td>MCB</td>\n      <td>senior</td>\n      <td>Dogs</td>\n      <td>1</td>\n      <td>10.0</td>\n      <td>Burrito</td>\n      <td>Red</td>\n      <td>iPhone</td>\n      <td>...</td>\n      <td>McDees</td>\n      <td>0</td>\n      <td>4</td>\n      <td>2</td>\n      <td>0</td>\n      <td>16</td>\n      <td>7.0</td>\n      <td>~4</td>\n      <td>Brown</td>\n      <td>68</td>\n    </tr>\n    <tr>\n      <th>15</th>\n      <td>16</td>\n      <td>Karle</td>\n      <td>Statistics</td>\n      <td>Old</td>\n      <td>Cats</td>\n      <td>2</td>\n      <td>8.5</td>\n      <td>Tacos</td>\n      <td>Pink</td>\n      <td>iPhone</td>\n      <td>...</td>\n      <td>Neither</td>\n      <td>3</td>\n      <td>10</td>\n      <td>20+</td>\n      <td>1</td>\n      <td>4</td>\n      <td>10.0</td>\n      <td>3</td>\n      <td>Green</td>\n      <td>70</td>\n    </tr>\n    <tr>\n      <th>16</th>\n      <td>17</td>\n      <td>Ming</td>\n      <td>Econ and Stats</td>\n      <td>Sophomore</td>\n      <td>Cats</td>\n      <td>1</td>\n      <td>10.0</td>\n      <td>KBBQ/Ramen</td>\n      <td>Blue</td>\n      <td>Android</td>\n      <td>...</td>\n      <td>McDonalds</td>\n      <td>0</td>\n      <td>7</td>\n      <td>2</td>\n      <td>1</td>\n      <td>18</td>\n      <td>10.0</td>\n      <td>3-Feb</td>\n      <td>Brown</td>\n      <td>70</td>\n    </tr>\n    <tr>\n      <th>17</th>\n      <td>18</td>\n      <td>David</td>\n      <td>Kinesiology</td>\n      <td>Sophomore</td>\n      <td>Cats</td>\n      <td>2</td>\n      <td>10.0</td>\n      <td>Pizza</td>\n      <td>Purple</td>\n      <td>iPhone</td>\n      <td>...</td>\n      <td>neither</td>\n      <td>3</td>\n      <td>7</td>\n      <td>1</td>\n      <td>0</td>\n      <td>16</td>\n      <td>7.0</td>\n      <td>0</td>\n      <td>Grey</td>\n      <td>70</td>\n    </tr>\n    <tr>\n      <th>18</th>\n      <td>19</td>\n      <td>Omri</td>\n      <td>Lighting Design &amp; Technology</td>\n      <td>Junior</td>\n      <td>Dogs</td>\n      <td>1</td>\n      <td>10.0</td>\n      <td>Pasta</td>\n      <td>Blue</td>\n      <td>iPhone</td>\n      <td>...</td>\n      <td>McDonald's</td>\n      <td>3</td>\n      <td>9</td>\n      <td>1</td>\n      <td>0</td>\n      <td>20</td>\n      <td>8.0</td>\n      <td>3</td>\n      <td>Brown</td>\n      <td>70</td>\n    </tr>\n    <tr>\n      <th>19</th>\n      <td>20</td>\n      <td>Nick</td>\n      <td>Advertising</td>\n      <td>freshman</td>\n      <td>dogs</td>\n      <td>1</td>\n      <td>10.0</td>\n      <td>Mac &amp; Cheese</td>\n      <td>blue</td>\n      <td>iPhone</td>\n      <td>...</td>\n      <td>McDonald's</td>\n      <td>3</td>\n      <td>12</td>\n      <td>1</td>\n      <td>0</td>\n      <td>15</td>\n      <td>8.0</td>\n      <td>2</td>\n      <td>brown</td>\n      <td>72</td>\n    </tr>\n    <tr>\n      <th>20</th>\n      <td>21</td>\n      <td>Pedro</td>\n      <td>Political Science</td>\n      <td>Sophmore</td>\n      <td>Dogs</td>\n      <td>1</td>\n      <td>13.0</td>\n      <td>BBQ Ribs</td>\n      <td>grey</td>\n      <td>Iphone</td>\n      <td>...</td>\n      <td>Burger King</td>\n      <td>0</td>\n      <td>2</td>\n      <td>1</td>\n      <td>0</td>\n      <td>16</td>\n      <td>9.0</td>\n      <td>2</td>\n      <td>Brown</td>\n      <td>74</td>\n    </tr>\n    <tr>\n      <th>21</th>\n      <td>22</td>\n      <td>Wade</td>\n      <td>Computer Scinece</td>\n      <td>Old</td>\n      <td>Dogs</td>\n      <td>2</td>\n      <td>13.0</td>\n      <td>BBQ</td>\n      <td>Purple</td>\n      <td>Android</td>\n      <td>...</td>\n      <td>MCDs</td>\n      <td>0</td>\n      <td>11</td>\n      <td>0</td>\n      <td>5</td>\n      <td>13</td>\n      <td>8.0</td>\n      <td>2</td>\n      <td>Brown</td>\n      <td>77</td>\n    </tr>\n  </tbody>\n</table>\n<p>11 rows × 38 columns</p>\n</div>",
      "text/plain": "    Unnamed: 0    Name                        Major?      Year? Cats or Dogs  \\\n11          12  Mariel                Global Studies   Freshman         Dogs   \n12          13   April               Human Nutrition     Senior         Dogs   \n13          14    Dean                     Economics  Sophomore         Dogs   \n14          15  Hermon                           MCB    senior          Dogs   \n15          16   Karle                    Statistics        Old         Cats   \n16          17    Ming                Econ and Stats  Sophomore         Cats   \n17          18   David                   Kinesiology  Sophomore         Cats   \n18          19    Omri  Lighting Design & Technology     Junior         Dogs   \n19          20    Nick                   Advertising   freshman         dogs   \n20          21   Pedro             Political Science   Sophmore         Dogs   \n21          22    Wade              Computer Scinece        Old         Dogs   \n\n    Siblings?  Shoe Size?     Fav. Food Fav. Color   Phone.  ...  \\\n11          1         9.0         sushi       none   iPhone  ...   \n12          0         6.5        Hotpot       Blue   iPhone  ...   \n13          1         7.5         Ramen      Green  Android  ...   \n14          1        10.0       Burrito        Red  iPhone   ...   \n15          2         8.5         Tacos       Pink   iPhone  ...   \n16          1        10.0    KBBQ/Ramen       Blue  Android  ...   \n17          2        10.0         Pizza     Purple   iPhone  ...   \n18          1        10.0         Pasta       Blue   iPhone  ...   \n19          1        10.0  Mac & Cheese       blue   iPhone  ...   \n20          1        13.0      BBQ Ribs       grey   Iphone  ...   \n21          2        13.0           BBQ     Purple  Android  ...   \n\n   McDonald's or Burger King Gym Per Week Birth Month STAT at UIUC  \\\n11                   Neither            4          10            1   \n12                   Neither            2           9            0   \n13                McDonald's            0           3            1   \n14                    McDees            0           4            2   \n15                   Neither            3          10          20+   \n16                 McDonalds            0           7            2   \n17                   neither            3           7            1   \n18                McDonald's            3           9            1   \n19                McDonald's            3          12            1   \n20               Burger King            0           2            1   \n21                      MCDs            0          11            0   \n\n   Programming at UIUC Credit Hours? Ideal Sleep Hours Eat Out Per Week  \\\n11                   0            17              10.0                3   \n12                   0            22               8.0                3   \n13                   0            16              10.0                4   \n14                   0            16               7.0               ~4   \n15                   1             4              10.0                3   \n16                   1            18              10.0            3-Feb   \n17                   0            16               7.0                0   \n18                   0            20               8.0                3   \n19                   0            15               8.0                2   \n20                   0            16               9.0                2   \n21                   5            13               8.0                2   \n\n   Eye Color Height  \n11     Brown     67  \n12     Black     67  \n13     Brown     68  \n14     Brown     68  \n15     Green     70  \n16     Brown     70  \n17      Grey     70  \n18     Brown     70  \n19     brown     72  \n20     Brown     74  \n21     Brown     77  \n\n[11 rows x 38 columns]"
     },
     "execution_count": 9,
     "metadata": {},
     "output_type": "execute_result"
    }
   ],
   "source": [
    "# Assign the people into the treatment group Using *Olivia's strategy*\n",
    "treatment = df.drop(control.index)\n",
    "treatment"
   ]
  },
  {
   "cell_type": "code",
   "execution_count": 10,
   "metadata": {
    "nbgrader": {
     "grade": true,
     "grade_id": "cell-8b30b24526f8663e",
     "locked": true,
     "points": 1,
     "schema_version": 3,
     "solution": false
    }
   },
   "outputs": [
    {
     "name": "stdout",
     "output_type": "stream",
     "text": [
      "🎉 All tests passed! 🎉\n",
      "\n"
     ]
    }
   ],
   "source": [
    "### == TEST CASES for Puzzle 1.2 ==\n",
    "# - This read-only cell contains test cases for your previous cell.\n",
    "# - If this cell runs without any error our output, you PASSED all test cases!\n",
    "# - If this cell results in any errors, check you previous cell, make changes, and RE-RUN your code and then this cell.\n",
    "\n",
    "assert(len(treatment) == 11), \"The treatment group does not appear to have correctly chosen\"\n",
    "assert((treatment[\"Name\"] == df[\"Name\"][11]).sum() == 1), \"The treatment group does not appear to have correctly chosen\"\n",
    "\n",
    "## == SUCCESS MESSAGE ==\n",
    "# You will only see this message (with the emoji showing) if you passed all test cases:\n",
    "tada = \"\\N{PARTY POPPER}\"\n",
    "print(f\"{tada} All tests passed! {tada}\")\n",
    "print()"
   ]
  },
  {
   "cell_type": "markdown",
   "metadata": {},
   "source": [
    "### Puzzle 1.3: Find The Mean (Average) Shoe Size <a id='p13'></a> ([back to toc](#toc))\n",
    "\n",
    "On the back of the cheat sheet, you will find pandas can summarize data:\n",
    "\n",
    "![image.png](pandas-summarize-data.png)\n",
    "\n",
    "### Using the summary functions on a column:\n",
    "\n",
    "We can use any of the summary functions, `sum()`, `count()`, `median()`, `quantile(...)`, `apply(...)`, `min()`, `max()`, `mean()`, `var()`, and `std()` to any column by applying it to a column in the DataFrame.\n",
    "\n",
    "The syntax to get one column from a DataFrame is to **index into the column**.  For example:\n",
    "\n",
    "```\n",
    "df['Credit Hours'].max()\n",
    "```\n",
    "\n",
    "...will return the max number of credit hours.\n",
    "\n",
    "Find and `print` the average shoe size of the control *and* treatment groups:"
   ]
  },
  {
   "cell_type": "code",
   "execution_count": 26,
   "metadata": {
    "nbgrader": {
     "grade": false,
     "grade_id": "cell-780ae1ba9db5809d",
     "locked": false,
     "schema_version": 3,
     "solution": true
    }
   },
   "outputs": [
    {
     "name": "stdout",
     "output_type": "stream",
     "text": [
      "7.863636363636363\n"
     ]
    },
    {
     "data": {
      "text/plain": "9.772727272727273"
     },
     "execution_count": 26,
     "metadata": {},
     "output_type": "execute_result"
    }
   ],
   "source": [
    "# Assign the average shoe size of control group\n",
    "control_shoe_mean = control[\"Shoe Size?\"].mean()\n",
    "# Print the control_shoe_mean\n",
    "print(control_shoe_mean)\n",
    "\n",
    "# Assign the average shoe size of treatment group\n",
    "treatment_shoe_mean = treatment[\"Shoe Size?\"].mean()\n",
    "# Print the treatment_shoe_mean\n",
    "\n",
    "treatment_shoe_mean"
   ]
  },
  {
   "cell_type": "code",
   "execution_count": 14,
   "metadata": {
    "nbgrader": {
     "grade": true,
     "grade_id": "cell-43e8842841584def",
     "locked": true,
     "points": 1,
     "schema_version": 3,
     "solution": false
    }
   },
   "outputs": [
    {
     "name": "stdout",
     "output_type": "stream",
     "text": [
      "🎉 All tests passed! 🎉\n",
      "\n"
     ]
    }
   ],
   "source": [
    "### == TEST CASES for Puzzle 1.3 ==\n",
    "# - This read-only cell contains test cases for your previous cell.\n",
    "# - If this cell runs without any error our output, you PASSED all test cases!\n",
    "# - If this cell results in any errors, check you previous cell, make changes, and RE-RUN your code and then this cell.\n",
    "\n",
    "assert(control_shoe_mean == control['Shoe Size?'].mean()), \"The average shoe size of your control group does not appear to seem correct. Make sure you are taking mean of the correct variable.\"\n",
    "assert(treatment_shoe_mean == treatment['Shoe Size?'].mean()), \"The average shoe size of your treatment group does not appear to seem correct. Make sure you are taking mean of the correct variable.\"\n",
    "\n",
    "## == SUCCESS MESSAGE ==\n",
    "# You will only see this message (with the emoji showing) if you passed all test cases:\n",
    "tada = \"\\N{PARTY POPPER}\"\n",
    "print(f\"{tada} All tests passed! {tada}\")\n",
    "print()"
   ]
  },
  {
   "cell_type": "markdown",
   "metadata": {},
   "source": [
    "### Puzzle 1.4: ❓Individual Reflection❓ <a id='p14'></a> ([back to toc](#toc))\n",
    "\n",
    "Do you think this is the best way to choose who is in the treatment group and the control group? Why or why not?"
   ]
  },
  {
   "cell_type": "markdown",
   "metadata": {},
   "source": [
    "***Type your answer here.*** No because it is not randomly assigned"
   ]
  },
  {
   "cell_type": "markdown",
   "metadata": {},
   "source": [
    "## Puzzle 2: The Random Way\n",
    "\n",
    "Taylor's coworker, Ed, took a stats course in college and stayed awake through at least 50% of the lectures. He remembers that you have to use randomization to determine who goes in each group in order to make the groups as *alike* as possible. He suggests that you randomly pick 11 people to be in the treatment group and the other 11 should go in the control group.\n",
    "\n",
    "### Puzzle 2.1: Creating The Control And The Treatment Groups Using Randomization <a id='p21'></a> ([back to toc](#toc))\n",
    "\n",
    "Execute Ed's strategy for dividing up the participants to create a `control` and a `treatment` group.\n",
    "\n",
    "\n",
    "**Hint 1:** This might help to randomize your whole dataset first: https://pandas.pydata.org/pandas-docs/stable/generated/pandas.DataFrame.sample.html\n",
    "\n",
    "**Hint 2:** If the frac=0.5 parameter randomly samples 50% of the data with replacement, how can we use this to randomize the entire dataset?\n",
    "\n",
    "**Hint 3:** If you use `.drop()` at any point, make sure you are using it on either `control_random` or `treatment_random` and **NOT** `df` (the original data frame).\n",
    "\n",
    "*Make sure to use a different cell for `control` and `treatment`.*"
   ]
  },
  {
   "cell_type": "code",
   "execution_count": 17,
   "metadata": {
    "nbgrader": {
     "grade": false,
     "grade_id": "cell-9d51e56771c0e4a4",
     "locked": false,
     "schema_version": 3,
     "solution": true
    }
   },
   "outputs": [
    {
     "data": {
      "text/html": "<div>\n<style scoped>\n    .dataframe tbody tr th:only-of-type {\n        vertical-align: middle;\n    }\n\n    .dataframe tbody tr th {\n        vertical-align: top;\n    }\n\n    .dataframe thead th {\n        text-align: right;\n    }\n</style>\n<table border=\"1\" class=\"dataframe\">\n  <thead>\n    <tr style=\"text-align: right;\">\n      <th></th>\n      <th>Unnamed: 0</th>\n      <th>Name</th>\n      <th>Major?</th>\n      <th>Year?</th>\n      <th>Cats or Dogs</th>\n      <th>Siblings?</th>\n      <th>Shoe Size?</th>\n      <th>Fav. Food</th>\n      <th>Fav. Color</th>\n      <th>Phone.</th>\n      <th>...</th>\n      <th>McDonald's or Burger King</th>\n      <th>Gym Per Week</th>\n      <th>Birth Month</th>\n      <th>STAT at UIUC</th>\n      <th>Programming at UIUC</th>\n      <th>Credit Hours?</th>\n      <th>Ideal Sleep Hours</th>\n      <th>Eat Out Per Week</th>\n      <th>Eye Color</th>\n      <th>Height</th>\n    </tr>\n  </thead>\n  <tbody>\n    <tr>\n      <th>21</th>\n      <td>22</td>\n      <td>Wade</td>\n      <td>Computer Scinece</td>\n      <td>Old</td>\n      <td>Dogs</td>\n      <td>2</td>\n      <td>13.0</td>\n      <td>BBQ</td>\n      <td>Purple</td>\n      <td>Android</td>\n      <td>...</td>\n      <td>MCDs</td>\n      <td>0</td>\n      <td>11</td>\n      <td>0</td>\n      <td>5</td>\n      <td>13</td>\n      <td>8.0</td>\n      <td>2</td>\n      <td>Brown</td>\n      <td>77</td>\n    </tr>\n    <tr>\n      <th>15</th>\n      <td>16</td>\n      <td>Karle</td>\n      <td>Statistics</td>\n      <td>Old</td>\n      <td>Cats</td>\n      <td>2</td>\n      <td>8.5</td>\n      <td>Tacos</td>\n      <td>Pink</td>\n      <td>iPhone</td>\n      <td>...</td>\n      <td>Neither</td>\n      <td>3</td>\n      <td>10</td>\n      <td>20+</td>\n      <td>1</td>\n      <td>4</td>\n      <td>10.0</td>\n      <td>3</td>\n      <td>Green</td>\n      <td>70</td>\n    </tr>\n    <tr>\n      <th>11</th>\n      <td>12</td>\n      <td>Mariel</td>\n      <td>Global Studies</td>\n      <td>Freshman</td>\n      <td>Dogs</td>\n      <td>1</td>\n      <td>9.0</td>\n      <td>sushi</td>\n      <td>none</td>\n      <td>iPhone</td>\n      <td>...</td>\n      <td>Neither</td>\n      <td>4</td>\n      <td>10</td>\n      <td>1</td>\n      <td>0</td>\n      <td>17</td>\n      <td>10.0</td>\n      <td>3</td>\n      <td>Brown</td>\n      <td>67</td>\n    </tr>\n    <tr>\n      <th>16</th>\n      <td>17</td>\n      <td>Ming</td>\n      <td>Econ and Stats</td>\n      <td>Sophomore</td>\n      <td>Cats</td>\n      <td>1</td>\n      <td>10.0</td>\n      <td>KBBQ/Ramen</td>\n      <td>Blue</td>\n      <td>Android</td>\n      <td>...</td>\n      <td>McDonalds</td>\n      <td>0</td>\n      <td>7</td>\n      <td>2</td>\n      <td>1</td>\n      <td>18</td>\n      <td>10.0</td>\n      <td>3-Feb</td>\n      <td>Brown</td>\n      <td>70</td>\n    </tr>\n    <tr>\n      <th>1</th>\n      <td>2</td>\n      <td>Bing</td>\n      <td>Psychology</td>\n      <td>Junior</td>\n      <td>Dogs</td>\n      <td>0</td>\n      <td>5.5</td>\n      <td>French Fries</td>\n      <td>Grey</td>\n      <td>iPhone</td>\n      <td>...</td>\n      <td>McDonald's</td>\n      <td>2</td>\n      <td>5</td>\n      <td>2</td>\n      <td>0</td>\n      <td>22</td>\n      <td>6.0</td>\n      <td>3</td>\n      <td>Brown</td>\n      <td>60</td>\n    </tr>\n    <tr>\n      <th>0</th>\n      <td>1</td>\n      <td>Jesse</td>\n      <td>Undeclared</td>\n      <td>Freshmen</td>\n      <td>Dogs</td>\n      <td>1</td>\n      <td>9.0</td>\n      <td>KBBQ</td>\n      <td>Blue</td>\n      <td>iPhone</td>\n      <td>...</td>\n      <td>McDonald's</td>\n      <td>0</td>\n      <td>5</td>\n      <td>0</td>\n      <td>1</td>\n      <td>15</td>\n      <td>10.0</td>\n      <td>1</td>\n      <td>Black</td>\n      <td>0</td>\n    </tr>\n    <tr>\n      <th>19</th>\n      <td>20</td>\n      <td>Nick</td>\n      <td>Advertising</td>\n      <td>freshman</td>\n      <td>dogs</td>\n      <td>1</td>\n      <td>10.0</td>\n      <td>Mac &amp; Cheese</td>\n      <td>blue</td>\n      <td>iPhone</td>\n      <td>...</td>\n      <td>McDonald's</td>\n      <td>3</td>\n      <td>12</td>\n      <td>1</td>\n      <td>0</td>\n      <td>15</td>\n      <td>8.0</td>\n      <td>2</td>\n      <td>brown</td>\n      <td>72</td>\n    </tr>\n    <tr>\n      <th>9</th>\n      <td>10</td>\n      <td>Kelly</td>\n      <td>Computer Scinece</td>\n      <td>super senior</td>\n      <td>Cats</td>\n      <td>0</td>\n      <td>7.0</td>\n      <td>Guacamole</td>\n      <td>Purple</td>\n      <td>iPhone</td>\n      <td>...</td>\n      <td>McDonald's</td>\n      <td>4</td>\n      <td>2</td>\n      <td>0.5</td>\n      <td>5</td>\n      <td>12</td>\n      <td>10.0</td>\n      <td>3</td>\n      <td>Hazel</td>\n      <td>65</td>\n    </tr>\n    <tr>\n      <th>4</th>\n      <td>5</td>\n      <td>Gabby</td>\n      <td>Undeclared</td>\n      <td>Sophomore</td>\n      <td>Dogs</td>\n      <td>1</td>\n      <td>8.5</td>\n      <td>Ribs</td>\n      <td>Periwinkle</td>\n      <td>iPhone</td>\n      <td>...</td>\n      <td>Neither</td>\n      <td>3</td>\n      <td>12</td>\n      <td>2</td>\n      <td>0</td>\n      <td>17</td>\n      <td>10.5</td>\n      <td>1</td>\n      <td>Brown &amp; Green</td>\n      <td>64</td>\n    </tr>\n    <tr>\n      <th>10</th>\n      <td>11</td>\n      <td>Ali</td>\n      <td>Undeclared</td>\n      <td>Sophomore</td>\n      <td>Dogs</td>\n      <td>2</td>\n      <td>9.0</td>\n      <td>Sushi</td>\n      <td>Blue</td>\n      <td>iPhone</td>\n      <td>...</td>\n      <td>Burger King</td>\n      <td>0</td>\n      <td>2</td>\n      <td>0</td>\n      <td>1</td>\n      <td>15</td>\n      <td>10.0</td>\n      <td>2</td>\n      <td>Blue</td>\n      <td>66</td>\n    </tr>\n    <tr>\n      <th>20</th>\n      <td>21</td>\n      <td>Pedro</td>\n      <td>Political Science</td>\n      <td>Sophmore</td>\n      <td>Dogs</td>\n      <td>1</td>\n      <td>13.0</td>\n      <td>BBQ Ribs</td>\n      <td>grey</td>\n      <td>Iphone</td>\n      <td>...</td>\n      <td>Burger King</td>\n      <td>0</td>\n      <td>2</td>\n      <td>1</td>\n      <td>0</td>\n      <td>16</td>\n      <td>9.0</td>\n      <td>2</td>\n      <td>Brown</td>\n      <td>74</td>\n    </tr>\n  </tbody>\n</table>\n<p>11 rows × 38 columns</p>\n</div>",
      "text/plain": "    Unnamed: 0    Name             Major?         Year? Cats or Dogs  \\\n21          22    Wade   Computer Scinece           Old         Dogs   \n15          16   Karle         Statistics           Old         Cats   \n11          12  Mariel     Global Studies      Freshman         Dogs   \n16          17    Ming     Econ and Stats     Sophomore         Cats   \n1            2    Bing         Psychology        Junior         Dogs   \n0            1   Jesse         Undeclared      Freshmen         Dogs   \n19          20    Nick        Advertising      freshman         dogs   \n9           10   Kelly   Computer Scinece  super senior         Cats   \n4            5   Gabby         Undeclared     Sophomore         Dogs   \n10          11     Ali         Undeclared     Sophomore         Dogs   \n20          21   Pedro  Political Science      Sophmore         Dogs   \n\n    Siblings?  Shoe Size?     Fav. Food  Fav. Color   Phone.  ...  \\\n21          2        13.0           BBQ      Purple  Android  ...   \n15          2         8.5         Tacos        Pink   iPhone  ...   \n11          1         9.0         sushi        none   iPhone  ...   \n16          1        10.0    KBBQ/Ramen        Blue  Android  ...   \n1           0         5.5  French Fries        Grey   iPhone  ...   \n0           1         9.0          KBBQ        Blue   iPhone  ...   \n19          1        10.0  Mac & Cheese        blue   iPhone  ...   \n9           0         7.0     Guacamole      Purple   iPhone  ...   \n4           1         8.5          Ribs  Periwinkle   iPhone  ...   \n10          2         9.0         Sushi        Blue   iPhone  ...   \n20          1        13.0      BBQ Ribs        grey   Iphone  ...   \n\n   McDonald's or Burger King Gym Per Week Birth Month STAT at UIUC  \\\n21                      MCDs            0          11            0   \n15                   Neither            3          10          20+   \n11                   Neither            4          10            1   \n16                 McDonalds            0           7            2   \n1                McDonald's             2           5            2   \n0                 McDonald's            0           5            0   \n19                McDonald's            3          12            1   \n9                 McDonald's            4           2          0.5   \n4                    Neither            3          12            2   \n10               Burger King            0           2            0   \n20               Burger King            0           2            1   \n\n   Programming at UIUC Credit Hours? Ideal Sleep Hours Eat Out Per Week  \\\n21                   5            13               8.0                2   \n15                   1             4              10.0                3   \n11                   0            17              10.0                3   \n16                   1            18              10.0            3-Feb   \n1                    0            22               6.0                3   \n0                    1            15              10.0                1   \n19                   0            15               8.0                2   \n9                    5            12              10.0                3   \n4                    0            17              10.5                1   \n10                   1            15              10.0                2   \n20                   0            16               9.0                2   \n\n        Eye Color Height  \n21          Brown     77  \n15          Green     70  \n11          Brown     67  \n16          Brown     70  \n1           Brown     60  \n0           Black      0  \n19          brown     72  \n9           Hazel     65  \n4   Brown & Green     64  \n10           Blue     66  \n20          Brown     74  \n\n[11 rows x 38 columns]"
     },
     "execution_count": 17,
     "metadata": {},
     "output_type": "execute_result"
    }
   ],
   "source": [
    "# Assign the 11 people into the control group Using *randomization*\n",
    "control_random = df.sample(11)\n",
    "control_random"
   ]
  },
  {
   "cell_type": "code",
   "execution_count": 18,
   "metadata": {
    "nbgrader": {
     "grade": true,
     "grade_id": "cell-65c20ceb98d1c417",
     "locked": true,
     "points": 1,
     "schema_version": 3,
     "solution": false
    }
   },
   "outputs": [
    {
     "name": "stdout",
     "output_type": "stream",
     "text": [
      "🎉 All tests passed! 🎉\n",
      "\n"
     ]
    }
   ],
   "source": [
    "### == TEST CASES for Puzzle 2.1. ==\n",
    "# - This read-only cell contains test cases for your previous cell.\n",
    "# - If this cell runs without any error our output, you PASSED all test cases!\n",
    "# - If this cell results in any errors, check you previous cell, make changes, and RE-RUN your code and then this cell.\n",
    "assert(len(control_random) == 11), \"The control group does not appear to have correctly chosen\"\n",
    "\n",
    "## == SUCCESS MESSAGE ==\n",
    "# You will only see this message (with the emoji showing) if you passed all test cases:\n",
    "tada = \"\\N{PARTY POPPER}\"\n",
    "print(f\"{tada} All tests passed! {tada}\")\n",
    "print()"
   ]
  },
  {
   "cell_type": "code",
   "execution_count": 19,
   "metadata": {
    "nbgrader": {
     "grade": false,
     "grade_id": "cell-aef45ab54ed279f2",
     "locked": false,
     "schema_version": 3,
     "solution": true
    }
   },
   "outputs": [
    {
     "data": {
      "text/html": "<div>\n<style scoped>\n    .dataframe tbody tr th:only-of-type {\n        vertical-align: middle;\n    }\n\n    .dataframe tbody tr th {\n        vertical-align: top;\n    }\n\n    .dataframe thead th {\n        text-align: right;\n    }\n</style>\n<table border=\"1\" class=\"dataframe\">\n  <thead>\n    <tr style=\"text-align: right;\">\n      <th></th>\n      <th>Unnamed: 0</th>\n      <th>Name</th>\n      <th>Major?</th>\n      <th>Year?</th>\n      <th>Cats or Dogs</th>\n      <th>Siblings?</th>\n      <th>Shoe Size?</th>\n      <th>Fav. Food</th>\n      <th>Fav. Color</th>\n      <th>Phone.</th>\n      <th>...</th>\n      <th>McDonald's or Burger King</th>\n      <th>Gym Per Week</th>\n      <th>Birth Month</th>\n      <th>STAT at UIUC</th>\n      <th>Programming at UIUC</th>\n      <th>Credit Hours?</th>\n      <th>Ideal Sleep Hours</th>\n      <th>Eat Out Per Week</th>\n      <th>Eye Color</th>\n      <th>Height</th>\n    </tr>\n  </thead>\n  <tbody>\n    <tr>\n      <th>2</th>\n      <td>3</td>\n      <td>Jiayi</td>\n      <td>psychology</td>\n      <td>freshman</td>\n      <td>cats</td>\n      <td>0</td>\n      <td>7.0</td>\n      <td>hotpot</td>\n      <td>blue</td>\n      <td>iphone</td>\n      <td>...</td>\n      <td>neither</td>\n      <td>0</td>\n      <td>1</td>\n      <td>0</td>\n      <td>0</td>\n      <td>17</td>\n      <td>7.0</td>\n      <td>2</td>\n      <td>black</td>\n      <td>63</td>\n    </tr>\n    <tr>\n      <th>3</th>\n      <td>4</td>\n      <td>Tamun</td>\n      <td>Psychology</td>\n      <td>Freshman</td>\n      <td>dogs</td>\n      <td>1</td>\n      <td>8.0</td>\n      <td>Indian Food</td>\n      <td>Seafoam green</td>\n      <td>iPhone</td>\n      <td>...</td>\n      <td>McDonalds</td>\n      <td>4</td>\n      <td>12</td>\n      <td>1</td>\n      <td>0</td>\n      <td>18</td>\n      <td>8.0</td>\n      <td>3</td>\n      <td>Brown</td>\n      <td>63</td>\n    </tr>\n    <tr>\n      <th>5</th>\n      <td>6</td>\n      <td>Cecilia</td>\n      <td>Agricultural Consumer Economics</td>\n      <td>Junior</td>\n      <td>Dogs</td>\n      <td>1</td>\n      <td>7.5</td>\n      <td>Brownie</td>\n      <td>White</td>\n      <td>Iphone</td>\n      <td>...</td>\n      <td>McDonald's</td>\n      <td>0</td>\n      <td>2</td>\n      <td>1</td>\n      <td>0</td>\n      <td>15</td>\n      <td>8.0</td>\n      <td>4</td>\n      <td>Black</td>\n      <td>64</td>\n    </tr>\n    <tr>\n      <th>6</th>\n      <td>7</td>\n      <td>Jasmine</td>\n      <td>MCB</td>\n      <td>Sophomore</td>\n      <td>Dogs</td>\n      <td>2</td>\n      <td>8.0</td>\n      <td>sushi</td>\n      <td>grey</td>\n      <td>iphone</td>\n      <td>...</td>\n      <td>McDonalds</td>\n      <td>0</td>\n      <td>1</td>\n      <td>0</td>\n      <td>0</td>\n      <td>18</td>\n      <td>7.0</td>\n      <td>3</td>\n      <td>brown</td>\n      <td>64</td>\n    </tr>\n    <tr>\n      <th>7</th>\n      <td>8</td>\n      <td>Pavitra</td>\n      <td>Ag Consumer Econ</td>\n      <td>Junior</td>\n      <td>Dogs</td>\n      <td>0</td>\n      <td>7.5</td>\n      <td>mac and cheese</td>\n      <td>purple</td>\n      <td>iphone</td>\n      <td>...</td>\n      <td>mcdonalds</td>\n      <td>5</td>\n      <td>9</td>\n      <td>2</td>\n      <td>1</td>\n      <td>16</td>\n      <td>8.0</td>\n      <td>2</td>\n      <td>brown</td>\n      <td>65</td>\n    </tr>\n    <tr>\n      <th>8</th>\n      <td>9</td>\n      <td>Brian</td>\n      <td>Chemistry</td>\n      <td>Sophomore</td>\n      <td>Dogs</td>\n      <td>1</td>\n      <td>9.5</td>\n      <td>Tacos</td>\n      <td>Gold</td>\n      <td>IPhone</td>\n      <td>...</td>\n      <td>McDonalds</td>\n      <td>0</td>\n      <td>6</td>\n      <td>0</td>\n      <td>0</td>\n      <td>16</td>\n      <td>7.0</td>\n      <td>2</td>\n      <td>Brown</td>\n      <td>65</td>\n    </tr>\n    <tr>\n      <th>12</th>\n      <td>13</td>\n      <td>April</td>\n      <td>Human Nutrition</td>\n      <td>Senior</td>\n      <td>Dogs</td>\n      <td>0</td>\n      <td>6.5</td>\n      <td>Hotpot</td>\n      <td>Blue</td>\n      <td>iPhone</td>\n      <td>...</td>\n      <td>Neither</td>\n      <td>2</td>\n      <td>9</td>\n      <td>0</td>\n      <td>0</td>\n      <td>22</td>\n      <td>8.0</td>\n      <td>3</td>\n      <td>Black</td>\n      <td>67</td>\n    </tr>\n    <tr>\n      <th>13</th>\n      <td>14</td>\n      <td>Dean</td>\n      <td>Economics</td>\n      <td>Sophomore</td>\n      <td>Dogs</td>\n      <td>1</td>\n      <td>7.5</td>\n      <td>Ramen</td>\n      <td>Green</td>\n      <td>Android</td>\n      <td>...</td>\n      <td>McDonald's</td>\n      <td>0</td>\n      <td>3</td>\n      <td>1</td>\n      <td>0</td>\n      <td>16</td>\n      <td>10.0</td>\n      <td>4</td>\n      <td>Brown</td>\n      <td>68</td>\n    </tr>\n    <tr>\n      <th>14</th>\n      <td>15</td>\n      <td>Hermon</td>\n      <td>MCB</td>\n      <td>senior</td>\n      <td>Dogs</td>\n      <td>1</td>\n      <td>10.0</td>\n      <td>Burrito</td>\n      <td>Red</td>\n      <td>iPhone</td>\n      <td>...</td>\n      <td>McDees</td>\n      <td>0</td>\n      <td>4</td>\n      <td>2</td>\n      <td>0</td>\n      <td>16</td>\n      <td>7.0</td>\n      <td>~4</td>\n      <td>Brown</td>\n      <td>68</td>\n    </tr>\n    <tr>\n      <th>17</th>\n      <td>18</td>\n      <td>David</td>\n      <td>Kinesiology</td>\n      <td>Sophomore</td>\n      <td>Cats</td>\n      <td>2</td>\n      <td>10.0</td>\n      <td>Pizza</td>\n      <td>Purple</td>\n      <td>iPhone</td>\n      <td>...</td>\n      <td>neither</td>\n      <td>3</td>\n      <td>7</td>\n      <td>1</td>\n      <td>0</td>\n      <td>16</td>\n      <td>7.0</td>\n      <td>0</td>\n      <td>Grey</td>\n      <td>70</td>\n    </tr>\n    <tr>\n      <th>18</th>\n      <td>19</td>\n      <td>Omri</td>\n      <td>Lighting Design &amp; Technology</td>\n      <td>Junior</td>\n      <td>Dogs</td>\n      <td>1</td>\n      <td>10.0</td>\n      <td>Pasta</td>\n      <td>Blue</td>\n      <td>iPhone</td>\n      <td>...</td>\n      <td>McDonald's</td>\n      <td>3</td>\n      <td>9</td>\n      <td>1</td>\n      <td>0</td>\n      <td>20</td>\n      <td>8.0</td>\n      <td>3</td>\n      <td>Brown</td>\n      <td>70</td>\n    </tr>\n  </tbody>\n</table>\n<p>11 rows × 38 columns</p>\n</div>",
      "text/plain": "    Unnamed: 0     Name                           Major?      Year?  \\\n2            3   Jiayi                        psychology   freshman   \n3            4    Tamun                       Psychology   Freshman   \n5            6  Cecilia  Agricultural Consumer Economics     Junior   \n6            7  Jasmine                              MCB  Sophomore   \n7            8  Pavitra                 Ag Consumer Econ     Junior   \n8            9    Brian                        Chemistry  Sophomore   \n12          13    April                  Human Nutrition     Senior   \n13          14     Dean                        Economics  Sophomore   \n14          15   Hermon                              MCB    senior    \n17          18    David                      Kinesiology  Sophomore   \n18          19     Omri     Lighting Design & Technology     Junior   \n\n   Cats or Dogs  Siblings?  Shoe Size?       Fav. Food     Fav. Color  \\\n2          cats          0         7.0          hotpot           blue   \n3          dogs          1         8.0     Indian Food  Seafoam green   \n5          Dogs          1         7.5         Brownie          White   \n6          Dogs          2         8.0           sushi           grey   \n7          Dogs          0         7.5  mac and cheese         purple   \n8          Dogs          1         9.5           Tacos           Gold   \n12         Dogs          0         6.5          Hotpot           Blue   \n13         Dogs          1         7.5           Ramen          Green   \n14         Dogs          1        10.0         Burrito            Red   \n17         Cats          2        10.0           Pizza         Purple   \n18         Dogs          1        10.0           Pasta           Blue   \n\n     Phone.  ... McDonald's or Burger King Gym Per Week Birth Month  \\\n2    iphone  ...                   neither            0           1   \n3    iPhone  ...                 McDonalds            4          12   \n5    Iphone  ...                McDonald's            0           2   \n6    iphone  ...                 McDonalds            0           1   \n7    iphone  ...                 mcdonalds            5           9   \n8    IPhone  ...                 McDonalds            0           6   \n12   iPhone  ...                   Neither            2           9   \n13  Android  ...                McDonald's            0           3   \n14  iPhone   ...                    McDees            0           4   \n17   iPhone  ...                   neither            3           7   \n18   iPhone  ...                McDonald's            3           9   \n\n   STAT at UIUC Programming at UIUC Credit Hours? Ideal Sleep Hours  \\\n2             0                   0            17               7.0   \n3             1                   0            18               8.0   \n5             1                   0            15               8.0   \n6             0                   0            18               7.0   \n7             2                   1            16               8.0   \n8             0                   0            16               7.0   \n12            0                   0            22               8.0   \n13            1                   0            16              10.0   \n14            2                   0            16               7.0   \n17            1                   0            16               7.0   \n18            1                   0            20               8.0   \n\n   Eat Out Per Week Eye Color Height  \n2                 2     black     63  \n3                 3     Brown     63  \n5                 4     Black     64  \n6                 3     brown     64  \n7                 2     brown     65  \n8                 2     Brown     65  \n12                3     Black     67  \n13                4     Brown     68  \n14               ~4     Brown     68  \n17                0      Grey     70  \n18                3     Brown     70  \n\n[11 rows x 38 columns]"
     },
     "execution_count": 19,
     "metadata": {},
     "output_type": "execute_result"
    }
   ],
   "source": [
    "# Assign the rest of people into the control group Using *randomization*\n",
    "treatment_random = df.drop(control_random.index)\n",
    "treatment_random"
   ]
  },
  {
   "cell_type": "code",
   "execution_count": 20,
   "metadata": {
    "nbgrader": {
     "grade": true,
     "grade_id": "cell-32701da0406d2b03",
     "locked": true,
     "points": 1,
     "schema_version": 3,
     "solution": false
    }
   },
   "outputs": [
    {
     "name": "stdout",
     "output_type": "stream",
     "text": [
      "🎉 All tests passed! 🎉\n",
      "\n"
     ]
    }
   ],
   "source": [
    "### == TEST CASES for Puzzle 2.1. ==\n",
    "# - This read-only cell contains test cases for your previous cell.\n",
    "# - If this cell runs without any error our output, you PASSED all test cases!\n",
    "# - If this cell results in any errors, check you previous cell, make changes, and RE-RUN your code and then this cell.\n",
    "assert(len(treatment_random) == 11), \"The control group does not appear to have correctly chosen\"\n",
    "for x in treatment_random[\"Name\"]:\n",
    "    a = (len(control_random[control_random['Name'].str.contains(str(x))])==0)\n",
    "assert(a), \"The treatment group does not appear to have correctly chosen\"\n",
    "\n",
    "## == SUCCESS MESSAGE ==\n",
    "# You will only see this message (with the emoji showing) if you passed all test cases:\n",
    "tada = \"\\N{PARTY POPPER}\"\n",
    "print(f\"{tada} All tests passed! {tada}\")\n",
    "print()"
   ]
  },
  {
   "cell_type": "markdown",
   "metadata": {},
   "source": [
    "# SANITY CHECK !!!\n",
    "\n",
    "- **MAKE SURE** that each group has unique people and that no single person is in both groups.\n",
    "\n",
    "### Puzzle 2.2: Finding Mean Shoe Sizes <a id='p22'></a> ([back to toc](#toc))\n",
    "Now again try to find and `print` the average shoe size of the **randomized** control *and* **randomized** treatment groups."
   ]
  },
  {
   "cell_type": "code",
   "execution_count": 24,
   "metadata": {
    "nbgrader": {
     "grade": false,
     "grade_id": "cell-2f24cc7c37a32865",
     "locked": false,
     "schema_version": 3,
     "solution": true
    }
   },
   "outputs": [
    {
     "name": "stdout",
     "output_type": "stream",
     "text": [
      "9.318181818181818\n",
      "8.318181818181818\n"
     ]
    }
   ],
   "source": [
    "# Assign the average shoe size of control group\n",
    "control_random_shoe_mean= control_random[\"Shoe Size?\"].mean()\n",
    "# Print the control_shoe_mean\n",
    "print(control_random_shoe_mean)\n",
    "\n",
    "# Assign the average shoe size of treatment group\n",
    "treatment_random_shoe_mean = treatment_random[\"Shoe Size?\"].mean()\n",
    "# Print the treatment_shoe_mean\n",
    "print(treatment_random_shoe_mean)"
   ]
  },
  {
   "cell_type": "code",
   "execution_count": 25,
   "metadata": {
    "nbgrader": {
     "grade": true,
     "grade_id": "cell-0844e683b4ae0313",
     "locked": true,
     "points": 1,
     "schema_version": 3,
     "solution": false
    }
   },
   "outputs": [
    {
     "name": "stdout",
     "output_type": "stream",
     "text": [
      "🎉 All tests passed! 🎉\n",
      "\n"
     ]
    }
   ],
   "source": [
    "### == TEST CASES for Puzzle 2.2 ==\n",
    "# - This read-only cell contains test cases for your previous cell.\n",
    "# - If this cell runs without any error our output, you PASSED all test cases!\n",
    "# - If this cell results in any errors, check you previous cell, make changes, and RE-RUN your code and then this cell.\n",
    "\n",
    "assert(control_random_shoe_mean == control_random['Shoe Size?'].mean()), \"The average shoe size of your control group does not appear to seem correct. Make sure you are taking mean of the correct variable.\"\n",
    "assert(treatment_random_shoe_mean == treatment_random['Shoe Size?'].mean()), \"The average shoe size of your treatment group does not appear to seem correct. Make sure you are taking mean of the correct variable.\"\n",
    "\n",
    "## == SUCCESS MESSAGE ==\n",
    "# You will only see this message (with the emoji showing) if you passed all test cases:\n",
    "tada = \"\\N{PARTY POPPER}\"\n",
    "print(f\"{tada} All tests passed! {tada}\")\n",
    "print()"
   ]
  },
  {
   "cell_type": "markdown",
   "metadata": {},
   "source": [
    "### Puzzle 2.3: ❓Individual Reflection❓ <a id='p23'></a> ([back to toc](#toc))\n",
    "Do you think this is the best way to decide who is in the treatment and control groups? Why or why not?"
   ]
  },
  {
   "cell_type": "markdown",
   "metadata": {},
   "source": [
    "***Type your answer here.***  No because we use blocking"
   ]
  },
  {
   "cell_type": "markdown",
   "metadata": {},
   "source": [
    "## Puzzle 3: Blocking!\n",
    "\n",
    "Taylor's BFF, Karle, took many stats courses in college and is confident that, with such a small sample, you need to block the participants before randomly assigning them to the groups to ensure the groups are as *alike* as possible. With small samples, accidental differences can occur even if we randomly divide participants!\n",
    "\n",
    "### Puzzle 3.1: ❓Group Discussion❓ <a id='p31'></a> ([back to toc](#toc))\n",
    "\n",
    "Run `df.columns` to view all the columns in our dataset. What variable do you think you should block on?  In other words, what variable do you think will influence the response the most? Identify some possible variables and discuss with your group how they could affect the conclusion of the experiment."
   ]
  },
  {
   "cell_type": "code",
   "execution_count": 27,
   "metadata": {},
   "outputs": [
    {
     "data": {
      "text/plain": "Index(['Unnamed: 0', 'Name', 'Major?', 'Year?', 'Cats or Dogs', 'Siblings?',\n       'Shoe Size?', 'Fav. Food', 'Fav. Color', 'Phone.', 'Mac or PC?',\n       'Travel', 'Fav. Subject', 'Crocs?', 'Musical Artist',\n       'Pancakes or Waffles', 'Fav. Animal', 'Fav. Car', 'Do You Cook?',\n       'Marvel or DC?', 'Fav. Movie', 'Airpods', 'Instrument',\n       'Fav. Store IRL', 'Pepsi or Coke', 'The Dress', 'Fav. Restaurant',\n       'Least Fav. Subjest', 'McDonald's or Burger King', 'Gym Per Week',\n       'Birth Month', 'STAT at UIUC', 'Programming at UIUC', 'Credit Hours?',\n       'Ideal Sleep Hours', 'Eat Out Per Week', 'Eye Color', 'Height'],\n      dtype='object')"
     },
     "execution_count": 27,
     "metadata": {},
     "output_type": "execute_result"
    }
   ],
   "source": [
    "df.columns"
   ]
  },
  {
   "cell_type": "markdown",
   "metadata": {},
   "source": [
    "***Type your answer here.***"
   ]
  },
  {
   "cell_type": "markdown",
   "metadata": {},
   "source": [
    "### Puzzle 3.2: Creating `block1` and `block2` <a id='p32'></a> ([back to toc](#toc))\n",
    "\n",
    "Blocking is just dividing subjects into groups based on a certain variable. We block before randomized controlled experiments. You can block based on multiple variables, but today we just want you to pick one. This is subjective, but we are going to use Height (measured in feet + inches) in this lab. This variable is called: `Height`.\n",
    "\n",
    "In our dataset, we have two blocks (or groups) that we can name `block1` and `block2`. Create DataFrames `block1` and `block2` that contain data based on our blocking condition. Remember for this lab, we will use **Height** as the blocking condition. Use Python to create `block1` that contains the students who have a *Height* greater than 65. And create `block2` that contains students who have a *Height* less than or equal to 65.\n",
    "\n",
    "\n",
    "*You should use a different cell for `block1` and `block2`.*"
   ]
  },
  {
   "cell_type": "code",
   "execution_count": 28,
   "metadata": {
    "nbgrader": {
     "grade": false,
     "grade_id": "cell-7c9dd485b935ac9c",
     "locked": false,
     "schema_version": 3,
     "solution": true
    }
   },
   "outputs": [
    {
     "data": {
      "text/html": "<div>\n<style scoped>\n    .dataframe tbody tr th:only-of-type {\n        vertical-align: middle;\n    }\n\n    .dataframe tbody tr th {\n        vertical-align: top;\n    }\n\n    .dataframe thead th {\n        text-align: right;\n    }\n</style>\n<table border=\"1\" class=\"dataframe\">\n  <thead>\n    <tr style=\"text-align: right;\">\n      <th></th>\n      <th>Unnamed: 0</th>\n      <th>Name</th>\n      <th>Major?</th>\n      <th>Year?</th>\n      <th>Cats or Dogs</th>\n      <th>Siblings?</th>\n      <th>Shoe Size?</th>\n      <th>Fav. Food</th>\n      <th>Fav. Color</th>\n      <th>Phone.</th>\n      <th>...</th>\n      <th>McDonald's or Burger King</th>\n      <th>Gym Per Week</th>\n      <th>Birth Month</th>\n      <th>STAT at UIUC</th>\n      <th>Programming at UIUC</th>\n      <th>Credit Hours?</th>\n      <th>Ideal Sleep Hours</th>\n      <th>Eat Out Per Week</th>\n      <th>Eye Color</th>\n      <th>Height</th>\n    </tr>\n  </thead>\n  <tbody>\n    <tr>\n      <th>10</th>\n      <td>11</td>\n      <td>Ali</td>\n      <td>Undeclared</td>\n      <td>Sophomore</td>\n      <td>Dogs</td>\n      <td>2</td>\n      <td>9.0</td>\n      <td>Sushi</td>\n      <td>Blue</td>\n      <td>iPhone</td>\n      <td>...</td>\n      <td>Burger King</td>\n      <td>0</td>\n      <td>2</td>\n      <td>0</td>\n      <td>1</td>\n      <td>15</td>\n      <td>10.0</td>\n      <td>2</td>\n      <td>Blue</td>\n      <td>66</td>\n    </tr>\n    <tr>\n      <th>11</th>\n      <td>12</td>\n      <td>Mariel</td>\n      <td>Global Studies</td>\n      <td>Freshman</td>\n      <td>Dogs</td>\n      <td>1</td>\n      <td>9.0</td>\n      <td>sushi</td>\n      <td>none</td>\n      <td>iPhone</td>\n      <td>...</td>\n      <td>Neither</td>\n      <td>4</td>\n      <td>10</td>\n      <td>1</td>\n      <td>0</td>\n      <td>17</td>\n      <td>10.0</td>\n      <td>3</td>\n      <td>Brown</td>\n      <td>67</td>\n    </tr>\n    <tr>\n      <th>12</th>\n      <td>13</td>\n      <td>April</td>\n      <td>Human Nutrition</td>\n      <td>Senior</td>\n      <td>Dogs</td>\n      <td>0</td>\n      <td>6.5</td>\n      <td>Hotpot</td>\n      <td>Blue</td>\n      <td>iPhone</td>\n      <td>...</td>\n      <td>Neither</td>\n      <td>2</td>\n      <td>9</td>\n      <td>0</td>\n      <td>0</td>\n      <td>22</td>\n      <td>8.0</td>\n      <td>3</td>\n      <td>Black</td>\n      <td>67</td>\n    </tr>\n    <tr>\n      <th>13</th>\n      <td>14</td>\n      <td>Dean</td>\n      <td>Economics</td>\n      <td>Sophomore</td>\n      <td>Dogs</td>\n      <td>1</td>\n      <td>7.5</td>\n      <td>Ramen</td>\n      <td>Green</td>\n      <td>Android</td>\n      <td>...</td>\n      <td>McDonald's</td>\n      <td>0</td>\n      <td>3</td>\n      <td>1</td>\n      <td>0</td>\n      <td>16</td>\n      <td>10.0</td>\n      <td>4</td>\n      <td>Brown</td>\n      <td>68</td>\n    </tr>\n    <tr>\n      <th>14</th>\n      <td>15</td>\n      <td>Hermon</td>\n      <td>MCB</td>\n      <td>senior</td>\n      <td>Dogs</td>\n      <td>1</td>\n      <td>10.0</td>\n      <td>Burrito</td>\n      <td>Red</td>\n      <td>iPhone</td>\n      <td>...</td>\n      <td>McDees</td>\n      <td>0</td>\n      <td>4</td>\n      <td>2</td>\n      <td>0</td>\n      <td>16</td>\n      <td>7.0</td>\n      <td>~4</td>\n      <td>Brown</td>\n      <td>68</td>\n    </tr>\n    <tr>\n      <th>15</th>\n      <td>16</td>\n      <td>Karle</td>\n      <td>Statistics</td>\n      <td>Old</td>\n      <td>Cats</td>\n      <td>2</td>\n      <td>8.5</td>\n      <td>Tacos</td>\n      <td>Pink</td>\n      <td>iPhone</td>\n      <td>...</td>\n      <td>Neither</td>\n      <td>3</td>\n      <td>10</td>\n      <td>20+</td>\n      <td>1</td>\n      <td>4</td>\n      <td>10.0</td>\n      <td>3</td>\n      <td>Green</td>\n      <td>70</td>\n    </tr>\n    <tr>\n      <th>16</th>\n      <td>17</td>\n      <td>Ming</td>\n      <td>Econ and Stats</td>\n      <td>Sophomore</td>\n      <td>Cats</td>\n      <td>1</td>\n      <td>10.0</td>\n      <td>KBBQ/Ramen</td>\n      <td>Blue</td>\n      <td>Android</td>\n      <td>...</td>\n      <td>McDonalds</td>\n      <td>0</td>\n      <td>7</td>\n      <td>2</td>\n      <td>1</td>\n      <td>18</td>\n      <td>10.0</td>\n      <td>3-Feb</td>\n      <td>Brown</td>\n      <td>70</td>\n    </tr>\n    <tr>\n      <th>17</th>\n      <td>18</td>\n      <td>David</td>\n      <td>Kinesiology</td>\n      <td>Sophomore</td>\n      <td>Cats</td>\n      <td>2</td>\n      <td>10.0</td>\n      <td>Pizza</td>\n      <td>Purple</td>\n      <td>iPhone</td>\n      <td>...</td>\n      <td>neither</td>\n      <td>3</td>\n      <td>7</td>\n      <td>1</td>\n      <td>0</td>\n      <td>16</td>\n      <td>7.0</td>\n      <td>0</td>\n      <td>Grey</td>\n      <td>70</td>\n    </tr>\n    <tr>\n      <th>18</th>\n      <td>19</td>\n      <td>Omri</td>\n      <td>Lighting Design &amp; Technology</td>\n      <td>Junior</td>\n      <td>Dogs</td>\n      <td>1</td>\n      <td>10.0</td>\n      <td>Pasta</td>\n      <td>Blue</td>\n      <td>iPhone</td>\n      <td>...</td>\n      <td>McDonald's</td>\n      <td>3</td>\n      <td>9</td>\n      <td>1</td>\n      <td>0</td>\n      <td>20</td>\n      <td>8.0</td>\n      <td>3</td>\n      <td>Brown</td>\n      <td>70</td>\n    </tr>\n    <tr>\n      <th>19</th>\n      <td>20</td>\n      <td>Nick</td>\n      <td>Advertising</td>\n      <td>freshman</td>\n      <td>dogs</td>\n      <td>1</td>\n      <td>10.0</td>\n      <td>Mac &amp; Cheese</td>\n      <td>blue</td>\n      <td>iPhone</td>\n      <td>...</td>\n      <td>McDonald's</td>\n      <td>3</td>\n      <td>12</td>\n      <td>1</td>\n      <td>0</td>\n      <td>15</td>\n      <td>8.0</td>\n      <td>2</td>\n      <td>brown</td>\n      <td>72</td>\n    </tr>\n    <tr>\n      <th>20</th>\n      <td>21</td>\n      <td>Pedro</td>\n      <td>Political Science</td>\n      <td>Sophmore</td>\n      <td>Dogs</td>\n      <td>1</td>\n      <td>13.0</td>\n      <td>BBQ Ribs</td>\n      <td>grey</td>\n      <td>Iphone</td>\n      <td>...</td>\n      <td>Burger King</td>\n      <td>0</td>\n      <td>2</td>\n      <td>1</td>\n      <td>0</td>\n      <td>16</td>\n      <td>9.0</td>\n      <td>2</td>\n      <td>Brown</td>\n      <td>74</td>\n    </tr>\n    <tr>\n      <th>21</th>\n      <td>22</td>\n      <td>Wade</td>\n      <td>Computer Scinece</td>\n      <td>Old</td>\n      <td>Dogs</td>\n      <td>2</td>\n      <td>13.0</td>\n      <td>BBQ</td>\n      <td>Purple</td>\n      <td>Android</td>\n      <td>...</td>\n      <td>MCDs</td>\n      <td>0</td>\n      <td>11</td>\n      <td>0</td>\n      <td>5</td>\n      <td>13</td>\n      <td>8.0</td>\n      <td>2</td>\n      <td>Brown</td>\n      <td>77</td>\n    </tr>\n  </tbody>\n</table>\n<p>12 rows × 38 columns</p>\n</div>",
      "text/plain": "    Unnamed: 0    Name                        Major?      Year? Cats or Dogs  \\\n10          11     Ali                    Undeclared  Sophomore         Dogs   \n11          12  Mariel                Global Studies   Freshman         Dogs   \n12          13   April               Human Nutrition     Senior         Dogs   \n13          14    Dean                     Economics  Sophomore         Dogs   \n14          15  Hermon                           MCB    senior          Dogs   \n15          16   Karle                    Statistics        Old         Cats   \n16          17    Ming                Econ and Stats  Sophomore         Cats   \n17          18   David                   Kinesiology  Sophomore         Cats   \n18          19    Omri  Lighting Design & Technology     Junior         Dogs   \n19          20    Nick                   Advertising   freshman         dogs   \n20          21   Pedro             Political Science   Sophmore         Dogs   \n21          22    Wade              Computer Scinece        Old         Dogs   \n\n    Siblings?  Shoe Size?     Fav. Food Fav. Color   Phone.  ...  \\\n10          2         9.0         Sushi       Blue   iPhone  ...   \n11          1         9.0         sushi       none   iPhone  ...   \n12          0         6.5        Hotpot       Blue   iPhone  ...   \n13          1         7.5         Ramen      Green  Android  ...   \n14          1        10.0       Burrito        Red  iPhone   ...   \n15          2         8.5         Tacos       Pink   iPhone  ...   \n16          1        10.0    KBBQ/Ramen       Blue  Android  ...   \n17          2        10.0         Pizza     Purple   iPhone  ...   \n18          1        10.0         Pasta       Blue   iPhone  ...   \n19          1        10.0  Mac & Cheese       blue   iPhone  ...   \n20          1        13.0      BBQ Ribs       grey   Iphone  ...   \n21          2        13.0           BBQ     Purple  Android  ...   \n\n   McDonald's or Burger King Gym Per Week Birth Month STAT at UIUC  \\\n10               Burger King            0           2            0   \n11                   Neither            4          10            1   \n12                   Neither            2           9            0   \n13                McDonald's            0           3            1   \n14                    McDees            0           4            2   \n15                   Neither            3          10          20+   \n16                 McDonalds            0           7            2   \n17                   neither            3           7            1   \n18                McDonald's            3           9            1   \n19                McDonald's            3          12            1   \n20               Burger King            0           2            1   \n21                      MCDs            0          11            0   \n\n   Programming at UIUC Credit Hours? Ideal Sleep Hours Eat Out Per Week  \\\n10                   1            15              10.0                2   \n11                   0            17              10.0                3   \n12                   0            22               8.0                3   \n13                   0            16              10.0                4   \n14                   0            16               7.0               ~4   \n15                   1             4              10.0                3   \n16                   1            18              10.0            3-Feb   \n17                   0            16               7.0                0   \n18                   0            20               8.0                3   \n19                   0            15               8.0                2   \n20                   0            16               9.0                2   \n21                   5            13               8.0                2   \n\n   Eye Color Height  \n10      Blue     66  \n11     Brown     67  \n12     Black     67  \n13     Brown     68  \n14     Brown     68  \n15     Green     70  \n16     Brown     70  \n17      Grey     70  \n18     Brown     70  \n19     brown     72  \n20     Brown     74  \n21     Brown     77  \n\n[12 rows x 38 columns]"
     },
     "execution_count": 28,
     "metadata": {},
     "output_type": "execute_result"
    }
   ],
   "source": [
    "# Create the block1 based on blocking condition\n",
    "block1 = df[df.Height>65]\n",
    "block1"
   ]
  },
  {
   "cell_type": "code",
   "execution_count": 29,
   "metadata": {
    "nbgrader": {
     "grade": true,
     "grade_id": "cell-0a5aba453dc64dba",
     "locked": true,
     "points": 1,
     "schema_version": 3,
     "solution": false
    }
   },
   "outputs": [
    {
     "name": "stdout",
     "output_type": "stream",
     "text": [
      "🎉 All tests passed! 🎉\n",
      "\n"
     ]
    }
   ],
   "source": [
    "## == TEST CASES for Puzzle 3.2 ==\n",
    "# - This read-only cell contains test cases for your previous cell.\n",
    "# - If this cell runs without any error our output, you PASSED all test cases!\n",
    "# - If this cell results in any errors, check you previous cell, make changes, and RE-RUN your code and then this cell.\n",
    "assert(len(block1) == 12), \"The block1 group does not appear to have correctly chosen\"\n",
    "\n",
    "## == SUCCESS MESSAGE ==\n",
    "# You will only see this message (with the emoji showing) if you passed all test cases:\n",
    "tada = \"\\N{PARTY POPPER}\"\n",
    "print(f\"{tada} All tests passed! {tada}\")\n",
    "print()"
   ]
  },
  {
   "cell_type": "code",
   "execution_count": 31,
   "metadata": {
    "nbgrader": {
     "grade": false,
     "grade_id": "cell-ccdae3019435b1e1",
     "locked": false,
     "schema_version": 3,
     "solution": true
    }
   },
   "outputs": [
    {
     "data": {
      "text/html": "<div>\n<style scoped>\n    .dataframe tbody tr th:only-of-type {\n        vertical-align: middle;\n    }\n\n    .dataframe tbody tr th {\n        vertical-align: top;\n    }\n\n    .dataframe thead th {\n        text-align: right;\n    }\n</style>\n<table border=\"1\" class=\"dataframe\">\n  <thead>\n    <tr style=\"text-align: right;\">\n      <th></th>\n      <th>Unnamed: 0</th>\n      <th>Name</th>\n      <th>Major?</th>\n      <th>Year?</th>\n      <th>Cats or Dogs</th>\n      <th>Siblings?</th>\n      <th>Shoe Size?</th>\n      <th>Fav. Food</th>\n      <th>Fav. Color</th>\n      <th>Phone.</th>\n      <th>...</th>\n      <th>McDonald's or Burger King</th>\n      <th>Gym Per Week</th>\n      <th>Birth Month</th>\n      <th>STAT at UIUC</th>\n      <th>Programming at UIUC</th>\n      <th>Credit Hours?</th>\n      <th>Ideal Sleep Hours</th>\n      <th>Eat Out Per Week</th>\n      <th>Eye Color</th>\n      <th>Height</th>\n    </tr>\n  </thead>\n  <tbody>\n    <tr>\n      <th>0</th>\n      <td>1</td>\n      <td>Jesse</td>\n      <td>Undeclared</td>\n      <td>Freshmen</td>\n      <td>Dogs</td>\n      <td>1</td>\n      <td>9.0</td>\n      <td>KBBQ</td>\n      <td>Blue</td>\n      <td>iPhone</td>\n      <td>...</td>\n      <td>McDonald's</td>\n      <td>0</td>\n      <td>5</td>\n      <td>0</td>\n      <td>1</td>\n      <td>15</td>\n      <td>10.0</td>\n      <td>1</td>\n      <td>Black</td>\n      <td>0</td>\n    </tr>\n    <tr>\n      <th>1</th>\n      <td>2</td>\n      <td>Bing</td>\n      <td>Psychology</td>\n      <td>Junior</td>\n      <td>Dogs</td>\n      <td>0</td>\n      <td>5.5</td>\n      <td>French Fries</td>\n      <td>Grey</td>\n      <td>iPhone</td>\n      <td>...</td>\n      <td>McDonald's</td>\n      <td>2</td>\n      <td>5</td>\n      <td>2</td>\n      <td>0</td>\n      <td>22</td>\n      <td>6.0</td>\n      <td>3</td>\n      <td>Brown</td>\n      <td>60</td>\n    </tr>\n    <tr>\n      <th>2</th>\n      <td>3</td>\n      <td>Jiayi</td>\n      <td>psychology</td>\n      <td>freshman</td>\n      <td>cats</td>\n      <td>0</td>\n      <td>7.0</td>\n      <td>hotpot</td>\n      <td>blue</td>\n      <td>iphone</td>\n      <td>...</td>\n      <td>neither</td>\n      <td>0</td>\n      <td>1</td>\n      <td>0</td>\n      <td>0</td>\n      <td>17</td>\n      <td>7.0</td>\n      <td>2</td>\n      <td>black</td>\n      <td>63</td>\n    </tr>\n    <tr>\n      <th>3</th>\n      <td>4</td>\n      <td>Tamun</td>\n      <td>Psychology</td>\n      <td>Freshman</td>\n      <td>dogs</td>\n      <td>1</td>\n      <td>8.0</td>\n      <td>Indian Food</td>\n      <td>Seafoam green</td>\n      <td>iPhone</td>\n      <td>...</td>\n      <td>McDonalds</td>\n      <td>4</td>\n      <td>12</td>\n      <td>1</td>\n      <td>0</td>\n      <td>18</td>\n      <td>8.0</td>\n      <td>3</td>\n      <td>Brown</td>\n      <td>63</td>\n    </tr>\n    <tr>\n      <th>4</th>\n      <td>5</td>\n      <td>Gabby</td>\n      <td>Undeclared</td>\n      <td>Sophomore</td>\n      <td>Dogs</td>\n      <td>1</td>\n      <td>8.5</td>\n      <td>Ribs</td>\n      <td>Periwinkle</td>\n      <td>iPhone</td>\n      <td>...</td>\n      <td>Neither</td>\n      <td>3</td>\n      <td>12</td>\n      <td>2</td>\n      <td>0</td>\n      <td>17</td>\n      <td>10.5</td>\n      <td>1</td>\n      <td>Brown &amp; Green</td>\n      <td>64</td>\n    </tr>\n    <tr>\n      <th>5</th>\n      <td>6</td>\n      <td>Cecilia</td>\n      <td>Agricultural Consumer Economics</td>\n      <td>Junior</td>\n      <td>Dogs</td>\n      <td>1</td>\n      <td>7.5</td>\n      <td>Brownie</td>\n      <td>White</td>\n      <td>Iphone</td>\n      <td>...</td>\n      <td>McDonald's</td>\n      <td>0</td>\n      <td>2</td>\n      <td>1</td>\n      <td>0</td>\n      <td>15</td>\n      <td>8.0</td>\n      <td>4</td>\n      <td>Black</td>\n      <td>64</td>\n    </tr>\n    <tr>\n      <th>6</th>\n      <td>7</td>\n      <td>Jasmine</td>\n      <td>MCB</td>\n      <td>Sophomore</td>\n      <td>Dogs</td>\n      <td>2</td>\n      <td>8.0</td>\n      <td>sushi</td>\n      <td>grey</td>\n      <td>iphone</td>\n      <td>...</td>\n      <td>McDonalds</td>\n      <td>0</td>\n      <td>1</td>\n      <td>0</td>\n      <td>0</td>\n      <td>18</td>\n      <td>7.0</td>\n      <td>3</td>\n      <td>brown</td>\n      <td>64</td>\n    </tr>\n    <tr>\n      <th>7</th>\n      <td>8</td>\n      <td>Pavitra</td>\n      <td>Ag Consumer Econ</td>\n      <td>Junior</td>\n      <td>Dogs</td>\n      <td>0</td>\n      <td>7.5</td>\n      <td>mac and cheese</td>\n      <td>purple</td>\n      <td>iphone</td>\n      <td>...</td>\n      <td>mcdonalds</td>\n      <td>5</td>\n      <td>9</td>\n      <td>2</td>\n      <td>1</td>\n      <td>16</td>\n      <td>8.0</td>\n      <td>2</td>\n      <td>brown</td>\n      <td>65</td>\n    </tr>\n    <tr>\n      <th>8</th>\n      <td>9</td>\n      <td>Brian</td>\n      <td>Chemistry</td>\n      <td>Sophomore</td>\n      <td>Dogs</td>\n      <td>1</td>\n      <td>9.5</td>\n      <td>Tacos</td>\n      <td>Gold</td>\n      <td>IPhone</td>\n      <td>...</td>\n      <td>McDonalds</td>\n      <td>0</td>\n      <td>6</td>\n      <td>0</td>\n      <td>0</td>\n      <td>16</td>\n      <td>7.0</td>\n      <td>2</td>\n      <td>Brown</td>\n      <td>65</td>\n    </tr>\n    <tr>\n      <th>9</th>\n      <td>10</td>\n      <td>Kelly</td>\n      <td>Computer Scinece</td>\n      <td>super senior</td>\n      <td>Cats</td>\n      <td>0</td>\n      <td>7.0</td>\n      <td>Guacamole</td>\n      <td>Purple</td>\n      <td>iPhone</td>\n      <td>...</td>\n      <td>McDonald's</td>\n      <td>4</td>\n      <td>2</td>\n      <td>0.5</td>\n      <td>5</td>\n      <td>12</td>\n      <td>10.0</td>\n      <td>3</td>\n      <td>Hazel</td>\n      <td>65</td>\n    </tr>\n  </tbody>\n</table>\n<p>10 rows × 38 columns</p>\n</div>",
      "text/plain": "   Unnamed: 0     Name                           Major?         Year?  \\\n0           1    Jesse                       Undeclared      Freshmen   \n1           2     Bing                       Psychology        Junior   \n2           3   Jiayi                        psychology      freshman   \n3           4    Tamun                       Psychology      Freshman   \n4           5    Gabby                       Undeclared     Sophomore   \n5           6  Cecilia  Agricultural Consumer Economics        Junior   \n6           7  Jasmine                              MCB     Sophomore   \n7           8  Pavitra                 Ag Consumer Econ        Junior   \n8           9    Brian                        Chemistry     Sophomore   \n9          10    Kelly                 Computer Scinece  super senior   \n\n  Cats or Dogs  Siblings?  Shoe Size?       Fav. Food     Fav. Color  Phone.  \\\n0         Dogs          1         9.0            KBBQ           Blue  iPhone   \n1         Dogs          0         5.5    French Fries           Grey  iPhone   \n2         cats          0         7.0          hotpot           blue  iphone   \n3         dogs          1         8.0     Indian Food  Seafoam green  iPhone   \n4         Dogs          1         8.5            Ribs     Periwinkle  iPhone   \n5         Dogs          1         7.5         Brownie          White  Iphone   \n6         Dogs          2         8.0           sushi           grey  iphone   \n7         Dogs          0         7.5  mac and cheese         purple  iphone   \n8         Dogs          1         9.5           Tacos           Gold  IPhone   \n9         Cats          0         7.0       Guacamole         Purple  iPhone   \n\n   ... McDonald's or Burger King Gym Per Week Birth Month STAT at UIUC  \\\n0  ...                McDonald's            0           5            0   \n1  ...               McDonald's             2           5            2   \n2  ...                   neither            0           1            0   \n3  ...                 McDonalds            4          12            1   \n4  ...                   Neither            3          12            2   \n5  ...                McDonald's            0           2            1   \n6  ...                 McDonalds            0           1            0   \n7  ...                 mcdonalds            5           9            2   \n8  ...                 McDonalds            0           6            0   \n9  ...                McDonald's            4           2          0.5   \n\n  Programming at UIUC Credit Hours? Ideal Sleep Hours Eat Out Per Week  \\\n0                   1            15              10.0                1   \n1                   0            22               6.0                3   \n2                   0            17               7.0                2   \n3                   0            18               8.0                3   \n4                   0            17              10.5                1   \n5                   0            15               8.0                4   \n6                   0            18               7.0                3   \n7                   1            16               8.0                2   \n8                   0            16               7.0                2   \n9                   5            12              10.0                3   \n\n       Eye Color Height  \n0          Black      0  \n1          Brown     60  \n2          black     63  \n3          Brown     63  \n4  Brown & Green     64  \n5          Black     64  \n6          brown     64  \n7          brown     65  \n8          Brown     65  \n9          Hazel     65  \n\n[10 rows x 38 columns]"
     },
     "execution_count": 31,
     "metadata": {},
     "output_type": "execute_result"
    }
   ],
   "source": [
    "block2 = df[df.Height<=65]\n",
    "block2"
   ]
  },
  {
   "cell_type": "code",
   "execution_count": 32,
   "metadata": {
    "nbgrader": {
     "grade": true,
     "grade_id": "cell-74463381acbb7be5",
     "locked": true,
     "points": 1,
     "schema_version": 3,
     "solution": false
    }
   },
   "outputs": [
    {
     "name": "stdout",
     "output_type": "stream",
     "text": [
      "🎉 All tests passed! 🎉\n",
      "\n"
     ]
    }
   ],
   "source": [
    "## == TEST CASES for Puzzle 3.2 ==\n",
    "# - This read-only cell contains test cases for your previous cell.\n",
    "# - If this cell runs without any error our output, you PASSED all test cases!\n",
    "# - If this cell results in any errors, check you previous cell, make changes, and RE-RUN your code and then this cell.\n",
    "\n",
    "assert(len(block2) == 10), \"The block2 group does not appear to have correctly chosen\"\n",
    "\n",
    "## == SUCCESS MESSAGE ==\n",
    "# You will only see this message (with the emoji showing) if you passed all test cases:\n",
    "tada = \"\\N{PARTY POPPER}\"\n",
    "print(f\"{tada} All tests passed! {tada}\")\n",
    "print()"
   ]
  },
  {
   "cell_type": "markdown",
   "metadata": {},
   "source": [
    "### Puzzle 3.3:  Creating The Final Treatment and Control Groups <a id='p33'></a> ([back to toc](#toc))\n",
    "\n",
    "Execute Karle's strategy for dividing up the participants to create a `control_block` group and a `treatment_block` group such that half of the students in each block will be in the treatment group and half will be in the control group. Dont forget to **randomize**! In other words, randomly assign half of the subjects from block1 to treatment and half to control. Do the same thing with block2.\n",
    "\n",
    "**HINT 1:**  Will you need to gather data from two places?  Is there something on the cheat sheet that lets you combine two datasets? \n",
    "https://pandas.pydata.org/Pandas_Cheat_Sheet.pdf\n",
    "\n",
    "*You should use a different cell for `control_block` and `treatment_block`.*\n",
    "\n",
    "You have several cells to work in if you need them. The only requirement is that your final `control_block` and `treatment_block` groups must be randomly selected and be stored in the variable `control_block` and `treatment_block` .\n",
    "\n",
    "**HINT 2:** The tilde operator negates the Boolean values in the DataFrame. E.g. try running `~pd.Series([True,False])`"
   ]
  },
  {
   "cell_type": "code",
   "execution_count": 35,
   "metadata": {},
   "outputs": [
    {
     "data": {
      "text/html": "<div>\n<style scoped>\n    .dataframe tbody tr th:only-of-type {\n        vertical-align: middle;\n    }\n\n    .dataframe tbody tr th {\n        vertical-align: top;\n    }\n\n    .dataframe thead th {\n        text-align: right;\n    }\n</style>\n<table border=\"1\" class=\"dataframe\">\n  <thead>\n    <tr style=\"text-align: right;\">\n      <th></th>\n      <th>Unnamed: 0</th>\n      <th>Name</th>\n      <th>Major?</th>\n      <th>Year?</th>\n      <th>Cats or Dogs</th>\n      <th>Siblings?</th>\n      <th>Shoe Size?</th>\n      <th>Fav. Food</th>\n      <th>Fav. Color</th>\n      <th>Phone.</th>\n      <th>...</th>\n      <th>McDonald's or Burger King</th>\n      <th>Gym Per Week</th>\n      <th>Birth Month</th>\n      <th>STAT at UIUC</th>\n      <th>Programming at UIUC</th>\n      <th>Credit Hours?</th>\n      <th>Ideal Sleep Hours</th>\n      <th>Eat Out Per Week</th>\n      <th>Eye Color</th>\n      <th>Height</th>\n    </tr>\n  </thead>\n  <tbody>\n    <tr>\n      <th>0</th>\n      <td>16</td>\n      <td>Karle</td>\n      <td>Statistics</td>\n      <td>Old</td>\n      <td>Cats</td>\n      <td>2</td>\n      <td>8.5</td>\n      <td>Tacos</td>\n      <td>Pink</td>\n      <td>iPhone</td>\n      <td>...</td>\n      <td>Neither</td>\n      <td>3</td>\n      <td>10</td>\n      <td>20+</td>\n      <td>1</td>\n      <td>4</td>\n      <td>10.0</td>\n      <td>3</td>\n      <td>Green</td>\n      <td>70</td>\n    </tr>\n    <tr>\n      <th>1</th>\n      <td>22</td>\n      <td>Wade</td>\n      <td>Computer Scinece</td>\n      <td>Old</td>\n      <td>Dogs</td>\n      <td>2</td>\n      <td>13.0</td>\n      <td>BBQ</td>\n      <td>Purple</td>\n      <td>Android</td>\n      <td>...</td>\n      <td>MCDs</td>\n      <td>0</td>\n      <td>11</td>\n      <td>0</td>\n      <td>5</td>\n      <td>13</td>\n      <td>8.0</td>\n      <td>2</td>\n      <td>Brown</td>\n      <td>77</td>\n    </tr>\n    <tr>\n      <th>2</th>\n      <td>14</td>\n      <td>Dean</td>\n      <td>Economics</td>\n      <td>Sophomore</td>\n      <td>Dogs</td>\n      <td>1</td>\n      <td>7.5</td>\n      <td>Ramen</td>\n      <td>Green</td>\n      <td>Android</td>\n      <td>...</td>\n      <td>McDonald's</td>\n      <td>0</td>\n      <td>3</td>\n      <td>1</td>\n      <td>0</td>\n      <td>16</td>\n      <td>10.0</td>\n      <td>4</td>\n      <td>Brown</td>\n      <td>68</td>\n    </tr>\n    <tr>\n      <th>3</th>\n      <td>20</td>\n      <td>Nick</td>\n      <td>Advertising</td>\n      <td>freshman</td>\n      <td>dogs</td>\n      <td>1</td>\n      <td>10.0</td>\n      <td>Mac &amp; Cheese</td>\n      <td>blue</td>\n      <td>iPhone</td>\n      <td>...</td>\n      <td>McDonald's</td>\n      <td>3</td>\n      <td>12</td>\n      <td>1</td>\n      <td>0</td>\n      <td>15</td>\n      <td>8.0</td>\n      <td>2</td>\n      <td>brown</td>\n      <td>72</td>\n    </tr>\n    <tr>\n      <th>4</th>\n      <td>12</td>\n      <td>Mariel</td>\n      <td>Global Studies</td>\n      <td>Freshman</td>\n      <td>Dogs</td>\n      <td>1</td>\n      <td>9.0</td>\n      <td>sushi</td>\n      <td>none</td>\n      <td>iPhone</td>\n      <td>...</td>\n      <td>Neither</td>\n      <td>4</td>\n      <td>10</td>\n      <td>1</td>\n      <td>0</td>\n      <td>17</td>\n      <td>10.0</td>\n      <td>3</td>\n      <td>Brown</td>\n      <td>67</td>\n    </tr>\n    <tr>\n      <th>5</th>\n      <td>21</td>\n      <td>Pedro</td>\n      <td>Political Science</td>\n      <td>Sophmore</td>\n      <td>Dogs</td>\n      <td>1</td>\n      <td>13.0</td>\n      <td>BBQ Ribs</td>\n      <td>grey</td>\n      <td>Iphone</td>\n      <td>...</td>\n      <td>Burger King</td>\n      <td>0</td>\n      <td>2</td>\n      <td>1</td>\n      <td>0</td>\n      <td>16</td>\n      <td>9.0</td>\n      <td>2</td>\n      <td>Brown</td>\n      <td>74</td>\n    </tr>\n    <tr>\n      <th>6</th>\n      <td>5</td>\n      <td>Gabby</td>\n      <td>Undeclared</td>\n      <td>Sophomore</td>\n      <td>Dogs</td>\n      <td>1</td>\n      <td>8.5</td>\n      <td>Ribs</td>\n      <td>Periwinkle</td>\n      <td>iPhone</td>\n      <td>...</td>\n      <td>Neither</td>\n      <td>3</td>\n      <td>12</td>\n      <td>2</td>\n      <td>0</td>\n      <td>17</td>\n      <td>10.5</td>\n      <td>1</td>\n      <td>Brown &amp; Green</td>\n      <td>64</td>\n    </tr>\n    <tr>\n      <th>7</th>\n      <td>7</td>\n      <td>Jasmine</td>\n      <td>MCB</td>\n      <td>Sophomore</td>\n      <td>Dogs</td>\n      <td>2</td>\n      <td>8.0</td>\n      <td>sushi</td>\n      <td>grey</td>\n      <td>iphone</td>\n      <td>...</td>\n      <td>McDonalds</td>\n      <td>0</td>\n      <td>1</td>\n      <td>0</td>\n      <td>0</td>\n      <td>18</td>\n      <td>7.0</td>\n      <td>3</td>\n      <td>brown</td>\n      <td>64</td>\n    </tr>\n    <tr>\n      <th>8</th>\n      <td>1</td>\n      <td>Jesse</td>\n      <td>Undeclared</td>\n      <td>Freshmen</td>\n      <td>Dogs</td>\n      <td>1</td>\n      <td>9.0</td>\n      <td>KBBQ</td>\n      <td>Blue</td>\n      <td>iPhone</td>\n      <td>...</td>\n      <td>McDonald's</td>\n      <td>0</td>\n      <td>5</td>\n      <td>0</td>\n      <td>1</td>\n      <td>15</td>\n      <td>10.0</td>\n      <td>1</td>\n      <td>Black</td>\n      <td>0</td>\n    </tr>\n    <tr>\n      <th>9</th>\n      <td>4</td>\n      <td>Tamun</td>\n      <td>Psychology</td>\n      <td>Freshman</td>\n      <td>dogs</td>\n      <td>1</td>\n      <td>8.0</td>\n      <td>Indian Food</td>\n      <td>Seafoam green</td>\n      <td>iPhone</td>\n      <td>...</td>\n      <td>McDonalds</td>\n      <td>4</td>\n      <td>12</td>\n      <td>1</td>\n      <td>0</td>\n      <td>18</td>\n      <td>8.0</td>\n      <td>3</td>\n      <td>Brown</td>\n      <td>63</td>\n    </tr>\n    <tr>\n      <th>10</th>\n      <td>8</td>\n      <td>Pavitra</td>\n      <td>Ag Consumer Econ</td>\n      <td>Junior</td>\n      <td>Dogs</td>\n      <td>0</td>\n      <td>7.5</td>\n      <td>mac and cheese</td>\n      <td>purple</td>\n      <td>iphone</td>\n      <td>...</td>\n      <td>mcdonalds</td>\n      <td>5</td>\n      <td>9</td>\n      <td>2</td>\n      <td>1</td>\n      <td>16</td>\n      <td>8.0</td>\n      <td>2</td>\n      <td>brown</td>\n      <td>65</td>\n    </tr>\n  </tbody>\n</table>\n<p>11 rows × 38 columns</p>\n</div>",
      "text/plain": "    Unnamed: 0     Name             Major?      Year? Cats or Dogs  Siblings?  \\\n0           16    Karle         Statistics        Old         Cats          2   \n1           22     Wade   Computer Scinece        Old         Dogs          2   \n2           14     Dean          Economics  Sophomore         Dogs          1   \n3           20     Nick        Advertising   freshman         dogs          1   \n4           12   Mariel     Global Studies   Freshman         Dogs          1   \n5           21    Pedro  Political Science   Sophmore         Dogs          1   \n6            5    Gabby         Undeclared  Sophomore         Dogs          1   \n7            7  Jasmine                MCB  Sophomore         Dogs          2   \n8            1    Jesse         Undeclared   Freshmen         Dogs          1   \n9            4    Tamun         Psychology   Freshman         dogs          1   \n10           8  Pavitra   Ag Consumer Econ     Junior         Dogs          0   \n\n    Shoe Size?       Fav. Food     Fav. Color   Phone.  ...  \\\n0          8.5           Tacos           Pink   iPhone  ...   \n1         13.0             BBQ         Purple  Android  ...   \n2          7.5           Ramen          Green  Android  ...   \n3         10.0    Mac & Cheese           blue   iPhone  ...   \n4          9.0           sushi           none   iPhone  ...   \n5         13.0        BBQ Ribs           grey   Iphone  ...   \n6          8.5            Ribs     Periwinkle   iPhone  ...   \n7          8.0           sushi           grey   iphone  ...   \n8          9.0            KBBQ           Blue   iPhone  ...   \n9          8.0     Indian Food  Seafoam green   iPhone  ...   \n10         7.5  mac and cheese         purple   iphone  ...   \n\n   McDonald's or Burger King Gym Per Week Birth Month STAT at UIUC  \\\n0                    Neither            3          10          20+   \n1                       MCDs            0          11            0   \n2                 McDonald's            0           3            1   \n3                 McDonald's            3          12            1   \n4                    Neither            4          10            1   \n5                Burger King            0           2            1   \n6                    Neither            3          12            2   \n7                  McDonalds            0           1            0   \n8                 McDonald's            0           5            0   \n9                  McDonalds            4          12            1   \n10                 mcdonalds            5           9            2   \n\n   Programming at UIUC Credit Hours? Ideal Sleep Hours Eat Out Per Week  \\\n0                    1             4              10.0                3   \n1                    5            13               8.0                2   \n2                    0            16              10.0                4   \n3                    0            15               8.0                2   \n4                    0            17              10.0                3   \n5                    0            16               9.0                2   \n6                    0            17              10.5                1   \n7                    0            18               7.0                3   \n8                    1            15              10.0                1   \n9                    0            18               8.0                3   \n10                   1            16               8.0                2   \n\n        Eye Color Height  \n0           Green     70  \n1           Brown     77  \n2           Brown     68  \n3           brown     72  \n4           Brown     67  \n5           Brown     74  \n6   Brown & Green     64  \n7           brown     64  \n8           Black      0  \n9           Brown     63  \n10          brown     65  \n\n[11 rows x 38 columns]"
     },
     "execution_count": 35,
     "metadata": {},
     "output_type": "execute_result"
    }
   ],
   "source": [
    "# You can use this cell to work on creating the control group from the blocks.\n",
    "pd.merge(block1.sample(frac=0.5),block2.sample(frac=0.5), how= 'outer')\n"
   ]
  },
  {
   "cell_type": "code",
   "execution_count": 36,
   "metadata": {
    "nbgrader": {
     "grade": false,
     "grade_id": "cell-6d0d3875e7cd7a33",
     "locked": false,
     "schema_version": 3,
     "solution": true
    }
   },
   "outputs": [],
   "source": [
    "# Make sure your final answer is in `control_block`:\n",
    "control_block = pd.merge(block1.sample(frac=0.5),block2.sample(frac=0.5), how= 'outer')"
   ]
  },
  {
   "cell_type": "code",
   "execution_count": 37,
   "metadata": {
    "nbgrader": {
     "grade": true,
     "grade_id": "cell-77a8fc4069876a80",
     "locked": true,
     "points": 1,
     "schema_version": 3,
     "solution": false
    }
   },
   "outputs": [
    {
     "name": "stdout",
     "output_type": "stream",
     "text": [
      "🎉 All tests passed! 🎉\n",
      "\n"
     ]
    }
   ],
   "source": [
    "### == TEST CASES for Puzzle 3.3. ==\n",
    "# - This read-only cell contains test cases for your previous cell.\n",
    "# - If this cell runs without any error our output, you PASSED all test cases!\n",
    "# - If this cell results in any errors, check you previous cell, make changes, and RE-RUN your code and then this cell.\n",
    "assert(len(control_block) == 11), \"The control group does not appear to have correctly chosen\"\n",
    "\n",
    "## == SUCCESS MESSAGE ==\n",
    "# You will only see this message (with the emoji showing) if you passed all test cases:\n",
    "tada = \"\\N{PARTY POPPER}\"\n",
    "print(f\"{tada} All tests passed! {tada}\")\n",
    "print()"
   ]
  },
  {
   "cell_type": "code",
   "execution_count": 38,
   "metadata": {},
   "outputs": [],
   "source": [
    "# This is the code for creating the treatment group from the blocks. It's given to you since we haven't learned how to do this yet!\n",
    "treatment_block = df[ ~df.isin(control_block)].dropna()"
   ]
  },
  {
   "cell_type": "code",
   "execution_count": 39,
   "metadata": {
    "nbgrader": {
     "grade": false,
     "grade_id": "cell-3d68c10e1359b31c",
     "locked": false,
     "schema_version": 3,
     "solution": true
    }
   },
   "outputs": [
    {
     "data": {
      "text/html": "<div>\n<style scoped>\n    .dataframe tbody tr th:only-of-type {\n        vertical-align: middle;\n    }\n\n    .dataframe tbody tr th {\n        vertical-align: top;\n    }\n\n    .dataframe thead th {\n        text-align: right;\n    }\n</style>\n<table border=\"1\" class=\"dataframe\">\n  <thead>\n    <tr style=\"text-align: right;\">\n      <th></th>\n      <th>Unnamed: 0</th>\n      <th>Name</th>\n      <th>Major?</th>\n      <th>Year?</th>\n      <th>Cats or Dogs</th>\n      <th>Siblings?</th>\n      <th>Shoe Size?</th>\n      <th>Fav. Food</th>\n      <th>Fav. Color</th>\n      <th>Phone.</th>\n      <th>...</th>\n      <th>McDonald's or Burger King</th>\n      <th>Gym Per Week</th>\n      <th>Birth Month</th>\n      <th>STAT at UIUC</th>\n      <th>Programming at UIUC</th>\n      <th>Credit Hours?</th>\n      <th>Ideal Sleep Hours</th>\n      <th>Eat Out Per Week</th>\n      <th>Eye Color</th>\n      <th>Height</th>\n    </tr>\n  </thead>\n  <tbody>\n    <tr>\n      <th>11</th>\n      <td>12</td>\n      <td>Mariel</td>\n      <td>Global Studies</td>\n      <td>Freshman</td>\n      <td>Dogs</td>\n      <td>1.0</td>\n      <td>9.0</td>\n      <td>sushi</td>\n      <td>none</td>\n      <td>iPhone</td>\n      <td>...</td>\n      <td>Neither</td>\n      <td>4.0</td>\n      <td>10</td>\n      <td>1</td>\n      <td>0.0</td>\n      <td>17.0</td>\n      <td>10.0</td>\n      <td>3</td>\n      <td>Brown</td>\n      <td>67.0</td>\n    </tr>\n    <tr>\n      <th>12</th>\n      <td>13</td>\n      <td>April</td>\n      <td>Human Nutrition</td>\n      <td>Senior</td>\n      <td>Dogs</td>\n      <td>0.0</td>\n      <td>6.5</td>\n      <td>Hotpot</td>\n      <td>Blue</td>\n      <td>iPhone</td>\n      <td>...</td>\n      <td>Neither</td>\n      <td>2.0</td>\n      <td>9</td>\n      <td>0</td>\n      <td>0.0</td>\n      <td>22.0</td>\n      <td>8.0</td>\n      <td>3</td>\n      <td>Black</td>\n      <td>67.0</td>\n    </tr>\n    <tr>\n      <th>13</th>\n      <td>14</td>\n      <td>Dean</td>\n      <td>Economics</td>\n      <td>Sophomore</td>\n      <td>Dogs</td>\n      <td>1.0</td>\n      <td>7.5</td>\n      <td>Ramen</td>\n      <td>Green</td>\n      <td>Android</td>\n      <td>...</td>\n      <td>McDonald's</td>\n      <td>0.0</td>\n      <td>3</td>\n      <td>1</td>\n      <td>0.0</td>\n      <td>16.0</td>\n      <td>10.0</td>\n      <td>4</td>\n      <td>Brown</td>\n      <td>68.0</td>\n    </tr>\n    <tr>\n      <th>14</th>\n      <td>15</td>\n      <td>Hermon</td>\n      <td>MCB</td>\n      <td>senior</td>\n      <td>Dogs</td>\n      <td>1.0</td>\n      <td>10.0</td>\n      <td>Burrito</td>\n      <td>Red</td>\n      <td>iPhone</td>\n      <td>...</td>\n      <td>McDees</td>\n      <td>0.0</td>\n      <td>4</td>\n      <td>2</td>\n      <td>0.0</td>\n      <td>16.0</td>\n      <td>7.0</td>\n      <td>~4</td>\n      <td>Brown</td>\n      <td>68.0</td>\n    </tr>\n    <tr>\n      <th>15</th>\n      <td>16</td>\n      <td>Karle</td>\n      <td>Statistics</td>\n      <td>Old</td>\n      <td>Cats</td>\n      <td>2.0</td>\n      <td>8.5</td>\n      <td>Tacos</td>\n      <td>Pink</td>\n      <td>iPhone</td>\n      <td>...</td>\n      <td>Neither</td>\n      <td>3.0</td>\n      <td>10</td>\n      <td>20+</td>\n      <td>1.0</td>\n      <td>4.0</td>\n      <td>10.0</td>\n      <td>3</td>\n      <td>Green</td>\n      <td>70.0</td>\n    </tr>\n    <tr>\n      <th>16</th>\n      <td>17</td>\n      <td>Ming</td>\n      <td>Econ and Stats</td>\n      <td>Sophomore</td>\n      <td>Cats</td>\n      <td>1.0</td>\n      <td>10.0</td>\n      <td>KBBQ/Ramen</td>\n      <td>Blue</td>\n      <td>Android</td>\n      <td>...</td>\n      <td>McDonalds</td>\n      <td>0.0</td>\n      <td>7</td>\n      <td>2</td>\n      <td>1.0</td>\n      <td>18.0</td>\n      <td>10.0</td>\n      <td>3-Feb</td>\n      <td>Brown</td>\n      <td>70.0</td>\n    </tr>\n    <tr>\n      <th>17</th>\n      <td>18</td>\n      <td>David</td>\n      <td>Kinesiology</td>\n      <td>Sophomore</td>\n      <td>Cats</td>\n      <td>2.0</td>\n      <td>10.0</td>\n      <td>Pizza</td>\n      <td>Purple</td>\n      <td>iPhone</td>\n      <td>...</td>\n      <td>neither</td>\n      <td>3.0</td>\n      <td>7</td>\n      <td>1</td>\n      <td>0.0</td>\n      <td>16.0</td>\n      <td>7.0</td>\n      <td>0</td>\n      <td>Grey</td>\n      <td>70.0</td>\n    </tr>\n    <tr>\n      <th>18</th>\n      <td>19</td>\n      <td>Omri</td>\n      <td>Lighting Design &amp; Technology</td>\n      <td>Junior</td>\n      <td>Dogs</td>\n      <td>1.0</td>\n      <td>10.0</td>\n      <td>Pasta</td>\n      <td>Blue</td>\n      <td>iPhone</td>\n      <td>...</td>\n      <td>McDonald's</td>\n      <td>3.0</td>\n      <td>9</td>\n      <td>1</td>\n      <td>0.0</td>\n      <td>20.0</td>\n      <td>8.0</td>\n      <td>3</td>\n      <td>Brown</td>\n      <td>70.0</td>\n    </tr>\n    <tr>\n      <th>19</th>\n      <td>20</td>\n      <td>Nick</td>\n      <td>Advertising</td>\n      <td>freshman</td>\n      <td>dogs</td>\n      <td>1.0</td>\n      <td>10.0</td>\n      <td>Mac &amp; Cheese</td>\n      <td>blue</td>\n      <td>iPhone</td>\n      <td>...</td>\n      <td>McDonald's</td>\n      <td>3.0</td>\n      <td>12</td>\n      <td>1</td>\n      <td>0.0</td>\n      <td>15.0</td>\n      <td>8.0</td>\n      <td>2</td>\n      <td>brown</td>\n      <td>72.0</td>\n    </tr>\n    <tr>\n      <th>20</th>\n      <td>21</td>\n      <td>Pedro</td>\n      <td>Political Science</td>\n      <td>Sophmore</td>\n      <td>Dogs</td>\n      <td>1.0</td>\n      <td>13.0</td>\n      <td>BBQ Ribs</td>\n      <td>grey</td>\n      <td>Iphone</td>\n      <td>...</td>\n      <td>Burger King</td>\n      <td>0.0</td>\n      <td>2</td>\n      <td>1</td>\n      <td>0.0</td>\n      <td>16.0</td>\n      <td>9.0</td>\n      <td>2</td>\n      <td>Brown</td>\n      <td>74.0</td>\n    </tr>\n    <tr>\n      <th>21</th>\n      <td>22</td>\n      <td>Wade</td>\n      <td>Computer Scinece</td>\n      <td>Old</td>\n      <td>Dogs</td>\n      <td>2.0</td>\n      <td>13.0</td>\n      <td>BBQ</td>\n      <td>Purple</td>\n      <td>Android</td>\n      <td>...</td>\n      <td>MCDs</td>\n      <td>0.0</td>\n      <td>11</td>\n      <td>0</td>\n      <td>5.0</td>\n      <td>13.0</td>\n      <td>8.0</td>\n      <td>2</td>\n      <td>Brown</td>\n      <td>77.0</td>\n    </tr>\n  </tbody>\n</table>\n<p>11 rows × 38 columns</p>\n</div>",
      "text/plain": "    Unnamed: 0    Name                        Major?      Year? Cats or Dogs  \\\n11          12  Mariel                Global Studies   Freshman         Dogs   \n12          13   April               Human Nutrition     Senior         Dogs   \n13          14    Dean                     Economics  Sophomore         Dogs   \n14          15  Hermon                           MCB    senior          Dogs   \n15          16   Karle                    Statistics        Old         Cats   \n16          17    Ming                Econ and Stats  Sophomore         Cats   \n17          18   David                   Kinesiology  Sophomore         Cats   \n18          19    Omri  Lighting Design & Technology     Junior         Dogs   \n19          20    Nick                   Advertising   freshman         dogs   \n20          21   Pedro             Political Science   Sophmore         Dogs   \n21          22    Wade              Computer Scinece        Old         Dogs   \n\n    Siblings?  Shoe Size?     Fav. Food Fav. Color   Phone.  ...  \\\n11        1.0         9.0         sushi       none   iPhone  ...   \n12        0.0         6.5        Hotpot       Blue   iPhone  ...   \n13        1.0         7.5         Ramen      Green  Android  ...   \n14        1.0        10.0       Burrito        Red  iPhone   ...   \n15        2.0         8.5         Tacos       Pink   iPhone  ...   \n16        1.0        10.0    KBBQ/Ramen       Blue  Android  ...   \n17        2.0        10.0         Pizza     Purple   iPhone  ...   \n18        1.0        10.0         Pasta       Blue   iPhone  ...   \n19        1.0        10.0  Mac & Cheese       blue   iPhone  ...   \n20        1.0        13.0      BBQ Ribs       grey   Iphone  ...   \n21        2.0        13.0           BBQ     Purple  Android  ...   \n\n   McDonald's or Burger King Gym Per Week Birth Month STAT at UIUC  \\\n11                   Neither          4.0          10            1   \n12                   Neither          2.0           9            0   \n13                McDonald's          0.0           3            1   \n14                    McDees          0.0           4            2   \n15                   Neither          3.0          10          20+   \n16                 McDonalds          0.0           7            2   \n17                   neither          3.0           7            1   \n18                McDonald's          3.0           9            1   \n19                McDonald's          3.0          12            1   \n20               Burger King          0.0           2            1   \n21                      MCDs          0.0          11            0   \n\n   Programming at UIUC Credit Hours? Ideal Sleep Hours Eat Out Per Week  \\\n11                 0.0          17.0              10.0                3   \n12                 0.0          22.0               8.0                3   \n13                 0.0          16.0              10.0                4   \n14                 0.0          16.0               7.0               ~4   \n15                 1.0           4.0              10.0                3   \n16                 1.0          18.0              10.0            3-Feb   \n17                 0.0          16.0               7.0                0   \n18                 0.0          20.0               8.0                3   \n19                 0.0          15.0               8.0                2   \n20                 0.0          16.0               9.0                2   \n21                 5.0          13.0               8.0                2   \n\n   Eye Color Height  \n11     Brown   67.0  \n12     Black   67.0  \n13     Brown   68.0  \n14     Brown   68.0  \n15     Green   70.0  \n16     Brown   70.0  \n17      Grey   70.0  \n18     Brown   70.0  \n19     brown   72.0  \n20     Brown   74.0  \n21     Brown   77.0  \n\n[11 rows x 38 columns]"
     },
     "execution_count": 39,
     "metadata": {},
     "output_type": "execute_result"
    }
   ],
   "source": [
    "# Make sure your final answer is in `treatment_block`. If you ran the previous cell, this is ensres your final answer is in `treatment_block`.\n",
    "treatment_block"
   ]
  },
  {
   "cell_type": "code",
   "execution_count": 41,
   "metadata": {
    "nbgrader": {
     "grade": true,
     "grade_id": "cell-c31cc6365c53ec53",
     "locked": true,
     "points": 1,
     "schema_version": 3,
     "solution": false
    }
   },
   "outputs": [
    {
     "name": "stdout",
     "output_type": "stream",
     "text": [
      "🎉 All tests passed! 🎉\n",
      "\n"
     ]
    }
   ],
   "source": [
    "### == TEST CASES for Puzzle 3.3. ==\n",
    "# - This read-only cell contains test cases for your previous cell.\n",
    "# - If this cell runs without any error our output, you PASSED all test cases!\n",
    "# - If this cell results in any errors, check you previous cell, make changes, and RE-RUN your code and then this cell.\n",
    "assert(len(treatment_block) == 11), \"The control group does not appear to have correctly chosen.\"\n",
    "for x in treatment_block[\"Name\"]:\n",
    "    a = (len(control_block[control_block['Name'].str.contains(str(x))])==0)\n",
    "assert(a), \"The treatment group does not appear to have correctly chosen\"\n",
    "\n",
    "## == SUCCESS MESSAGE ==\n",
    "# You will only see this message (with the emoji showing) if you passed all test cases:\n",
    "tada = \"\\N{PARTY POPPER}\"\n",
    "print(f\"{tada} All tests passed! {tada}\")\n",
    "print()"
   ]
  },
  {
   "cell_type": "markdown",
   "metadata": {},
   "source": [
    "### Puzzle 3.4: Finding Mean Shoe Sizes <a id='p34'></a> ([back to toc](#toc))\n",
    "After creating the treatment and control groups using blocking and randomization, let's find the average shoe size of the control *and* treatment groups again. \n",
    "\n",
    "Find and `print` the average shoe size of the control *and* treatment groups:"
   ]
  },
  {
   "cell_type": "code",
   "execution_count": 45,
   "metadata": {
    "nbgrader": {
     "grade": false,
     "grade_id": "cell-c6779331fe02687f",
     "locked": false,
     "schema_version": 3,
     "solution": true
    }
   },
   "outputs": [
    {
     "name": "stdout",
     "output_type": "stream",
     "text": [
      "8.090909090909092\n",
      "9.772727272727273\n"
     ]
    }
   ],
   "source": [
    "# Create the average shoe size of control group\n",
    "control_block_shoe_mean = control_block[\"Shoe Size?\"].mean()\n",
    "# Print the control_block_shoe_mean\n",
    "print(control_block_shoe_mean)\n",
    "\n",
    "# Create the average shoe size of treatment group\n",
    "treatment_block_shoe_mean = treatment_block[\"Shoe Size?\"].mean()\n",
    "# Print the treatment_block_shoe_mean\n",
    "print(treatment_block_shoe_mean)\n"
   ]
  },
  {
   "cell_type": "code",
   "execution_count": 46,
   "metadata": {
    "nbgrader": {
     "grade": true,
     "grade_id": "cell-d12207a75476aca4",
     "locked": true,
     "points": 1,
     "schema_version": 3,
     "solution": false
    }
   },
   "outputs": [
    {
     "name": "stdout",
     "output_type": "stream",
     "text": [
      "🎉 All tests passed! 🎉\n",
      "\n"
     ]
    }
   ],
   "source": [
    "### == TEST CASES for Puzzle 3.4 ==\n",
    "# - This read-only cell contains test cases for your previous cell.\n",
    "# - If this cell runs without any error our output, you PASSED all test cases!\n",
    "# - If this cell results in any errors, check you previous cell, make changes, and RE-RUN your code and then this cell.\n",
    "\n",
    "assert(control_block_shoe_mean == control_block['Shoe Size?'].mean()), \"The average shoe size of your control group does not appear to seem correct. Make sure you are taking mean of the correct variable.\"\n",
    "assert(treatment_block_shoe_mean == treatment_block['Shoe Size?'].mean()), \"The average shoe size of your treatment group does not appear to seem correct. Make sure you are taking mean of the correct variable.\"\n",
    "\n",
    "## == SUCCESS MESSAGE ==\n",
    "# You will only see this message (with the emoji showing) if you passed all test cases:\n",
    "tada = \"\\N{PARTY POPPER}\"\n",
    "print(f\"{tada} All tests passed! {tada}\")\n",
    "print()"
   ]
  },
  {
   "cell_type": "markdown",
   "metadata": {},
   "source": [
    "### Puzzle 3.5: ❓Group Discussion❓ <a id='p35'></a> ([back to toc](#toc))\n",
    "\n",
    "- Do you think this is a good way to choose the treatment and control groups? Why or why not?\n",
    "\n",
    "- Did the three different strategies affect the average shoe size of the two groups? If so, how?"
   ]
  },
  {
   "cell_type": "markdown",
   "metadata": {},
   "source": [
    "***Type your group's answer here.***\n",
    "This is a good way to choose the treatment and control groups because they is randomly assigned groups.\n",
    "The three strategies affected the average shoe size of the two groups. Blocking was the most accurate strategy because it blocked by height"
   ]
  },
  {
   "cell_type": "code",
   "execution_count": 43,
   "metadata": {},
   "outputs": [
    {
     "data": {
      "text/html": "<div>\n<style scoped>\n    .dataframe tbody tr th:only-of-type {\n        vertical-align: middle;\n    }\n\n    .dataframe tbody tr th {\n        vertical-align: top;\n    }\n\n    .dataframe thead th {\n        text-align: right;\n    }\n</style>\n<table border=\"1\" class=\"dataframe\">\n  <thead>\n    <tr style=\"text-align: right;\">\n      <th></th>\n      <th>Year</th>\n      <th>Term</th>\n      <th>YearTerm</th>\n      <th>Subject</th>\n      <th>Number</th>\n      <th>Course Title</th>\n      <th>A+</th>\n      <th>A</th>\n      <th>A-</th>\n      <th>B+</th>\n      <th>...</th>\n      <th>B-</th>\n      <th>C+</th>\n      <th>C</th>\n      <th>C-</th>\n      <th>D+</th>\n      <th>D</th>\n      <th>D-</th>\n      <th>F</th>\n      <th>W</th>\n      <th>Primary Instructor</th>\n    </tr>\n  </thead>\n  <tbody>\n    <tr>\n      <th>0</th>\n      <td>2020</td>\n      <td>Spring</td>\n      <td>2020-sp</td>\n      <td>AAS</td>\n      <td>100</td>\n      <td>Intro Asian American Studies</td>\n      <td>12</td>\n      <td>12</td>\n      <td>1</td>\n      <td>0</td>\n      <td>...</td>\n      <td>1</td>\n      <td>0</td>\n      <td>1</td>\n      <td>0</td>\n      <td>0</td>\n      <td>0</td>\n      <td>0</td>\n      <td>1</td>\n      <td>0</td>\n      <td>Boonsripaisal, Simon</td>\n    </tr>\n    <tr>\n      <th>1</th>\n      <td>2020</td>\n      <td>Spring</td>\n      <td>2020-sp</td>\n      <td>AAS</td>\n      <td>100</td>\n      <td>Intro Asian American Studies</td>\n      <td>5</td>\n      <td>12</td>\n      <td>4</td>\n      <td>1</td>\n      <td>...</td>\n      <td>1</td>\n      <td>2</td>\n      <td>0</td>\n      <td>0</td>\n      <td>0</td>\n      <td>0</td>\n      <td>0</td>\n      <td>1</td>\n      <td>0</td>\n      <td>Boonsripaisal, Simon</td>\n    </tr>\n    <tr>\n      <th>2</th>\n      <td>2020</td>\n      <td>Spring</td>\n      <td>2020-sp</td>\n      <td>AAS</td>\n      <td>100</td>\n      <td>Intro Asian American Studies</td>\n      <td>0</td>\n      <td>8</td>\n      <td>7</td>\n      <td>3</td>\n      <td>...</td>\n      <td>3</td>\n      <td>2</td>\n      <td>0</td>\n      <td>2</td>\n      <td>0</td>\n      <td>0</td>\n      <td>0</td>\n      <td>0</td>\n      <td>0</td>\n      <td>Uhall, Michael B</td>\n    </tr>\n    <tr>\n      <th>3</th>\n      <td>2020</td>\n      <td>Spring</td>\n      <td>2020-sp</td>\n      <td>AAS</td>\n      <td>100</td>\n      <td>Intro Asian American Studies</td>\n      <td>8</td>\n      <td>6</td>\n      <td>2</td>\n      <td>0</td>\n      <td>...</td>\n      <td>1</td>\n      <td>1</td>\n      <td>2</td>\n      <td>1</td>\n      <td>0</td>\n      <td>0</td>\n      <td>0</td>\n      <td>0</td>\n      <td>0</td>\n      <td>Uhall, Michael B</td>\n    </tr>\n    <tr>\n      <th>4</th>\n      <td>2020</td>\n      <td>Spring</td>\n      <td>2020-sp</td>\n      <td>AAS</td>\n      <td>100</td>\n      <td>Intro Asian American Studies</td>\n      <td>5</td>\n      <td>4</td>\n      <td>3</td>\n      <td>1</td>\n      <td>...</td>\n      <td>1</td>\n      <td>1</td>\n      <td>2</td>\n      <td>1</td>\n      <td>1</td>\n      <td>0</td>\n      <td>1</td>\n      <td>1</td>\n      <td>0</td>\n      <td>Kang, Yoonjung</td>\n    </tr>\n    <tr>\n      <th>...</th>\n      <td>...</td>\n      <td>...</td>\n      <td>...</td>\n      <td>...</td>\n      <td>...</td>\n      <td>...</td>\n      <td>...</td>\n      <td>...</td>\n      <td>...</td>\n      <td>...</td>\n      <td>...</td>\n      <td>...</td>\n      <td>...</td>\n      <td>...</td>\n      <td>...</td>\n      <td>...</td>\n      <td>...</td>\n      <td>...</td>\n      <td>...</td>\n      <td>...</td>\n      <td>...</td>\n    </tr>\n    <tr>\n      <th>53928</th>\n      <td>2010</td>\n      <td>Summer</td>\n      <td>2010-su</td>\n      <td>STAT</td>\n      <td>410</td>\n      <td>Statistics and Probability II</td>\n      <td>5</td>\n      <td>10</td>\n      <td>2</td>\n      <td>2</td>\n      <td>...</td>\n      <td>1</td>\n      <td>0</td>\n      <td>1</td>\n      <td>3</td>\n      <td>0</td>\n      <td>0</td>\n      <td>0</td>\n      <td>2</td>\n      <td>1</td>\n      <td>Stepanov, Alexei G</td>\n    </tr>\n    <tr>\n      <th>53929</th>\n      <td>2010</td>\n      <td>Summer</td>\n      <td>2010-su</td>\n      <td>STAT</td>\n      <td>440</td>\n      <td>Statistical Data Management</td>\n      <td>4</td>\n      <td>12</td>\n      <td>8</td>\n      <td>1</td>\n      <td>...</td>\n      <td>0</td>\n      <td>0</td>\n      <td>0</td>\n      <td>0</td>\n      <td>0</td>\n      <td>0</td>\n      <td>0</td>\n      <td>0</td>\n      <td>0</td>\n      <td>Unger, David</td>\n    </tr>\n    <tr>\n      <th>53930</th>\n      <td>2010</td>\n      <td>Summer</td>\n      <td>2010-su</td>\n      <td>TAM</td>\n      <td>212</td>\n      <td>Introductory Dynamics</td>\n      <td>0</td>\n      <td>1</td>\n      <td>3</td>\n      <td>2</td>\n      <td>...</td>\n      <td>7</td>\n      <td>5</td>\n      <td>1</td>\n      <td>1</td>\n      <td>0</td>\n      <td>2</td>\n      <td>0</td>\n      <td>1</td>\n      <td>0</td>\n      <td>Morgan, William T</td>\n    </tr>\n    <tr>\n      <th>53931</th>\n      <td>2010</td>\n      <td>Summer</td>\n      <td>2010-su</td>\n      <td>TAM</td>\n      <td>251</td>\n      <td>Introductory Solid Mechanics</td>\n      <td>1</td>\n      <td>2</td>\n      <td>2</td>\n      <td>1</td>\n      <td>...</td>\n      <td>0</td>\n      <td>3</td>\n      <td>3</td>\n      <td>2</td>\n      <td>0</td>\n      <td>0</td>\n      <td>1</td>\n      <td>1</td>\n      <td>0</td>\n      <td>Ott-Monsivais, Stephanie</td>\n    </tr>\n    <tr>\n      <th>53932</th>\n      <td>2010</td>\n      <td>Summer</td>\n      <td>2010-su</td>\n      <td>TAM</td>\n      <td>335</td>\n      <td>Introductory Fluid Mechanics</td>\n      <td>5</td>\n      <td>8</td>\n      <td>9</td>\n      <td>4</td>\n      <td>...</td>\n      <td>1</td>\n      <td>0</td>\n      <td>4</td>\n      <td>0</td>\n      <td>0</td>\n      <td>1</td>\n      <td>0</td>\n      <td>2</td>\n      <td>0</td>\n      <td>Keane, Richard D</td>\n    </tr>\n  </tbody>\n</table>\n<p>53933 rows × 21 columns</p>\n</div>",
      "text/plain": "       Year    Term YearTerm Subject  Number                   Course Title  \\\n0      2020  Spring  2020-sp     AAS     100   Intro Asian American Studies   \n1      2020  Spring  2020-sp     AAS     100   Intro Asian American Studies   \n2      2020  Spring  2020-sp     AAS     100   Intro Asian American Studies   \n3      2020  Spring  2020-sp     AAS     100   Intro Asian American Studies   \n4      2020  Spring  2020-sp     AAS     100   Intro Asian American Studies   \n...     ...     ...      ...     ...     ...                            ...   \n53928  2010  Summer  2010-su    STAT     410  Statistics and Probability II   \n53929  2010  Summer  2010-su    STAT     440    Statistical Data Management   \n53930  2010  Summer  2010-su     TAM     212          Introductory Dynamics   \n53931  2010  Summer  2010-su     TAM     251   Introductory Solid Mechanics   \n53932  2010  Summer  2010-su     TAM     335   Introductory Fluid Mechanics   \n\n       A+   A  A-  B+  ...  B-  C+  C  C-  D+  D  D-  F  W  \\\n0      12  12   1   0  ...   1   0  1   0   0  0   0  1  0   \n1       5  12   4   1  ...   1   2  0   0   0  0   0  1  0   \n2       0   8   7   3  ...   3   2  0   2   0  0   0  0  0   \n3       8   6   2   0  ...   1   1  2   1   0  0   0  0  0   \n4       5   4   3   1  ...   1   1  2   1   1  0   1  1  0   \n...    ..  ..  ..  ..  ...  ..  .. ..  ..  .. ..  .. .. ..   \n53928   5  10   2   2  ...   1   0  1   3   0  0   0  2  1   \n53929   4  12   8   1  ...   0   0  0   0   0  0   0  0  0   \n53930   0   1   3   2  ...   7   5  1   1   0  2   0  1  0   \n53931   1   2   2   1  ...   0   3  3   2   0  0   1  1  0   \n53932   5   8   9   4  ...   1   0  4   0   0  1   0  2  0   \n\n             Primary Instructor  \n0          Boonsripaisal, Simon  \n1          Boonsripaisal, Simon  \n2              Uhall, Michael B  \n3              Uhall, Michael B  \n4                Kang, Yoonjung  \n...                         ...  \n53928        Stepanov, Alexei G  \n53929              Unger, David  \n53930         Morgan, William T  \n53931  Ott-Monsivais, Stephanie  \n53932          Keane, Richard D  \n\n[53933 rows x 21 columns]"
     },
     "execution_count": 43,
     "metadata": {},
     "output_type": "execute_result"
    }
   ],
   "source": [
    "import pandas as pd\n",
    "df= pd.read_csv(\"https://waf.cs.illinois.edu/discovery/gpa.csv\")\n",
    "df"
   ]
  },
  {
   "cell_type": "code",
   "execution_count": 49,
   "metadata": {},
   "outputs": [
    {
     "data": {
      "text/html": "<div>\n<style scoped>\n    .dataframe tbody tr th:only-of-type {\n        vertical-align: middle;\n    }\n\n    .dataframe tbody tr th {\n        vertical-align: top;\n    }\n\n    .dataframe thead th {\n        text-align: right;\n    }\n</style>\n<table border=\"1\" class=\"dataframe\">\n  <thead>\n    <tr style=\"text-align: right;\">\n      <th></th>\n      <th>Subject</th>\n      <th>Year</th>\n      <th>Number</th>\n      <th>A+</th>\n      <th>A</th>\n      <th>A-</th>\n      <th>B+</th>\n      <th>B</th>\n      <th>B-</th>\n      <th>C+</th>\n      <th>C</th>\n      <th>C-</th>\n      <th>D+</th>\n      <th>D</th>\n      <th>D-</th>\n      <th>F</th>\n      <th>W</th>\n      <th>sumgpa</th>\n    </tr>\n  </thead>\n  <tbody>\n    <tr>\n      <th>0</th>\n      <td>AAS</td>\n      <td>360617</td>\n      <td>23290</td>\n      <td>771</td>\n      <td>2094</td>\n      <td>812</td>\n      <td>517</td>\n      <td>526</td>\n      <td>246</td>\n      <td>135</td>\n      <td>140</td>\n      <td>54</td>\n      <td>29</td>\n      <td>29</td>\n      <td>19</td>\n      <td>76</td>\n      <td>24</td>\n      <td>19148.77</td>\n    </tr>\n    <tr>\n      <th>1</th>\n      <td>ABE</td>\n      <td>265957</td>\n      <td>44357</td>\n      <td>315</td>\n      <td>2556</td>\n      <td>800</td>\n      <td>703</td>\n      <td>902</td>\n      <td>240</td>\n      <td>127</td>\n      <td>175</td>\n      <td>46</td>\n      <td>16</td>\n      <td>43</td>\n      <td>6</td>\n      <td>51</td>\n      <td>14</td>\n      <td>20894.80</td>\n    </tr>\n    <tr>\n      <th>2</th>\n      <td>ACCY</td>\n      <td>4553856</td>\n      <td>829676</td>\n      <td>7416</td>\n      <td>23142</td>\n      <td>15600</td>\n      <td>14839</td>\n      <td>13614</td>\n      <td>5703</td>\n      <td>2798</td>\n      <td>2155</td>\n      <td>1056</td>\n      <td>253</td>\n      <td>662</td>\n      <td>162</td>\n      <td>513</td>\n      <td>255</td>\n      <td>298558.23</td>\n    </tr>\n    <tr>\n      <th>3</th>\n      <td>ACE</td>\n      <td>1777080</td>\n      <td>241702</td>\n      <td>3523</td>\n      <td>13421</td>\n      <td>5040</td>\n      <td>4316</td>\n      <td>6859</td>\n      <td>2610</td>\n      <td>1627</td>\n      <td>2282</td>\n      <td>770</td>\n      <td>359</td>\n      <td>623</td>\n      <td>214</td>\n      <td>557</td>\n      <td>103</td>\n      <td>138932.06</td>\n    </tr>\n    <tr>\n      <th>4</th>\n      <td>ACES</td>\n      <td>286071</td>\n      <td>16537</td>\n      <td>889</td>\n      <td>1838</td>\n      <td>259</td>\n      <td>119</td>\n      <td>272</td>\n      <td>68</td>\n      <td>67</td>\n      <td>79</td>\n      <td>24</td>\n      <td>16</td>\n      <td>26</td>\n      <td>10</td>\n      <td>68</td>\n      <td>6</td>\n      <td>13653.83</td>\n    </tr>\n    <tr>\n      <th>...</th>\n      <td>...</td>\n      <td>...</td>\n      <td>...</td>\n      <td>...</td>\n      <td>...</td>\n      <td>...</td>\n      <td>...</td>\n      <td>...</td>\n      <td>...</td>\n      <td>...</td>\n      <td>...</td>\n      <td>...</td>\n      <td>...</td>\n      <td>...</td>\n      <td>...</td>\n      <td>...</td>\n      <td>...</td>\n      <td>...</td>\n    </tr>\n    <tr>\n      <th>158</th>\n      <td>UP</td>\n      <td>578226</td>\n      <td>104655</td>\n      <td>1063</td>\n      <td>3559</td>\n      <td>2037</td>\n      <td>1241</td>\n      <td>1358</td>\n      <td>487</td>\n      <td>248</td>\n      <td>293</td>\n      <td>121</td>\n      <td>39</td>\n      <td>74</td>\n      <td>41</td>\n      <td>147</td>\n      <td>39</td>\n      <td>36962.39</td>\n    </tr>\n    <tr>\n      <th>159</th>\n      <td>VB</td>\n      <td>8040</td>\n      <td>2489</td>\n      <td>0</td>\n      <td>212</td>\n      <td>6</td>\n      <td>6</td>\n      <td>120</td>\n      <td>1</td>\n      <td>0</td>\n      <td>40</td>\n      <td>0</td>\n      <td>0</td>\n      <td>2</td>\n      <td>0</td>\n      <td>0</td>\n      <td>0</td>\n      <td>1334.67</td>\n    </tr>\n    <tr>\n      <th>160</th>\n      <td>VCM</td>\n      <td>74447</td>\n      <td>24157</td>\n      <td>302</td>\n      <td>1321</td>\n      <td>29</td>\n      <td>49</td>\n      <td>1036</td>\n      <td>20</td>\n      <td>18</td>\n      <td>337</td>\n      <td>1</td>\n      <td>1</td>\n      <td>41</td>\n      <td>0</td>\n      <td>1</td>\n      <td>0</td>\n      <td>10682.94</td>\n    </tr>\n    <tr>\n      <th>161</th>\n      <td>VM</td>\n      <td>187402</td>\n      <td>56460</td>\n      <td>0</td>\n      <td>1825</td>\n      <td>8</td>\n      <td>0</td>\n      <td>5861</td>\n      <td>1</td>\n      <td>0</td>\n      <td>3405</td>\n      <td>0</td>\n      <td>0</td>\n      <td>325</td>\n      <td>0</td>\n      <td>8</td>\n      <td>10</td>\n      <td>32050.03</td>\n    </tr>\n    <tr>\n      <th>162</th>\n      <td>YDSH</td>\n      <td>26176</td>\n      <td>3560</td>\n      <td>40</td>\n      <td>91</td>\n      <td>81</td>\n      <td>32</td>\n      <td>40</td>\n      <td>12</td>\n      <td>6</td>\n      <td>4</td>\n      <td>2</td>\n      <td>0</td>\n      <td>1</td>\n      <td>2</td>\n      <td>5</td>\n      <td>3</td>\n      <td>1106.19</td>\n    </tr>\n  </tbody>\n</table>\n<p>163 rows × 18 columns</p>\n</div>",
      "text/plain": "    Subject     Year  Number    A+      A     A-     B+      B    B-    C+  \\\n0       AAS   360617   23290   771   2094    812    517    526   246   135   \n1       ABE   265957   44357   315   2556    800    703    902   240   127   \n2      ACCY  4553856  829676  7416  23142  15600  14839  13614  5703  2798   \n3       ACE  1777080  241702  3523  13421   5040   4316   6859  2610  1627   \n4      ACES   286071   16537   889   1838    259    119    272    68    67   \n..      ...      ...     ...   ...    ...    ...    ...    ...   ...   ...   \n158      UP   578226  104655  1063   3559   2037   1241   1358   487   248   \n159      VB     8040    2489     0    212      6      6    120     1     0   \n160     VCM    74447   24157   302   1321     29     49   1036    20    18   \n161      VM   187402   56460     0   1825      8      0   5861     1     0   \n162    YDSH    26176    3560    40     91     81     32     40    12     6   \n\n        C    C-   D+    D   D-    F    W     sumgpa  \n0     140    54   29   29   19   76   24   19148.77  \n1     175    46   16   43    6   51   14   20894.80  \n2    2155  1056  253  662  162  513  255  298558.23  \n3    2282   770  359  623  214  557  103  138932.06  \n4      79    24   16   26   10   68    6   13653.83  \n..    ...   ...  ...  ...  ...  ...  ...        ...  \n158   293   121   39   74   41  147   39   36962.39  \n159    40     0    0    2    0    0    0    1334.67  \n160   337     1    1   41    0    1    0   10682.94  \n161  3405     0    0  325    0    8   10   32050.03  \n162     4     2    0    1    2    5    3    1106.19  \n\n[163 rows x 18 columns]"
     },
     "execution_count": 49,
     "metadata": {},
     "output_type": "execute_result"
    }
   ],
   "source": [
    "df= df.groupby(\"Subject\").agg(\"sum\").reset_index()\n",
    "df\n",
    "\n"
   ]
  },
  {
   "cell_type": "code",
   "execution_count": 47,
   "metadata": {},
   "outputs": [],
   "source": [
    "df['sumgpa']=(df[\"A+\"]*4)+ (df[\"A\"]*4)+ (df[\"A-\"]*3.67)+ (df[\"B+\"]*3.33)+ (df[\"B\"]*3)+ (df[\"B-\"]*2.67)+ (df[\"C+\"]*2.33)+ (df[\"C\"]*2)+ (df[\"C-\"]*1.67)+ (df[\"D+\"]*1.33)+ (df[\"D\"]*1)"
   ]
  },
  {
   "cell_type": "code",
   "execution_count": 53,
   "metadata": {},
   "outputs": [],
   "source": [
    "df[\"STUDENTS\"]=df[\"A+\"]*1+ (df[\"A\"]*1)+ (df[\"A-\"]*1)+ (df[\"B+\"]*1)+ (df[\"B\"]*1)+ (df[\"B-\"]*1)+ (df[\"C+\"]*1)+ (df[\"C\"]*1)+ (df[\"C-\"]*1)+ (df[\"D+\"]*1)+ (df[\"D\"]*1) + df[\"D-\"]+df[\"F\"]"
   ]
  },
  {
   "cell_type": "code",
   "execution_count": 54,
   "metadata": {},
   "outputs": [
    {
     "data": {
      "text/html": "<div>\n<style scoped>\n    .dataframe tbody tr th:only-of-type {\n        vertical-align: middle;\n    }\n\n    .dataframe tbody tr th {\n        vertical-align: top;\n    }\n\n    .dataframe thead th {\n        text-align: right;\n    }\n</style>\n<table border=\"1\" class=\"dataframe\">\n  <thead>\n    <tr style=\"text-align: right;\">\n      <th></th>\n      <th>Subject</th>\n      <th>Year</th>\n      <th>Number</th>\n      <th>A+</th>\n      <th>A</th>\n      <th>A-</th>\n      <th>B+</th>\n      <th>B</th>\n      <th>B-</th>\n      <th>C+</th>\n      <th>C</th>\n      <th>C-</th>\n      <th>D+</th>\n      <th>D</th>\n      <th>D-</th>\n      <th>F</th>\n      <th>W</th>\n      <th>sumgpa</th>\n      <th>STUDENTS</th>\n    </tr>\n  </thead>\n  <tbody>\n    <tr>\n      <th>0</th>\n      <td>AAS</td>\n      <td>360617</td>\n      <td>23290</td>\n      <td>771</td>\n      <td>2094</td>\n      <td>812</td>\n      <td>517</td>\n      <td>526</td>\n      <td>246</td>\n      <td>135</td>\n      <td>140</td>\n      <td>54</td>\n      <td>29</td>\n      <td>29</td>\n      <td>19</td>\n      <td>76</td>\n      <td>24</td>\n      <td>19148.77</td>\n      <td>5448</td>\n    </tr>\n    <tr>\n      <th>1</th>\n      <td>ABE</td>\n      <td>265957</td>\n      <td>44357</td>\n      <td>315</td>\n      <td>2556</td>\n      <td>800</td>\n      <td>703</td>\n      <td>902</td>\n      <td>240</td>\n      <td>127</td>\n      <td>175</td>\n      <td>46</td>\n      <td>16</td>\n      <td>43</td>\n      <td>6</td>\n      <td>51</td>\n      <td>14</td>\n      <td>20894.80</td>\n      <td>5980</td>\n    </tr>\n    <tr>\n      <th>2</th>\n      <td>ACCY</td>\n      <td>4553856</td>\n      <td>829676</td>\n      <td>7416</td>\n      <td>23142</td>\n      <td>15600</td>\n      <td>14839</td>\n      <td>13614</td>\n      <td>5703</td>\n      <td>2798</td>\n      <td>2155</td>\n      <td>1056</td>\n      <td>253</td>\n      <td>662</td>\n      <td>162</td>\n      <td>513</td>\n      <td>255</td>\n      <td>298558.23</td>\n      <td>87913</td>\n    </tr>\n    <tr>\n      <th>3</th>\n      <td>ACE</td>\n      <td>1777080</td>\n      <td>241702</td>\n      <td>3523</td>\n      <td>13421</td>\n      <td>5040</td>\n      <td>4316</td>\n      <td>6859</td>\n      <td>2610</td>\n      <td>1627</td>\n      <td>2282</td>\n      <td>770</td>\n      <td>359</td>\n      <td>623</td>\n      <td>214</td>\n      <td>557</td>\n      <td>103</td>\n      <td>138932.06</td>\n      <td>42201</td>\n    </tr>\n    <tr>\n      <th>4</th>\n      <td>ACES</td>\n      <td>286071</td>\n      <td>16537</td>\n      <td>889</td>\n      <td>1838</td>\n      <td>259</td>\n      <td>119</td>\n      <td>272</td>\n      <td>68</td>\n      <td>67</td>\n      <td>79</td>\n      <td>24</td>\n      <td>16</td>\n      <td>26</td>\n      <td>10</td>\n      <td>68</td>\n      <td>6</td>\n      <td>13653.83</td>\n      <td>3735</td>\n    </tr>\n    <tr>\n      <th>...</th>\n      <td>...</td>\n      <td>...</td>\n      <td>...</td>\n      <td>...</td>\n      <td>...</td>\n      <td>...</td>\n      <td>...</td>\n      <td>...</td>\n      <td>...</td>\n      <td>...</td>\n      <td>...</td>\n      <td>...</td>\n      <td>...</td>\n      <td>...</td>\n      <td>...</td>\n      <td>...</td>\n      <td>...</td>\n      <td>...</td>\n      <td>...</td>\n    </tr>\n    <tr>\n      <th>158</th>\n      <td>UP</td>\n      <td>578226</td>\n      <td>104655</td>\n      <td>1063</td>\n      <td>3559</td>\n      <td>2037</td>\n      <td>1241</td>\n      <td>1358</td>\n      <td>487</td>\n      <td>248</td>\n      <td>293</td>\n      <td>121</td>\n      <td>39</td>\n      <td>74</td>\n      <td>41</td>\n      <td>147</td>\n      <td>39</td>\n      <td>36962.39</td>\n      <td>10708</td>\n    </tr>\n    <tr>\n      <th>159</th>\n      <td>VB</td>\n      <td>8040</td>\n      <td>2489</td>\n      <td>0</td>\n      <td>212</td>\n      <td>6</td>\n      <td>6</td>\n      <td>120</td>\n      <td>1</td>\n      <td>0</td>\n      <td>40</td>\n      <td>0</td>\n      <td>0</td>\n      <td>2</td>\n      <td>0</td>\n      <td>0</td>\n      <td>0</td>\n      <td>1334.67</td>\n      <td>387</td>\n    </tr>\n    <tr>\n      <th>160</th>\n      <td>VCM</td>\n      <td>74447</td>\n      <td>24157</td>\n      <td>302</td>\n      <td>1321</td>\n      <td>29</td>\n      <td>49</td>\n      <td>1036</td>\n      <td>20</td>\n      <td>18</td>\n      <td>337</td>\n      <td>1</td>\n      <td>1</td>\n      <td>41</td>\n      <td>0</td>\n      <td>1</td>\n      <td>0</td>\n      <td>10682.94</td>\n      <td>3156</td>\n    </tr>\n    <tr>\n      <th>161</th>\n      <td>VM</td>\n      <td>187402</td>\n      <td>56460</td>\n      <td>0</td>\n      <td>1825</td>\n      <td>8</td>\n      <td>0</td>\n      <td>5861</td>\n      <td>1</td>\n      <td>0</td>\n      <td>3405</td>\n      <td>0</td>\n      <td>0</td>\n      <td>325</td>\n      <td>0</td>\n      <td>8</td>\n      <td>10</td>\n      <td>32050.03</td>\n      <td>11433</td>\n    </tr>\n    <tr>\n      <th>162</th>\n      <td>YDSH</td>\n      <td>26176</td>\n      <td>3560</td>\n      <td>40</td>\n      <td>91</td>\n      <td>81</td>\n      <td>32</td>\n      <td>40</td>\n      <td>12</td>\n      <td>6</td>\n      <td>4</td>\n      <td>2</td>\n      <td>0</td>\n      <td>1</td>\n      <td>2</td>\n      <td>5</td>\n      <td>3</td>\n      <td>1106.19</td>\n      <td>316</td>\n    </tr>\n  </tbody>\n</table>\n<p>163 rows × 19 columns</p>\n</div>",
      "text/plain": "    Subject     Year  Number    A+      A     A-     B+      B    B-    C+  \\\n0       AAS   360617   23290   771   2094    812    517    526   246   135   \n1       ABE   265957   44357   315   2556    800    703    902   240   127   \n2      ACCY  4553856  829676  7416  23142  15600  14839  13614  5703  2798   \n3       ACE  1777080  241702  3523  13421   5040   4316   6859  2610  1627   \n4      ACES   286071   16537   889   1838    259    119    272    68    67   \n..      ...      ...     ...   ...    ...    ...    ...    ...   ...   ...   \n158      UP   578226  104655  1063   3559   2037   1241   1358   487   248   \n159      VB     8040    2489     0    212      6      6    120     1     0   \n160     VCM    74447   24157   302   1321     29     49   1036    20    18   \n161      VM   187402   56460     0   1825      8      0   5861     1     0   \n162    YDSH    26176    3560    40     91     81     32     40    12     6   \n\n        C    C-   D+    D   D-    F    W     sumgpa  STUDENTS  \n0     140    54   29   29   19   76   24   19148.77      5448  \n1     175    46   16   43    6   51   14   20894.80      5980  \n2    2155  1056  253  662  162  513  255  298558.23     87913  \n3    2282   770  359  623  214  557  103  138932.06     42201  \n4      79    24   16   26   10   68    6   13653.83      3735  \n..    ...   ...  ...  ...  ...  ...  ...        ...       ...  \n158   293   121   39   74   41  147   39   36962.39     10708  \n159    40     0    0    2    0    0    0    1334.67       387  \n160   337     1    1   41    0    1    0   10682.94      3156  \n161  3405     0    0  325    0    8   10   32050.03     11433  \n162     4     2    0    1    2    5    3    1106.19       316  \n\n[163 rows x 19 columns]"
     },
     "execution_count": 54,
     "metadata": {},
     "output_type": "execute_result"
    }
   ],
   "source": [
    "df"
   ]
  },
  {
   "cell_type": "code",
   "execution_count": 55,
   "metadata": {},
   "outputs": [
    {
     "data": {
      "text/plain": "0      3.514826\n1      3.494114\n2      3.396065\n3      3.292151\n4      3.655644\n         ...   \n158    3.451848\n159    3.448760\n160    3.384962\n161    2.803291\n162    3.500601\nLength: 163, dtype: float64"
     },
     "execution_count": 55,
     "metadata": {},
     "output_type": "execute_result"
    }
   ],
   "source": [
    "df[\"sumgpa\"]/df[\"STUDENTS\"]"
   ]
  },
  {
   "cell_type": "markdown",
   "metadata": {},
   "source": [
    "# Finale! <a id='p4'></a> ([back to toc](#toc))\n",
    "\n",
    "You're almost done -- congratulations!\n",
    "\n",
    "You need to do two more things:\n",
    "\n",
    "1. Save your work.  To do this, create a **notebook checkpoint** by using the menu within the notebook to go **File -> Save and Checkpoint**\n",
    "\n",
    "2. After you have saved and checkpointed, exit this notebook and return to the Data Science Discovery page on how to use git to turn this notebook into the course!"
   ]
  }
 ],
 "metadata": {
  "kernelspec": {
   "display_name": "Python 3.8.3 64-bit ('base': conda)",
   "name": "python383jvsc74a57bd0b8532a2b837a6fbe15094c719a0937c54384c2ad0b93f1b59ac25bc98c717a2b"
  },
  "language_info": {
   "codemirror_mode": {
    "name": "ipython",
    "version": 3
   },
   "file_extension": ".py",
   "mimetype": "text/x-python",
   "name": "python",
   "nbconvert_exporter": "python",
   "pygments_lexer": "ipython3",
   "version": "3.8.3"
  },
  "orig_nbformat": 3
 },
 "nbformat": 4,
 "nbformat_minor": 4
}