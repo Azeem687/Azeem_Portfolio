{
 "cells": [
  {
   "cell_type": "markdown",
   "metadata": {},
   "source": [
    "# Lab: GPA\n",
    "\n",
    "In this lab, you will explore Wade's famous GPA dataset and find out about the easiest, hardest, and most popular courses at Illinois!\n",
    "\n",
    "The dataset you are using is this lab is actually the same dataset that Prof Wade used to make the GPA visualizations :) Check this out here if you haven't seen it already: [https://waf.cs.illinois.edu/discovery/grade_disparity_between_sections_at_uiuc/](https://waf.cs.illinois.edu/discovery/grade_disparity_between_sections_at_uiuc/)\n",
    "\n",
    "## Group\n",
    "\n",
    "Edit the next Python cell to add information about who you're working within your lab section:"
   ]
  },
  {
   "cell_type": "code",
   "execution_count": 3,
   "metadata": {},
   "outputs": [],
   "source": [
    "# First, meet your CAs and TA if you haven't already!\n",
    "# ...first name is enough, we'll know who they are! :)\n",
    "ta_name = \"Heman\"\n",
    "ca1_name = \"Justin\"\n",
    "ca2_name = \"Jessica\"\n",
    "\n",
    "\n",
    "# Also, make sure to meet your team for this lab! Find out their name, what major they're in,\n",
    "# and learn something new about them that you never knew before!\n",
    "partner1_name = \"Jai Rajpal\"\n",
    "partner1_netid = \"jrajpal2\"\n",
    "partner1_major = \"Information Sciences\"\n",
    "\n",
    "partner2_name = \"\"\n",
    "partner2_netid = \"\"\n",
    "partner2_major = \"\"\n",
    "\n",
    "partner3_name = \"\"\n",
    "partner3_netid = \"\"\n",
    "partner3_major = \"\""
   ]
  },
  {
   "cell_type": "markdown",
   "metadata": {},
   "source": [
    "## Table of Contents <a id='toc'></a>\n",
    "\n",
    "**Use the Outline view (View > Command Palette > Type \"outline\") for navigation.**\n",
    "\n",
    "* Puzzle 1\n",
    "    * Puzzle 1.1\n",
    "    * Puzzle 1.2\n",
    "* Puzzle 2\n",
    "    * Puzzle 2.1\n",
    "    * Puzzle 2.2\n",
    "    * Puzzle 2.3 \n",
    "    * Puzzle 2.4\n",
    "* Puzzle 3\n",
    "    * Puzzle 3.1\n",
    "    * Puzzle 3.2\n",
    "    * Puzzle 3.3\n",
    "    * Puzzle 3.4\n",
    "    * Puzzle 3.5\n",
    "\n",
    "## Puzzle 1: Basic Data Manipulation\n",
    "\n",
    "### Puzzle 1.1: Loading the Dataset\n",
    "\n",
    "For the first part of our lab, we'll be using the GPA dataset, which should be automatically downloaded when you fetch this notebook. \n",
    "\n",
    "In the following cell, load the pandas library and read the dataset into `df`."
   ]
  },
  {
   "cell_type": "code",
   "execution_count": 4,
   "metadata": {
    "nbgrader": {
     "grade": false,
     "grade_id": "cell-51fef9428e349da7",
     "locked": false,
     "schema_version": 3,
     "solution": true,
     "task": false
    }
   },
   "outputs": [],
   "source": [
    "#import the gpa.csv dataset below\n",
    "import pandas as pd\n",
    "df = pd.read_csv(\"gpa.csv\")"
   ]
  },
  {
   "cell_type": "markdown",
   "metadata": {},
   "source": [
    "### Puzzle 1.2: Adding Helper Columns\n",
    "\n",
    "Add two new columns, `\"Total Students\"` and `\"Average GPA\"`, that compute the total number of students in each course and the average GPA for each course, respectively.\n",
    "\n",
    "You should not include students with a `\"W\"` in either column. The grade point scale can be found at https://registrar.illinois.edu/courses-grades/explanation-of-grades/.\n",
    "\n",
    "Hint (double-click this cell to see it): <span style=\"color:#ffffff00\">it is not necessary but you can try the dot() function; see https://stackoverflow.com/questions/18419962/how-to-compute-weighted-sum-of-all-elements-in-a-row-in-pandas for some examples.</span>"
   ]
  },
  {
   "cell_type": "code",
   "execution_count": 5,
   "metadata": {
    "nbgrader": {
     "grade": false,
     "grade_id": "cell-1043285927ac8a85",
     "locked": false,
     "schema_version": 3,
     "solution": true,
     "task": false
    }
   },
   "outputs": [],
   "source": [
    "weight = [4, 4, 3.67, 3.33, 3, 2.67, 2.33, 2, 1.67, 1.33, 1, 0.67, 0]\n",
    "grade = [\"A+\", \"A\", \"A-\", \"B+\", \"B\", \"B-\", \"C+\", \"C\", \"C-\", \"D+\", \"D\", \"D-\", \"F\"]\n",
    "df[\"Total Students\"] = df[grade].sum(axis=1)\n",
    "df[\"Average GPA\"] =  df[grade].dot(weight)/df[\"Total Students\"]"
   ]
  },
  {
   "cell_type": "code",
   "execution_count": 6,
   "metadata": {},
   "outputs": [
    {
     "data": {
      "text/html": "<div>\n<style scoped>\n    .dataframe tbody tr th:only-of-type {\n        vertical-align: middle;\n    }\n\n    .dataframe tbody tr th {\n        vertical-align: top;\n    }\n\n    .dataframe thead th {\n        text-align: right;\n    }\n</style>\n<table border=\"1\" class=\"dataframe\">\n  <thead>\n    <tr style=\"text-align: right;\">\n      <th></th>\n      <th>Year</th>\n      <th>Term</th>\n      <th>YearTerm</th>\n      <th>Subject</th>\n      <th>Number</th>\n      <th>Course Title</th>\n      <th>A+</th>\n      <th>A</th>\n      <th>A-</th>\n      <th>B+</th>\n      <th>...</th>\n      <th>C</th>\n      <th>C-</th>\n      <th>D+</th>\n      <th>D</th>\n      <th>D-</th>\n      <th>F</th>\n      <th>W</th>\n      <th>Primary Instructor</th>\n      <th>Total Students</th>\n      <th>Average GPA</th>\n    </tr>\n  </thead>\n  <tbody>\n    <tr>\n      <th>0</th>\n      <td>2020</td>\n      <td>Spring</td>\n      <td>2020-sp</td>\n      <td>AAS</td>\n      <td>100</td>\n      <td>Intro Asian American Studies</td>\n      <td>12</td>\n      <td>12</td>\n      <td>1</td>\n      <td>0</td>\n      <td>...</td>\n      <td>1</td>\n      <td>0</td>\n      <td>0</td>\n      <td>0</td>\n      <td>0</td>\n      <td>1</td>\n      <td>0</td>\n      <td>Boonsripaisal, Simon</td>\n      <td>30</td>\n      <td>3.678000</td>\n    </tr>\n    <tr>\n      <th>1</th>\n      <td>2020</td>\n      <td>Spring</td>\n      <td>2020-sp</td>\n      <td>AAS</td>\n      <td>100</td>\n      <td>Intro Asian American Studies</td>\n      <td>5</td>\n      <td>12</td>\n      <td>4</td>\n      <td>1</td>\n      <td>...</td>\n      <td>0</td>\n      <td>0</td>\n      <td>0</td>\n      <td>0</td>\n      <td>0</td>\n      <td>1</td>\n      <td>0</td>\n      <td>Boonsripaisal, Simon</td>\n      <td>30</td>\n      <td>3.511333</td>\n    </tr>\n    <tr>\n      <th>2</th>\n      <td>2020</td>\n      <td>Spring</td>\n      <td>2020-sp</td>\n      <td>AAS</td>\n      <td>100</td>\n      <td>Intro Asian American Studies</td>\n      <td>0</td>\n      <td>8</td>\n      <td>7</td>\n      <td>3</td>\n      <td>...</td>\n      <td>0</td>\n      <td>2</td>\n      <td>0</td>\n      <td>0</td>\n      <td>0</td>\n      <td>0</td>\n      <td>0</td>\n      <td>Uhall, Michael B</td>\n      <td>31</td>\n      <td>3.280323</td>\n    </tr>\n    <tr>\n      <th>3</th>\n      <td>2020</td>\n      <td>Spring</td>\n      <td>2020-sp</td>\n      <td>AAS</td>\n      <td>100</td>\n      <td>Intro Asian American Studies</td>\n      <td>8</td>\n      <td>6</td>\n      <td>2</td>\n      <td>0</td>\n      <td>...</td>\n      <td>2</td>\n      <td>1</td>\n      <td>0</td>\n      <td>0</td>\n      <td>0</td>\n      <td>0</td>\n      <td>0</td>\n      <td>Uhall, Michael B</td>\n      <td>25</td>\n      <td>3.440400</td>\n    </tr>\n    <tr>\n      <th>4</th>\n      <td>2020</td>\n      <td>Spring</td>\n      <td>2020-sp</td>\n      <td>AAS</td>\n      <td>100</td>\n      <td>Intro Asian American Studies</td>\n      <td>5</td>\n      <td>4</td>\n      <td>3</td>\n      <td>1</td>\n      <td>...</td>\n      <td>2</td>\n      <td>1</td>\n      <td>1</td>\n      <td>0</td>\n      <td>1</td>\n      <td>1</td>\n      <td>0</td>\n      <td>Kang, Yoonjung</td>\n      <td>25</td>\n      <td>3.000400</td>\n    </tr>\n    <tr>\n      <th>...</th>\n      <td>...</td>\n      <td>...</td>\n      <td>...</td>\n      <td>...</td>\n      <td>...</td>\n      <td>...</td>\n      <td>...</td>\n      <td>...</td>\n      <td>...</td>\n      <td>...</td>\n      <td>...</td>\n      <td>...</td>\n      <td>...</td>\n      <td>...</td>\n      <td>...</td>\n      <td>...</td>\n      <td>...</td>\n      <td>...</td>\n      <td>...</td>\n      <td>...</td>\n      <td>...</td>\n    </tr>\n    <tr>\n      <th>53928</th>\n      <td>2010</td>\n      <td>Summer</td>\n      <td>2010-su</td>\n      <td>STAT</td>\n      <td>410</td>\n      <td>Statistics and Probability II</td>\n      <td>5</td>\n      <td>10</td>\n      <td>2</td>\n      <td>2</td>\n      <td>...</td>\n      <td>1</td>\n      <td>3</td>\n      <td>0</td>\n      <td>0</td>\n      <td>0</td>\n      <td>2</td>\n      <td>1</td>\n      <td>Stepanov, Alexei G</td>\n      <td>31</td>\n      <td>3.183226</td>\n    </tr>\n    <tr>\n      <th>53929</th>\n      <td>2010</td>\n      <td>Summer</td>\n      <td>2010-su</td>\n      <td>STAT</td>\n      <td>440</td>\n      <td>Statistical Data Management</td>\n      <td>4</td>\n      <td>12</td>\n      <td>8</td>\n      <td>1</td>\n      <td>...</td>\n      <td>0</td>\n      <td>0</td>\n      <td>0</td>\n      <td>0</td>\n      <td>0</td>\n      <td>0</td>\n      <td>0</td>\n      <td>Unger, David</td>\n      <td>28</td>\n      <td>3.774643</td>\n    </tr>\n    <tr>\n      <th>53930</th>\n      <td>2010</td>\n      <td>Summer</td>\n      <td>2010-su</td>\n      <td>TAM</td>\n      <td>212</td>\n      <td>Introductory Dynamics</td>\n      <td>0</td>\n      <td>1</td>\n      <td>3</td>\n      <td>2</td>\n      <td>...</td>\n      <td>1</td>\n      <td>1</td>\n      <td>0</td>\n      <td>2</td>\n      <td>0</td>\n      <td>1</td>\n      <td>0</td>\n      <td>Morgan, William T</td>\n      <td>28</td>\n      <td>2.595714</td>\n    </tr>\n    <tr>\n      <th>53931</th>\n      <td>2010</td>\n      <td>Summer</td>\n      <td>2010-su</td>\n      <td>TAM</td>\n      <td>251</td>\n      <td>Introductory Solid Mechanics</td>\n      <td>1</td>\n      <td>2</td>\n      <td>2</td>\n      <td>1</td>\n      <td>...</td>\n      <td>3</td>\n      <td>2</td>\n      <td>0</td>\n      <td>0</td>\n      <td>1</td>\n      <td>1</td>\n      <td>0</td>\n      <td>Ott-Monsivais, Stephanie</td>\n      <td>21</td>\n      <td>2.603333</td>\n    </tr>\n    <tr>\n      <th>53932</th>\n      <td>2010</td>\n      <td>Summer</td>\n      <td>2010-su</td>\n      <td>TAM</td>\n      <td>335</td>\n      <td>Introductory Fluid Mechanics</td>\n      <td>5</td>\n      <td>8</td>\n      <td>9</td>\n      <td>4</td>\n      <td>...</td>\n      <td>4</td>\n      <td>0</td>\n      <td>0</td>\n      <td>1</td>\n      <td>0</td>\n      <td>2</td>\n      <td>0</td>\n      <td>Keane, Richard D</td>\n      <td>39</td>\n      <td>3.205641</td>\n    </tr>\n  </tbody>\n</table>\n<p>53933 rows × 23 columns</p>\n</div>",
      "text/plain": "       Year    Term YearTerm Subject  Number                   Course Title  \\\n0      2020  Spring  2020-sp     AAS     100   Intro Asian American Studies   \n1      2020  Spring  2020-sp     AAS     100   Intro Asian American Studies   \n2      2020  Spring  2020-sp     AAS     100   Intro Asian American Studies   \n3      2020  Spring  2020-sp     AAS     100   Intro Asian American Studies   \n4      2020  Spring  2020-sp     AAS     100   Intro Asian American Studies   \n...     ...     ...      ...     ...     ...                            ...   \n53928  2010  Summer  2010-su    STAT     410  Statistics and Probability II   \n53929  2010  Summer  2010-su    STAT     440    Statistical Data Management   \n53930  2010  Summer  2010-su     TAM     212          Introductory Dynamics   \n53931  2010  Summer  2010-su     TAM     251   Introductory Solid Mechanics   \n53932  2010  Summer  2010-su     TAM     335   Introductory Fluid Mechanics   \n\n       A+   A  A-  B+  ...  C  C-  D+  D  D-  F  W        Primary Instructor  \\\n0      12  12   1   0  ...  1   0   0  0   0  1  0      Boonsripaisal, Simon   \n1       5  12   4   1  ...  0   0   0  0   0  1  0      Boonsripaisal, Simon   \n2       0   8   7   3  ...  0   2   0  0   0  0  0          Uhall, Michael B   \n3       8   6   2   0  ...  2   1   0  0   0  0  0          Uhall, Michael B   \n4       5   4   3   1  ...  2   1   1  0   1  1  0            Kang, Yoonjung   \n...    ..  ..  ..  ..  ... ..  ..  .. ..  .. .. ..                       ...   \n53928   5  10   2   2  ...  1   3   0  0   0  2  1        Stepanov, Alexei G   \n53929   4  12   8   1  ...  0   0   0  0   0  0  0              Unger, David   \n53930   0   1   3   2  ...  1   1   0  2   0  1  0         Morgan, William T   \n53931   1   2   2   1  ...  3   2   0  0   1  1  0  Ott-Monsivais, Stephanie   \n53932   5   8   9   4  ...  4   0   0  1   0  2  0          Keane, Richard D   \n\n       Total Students  Average GPA  \n0                  30     3.678000  \n1                  30     3.511333  \n2                  31     3.280323  \n3                  25     3.440400  \n4                  25     3.000400  \n...               ...          ...  \n53928              31     3.183226  \n53929              28     3.774643  \n53930              28     2.595714  \n53931              21     2.603333  \n53932              39     3.205641  \n\n[53933 rows x 23 columns]"
     },
     "execution_count": 6,
     "metadata": {},
     "output_type": "execute_result"
    }
   ],
   "source": [
    "df"
   ]
  },
  {
   "cell_type": "code",
   "execution_count": 7,
   "metadata": {
    "nbgrader": {
     "grade": true,
     "grade_id": "cell-46729cc74c213e52",
     "locked": true,
     "points": 1,
     "schema_version": 3,
     "solution": false,
     "task": false
    }
   },
   "outputs": [
    {
     "name": "stdout",
     "output_type": "stream",
     "text": [
      "🎉 All tests passed! 🎉\n"
     ]
    }
   ],
   "source": [
    "## == TEST CASES for Puzzle 1.2 ==\n",
    "# - This read-only cell contains test cases for your previous cell.\n",
    "# - If this cell runs without any error our output, you PASSED all test cases!\n",
    "# - If this cell results in any errors, check your previous cell, make changes, and RE-RUN your code and then this cell.\n",
    "assert(df[\n",
    "  (df[\"YearTerm\"] == \"2010-su\") & \\\n",
    "  (df[\"Subject\"] == \"STAT\") & \\\n",
    "  (df[\"Number\"] == 410) \\\n",
    "][\"Total Students\"].sum() == 31), \"It appears that your \\\"Total Students\\\" column is incorrect.\"\n",
    "assert(df[\n",
    "  (df[\"YearTerm\"] == \"2018-fa\") & \\\n",
    "  (df[\"Subject\"] == \"CS\") & \\\n",
    "  (df[\"Number\"] == 225) \\\n",
    "][\"Total Students\"].sum() == 697), \"It appears that your \\\"Total Students\\\" column is incorrect.\"\n",
    "assert( abs(df[\n",
    "  (df[\"YearTerm\"] == \"2018-fa\") & \\\n",
    "  (df[\"Subject\"] == \"STAT\") & \\\n",
    "  (df[\"Number\"] == 100) \\\n",
    "][\"Average GPA\"].mean() - 3.247) < 0.01), \"It appears that your \\\"Average GPA\\\" column is incorrect.\"\n",
    "## == SUCCESS MESSAGE ==\n",
    "# You will only see this message (with the emoji showing) if you passed all test cases:\n",
    "tada = \"\\N{PARTY POPPER}\"\n",
    "print(f\"{tada} All tests passed! {tada}\")"
   ]
  },
  {
   "cell_type": "markdown",
   "metadata": {
    "nbgrader": {
     "grade": false,
     "grade_id": "cell-7cf39ab5f78a3f48",
     "locked": false,
     "schema_version": 3,
     "solution": false,
     "task": false
    }
   },
   "source": [
    "## Puzzle 2: Finding the Easiest and Hardest Courses\n",
    "\n",
    "### Puzzle 2.1: Hardest Courses in the Dataset\n",
    "\n",
    "Based on the `\"Average GPA\"` column, find the **30 hardest courses** at Illinois, i.e., the 30 courses with the lowest \"Average GPA\". Store the results in `df_hard`.\n",
    "\n",
    "Hint (double-click this cell to see it): <span style=\"color:#ffffff00\">use the nsmallest() function</span>"
   ]
  },
  {
   "cell_type": "code",
   "execution_count": 5,
   "metadata": {
    "nbgrader": {
     "grade": false,
     "grade_id": "cell-13f6d92b7a658526",
     "locked": false,
     "schema_version": 3,
     "solution": true,
     "task": false
    }
   },
   "outputs": [
    {
     "data": {
      "text/html": "<div>\n<style scoped>\n    .dataframe tbody tr th:only-of-type {\n        vertical-align: middle;\n    }\n\n    .dataframe tbody tr th {\n        vertical-align: top;\n    }\n\n    .dataframe thead th {\n        text-align: right;\n    }\n</style>\n<table border=\"1\" class=\"dataframe\">\n  <thead>\n    <tr style=\"text-align: right;\">\n      <th></th>\n      <th>Year</th>\n      <th>Term</th>\n      <th>YearTerm</th>\n      <th>Subject</th>\n      <th>Number</th>\n      <th>Course Title</th>\n      <th>A+</th>\n      <th>A</th>\n      <th>A-</th>\n      <th>B+</th>\n      <th>...</th>\n      <th>C</th>\n      <th>C-</th>\n      <th>D+</th>\n      <th>D</th>\n      <th>D-</th>\n      <th>F</th>\n      <th>W</th>\n      <th>Primary Instructor</th>\n      <th>Total Students</th>\n      <th>Average GPA</th>\n    </tr>\n  </thead>\n  <tbody>\n    <tr>\n      <th>9089</th>\n      <td>2018</td>\n      <td>Fall</td>\n      <td>2018-fa</td>\n      <td>LER</td>\n      <td>120</td>\n      <td>Contemporary Labor Problems</td>\n      <td>0</td>\n      <td>0</td>\n      <td>1</td>\n      <td>2</td>\n      <td>...</td>\n      <td>1</td>\n      <td>2</td>\n      <td>1</td>\n      <td>1</td>\n      <td>0</td>\n      <td>15</td>\n      <td>0</td>\n      <td>Taylor, Don</td>\n      <td>28</td>\n      <td>1.142857</td>\n    </tr>\n    <tr>\n      <th>21561</th>\n      <td>2016</td>\n      <td>Spring</td>\n      <td>2016-sp</td>\n      <td>LER</td>\n      <td>100</td>\n      <td>Introduction to Labor Studies</td>\n      <td>0</td>\n      <td>1</td>\n      <td>0</td>\n      <td>1</td>\n      <td>...</td>\n      <td>4</td>\n      <td>1</td>\n      <td>1</td>\n      <td>1</td>\n      <td>1</td>\n      <td>10</td>\n      <td>0</td>\n      <td>Hawking, Carol J</td>\n      <td>24</td>\n      <td>1.319583</td>\n    </tr>\n    <tr>\n      <th>29374</th>\n      <td>2014</td>\n      <td>Fall</td>\n      <td>2014-fa</td>\n      <td>LER</td>\n      <td>120</td>\n      <td>Contemporary Labor Problems</td>\n      <td>0</td>\n      <td>4</td>\n      <td>0</td>\n      <td>1</td>\n      <td>...</td>\n      <td>4</td>\n      <td>1</td>\n      <td>0</td>\n      <td>1</td>\n      <td>0</td>\n      <td>15</td>\n      <td>1</td>\n      <td>Hershfield, David</td>\n      <td>30</td>\n      <td>1.400000</td>\n    </tr>\n    <tr>\n      <th>31642</th>\n      <td>2014</td>\n      <td>Spring</td>\n      <td>2014-sp</td>\n      <td>LER</td>\n      <td>120</td>\n      <td>Contemporary Labor Problems</td>\n      <td>0</td>\n      <td>1</td>\n      <td>3</td>\n      <td>0</td>\n      <td>...</td>\n      <td>3</td>\n      <td>0</td>\n      <td>0</td>\n      <td>0</td>\n      <td>2</td>\n      <td>11</td>\n      <td>0</td>\n      <td>Cohen, Margaret L</td>\n      <td>25</td>\n      <td>1.427600</td>\n    </tr>\n    <tr>\n      <th>34439</th>\n      <td>2013</td>\n      <td>Fall</td>\n      <td>2013-fa</td>\n      <td>MATH</td>\n      <td>2</td>\n      <td>Introductory Algebra</td>\n      <td>0</td>\n      <td>0</td>\n      <td>0</td>\n      <td>0</td>\n      <td>...</td>\n      <td>10</td>\n      <td>5</td>\n      <td>3</td>\n      <td>3</td>\n      <td>2</td>\n      <td>5</td>\n      <td>3</td>\n      <td>Aydin-Mullen, Yelda</td>\n      <td>31</td>\n      <td>1.430645</td>\n    </tr>\n    <tr>\n      <th>31717</th>\n      <td>2014</td>\n      <td>Spring</td>\n      <td>2014-sp</td>\n      <td>MATH</td>\n      <td>220</td>\n      <td>Calculus</td>\n      <td>0</td>\n      <td>3</td>\n      <td>0</td>\n      <td>0</td>\n      <td>...</td>\n      <td>5</td>\n      <td>0</td>\n      <td>2</td>\n      <td>1</td>\n      <td>0</td>\n      <td>11</td>\n      <td>1</td>\n      <td>Gilbert, Rebekah A</td>\n      <td>28</td>\n      <td>1.476071</td>\n    </tr>\n    <tr>\n      <th>6361</th>\n      <td>2019</td>\n      <td>Spring</td>\n      <td>2019-sp</td>\n      <td>LER</td>\n      <td>100</td>\n      <td>Introduction to Labor Studies</td>\n      <td>0</td>\n      <td>2</td>\n      <td>1</td>\n      <td>2</td>\n      <td>...</td>\n      <td>0</td>\n      <td>0</td>\n      <td>0</td>\n      <td>2</td>\n      <td>1</td>\n      <td>9</td>\n      <td>0</td>\n      <td>Cohen, Margaret L</td>\n      <td>21</td>\n      <td>1.491905</td>\n    </tr>\n    <tr>\n      <th>19289</th>\n      <td>2016</td>\n      <td>Fall</td>\n      <td>2016-fa</td>\n      <td>LER</td>\n      <td>120</td>\n      <td>Contemporary Labor Problems</td>\n      <td>0</td>\n      <td>2</td>\n      <td>2</td>\n      <td>1</td>\n      <td>...</td>\n      <td>0</td>\n      <td>1</td>\n      <td>2</td>\n      <td>1</td>\n      <td>2</td>\n      <td>8</td>\n      <td>2</td>\n      <td>Hershfield, David</td>\n      <td>22</td>\n      <td>1.515455</td>\n    </tr>\n    <tr>\n      <th>19557</th>\n      <td>2016</td>\n      <td>Fall</td>\n      <td>2016-fa</td>\n      <td>MCB</td>\n      <td>245</td>\n      <td>Human Anat &amp; Physiol Lab I</td>\n      <td>0</td>\n      <td>0</td>\n      <td>0</td>\n      <td>0</td>\n      <td>...</td>\n      <td>3</td>\n      <td>4</td>\n      <td>1</td>\n      <td>2</td>\n      <td>0</td>\n      <td>6</td>\n      <td>1</td>\n      <td>Swigart, James P</td>\n      <td>23</td>\n      <td>1.522174</td>\n    </tr>\n    <tr>\n      <th>29421</th>\n      <td>2014</td>\n      <td>Fall</td>\n      <td>2014-fa</td>\n      <td>LLS</td>\n      <td>296</td>\n      <td>Bilingual US Latina/o Culture</td>\n      <td>3</td>\n      <td>1</td>\n      <td>0</td>\n      <td>1</td>\n      <td>...</td>\n      <td>1</td>\n      <td>1</td>\n      <td>1</td>\n      <td>0</td>\n      <td>2</td>\n      <td>11</td>\n      <td>1</td>\n      <td>Romero, Rolando J</td>\n      <td>27</td>\n      <td>1.568519</td>\n    </tr>\n    <tr>\n      <th>29585</th>\n      <td>2014</td>\n      <td>Fall</td>\n      <td>2014-fa</td>\n      <td>MCB</td>\n      <td>245</td>\n      <td>Human Anat &amp; Physiol Lab I</td>\n      <td>0</td>\n      <td>0</td>\n      <td>1</td>\n      <td>0</td>\n      <td>...</td>\n      <td>1</td>\n      <td>3</td>\n      <td>5</td>\n      <td>1</td>\n      <td>1</td>\n      <td>5</td>\n      <td>0</td>\n      <td>Swigart, James P</td>\n      <td>25</td>\n      <td>1.586800</td>\n    </tr>\n    <tr>\n      <th>16490</th>\n      <td>2017</td>\n      <td>Spring</td>\n      <td>2017-sp</td>\n      <td>LER</td>\n      <td>100</td>\n      <td>Introduction to Labor Studies</td>\n      <td>0</td>\n      <td>2</td>\n      <td>1</td>\n      <td>1</td>\n      <td>...</td>\n      <td>3</td>\n      <td>2</td>\n      <td>0</td>\n      <td>1</td>\n      <td>0</td>\n      <td>9</td>\n      <td>0</td>\n      <td>Ashby, Steven</td>\n      <td>23</td>\n      <td>1.594783</td>\n    </tr>\n    <tr>\n      <th>10440</th>\n      <td>2018</td>\n      <td>Spring</td>\n      <td>2018-sp</td>\n      <td>CHEM</td>\n      <td>101</td>\n      <td>Introductory Chemistry</td>\n      <td>1</td>\n      <td>5</td>\n      <td>8</td>\n      <td>1</td>\n      <td>...</td>\n      <td>10</td>\n      <td>9</td>\n      <td>11</td>\n      <td>23</td>\n      <td>10</td>\n      <td>26</td>\n      <td>7</td>\n      <td>Decoste, Donald J</td>\n      <td>132</td>\n      <td>1.598864</td>\n    </tr>\n    <tr>\n      <th>19285</th>\n      <td>2016</td>\n      <td>Fall</td>\n      <td>2016-fa</td>\n      <td>LER</td>\n      <td>100</td>\n      <td>Introduction to Labor Studies</td>\n      <td>0</td>\n      <td>2</td>\n      <td>1</td>\n      <td>2</td>\n      <td>...</td>\n      <td>3</td>\n      <td>2</td>\n      <td>0</td>\n      <td>1</td>\n      <td>1</td>\n      <td>10</td>\n      <td>0</td>\n      <td>Stewart, Beverly L</td>\n      <td>27</td>\n      <td>1.605185</td>\n    </tr>\n    <tr>\n      <th>19288</th>\n      <td>2016</td>\n      <td>Fall</td>\n      <td>2016-fa</td>\n      <td>LER</td>\n      <td>110</td>\n      <td>Labor and Social Movements</td>\n      <td>0</td>\n      <td>4</td>\n      <td>2</td>\n      <td>0</td>\n      <td>...</td>\n      <td>2</td>\n      <td>1</td>\n      <td>0</td>\n      <td>1</td>\n      <td>4</td>\n      <td>8</td>\n      <td>0</td>\n      <td>Ashby, Steven</td>\n      <td>25</td>\n      <td>1.614400</td>\n    </tr>\n    <tr>\n      <th>44909</th>\n      <td>2011</td>\n      <td>Spring</td>\n      <td>2011-sp</td>\n      <td>MATH</td>\n      <td>115</td>\n      <td>Preparation for Calculus</td>\n      <td>1</td>\n      <td>4</td>\n      <td>2</td>\n      <td>1</td>\n      <td>...</td>\n      <td>5</td>\n      <td>0</td>\n      <td>9</td>\n      <td>11</td>\n      <td>2</td>\n      <td>18</td>\n      <td>0</td>\n      <td>Carty, Thomas E</td>\n      <td>71</td>\n      <td>1.619296</td>\n    </tr>\n    <tr>\n      <th>19548</th>\n      <td>2016</td>\n      <td>Fall</td>\n      <td>2016-fa</td>\n      <td>MCB</td>\n      <td>245</td>\n      <td>Human Anat &amp; Physiol Lab I</td>\n      <td>0</td>\n      <td>0</td>\n      <td>1</td>\n      <td>1</td>\n      <td>...</td>\n      <td>1</td>\n      <td>3</td>\n      <td>3</td>\n      <td>4</td>\n      <td>1</td>\n      <td>4</td>\n      <td>2</td>\n      <td>Swigart, James P</td>\n      <td>25</td>\n      <td>1.626800</td>\n    </tr>\n    <tr>\n      <th>44845</th>\n      <td>2011</td>\n      <td>Spring</td>\n      <td>2011-sp</td>\n      <td>LER</td>\n      <td>100</td>\n      <td>Introduction to Labor Studies</td>\n      <td>2</td>\n      <td>1</td>\n      <td>0</td>\n      <td>2</td>\n      <td>...</td>\n      <td>1</td>\n      <td>2</td>\n      <td>0</td>\n      <td>0</td>\n      <td>1</td>\n      <td>9</td>\n      <td>2</td>\n      <td>Konopacki, Mike</td>\n      <td>22</td>\n      <td>1.636364</td>\n    </tr>\n    <tr>\n      <th>31237</th>\n      <td>2014</td>\n      <td>Spring</td>\n      <td>2014-sp</td>\n      <td>ENGL</td>\n      <td>274</td>\n      <td>Contemporary Classics</td>\n      <td>0</td>\n      <td>1</td>\n      <td>3</td>\n      <td>0</td>\n      <td>...</td>\n      <td>1</td>\n      <td>2</td>\n      <td>1</td>\n      <td>0</td>\n      <td>0</td>\n      <td>8</td>\n      <td>1</td>\n      <td>Hutner, Gordon</td>\n      <td>21</td>\n      <td>1.651429</td>\n    </tr>\n    <tr>\n      <th>24352</th>\n      <td>2015</td>\n      <td>Fall</td>\n      <td>2015-fa</td>\n      <td>MATH</td>\n      <td>181</td>\n      <td>A Mathematical World</td>\n      <td>1</td>\n      <td>3</td>\n      <td>0</td>\n      <td>2</td>\n      <td>...</td>\n      <td>3</td>\n      <td>1</td>\n      <td>1</td>\n      <td>1</td>\n      <td>1</td>\n      <td>8</td>\n      <td>0</td>\n      <td>Loeb, Sarah J</td>\n      <td>23</td>\n      <td>1.651739</td>\n    </tr>\n    <tr>\n      <th>9299</th>\n      <td>2018</td>\n      <td>Fall</td>\n      <td>2018-fa</td>\n      <td>MCB</td>\n      <td>245</td>\n      <td>Human Anat &amp; Physiol Lab I</td>\n      <td>0</td>\n      <td>0</td>\n      <td>1</td>\n      <td>2</td>\n      <td>...</td>\n      <td>4</td>\n      <td>1</td>\n      <td>0</td>\n      <td>1</td>\n      <td>1</td>\n      <td>7</td>\n      <td>0</td>\n      <td>Swigart, James P</td>\n      <td>23</td>\n      <td>1.652174</td>\n    </tr>\n    <tr>\n      <th>19553</th>\n      <td>2016</td>\n      <td>Fall</td>\n      <td>2016-fa</td>\n      <td>MCB</td>\n      <td>245</td>\n      <td>Human Anat &amp; Physiol Lab I</td>\n      <td>0</td>\n      <td>0</td>\n      <td>1</td>\n      <td>2</td>\n      <td>...</td>\n      <td>3</td>\n      <td>1</td>\n      <td>1</td>\n      <td>1</td>\n      <td>3</td>\n      <td>6</td>\n      <td>0</td>\n      <td>Swigart, James P</td>\n      <td>26</td>\n      <td>1.654231</td>\n    </tr>\n    <tr>\n      <th>43257</th>\n      <td>2011</td>\n      <td>Fall</td>\n      <td>2011-fa</td>\n      <td>TAM</td>\n      <td>251</td>\n      <td>Introductory Solid Mechanics</td>\n      <td>1</td>\n      <td>0</td>\n      <td>4</td>\n      <td>2</td>\n      <td>...</td>\n      <td>23</td>\n      <td>3</td>\n      <td>6</td>\n      <td>23</td>\n      <td>9</td>\n      <td>11</td>\n      <td>0</td>\n      <td>Starzewski, Martin O</td>\n      <td>102</td>\n      <td>1.657157</td>\n    </tr>\n    <tr>\n      <th>48465</th>\n      <td>2011</td>\n      <td>Summer</td>\n      <td>2011-su</td>\n      <td>TAM</td>\n      <td>251</td>\n      <td>Introductory Solid Mechanics</td>\n      <td>1</td>\n      <td>0</td>\n      <td>4</td>\n      <td>2</td>\n      <td>...</td>\n      <td>23</td>\n      <td>3</td>\n      <td>6</td>\n      <td>23</td>\n      <td>9</td>\n      <td>11</td>\n      <td>0</td>\n      <td>Starzewski, Martin O</td>\n      <td>102</td>\n      <td>1.657157</td>\n    </tr>\n    <tr>\n      <th>29170</th>\n      <td>2014</td>\n      <td>Fall</td>\n      <td>2014-fa</td>\n      <td>IE</td>\n      <td>300</td>\n      <td>Analysis of Data</td>\n      <td>4</td>\n      <td>1</td>\n      <td>3</td>\n      <td>1</td>\n      <td>...</td>\n      <td>13</td>\n      <td>10</td>\n      <td>9</td>\n      <td>8</td>\n      <td>2</td>\n      <td>14</td>\n      <td>4</td>\n      <td>Tursun, Umit D</td>\n      <td>75</td>\n      <td>1.662400</td>\n    </tr>\n    <tr>\n      <th>36747</th>\n      <td>2013</td>\n      <td>Spring</td>\n      <td>2013-sp</td>\n      <td>MATH</td>\n      <td>115</td>\n      <td>Preparation for Calculus</td>\n      <td>0</td>\n      <td>3</td>\n      <td>5</td>\n      <td>3</td>\n      <td>...</td>\n      <td>9</td>\n      <td>6</td>\n      <td>6</td>\n      <td>3</td>\n      <td>6</td>\n      <td>26</td>\n      <td>4</td>\n      <td>Lansing, Jennifer L</td>\n      <td>96</td>\n      <td>1.663438</td>\n    </tr>\n    <tr>\n      <th>7198</th>\n      <td>2019</td>\n      <td>Summer</td>\n      <td>2019-su</td>\n      <td>CHEM</td>\n      <td>102</td>\n      <td>General Chemistry I</td>\n      <td>0</td>\n      <td>2</td>\n      <td>2</td>\n      <td>4</td>\n      <td>...</td>\n      <td>4</td>\n      <td>3</td>\n      <td>3</td>\n      <td>3</td>\n      <td>9</td>\n      <td>10</td>\n      <td>6</td>\n      <td>Marville, Kelly</td>\n      <td>52</td>\n      <td>1.667115</td>\n    </tr>\n    <tr>\n      <th>42370</th>\n      <td>2011</td>\n      <td>Fall</td>\n      <td>2011-fa</td>\n      <td>LER</td>\n      <td>110</td>\n      <td>Labor and Social Movements</td>\n      <td>0</td>\n      <td>3</td>\n      <td>0</td>\n      <td>1</td>\n      <td>...</td>\n      <td>2</td>\n      <td>3</td>\n      <td>0</td>\n      <td>3</td>\n      <td>0</td>\n      <td>7</td>\n      <td>0</td>\n      <td>Saute, Robert</td>\n      <td>24</td>\n      <td>1.680417</td>\n    </tr>\n    <tr>\n      <th>47578</th>\n      <td>2011</td>\n      <td>Summer</td>\n      <td>2011-su</td>\n      <td>LER</td>\n      <td>110</td>\n      <td>Labor and Social Movements</td>\n      <td>0</td>\n      <td>3</td>\n      <td>0</td>\n      <td>1</td>\n      <td>...</td>\n      <td>2</td>\n      <td>3</td>\n      <td>0</td>\n      <td>3</td>\n      <td>0</td>\n      <td>7</td>\n      <td>0</td>\n      <td>Saute, Robert</td>\n      <td>24</td>\n      <td>1.680417</td>\n    </tr>\n    <tr>\n      <th>4340</th>\n      <td>2019</td>\n      <td>Fall</td>\n      <td>2019-fa</td>\n      <td>MCB</td>\n      <td>245</td>\n      <td>Human Anat &amp; Physiol Lab I</td>\n      <td>0</td>\n      <td>0</td>\n      <td>1</td>\n      <td>1</td>\n      <td>...</td>\n      <td>3</td>\n      <td>1</td>\n      <td>1</td>\n      <td>1</td>\n      <td>2</td>\n      <td>6</td>\n      <td>1</td>\n      <td>Swigart, James P</td>\n      <td>24</td>\n      <td>1.681250</td>\n    </tr>\n  </tbody>\n</table>\n<p>30 rows × 23 columns</p>\n</div>",
      "text/plain": "       Year    Term YearTerm Subject  Number                   Course Title  \\\n9089   2018    Fall  2018-fa     LER     120    Contemporary Labor Problems   \n21561  2016  Spring  2016-sp     LER     100  Introduction to Labor Studies   \n29374  2014    Fall  2014-fa     LER     120    Contemporary Labor Problems   \n31642  2014  Spring  2014-sp     LER     120    Contemporary Labor Problems   \n34439  2013    Fall  2013-fa    MATH       2           Introductory Algebra   \n31717  2014  Spring  2014-sp    MATH     220                       Calculus   \n6361   2019  Spring  2019-sp     LER     100  Introduction to Labor Studies   \n19289  2016    Fall  2016-fa     LER     120    Contemporary Labor Problems   \n19557  2016    Fall  2016-fa     MCB     245     Human Anat & Physiol Lab I   \n29421  2014    Fall  2014-fa     LLS     296  Bilingual US Latina/o Culture   \n29585  2014    Fall  2014-fa     MCB     245     Human Anat & Physiol Lab I   \n16490  2017  Spring  2017-sp     LER     100  Introduction to Labor Studies   \n10440  2018  Spring  2018-sp    CHEM     101         Introductory Chemistry   \n19285  2016    Fall  2016-fa     LER     100  Introduction to Labor Studies   \n19288  2016    Fall  2016-fa     LER     110     Labor and Social Movements   \n44909  2011  Spring  2011-sp    MATH     115       Preparation for Calculus   \n19548  2016    Fall  2016-fa     MCB     245     Human Anat & Physiol Lab I   \n44845  2011  Spring  2011-sp     LER     100  Introduction to Labor Studies   \n31237  2014  Spring  2014-sp    ENGL     274          Contemporary Classics   \n24352  2015    Fall  2015-fa    MATH     181           A Mathematical World   \n9299   2018    Fall  2018-fa     MCB     245     Human Anat & Physiol Lab I   \n19553  2016    Fall  2016-fa     MCB     245     Human Anat & Physiol Lab I   \n43257  2011    Fall  2011-fa     TAM     251   Introductory Solid Mechanics   \n48465  2011  Summer  2011-su     TAM     251   Introductory Solid Mechanics   \n29170  2014    Fall  2014-fa      IE     300               Analysis of Data   \n36747  2013  Spring  2013-sp    MATH     115       Preparation for Calculus   \n7198   2019  Summer  2019-su    CHEM     102            General Chemistry I   \n42370  2011    Fall  2011-fa     LER     110     Labor and Social Movements   \n47578  2011  Summer  2011-su     LER     110     Labor and Social Movements   \n4340   2019    Fall  2019-fa     MCB     245     Human Anat & Physiol Lab I   \n\n       A+  A  A-  B+  ...   C  C-  D+   D  D-   F  W    Primary Instructor  \\\n9089    0  0   1   2  ...   1   2   1   1   0  15  0           Taylor, Don   \n21561   0  1   0   1  ...   4   1   1   1   1  10  0      Hawking, Carol J   \n29374   0  4   0   1  ...   4   1   0   1   0  15  1     Hershfield, David   \n31642   0  1   3   0  ...   3   0   0   0   2  11  0     Cohen, Margaret L   \n34439   0  0   0   0  ...  10   5   3   3   2   5  3   Aydin-Mullen, Yelda   \n31717   0  3   0   0  ...   5   0   2   1   0  11  1    Gilbert, Rebekah A   \n6361    0  2   1   2  ...   0   0   0   2   1   9  0     Cohen, Margaret L   \n19289   0  2   2   1  ...   0   1   2   1   2   8  2     Hershfield, David   \n19557   0  0   0   0  ...   3   4   1   2   0   6  1      Swigart, James P   \n29421   3  1   0   1  ...   1   1   1   0   2  11  1     Romero, Rolando J   \n29585   0  0   1   0  ...   1   3   5   1   1   5  0      Swigart, James P   \n16490   0  2   1   1  ...   3   2   0   1   0   9  0         Ashby, Steven   \n10440   1  5   8   1  ...  10   9  11  23  10  26  7     Decoste, Donald J   \n19285   0  2   1   2  ...   3   2   0   1   1  10  0    Stewart, Beverly L   \n19288   0  4   2   0  ...   2   1   0   1   4   8  0         Ashby, Steven   \n44909   1  4   2   1  ...   5   0   9  11   2  18  0       Carty, Thomas E   \n19548   0  0   1   1  ...   1   3   3   4   1   4  2      Swigart, James P   \n44845   2  1   0   2  ...   1   2   0   0   1   9  2       Konopacki, Mike   \n31237   0  1   3   0  ...   1   2   1   0   0   8  1        Hutner, Gordon   \n24352   1  3   0   2  ...   3   1   1   1   1   8  0         Loeb, Sarah J   \n9299    0  0   1   2  ...   4   1   0   1   1   7  0      Swigart, James P   \n19553   0  0   1   2  ...   3   1   1   1   3   6  0      Swigart, James P   \n43257   1  0   4   2  ...  23   3   6  23   9  11  0  Starzewski, Martin O   \n48465   1  0   4   2  ...  23   3   6  23   9  11  0  Starzewski, Martin O   \n29170   4  1   3   1  ...  13  10   9   8   2  14  4        Tursun, Umit D   \n36747   0  3   5   3  ...   9   6   6   3   6  26  4   Lansing, Jennifer L   \n7198    0  2   2   4  ...   4   3   3   3   9  10  6       Marville, Kelly   \n42370   0  3   0   1  ...   2   3   0   3   0   7  0         Saute, Robert   \n47578   0  3   0   1  ...   2   3   0   3   0   7  0         Saute, Robert   \n4340    0  0   1   1  ...   3   1   1   1   2   6  1      Swigart, James P   \n\n       Total Students  Average GPA  \n9089               28     1.142857  \n21561              24     1.319583  \n29374              30     1.400000  \n31642              25     1.427600  \n34439              31     1.430645  \n31717              28     1.476071  \n6361               21     1.491905  \n19289              22     1.515455  \n19557              23     1.522174  \n29421              27     1.568519  \n29585              25     1.586800  \n16490              23     1.594783  \n10440             132     1.598864  \n19285              27     1.605185  \n19288              25     1.614400  \n44909              71     1.619296  \n19548              25     1.626800  \n44845              22     1.636364  \n31237              21     1.651429  \n24352              23     1.651739  \n9299               23     1.652174  \n19553              26     1.654231  \n43257             102     1.657157  \n48465             102     1.657157  \n29170              75     1.662400  \n36747              96     1.663438  \n7198               52     1.667115  \n42370              24     1.680417  \n47578              24     1.680417  \n4340               24     1.681250  \n\n[30 rows x 23 columns]"
     },
     "execution_count": 5,
     "metadata": {},
     "output_type": "execute_result"
    }
   ],
   "source": [
    "df_hard = df.nsmallest(30, \"Average GPA\")\n",
    "df_hard"
   ]
  },
  {
   "cell_type": "markdown",
   "metadata": {
    "nbgrader": {
     "grade": false,
     "grade_id": "cell-02a6a9a1be700b2e",
     "locked": false,
     "schema_version": 3,
     "solution": false,
     "task": false
    }
   },
   "source": [
    "### Puzzle 2.2: \"Level\" of Hardest Courses\n",
    "\n",
    "Find the average `\"Number\"` of the **30 hardest courses** at Illinois. Store the result as `df_hard_avg`."
   ]
  },
  {
   "cell_type": "code",
   "execution_count": 44,
   "metadata": {
    "nbgrader": {
     "grade": false,
     "grade_id": "cell-a7106dca7694711c",
     "locked": false,
     "schema_version": 3,
     "solution": true,
     "task": false
    }
   },
   "outputs": [
    {
     "data": {
      "text/plain": "166.26666666666668"
     },
     "execution_count": 44,
     "metadata": {},
     "output_type": "execute_result"
    }
   ],
   "source": [
    "df_hard_avg = df_hard[\"Number\"].mean()\n",
    "df_hard_avg"
   ]
  },
  {
   "cell_type": "code",
   "execution_count": 9,
   "metadata": {
    "nbgrader": {
     "grade": true,
     "grade_id": "cell-46729cc74c213e52",
     "locked": true,
     "points": 1,
     "schema_version": 3,
     "solution": false,
     "task": false
    }
   },
   "outputs": [
    {
     "name": "stdout",
     "output_type": "stream",
     "text": [
      "🎉 All tests passed! 🎉\n"
     ]
    }
   ],
   "source": [
    "## == TEST CASES for Puzzle 2.1 and 2.2 ==\n",
    "# - This read-only cell contains test cases for your previous cell.\n",
    "# - If this cell runs without any error our output, you PASSED all test cases!\n",
    "# - If this cell results in any errors, check your previous cell(s), make changes, and RE-RUN your code and then this cell.\n",
    "import math\n",
    "assert( math.isclose(df_hard_avg, 4988/30) ), \"It appears that your average \\\"Number\\\" is incorrect. Please check both Puzzle 2.1 and Puzzle 2.2.\"\n",
    "## == SUCCESS MESSAGE ==\n",
    "# You will only see this message (with the emoji showing) if you passed all test cases:\n",
    "tada = \"\\N{PARTY POPPER}\"\n",
    "print(f\"{tada} All tests passed! {tada}\")"
   ]
  },
  {
   "cell_type": "markdown",
   "metadata": {},
   "source": [
    "### Puzzle 2.3: ❓ Individual Reflection Question ❓ Are the Hardest Courses Really \"Hard\"?\n",
    "\n",
    "After solving Puzzle 2.1 and 2.2, Joe has the following claim:\n",
    "\n",
    "\"We know that the undergraduate courses are coded from 1 to 499, where a larger number (in the hundreds place) usually implies more advanced materials. Based on Puzzle 2.2, the results in Puzzle 2.1 clearly do not represent the hardest courses at Illinois.\"\n",
    "\n",
    "Comment on Joe's claim below."
   ]
  },
  {
   "cell_type": "markdown",
   "metadata": {},
   "source": [
    "***Double click this cell and type your answer here.***\n",
    "Joe's is correct in saying that a larger number implies more advanced material however the gpa distrubution does not show that for a reason. 100 level courses tend to have lower gpas than more advanced coursework in a subject because of the students taking the class. The students taking the introductory courses typically are not invested or interested in the coursework and may be taking the course to fufill a university gen ed. Thus their grades would relect this effort and interest. Furthermore, the students taking these introductory courses may not be the best at these subject areas so a lower gpa would also reflect this."
   ]
  },
  {
   "cell_type": "markdown",
   "metadata": {},
   "source": [
    "### Puzzle 2.4: Easiest Courses in 2020\n",
    "\n",
    "Based on the `\"Average GPA\"` column, find the **30 easiest courses in 2020** at Illinois. Store the results in `df_easy_2020`.\n",
    "\n",
    "Hint (double-click this cell to see it): <span style=\"color:#ffffff00\">use the nlargest() function</span>"
   ]
  },
  {
   "cell_type": "code",
   "execution_count": 6,
   "metadata": {
    "nbgrader": {
     "grade": false,
     "grade_id": "cell-44d17a2ef57b1a19",
     "locked": false,
     "schema_version": 3,
     "solution": true,
     "task": false
    }
   },
   "outputs": [
    {
     "data": {
      "text/html": "<div>\n<style scoped>\n    .dataframe tbody tr th:only-of-type {\n        vertical-align: middle;\n    }\n\n    .dataframe tbody tr th {\n        vertical-align: top;\n    }\n\n    .dataframe thead th {\n        text-align: right;\n    }\n</style>\n<table border=\"1\" class=\"dataframe\">\n  <thead>\n    <tr style=\"text-align: right;\">\n      <th></th>\n      <th>Year</th>\n      <th>Term</th>\n      <th>YearTerm</th>\n      <th>Subject</th>\n      <th>Number</th>\n      <th>Course Title</th>\n      <th>A+</th>\n      <th>A</th>\n      <th>A-</th>\n      <th>B+</th>\n      <th>...</th>\n      <th>C</th>\n      <th>C-</th>\n      <th>D+</th>\n      <th>D</th>\n      <th>D-</th>\n      <th>F</th>\n      <th>W</th>\n      <th>Primary Instructor</th>\n      <th>Total Students</th>\n      <th>Average GPA</th>\n    </tr>\n  </thead>\n  <tbody>\n    <tr>\n      <th>240</th>\n      <td>2020</td>\n      <td>Spring</td>\n      <td>2020-sp</td>\n      <td>ANSC</td>\n      <td>103</td>\n      <td>Working With Farm Animals</td>\n      <td>0</td>\n      <td>73</td>\n      <td>0</td>\n      <td>0</td>\n      <td>...</td>\n      <td>0</td>\n      <td>0</td>\n      <td>0</td>\n      <td>0</td>\n      <td>0</td>\n      <td>0</td>\n      <td>0</td>\n      <td>Emmert, Jason L</td>\n      <td>74</td>\n      <td>3.986486</td>\n    </tr>\n    <tr>\n      <th>2196</th>\n      <td>2020</td>\n      <td>Summer</td>\n      <td>2020-su</td>\n      <td>EPSY</td>\n      <td>408</td>\n      <td>Learning &amp; Hum Dev w/ EdTech</td>\n      <td>79</td>\n      <td>31</td>\n      <td>3</td>\n      <td>1</td>\n      <td>...</td>\n      <td>0</td>\n      <td>0</td>\n      <td>0</td>\n      <td>0</td>\n      <td>0</td>\n      <td>0</td>\n      <td>2</td>\n      <td>Cope, William</td>\n      <td>114</td>\n      <td>3.985439</td>\n    </tr>\n    <tr>\n      <th>106</th>\n      <td>2020</td>\n      <td>Spring</td>\n      <td>2020-sp</td>\n      <td>ACCY</td>\n      <td>504</td>\n      <td>Auditing</td>\n      <td>1</td>\n      <td>36</td>\n      <td>0</td>\n      <td>1</td>\n      <td>...</td>\n      <td>0</td>\n      <td>0</td>\n      <td>0</td>\n      <td>0</td>\n      <td>0</td>\n      <td>0</td>\n      <td>0</td>\n      <td>Chatterton, Angel</td>\n      <td>38</td>\n      <td>3.982368</td>\n    </tr>\n    <tr>\n      <th>740</th>\n      <td>2020</td>\n      <td>Spring</td>\n      <td>2020-sp</td>\n      <td>CS</td>\n      <td>199</td>\n      <td>Python for Data</td>\n      <td>4</td>\n      <td>26</td>\n      <td>0</td>\n      <td>1</td>\n      <td>...</td>\n      <td>0</td>\n      <td>0</td>\n      <td>0</td>\n      <td>0</td>\n      <td>0</td>\n      <td>0</td>\n      <td>0</td>\n      <td>Silva, Mariana T</td>\n      <td>31</td>\n      <td>3.978387</td>\n    </tr>\n    <tr>\n      <th>2262</th>\n      <td>2020</td>\n      <td>Summer</td>\n      <td>2020-su</td>\n      <td>MUS</td>\n      <td>444</td>\n      <td>Healthy Music Practices</td>\n      <td>0</td>\n      <td>29</td>\n      <td>0</td>\n      <td>1</td>\n      <td>...</td>\n      <td>0</td>\n      <td>0</td>\n      <td>0</td>\n      <td>0</td>\n      <td>0</td>\n      <td>0</td>\n      <td>0</td>\n      <td>Sweet, Bridget M</td>\n      <td>30</td>\n      <td>3.977667</td>\n    </tr>\n    <tr>\n      <th>375</th>\n      <td>2020</td>\n      <td>Spring</td>\n      <td>2020-sp</td>\n      <td>BADM</td>\n      <td>352</td>\n      <td>Database Design and Management</td>\n      <td>1</td>\n      <td>42</td>\n      <td>0</td>\n      <td>0</td>\n      <td>...</td>\n      <td>0</td>\n      <td>0</td>\n      <td>0</td>\n      <td>0</td>\n      <td>0</td>\n      <td>0</td>\n      <td>0</td>\n      <td>Pamuksuz, Utku</td>\n      <td>44</td>\n      <td>3.977273</td>\n    </tr>\n    <tr>\n      <th>195</th>\n      <td>2020</td>\n      <td>Spring</td>\n      <td>2020-sp</td>\n      <td>ADV</td>\n      <td>350</td>\n      <td>Writing for Public Relations</td>\n      <td>18</td>\n      <td>10</td>\n      <td>0</td>\n      <td>1</td>\n      <td>...</td>\n      <td>0</td>\n      <td>0</td>\n      <td>0</td>\n      <td>0</td>\n      <td>0</td>\n      <td>0</td>\n      <td>0</td>\n      <td>Peacock, Marisa C</td>\n      <td>29</td>\n      <td>3.976897</td>\n    </tr>\n    <tr>\n      <th>810</th>\n      <td>2020</td>\n      <td>Spring</td>\n      <td>2020-sp</td>\n      <td>ECE</td>\n      <td>206</td>\n      <td>Electrical &amp; Electronics Lab</td>\n      <td>9</td>\n      <td>19</td>\n      <td>0</td>\n      <td>1</td>\n      <td>...</td>\n      <td>0</td>\n      <td>0</td>\n      <td>0</td>\n      <td>0</td>\n      <td>0</td>\n      <td>0</td>\n      <td>0</td>\n      <td>Radhakrishnan, Chandrasek</td>\n      <td>29</td>\n      <td>3.976897</td>\n    </tr>\n    <tr>\n      <th>2084</th>\n      <td>2020</td>\n      <td>Spring</td>\n      <td>2020-sp</td>\n      <td>UP</td>\n      <td>201</td>\n      <td>Planning in Action</td>\n      <td>0</td>\n      <td>41</td>\n      <td>0</td>\n      <td>0</td>\n      <td>...</td>\n      <td>0</td>\n      <td>0</td>\n      <td>0</td>\n      <td>0</td>\n      <td>0</td>\n      <td>0</td>\n      <td>0</td>\n      <td>Edwards, Mary M</td>\n      <td>42</td>\n      <td>3.976190</td>\n    </tr>\n    <tr>\n      <th>613</th>\n      <td>2020</td>\n      <td>Spring</td>\n      <td>2020-sp</td>\n      <td>CI</td>\n      <td>473</td>\n      <td>Disciplinary Literacy</td>\n      <td>0</td>\n      <td>79</td>\n      <td>0</td>\n      <td>0</td>\n      <td>...</td>\n      <td>1</td>\n      <td>0</td>\n      <td>0</td>\n      <td>0</td>\n      <td>0</td>\n      <td>0</td>\n      <td>0</td>\n      <td>Filkins, Scott R</td>\n      <td>80</td>\n      <td>3.975000</td>\n    </tr>\n    <tr>\n      <th>446</th>\n      <td>2020</td>\n      <td>Spring</td>\n      <td>2020-sp</td>\n      <td>BIOE</td>\n      <td>415</td>\n      <td>Biomedical Instrumentation Lab</td>\n      <td>0</td>\n      <td>51</td>\n      <td>1</td>\n      <td>0</td>\n      <td>...</td>\n      <td>0</td>\n      <td>0</td>\n      <td>0</td>\n      <td>0</td>\n      <td>0</td>\n      <td>0</td>\n      <td>0</td>\n      <td>Choi, Dong San</td>\n      <td>53</td>\n      <td>3.974906</td>\n    </tr>\n    <tr>\n      <th>77</th>\n      <td>2020</td>\n      <td>Spring</td>\n      <td>2020-sp</td>\n      <td>ACCY</td>\n      <td>398</td>\n      <td>Practical Problems in Atg</td>\n      <td>54</td>\n      <td>9</td>\n      <td>2</td>\n      <td>0</td>\n      <td>...</td>\n      <td>0</td>\n      <td>0</td>\n      <td>0</td>\n      <td>0</td>\n      <td>0</td>\n      <td>0</td>\n      <td>0</td>\n      <td>Nekrasz, Frank</td>\n      <td>66</td>\n      <td>3.974848</td>\n    </tr>\n    <tr>\n      <th>116</th>\n      <td>2020</td>\n      <td>Spring</td>\n      <td>2020-sp</td>\n      <td>ACCY</td>\n      <td>518</td>\n      <td>Financial Statement Fraud</td>\n      <td>26</td>\n      <td>11</td>\n      <td>1</td>\n      <td>1</td>\n      <td>...</td>\n      <td>0</td>\n      <td>0</td>\n      <td>0</td>\n      <td>0</td>\n      <td>0</td>\n      <td>0</td>\n      <td>0</td>\n      <td>Nekrasz, Frank</td>\n      <td>39</td>\n      <td>3.974359</td>\n    </tr>\n    <tr>\n      <th>1108</th>\n      <td>2020</td>\n      <td>Spring</td>\n      <td>2020-sp</td>\n      <td>FSHN</td>\n      <td>595</td>\n      <td>Genetics Epigenetics Nutrition</td>\n      <td>8</td>\n      <td>17</td>\n      <td>0</td>\n      <td>1</td>\n      <td>...</td>\n      <td>0</td>\n      <td>0</td>\n      <td>0</td>\n      <td>0</td>\n      <td>0</td>\n      <td>0</td>\n      <td>0</td>\n      <td>Pan, Yuan-Xiang</td>\n      <td>26</td>\n      <td>3.974231</td>\n    </tr>\n    <tr>\n      <th>597</th>\n      <td>2020</td>\n      <td>Spring</td>\n      <td>2020-sp</td>\n      <td>CHLH</td>\n      <td>455</td>\n      <td>Health Services Financing</td>\n      <td>45</td>\n      <td>3</td>\n      <td>1</td>\n      <td>0</td>\n      <td>...</td>\n      <td>0</td>\n      <td>0</td>\n      <td>0</td>\n      <td>0</td>\n      <td>0</td>\n      <td>0</td>\n      <td>0</td>\n      <td>Mamaril, Cezar Brian C</td>\n      <td>50</td>\n      <td>3.973400</td>\n    </tr>\n    <tr>\n      <th>2192</th>\n      <td>2020</td>\n      <td>Summer</td>\n      <td>2020-su</td>\n      <td>EPS</td>\n      <td>405</td>\n      <td>Historical &amp; Social Barriers</td>\n      <td>0</td>\n      <td>170</td>\n      <td>1</td>\n      <td>2</td>\n      <td>...</td>\n      <td>0</td>\n      <td>0</td>\n      <td>0</td>\n      <td>0</td>\n      <td>0</td>\n      <td>0</td>\n      <td>4</td>\n      <td>Pak, Yoon K</td>\n      <td>176</td>\n      <td>3.971591</td>\n    </tr>\n    <tr>\n      <th>1145</th>\n      <td>2020</td>\n      <td>Spring</td>\n      <td>2020-sp</td>\n      <td>GS</td>\n      <td>198</td>\n      <td>DGS Honors Seminar</td>\n      <td>14</td>\n      <td>20</td>\n      <td>0</td>\n      <td>0</td>\n      <td>...</td>\n      <td>0</td>\n      <td>0</td>\n      <td>0</td>\n      <td>0</td>\n      <td>0</td>\n      <td>0</td>\n      <td>0</td>\n      <td>Smothers, Sarah A</td>\n      <td>35</td>\n      <td>3.971429</td>\n    </tr>\n    <tr>\n      <th>1041</th>\n      <td>2020</td>\n      <td>Spring</td>\n      <td>2020-sp</td>\n      <td>FAA</td>\n      <td>202</td>\n      <td>Artsful Teaching through Integ</td>\n      <td>16</td>\n      <td>48</td>\n      <td>3</td>\n      <td>0</td>\n      <td>...</td>\n      <td>0</td>\n      <td>0</td>\n      <td>0</td>\n      <td>0</td>\n      <td>0</td>\n      <td>0</td>\n      <td>0</td>\n      <td>Allen, Betty J</td>\n      <td>68</td>\n      <td>3.970735</td>\n    </tr>\n    <tr>\n      <th>367</th>\n      <td>2020</td>\n      <td>Spring</td>\n      <td>2020-sp</td>\n      <td>BADM</td>\n      <td>337</td>\n      <td>Practicum in Supply Chain Mgt</td>\n      <td>36</td>\n      <td>18</td>\n      <td>1</td>\n      <td>2</td>\n      <td>...</td>\n      <td>0</td>\n      <td>0</td>\n      <td>0</td>\n      <td>0</td>\n      <td>0</td>\n      <td>0</td>\n      <td>0</td>\n      <td>Mehrotra, Mili</td>\n      <td>57</td>\n      <td>3.970702</td>\n    </tr>\n    <tr>\n      <th>980</th>\n      <td>2020</td>\n      <td>Spring</td>\n      <td>2020-sp</td>\n      <td>ENG</td>\n      <td>198</td>\n      <td>Technical Communication</td>\n      <td>9</td>\n      <td>23</td>\n      <td>0</td>\n      <td>0</td>\n      <td>...</td>\n      <td>0</td>\n      <td>0</td>\n      <td>0</td>\n      <td>0</td>\n      <td>0</td>\n      <td>0</td>\n      <td>0</td>\n      <td>Brunet, Marie-Christine</td>\n      <td>33</td>\n      <td>3.969697</td>\n    </tr>\n    <tr>\n      <th>1987</th>\n      <td>2020</td>\n      <td>Spring</td>\n      <td>2020-sp</td>\n      <td>SPED</td>\n      <td>438</td>\n      <td>Collaborating with Families</td>\n      <td>0</td>\n      <td>32</td>\n      <td>0</td>\n      <td>0</td>\n      <td>...</td>\n      <td>0</td>\n      <td>0</td>\n      <td>0</td>\n      <td>0</td>\n      <td>0</td>\n      <td>0</td>\n      <td>0</td>\n      <td>Hacker, Rebecca E</td>\n      <td>33</td>\n      <td>3.969697</td>\n    </tr>\n    <tr>\n      <th>477</th>\n      <td>2020</td>\n      <td>Spring</td>\n      <td>2020-sp</td>\n      <td>BUS</td>\n      <td>199</td>\n      <td>Coaching for Success</td>\n      <td>26</td>\n      <td>4</td>\n      <td>1</td>\n      <td>1</td>\n      <td>...</td>\n      <td>0</td>\n      <td>0</td>\n      <td>0</td>\n      <td>0</td>\n      <td>0</td>\n      <td>0</td>\n      <td>0</td>\n      <td>Lewis, Leslie C</td>\n      <td>32</td>\n      <td>3.968750</td>\n    </tr>\n    <tr>\n      <th>2190</th>\n      <td>2020</td>\n      <td>Summer</td>\n      <td>2020-su</td>\n      <td>EOL</td>\n      <td>580</td>\n      <td>Rurality, Ed Access, Attain</td>\n      <td>0</td>\n      <td>31</td>\n      <td>0</td>\n      <td>0</td>\n      <td>...</td>\n      <td>0</td>\n      <td>0</td>\n      <td>0</td>\n      <td>0</td>\n      <td>0</td>\n      <td>0</td>\n      <td>0</td>\n      <td>Rockey, Marci</td>\n      <td>32</td>\n      <td>3.968750</td>\n    </tr>\n    <tr>\n      <th>1228</th>\n      <td>2020</td>\n      <td>Spring</td>\n      <td>2020-sp</td>\n      <td>IB</td>\n      <td>271</td>\n      <td>Organismal Biology</td>\n      <td>8</td>\n      <td>12</td>\n      <td>0</td>\n      <td>1</td>\n      <td>...</td>\n      <td>0</td>\n      <td>0</td>\n      <td>0</td>\n      <td>0</td>\n      <td>0</td>\n      <td>0</td>\n      <td>0</td>\n      <td>Cheng-De Vries, Chi-Hing</td>\n      <td>21</td>\n      <td>3.968095</td>\n    </tr>\n    <tr>\n      <th>1073</th>\n      <td>2020</td>\n      <td>Spring</td>\n      <td>2020-sp</td>\n      <td>FIN</td>\n      <td>490</td>\n      <td>Entrepreneurship Thru Acquistn</td>\n      <td>42</td>\n      <td>16</td>\n      <td>2</td>\n      <td>2</td>\n      <td>...</td>\n      <td>0</td>\n      <td>0</td>\n      <td>0</td>\n      <td>0</td>\n      <td>0</td>\n      <td>0</td>\n      <td>0</td>\n      <td>Smith, Mark K</td>\n      <td>62</td>\n      <td>3.967742</td>\n    </tr>\n    <tr>\n      <th>2290</th>\n      <td>2020</td>\n      <td>Summer</td>\n      <td>2020-su</td>\n      <td>SHS</td>\n      <td>579</td>\n      <td>Prof/Eth/Legal Issues AuD/SLP</td>\n      <td>14</td>\n      <td>25</td>\n      <td>1</td>\n      <td>0</td>\n      <td>...</td>\n      <td>0</td>\n      <td>0</td>\n      <td>0</td>\n      <td>0</td>\n      <td>0</td>\n      <td>0</td>\n      <td>0</td>\n      <td>Hannah, Deidre M</td>\n      <td>41</td>\n      <td>3.967561</td>\n    </tr>\n    <tr>\n      <th>635</th>\n      <td>2020</td>\n      <td>Spring</td>\n      <td>2020-sp</td>\n      <td>CLCV</td>\n      <td>115</td>\n      <td>Mythology of Greece and Rome</td>\n      <td>2</td>\n      <td>26</td>\n      <td>0</td>\n      <td>0</td>\n      <td>...</td>\n      <td>0</td>\n      <td>0</td>\n      <td>0</td>\n      <td>0</td>\n      <td>0</td>\n      <td>0</td>\n      <td>0</td>\n      <td>Scheele, Genevieve V</td>\n      <td>29</td>\n      <td>3.965517</td>\n    </tr>\n    <tr>\n      <th>650</th>\n      <td>2020</td>\n      <td>Spring</td>\n      <td>2020-sp</td>\n      <td>CLCV</td>\n      <td>224</td>\n      <td>Amer Race&amp;Ethnicity ClasicTrad</td>\n      <td>26</td>\n      <td>2</td>\n      <td>0</td>\n      <td>0</td>\n      <td>...</td>\n      <td>0</td>\n      <td>0</td>\n      <td>0</td>\n      <td>0</td>\n      <td>0</td>\n      <td>0</td>\n      <td>0</td>\n      <td>Weed, Ashley K</td>\n      <td>29</td>\n      <td>3.965517</td>\n    </tr>\n    <tr>\n      <th>970</th>\n      <td>2020</td>\n      <td>Spring</td>\n      <td>2020-sp</td>\n      <td>EDUC</td>\n      <td>201</td>\n      <td>Identity and Difference in Edu</td>\n      <td>0</td>\n      <td>28</td>\n      <td>0</td>\n      <td>0</td>\n      <td>...</td>\n      <td>0</td>\n      <td>0</td>\n      <td>0</td>\n      <td>0</td>\n      <td>0</td>\n      <td>0</td>\n      <td>0</td>\n      <td>Studamire, Dante R</td>\n      <td>29</td>\n      <td>3.965517</td>\n    </tr>\n    <tr>\n      <th>1318</th>\n      <td>2020</td>\n      <td>Spring</td>\n      <td>2020-sp</td>\n      <td>KIN</td>\n      <td>109</td>\n      <td>Team Sport Activities</td>\n      <td>0</td>\n      <td>28</td>\n      <td>0</td>\n      <td>0</td>\n      <td>...</td>\n      <td>0</td>\n      <td>0</td>\n      <td>0</td>\n      <td>0</td>\n      <td>0</td>\n      <td>0</td>\n      <td>0</td>\n      <td>Nichol, Alexander D</td>\n      <td>29</td>\n      <td>3.965517</td>\n    </tr>\n  </tbody>\n</table>\n<p>30 rows × 23 columns</p>\n</div>",
      "text/plain": "      Year    Term YearTerm Subject  Number                    Course Title  \\\n240   2020  Spring  2020-sp    ANSC     103       Working With Farm Animals   \n2196  2020  Summer  2020-su    EPSY     408    Learning & Hum Dev w/ EdTech   \n106   2020  Spring  2020-sp    ACCY     504                        Auditing   \n740   2020  Spring  2020-sp      CS     199                 Python for Data   \n2262  2020  Summer  2020-su     MUS     444         Healthy Music Practices   \n375   2020  Spring  2020-sp    BADM     352  Database Design and Management   \n195   2020  Spring  2020-sp     ADV     350    Writing for Public Relations   \n810   2020  Spring  2020-sp     ECE     206    Electrical & Electronics Lab   \n2084  2020  Spring  2020-sp      UP     201              Planning in Action   \n613   2020  Spring  2020-sp      CI     473           Disciplinary Literacy   \n446   2020  Spring  2020-sp    BIOE     415  Biomedical Instrumentation Lab   \n77    2020  Spring  2020-sp    ACCY     398       Practical Problems in Atg   \n116   2020  Spring  2020-sp    ACCY     518       Financial Statement Fraud   \n1108  2020  Spring  2020-sp    FSHN     595  Genetics Epigenetics Nutrition   \n597   2020  Spring  2020-sp    CHLH     455       Health Services Financing   \n2192  2020  Summer  2020-su     EPS     405    Historical & Social Barriers   \n1145  2020  Spring  2020-sp      GS     198              DGS Honors Seminar   \n1041  2020  Spring  2020-sp     FAA     202  Artsful Teaching through Integ   \n367   2020  Spring  2020-sp    BADM     337   Practicum in Supply Chain Mgt   \n980   2020  Spring  2020-sp     ENG     198         Technical Communication   \n1987  2020  Spring  2020-sp    SPED     438     Collaborating with Families   \n477   2020  Spring  2020-sp     BUS     199            Coaching for Success   \n2190  2020  Summer  2020-su     EOL     580     Rurality, Ed Access, Attain   \n1228  2020  Spring  2020-sp      IB     271              Organismal Biology   \n1073  2020  Spring  2020-sp     FIN     490  Entrepreneurship Thru Acquistn   \n2290  2020  Summer  2020-su     SHS     579   Prof/Eth/Legal Issues AuD/SLP   \n635   2020  Spring  2020-sp    CLCV     115    Mythology of Greece and Rome   \n650   2020  Spring  2020-sp    CLCV     224  Amer Race&Ethnicity ClasicTrad   \n970   2020  Spring  2020-sp    EDUC     201  Identity and Difference in Edu   \n1318  2020  Spring  2020-sp     KIN     109           Team Sport Activities   \n\n      A+    A  A-  B+  ...  C  C-  D+  D  D-  F  W         Primary Instructor  \\\n240    0   73   0   0  ...  0   0   0  0   0  0  0            Emmert, Jason L   \n2196  79   31   3   1  ...  0   0   0  0   0  0  2              Cope, William   \n106    1   36   0   1  ...  0   0   0  0   0  0  0          Chatterton, Angel   \n740    4   26   0   1  ...  0   0   0  0   0  0  0           Silva, Mariana T   \n2262   0   29   0   1  ...  0   0   0  0   0  0  0           Sweet, Bridget M   \n375    1   42   0   0  ...  0   0   0  0   0  0  0             Pamuksuz, Utku   \n195   18   10   0   1  ...  0   0   0  0   0  0  0          Peacock, Marisa C   \n810    9   19   0   1  ...  0   0   0  0   0  0  0  Radhakrishnan, Chandrasek   \n2084   0   41   0   0  ...  0   0   0  0   0  0  0            Edwards, Mary M   \n613    0   79   0   0  ...  1   0   0  0   0  0  0           Filkins, Scott R   \n446    0   51   1   0  ...  0   0   0  0   0  0  0             Choi, Dong San   \n77    54    9   2   0  ...  0   0   0  0   0  0  0             Nekrasz, Frank   \n116   26   11   1   1  ...  0   0   0  0   0  0  0             Nekrasz, Frank   \n1108   8   17   0   1  ...  0   0   0  0   0  0  0            Pan, Yuan-Xiang   \n597   45    3   1   0  ...  0   0   0  0   0  0  0     Mamaril, Cezar Brian C   \n2192   0  170   1   2  ...  0   0   0  0   0  0  4                Pak, Yoon K   \n1145  14   20   0   0  ...  0   0   0  0   0  0  0          Smothers, Sarah A   \n1041  16   48   3   0  ...  0   0   0  0   0  0  0             Allen, Betty J   \n367   36   18   1   2  ...  0   0   0  0   0  0  0             Mehrotra, Mili   \n980    9   23   0   0  ...  0   0   0  0   0  0  0    Brunet, Marie-Christine   \n1987   0   32   0   0  ...  0   0   0  0   0  0  0          Hacker, Rebecca E   \n477   26    4   1   1  ...  0   0   0  0   0  0  0            Lewis, Leslie C   \n2190   0   31   0   0  ...  0   0   0  0   0  0  0              Rockey, Marci   \n1228   8   12   0   1  ...  0   0   0  0   0  0  0   Cheng-De Vries, Chi-Hing   \n1073  42   16   2   2  ...  0   0   0  0   0  0  0              Smith, Mark K   \n2290  14   25   1   0  ...  0   0   0  0   0  0  0           Hannah, Deidre M   \n635    2   26   0   0  ...  0   0   0  0   0  0  0       Scheele, Genevieve V   \n650   26    2   0   0  ...  0   0   0  0   0  0  0             Weed, Ashley K   \n970    0   28   0   0  ...  0   0   0  0   0  0  0         Studamire, Dante R   \n1318   0   28   0   0  ...  0   0   0  0   0  0  0        Nichol, Alexander D   \n\n      Total Students  Average GPA  \n240               74     3.986486  \n2196             114     3.985439  \n106               38     3.982368  \n740               31     3.978387  \n2262              30     3.977667  \n375               44     3.977273  \n195               29     3.976897  \n810               29     3.976897  \n2084              42     3.976190  \n613               80     3.975000  \n446               53     3.974906  \n77                66     3.974848  \n116               39     3.974359  \n1108              26     3.974231  \n597               50     3.973400  \n2192             176     3.971591  \n1145              35     3.971429  \n1041              68     3.970735  \n367               57     3.970702  \n980               33     3.969697  \n1987              33     3.969697  \n477               32     3.968750  \n2190              32     3.968750  \n1228              21     3.968095  \n1073              62     3.967742  \n2290              41     3.967561  \n635               29     3.965517  \n650               29     3.965517  \n970               29     3.965517  \n1318              29     3.965517  \n\n[30 rows x 23 columns]"
     },
     "execution_count": 6,
     "metadata": {},
     "output_type": "execute_result"
    }
   ],
   "source": [
    "df_easy= df[df.Year==2020]\n",
    "df_easy_2020 = df_easy.nlargest(30, \"Average GPA\")\n",
    "df_easy_2020"
   ]
  },
  {
   "cell_type": "code",
   "execution_count": 7,
   "metadata": {
    "nbgrader": {
     "grade": true,
     "grade_id": "cell-af77ae707b9fa776",
     "locked": true,
     "points": 1,
     "schema_version": 3,
     "solution": false,
     "task": false
    }
   },
   "outputs": [
    {
     "name": "stdout",
     "output_type": "stream",
     "text": [
      "🎉 All tests passed! 🎉\n"
     ]
    }
   ],
   "source": [
    "## == TEST CASES for Puzzle 2.4 ==\n",
    "# - This read-only cell contains test cases for your previous cell.\n",
    "# - If this cell runs without any error or output, you PASSED all test cases!\n",
    "# - If this cell results in any errors, check your previous cell, make changes, RE-RUN your code, and then RE-RUN this cell.\n",
    "import math\n",
    "assert( len(df_easy_2020) == 30 ), \"You should only have the 30 easiest courses in 2020.\"\n",
    "assert( math.isclose(df_easy_2020[\"Average GPA\"].mean(), 3.9730388348773817) ), \"Are you sure you have the 30 easiest courses in 2020?\"\n",
    "## == SUCCESS MESSAGE ==\n",
    "# You will only see this message (with the emoji showing) if you passed all test cases:\n",
    "tada = \"\\N{PARTY POPPER}\"\n",
    "print(f\"{tada} All tests passed! {tada}\")"
   ]
  },
  {
   "cell_type": "markdown",
   "metadata": {},
   "source": [
    "## Puzzle 3: Finding Data by Subject\n",
    "\n",
    "### Puzzle 3.1: Total Number of Grades by Subject\n",
    "\n",
    "Find the total number of each grade (eg: \"A+\"s, \"A\"s, \"A-\"s, etc.) given by different subjects. Store the results in `df_group`.\n",
    "\n",
    "Hint (double-click this cell to see it): <span style=\"color:#ffffff00\">use the groupby() and agg() function</span>"
   ]
  },
  {
   "cell_type": "code",
   "execution_count": 8,
   "metadata": {
    "nbgrader": {
     "grade": false,
     "grade_id": "cell-7d31cf501bfd8025",
     "locked": false,
     "schema_version": 3,
     "solution": true,
     "task": false
    }
   },
   "outputs": [
    {
     "data": {
      "text/html": "<div>\n<style scoped>\n    .dataframe tbody tr th:only-of-type {\n        vertical-align: middle;\n    }\n\n    .dataframe tbody tr th {\n        vertical-align: top;\n    }\n\n    .dataframe thead th {\n        text-align: right;\n    }\n</style>\n<table border=\"1\" class=\"dataframe\">\n  <thead>\n    <tr style=\"text-align: right;\">\n      <th></th>\n      <th>Subject</th>\n      <th>Year</th>\n      <th>Number</th>\n      <th>A+</th>\n      <th>A</th>\n      <th>A-</th>\n      <th>B+</th>\n      <th>B</th>\n      <th>B-</th>\n      <th>C+</th>\n      <th>C</th>\n      <th>C-</th>\n      <th>D+</th>\n      <th>D</th>\n      <th>D-</th>\n      <th>F</th>\n      <th>W</th>\n      <th>Total Students</th>\n      <th>Average GPA</th>\n    </tr>\n  </thead>\n  <tbody>\n    <tr>\n      <th>0</th>\n      <td>AAS</td>\n      <td>360617</td>\n      <td>23290</td>\n      <td>771</td>\n      <td>2094</td>\n      <td>812</td>\n      <td>517</td>\n      <td>526</td>\n      <td>246</td>\n      <td>135</td>\n      <td>140</td>\n      <td>54</td>\n      <td>29</td>\n      <td>29</td>\n      <td>19</td>\n      <td>76</td>\n      <td>24</td>\n      <td>5448</td>\n      <td>627.599322</td>\n    </tr>\n    <tr>\n      <th>1</th>\n      <td>ABE</td>\n      <td>265957</td>\n      <td>44357</td>\n      <td>315</td>\n      <td>2556</td>\n      <td>800</td>\n      <td>703</td>\n      <td>902</td>\n      <td>240</td>\n      <td>127</td>\n      <td>175</td>\n      <td>46</td>\n      <td>16</td>\n      <td>43</td>\n      <td>6</td>\n      <td>51</td>\n      <td>14</td>\n      <td>5980</td>\n      <td>460.313666</td>\n    </tr>\n    <tr>\n      <th>2</th>\n      <td>ACCY</td>\n      <td>4553856</td>\n      <td>829676</td>\n      <td>7416</td>\n      <td>23142</td>\n      <td>15600</td>\n      <td>14839</td>\n      <td>13614</td>\n      <td>5703</td>\n      <td>2798</td>\n      <td>2155</td>\n      <td>1056</td>\n      <td>253</td>\n      <td>662</td>\n      <td>162</td>\n      <td>513</td>\n      <td>255</td>\n      <td>87913</td>\n      <td>7645.431230</td>\n    </tr>\n    <tr>\n      <th>3</th>\n      <td>ACE</td>\n      <td>1777080</td>\n      <td>241702</td>\n      <td>3523</td>\n      <td>13421</td>\n      <td>5040</td>\n      <td>4316</td>\n      <td>6859</td>\n      <td>2610</td>\n      <td>1627</td>\n      <td>2282</td>\n      <td>770</td>\n      <td>359</td>\n      <td>623</td>\n      <td>214</td>\n      <td>557</td>\n      <td>103</td>\n      <td>42201</td>\n      <td>2908.949399</td>\n    </tr>\n    <tr>\n      <th>4</th>\n      <td>ACES</td>\n      <td>286071</td>\n      <td>16537</td>\n      <td>889</td>\n      <td>1838</td>\n      <td>259</td>\n      <td>119</td>\n      <td>272</td>\n      <td>68</td>\n      <td>67</td>\n      <td>79</td>\n      <td>24</td>\n      <td>16</td>\n      <td>26</td>\n      <td>10</td>\n      <td>68</td>\n      <td>6</td>\n      <td>3735</td>\n      <td>522.491112</td>\n    </tr>\n    <tr>\n      <th>...</th>\n      <td>...</td>\n      <td>...</td>\n      <td>...</td>\n      <td>...</td>\n      <td>...</td>\n      <td>...</td>\n      <td>...</td>\n      <td>...</td>\n      <td>...</td>\n      <td>...</td>\n      <td>...</td>\n      <td>...</td>\n      <td>...</td>\n      <td>...</td>\n      <td>...</td>\n      <td>...</td>\n      <td>...</td>\n      <td>...</td>\n      <td>...</td>\n    </tr>\n    <tr>\n      <th>158</th>\n      <td>UP</td>\n      <td>578226</td>\n      <td>104655</td>\n      <td>1063</td>\n      <td>3559</td>\n      <td>2037</td>\n      <td>1241</td>\n      <td>1358</td>\n      <td>487</td>\n      <td>248</td>\n      <td>293</td>\n      <td>121</td>\n      <td>39</td>\n      <td>74</td>\n      <td>41</td>\n      <td>147</td>\n      <td>39</td>\n      <td>10708</td>\n      <td>1001.955127</td>\n    </tr>\n    <tr>\n      <th>159</th>\n      <td>VB</td>\n      <td>8040</td>\n      <td>2489</td>\n      <td>0</td>\n      <td>212</td>\n      <td>6</td>\n      <td>6</td>\n      <td>120</td>\n      <td>1</td>\n      <td>0</td>\n      <td>40</td>\n      <td>0</td>\n      <td>0</td>\n      <td>2</td>\n      <td>0</td>\n      <td>0</td>\n      <td>0</td>\n      <td>387</td>\n      <td>13.974534</td>\n    </tr>\n    <tr>\n      <th>160</th>\n      <td>VCM</td>\n      <td>74447</td>\n      <td>24157</td>\n      <td>302</td>\n      <td>1321</td>\n      <td>29</td>\n      <td>49</td>\n      <td>1036</td>\n      <td>20</td>\n      <td>18</td>\n      <td>337</td>\n      <td>1</td>\n      <td>1</td>\n      <td>41</td>\n      <td>0</td>\n      <td>1</td>\n      <td>0</td>\n      <td>3156</td>\n      <td>128.099232</td>\n    </tr>\n    <tr>\n      <th>161</th>\n      <td>VM</td>\n      <td>187402</td>\n      <td>56460</td>\n      <td>0</td>\n      <td>1825</td>\n      <td>8</td>\n      <td>0</td>\n      <td>5861</td>\n      <td>1</td>\n      <td>0</td>\n      <td>3405</td>\n      <td>0</td>\n      <td>0</td>\n      <td>325</td>\n      <td>0</td>\n      <td>8</td>\n      <td>10</td>\n      <td>11433</td>\n      <td>263.747696</td>\n    </tr>\n    <tr>\n      <th>162</th>\n      <td>YDSH</td>\n      <td>26176</td>\n      <td>3560</td>\n      <td>40</td>\n      <td>91</td>\n      <td>81</td>\n      <td>32</td>\n      <td>40</td>\n      <td>12</td>\n      <td>6</td>\n      <td>4</td>\n      <td>2</td>\n      <td>0</td>\n      <td>1</td>\n      <td>2</td>\n      <td>5</td>\n      <td>3</td>\n      <td>316</td>\n      <td>45.595320</td>\n    </tr>\n  </tbody>\n</table>\n<p>163 rows × 19 columns</p>\n</div>",
      "text/plain": "    Subject     Year  Number    A+      A     A-     B+      B    B-    C+  \\\n0       AAS   360617   23290   771   2094    812    517    526   246   135   \n1       ABE   265957   44357   315   2556    800    703    902   240   127   \n2      ACCY  4553856  829676  7416  23142  15600  14839  13614  5703  2798   \n3       ACE  1777080  241702  3523  13421   5040   4316   6859  2610  1627   \n4      ACES   286071   16537   889   1838    259    119    272    68    67   \n..      ...      ...     ...   ...    ...    ...    ...    ...   ...   ...   \n158      UP   578226  104655  1063   3559   2037   1241   1358   487   248   \n159      VB     8040    2489     0    212      6      6    120     1     0   \n160     VCM    74447   24157   302   1321     29     49   1036    20    18   \n161      VM   187402   56460     0   1825      8      0   5861     1     0   \n162    YDSH    26176    3560    40     91     81     32     40    12     6   \n\n        C    C-   D+    D   D-    F    W  Total Students  Average GPA  \n0     140    54   29   29   19   76   24            5448   627.599322  \n1     175    46   16   43    6   51   14            5980   460.313666  \n2    2155  1056  253  662  162  513  255           87913  7645.431230  \n3    2282   770  359  623  214  557  103           42201  2908.949399  \n4      79    24   16   26   10   68    6            3735   522.491112  \n..    ...   ...  ...  ...  ...  ...  ...             ...          ...  \n158   293   121   39   74   41  147   39           10708  1001.955127  \n159    40     0    0    2    0    0    0             387    13.974534  \n160   337     1    1   41    0    1    0            3156   128.099232  \n161  3405     0    0  325    0    8   10           11433   263.747696  \n162     4     2    0    1    2    5    3             316    45.595320  \n\n[163 rows x 19 columns]"
     },
     "execution_count": 8,
     "metadata": {},
     "output_type": "execute_result"
    }
   ],
   "source": [
    "df_group = df.groupby(\"Subject\").agg('sum').reset_index()\n",
    "df_group"
   ]
  },
  {
   "cell_type": "code",
   "execution_count": 13,
   "metadata": {
    "nbgrader": {
     "grade": true,
     "grade_id": "cell-e9ad64dffa5a1cf1",
     "locked": true,
     "points": 1,
     "schema_version": 3,
     "solution": false,
     "task": false
    }
   },
   "outputs": [
    {
     "name": "stdout",
     "output_type": "stream",
     "text": [
      "🎉 All tests passed! 🎉\n"
     ]
    }
   ],
   "source": [
    "## == TEST CASES for Puzzle 3.1 ==\n",
    "# - This read-only cell contains test cases for your previous cell.\n",
    "# - If this cell runs without any error our output, you PASSED all test cases!\n",
    "# - If this cell results in any errors, check your previous cell, make changes, RE-RUN your code, and then RE-RUN this cell.\n",
    "assert( len(df_group) == 163 ), \"Are you sure you grouped by subjects?\"\n",
    "assert( df_group[ df_group[\"Subject\"] == \"CS\" ][\"A\"].values[0] == 45290 ), \"Are you sure you counted the right number of each subject?\"\n",
    "## == SUCCESS MESSAGE ==\n",
    "# You will only see this message (with the emoji showing) if you passed all test cases:\n",
    "tada = \"\\N{PARTY POPPER}\"\n",
    "print(f\"{tada} All tests passed! {tada}\")"
   ]
  },
  {
   "cell_type": "markdown",
   "metadata": {},
   "source": [
    "### Puzzle 3.2: Average GPA by Subject\n",
    "\n",
    "In `df_group`, add a new column called `\"Overall Average GPA\"` that computes the overall GPA of each subject at Illinois."
   ]
  },
  {
   "cell_type": "code",
   "execution_count": 15,
   "metadata": {
    "nbgrader": {
     "grade": false,
     "grade_id": "cell-7d3923eba40e1f45",
     "locked": false,
     "schema_version": 3,
     "solution": true,
     "task": false
    }
   },
   "outputs": [
    {
     "data": {
      "text/html": "<div>\n<style scoped>\n    .dataframe tbody tr th:only-of-type {\n        vertical-align: middle;\n    }\n\n    .dataframe tbody tr th {\n        vertical-align: top;\n    }\n\n    .dataframe thead th {\n        text-align: right;\n    }\n</style>\n<table border=\"1\" class=\"dataframe\">\n  <thead>\n    <tr style=\"text-align: right;\">\n      <th></th>\n      <th>Subject</th>\n      <th>Year</th>\n      <th>Number</th>\n      <th>A+</th>\n      <th>A</th>\n      <th>A-</th>\n      <th>B+</th>\n      <th>B</th>\n      <th>B-</th>\n      <th>C+</th>\n      <th>C</th>\n      <th>C-</th>\n      <th>D+</th>\n      <th>D</th>\n      <th>D-</th>\n      <th>F</th>\n      <th>W</th>\n      <th>Total Students</th>\n      <th>Average GPA</th>\n      <th>Overall Average GPA</th>\n    </tr>\n  </thead>\n  <tbody>\n    <tr>\n      <th>0</th>\n      <td>AAS</td>\n      <td>360617</td>\n      <td>23290</td>\n      <td>771</td>\n      <td>2094</td>\n      <td>812</td>\n      <td>517</td>\n      <td>526</td>\n      <td>246</td>\n      <td>135</td>\n      <td>140</td>\n      <td>54</td>\n      <td>29</td>\n      <td>29</td>\n      <td>19</td>\n      <td>76</td>\n      <td>24</td>\n      <td>5448</td>\n      <td>627.599322</td>\n      <td>3.517162</td>\n    </tr>\n    <tr>\n      <th>1</th>\n      <td>ABE</td>\n      <td>265957</td>\n      <td>44357</td>\n      <td>315</td>\n      <td>2556</td>\n      <td>800</td>\n      <td>703</td>\n      <td>902</td>\n      <td>240</td>\n      <td>127</td>\n      <td>175</td>\n      <td>46</td>\n      <td>16</td>\n      <td>43</td>\n      <td>6</td>\n      <td>51</td>\n      <td>14</td>\n      <td>5980</td>\n      <td>460.313666</td>\n      <td>3.494786</td>\n    </tr>\n    <tr>\n      <th>2</th>\n      <td>ACCY</td>\n      <td>4553856</td>\n      <td>829676</td>\n      <td>7416</td>\n      <td>23142</td>\n      <td>15600</td>\n      <td>14839</td>\n      <td>13614</td>\n      <td>5703</td>\n      <td>2798</td>\n      <td>2155</td>\n      <td>1056</td>\n      <td>253</td>\n      <td>662</td>\n      <td>162</td>\n      <td>513</td>\n      <td>255</td>\n      <td>87913</td>\n      <td>7645.431230</td>\n      <td>3.397299</td>\n    </tr>\n    <tr>\n      <th>3</th>\n      <td>ACE</td>\n      <td>1777080</td>\n      <td>241702</td>\n      <td>3523</td>\n      <td>13421</td>\n      <td>5040</td>\n      <td>4316</td>\n      <td>6859</td>\n      <td>2610</td>\n      <td>1627</td>\n      <td>2282</td>\n      <td>770</td>\n      <td>359</td>\n      <td>623</td>\n      <td>214</td>\n      <td>557</td>\n      <td>103</td>\n      <td>42201</td>\n      <td>2908.949399</td>\n      <td>3.295548</td>\n    </tr>\n    <tr>\n      <th>4</th>\n      <td>ACES</td>\n      <td>286071</td>\n      <td>16537</td>\n      <td>889</td>\n      <td>1838</td>\n      <td>259</td>\n      <td>119</td>\n      <td>272</td>\n      <td>68</td>\n      <td>67</td>\n      <td>79</td>\n      <td>24</td>\n      <td>16</td>\n      <td>26</td>\n      <td>10</td>\n      <td>68</td>\n      <td>6</td>\n      <td>3735</td>\n      <td>522.491112</td>\n      <td>3.657438</td>\n    </tr>\n    <tr>\n      <th>...</th>\n      <td>...</td>\n      <td>...</td>\n      <td>...</td>\n      <td>...</td>\n      <td>...</td>\n      <td>...</td>\n      <td>...</td>\n      <td>...</td>\n      <td>...</td>\n      <td>...</td>\n      <td>...</td>\n      <td>...</td>\n      <td>...</td>\n      <td>...</td>\n      <td>...</td>\n      <td>...</td>\n      <td>...</td>\n      <td>...</td>\n      <td>...</td>\n      <td>...</td>\n    </tr>\n    <tr>\n      <th>158</th>\n      <td>UP</td>\n      <td>578226</td>\n      <td>104655</td>\n      <td>1063</td>\n      <td>3559</td>\n      <td>2037</td>\n      <td>1241</td>\n      <td>1358</td>\n      <td>487</td>\n      <td>248</td>\n      <td>293</td>\n      <td>121</td>\n      <td>39</td>\n      <td>74</td>\n      <td>41</td>\n      <td>147</td>\n      <td>39</td>\n      <td>10708</td>\n      <td>1001.955127</td>\n      <td>3.454414</td>\n    </tr>\n    <tr>\n      <th>159</th>\n      <td>VB</td>\n      <td>8040</td>\n      <td>2489</td>\n      <td>0</td>\n      <td>212</td>\n      <td>6</td>\n      <td>6</td>\n      <td>120</td>\n      <td>1</td>\n      <td>0</td>\n      <td>40</td>\n      <td>0</td>\n      <td>0</td>\n      <td>2</td>\n      <td>0</td>\n      <td>0</td>\n      <td>0</td>\n      <td>387</td>\n      <td>13.974534</td>\n      <td>3.448760</td>\n    </tr>\n    <tr>\n      <th>160</th>\n      <td>VCM</td>\n      <td>74447</td>\n      <td>24157</td>\n      <td>302</td>\n      <td>1321</td>\n      <td>29</td>\n      <td>49</td>\n      <td>1036</td>\n      <td>20</td>\n      <td>18</td>\n      <td>337</td>\n      <td>1</td>\n      <td>1</td>\n      <td>41</td>\n      <td>0</td>\n      <td>1</td>\n      <td>0</td>\n      <td>3156</td>\n      <td>128.099232</td>\n      <td>3.384962</td>\n    </tr>\n    <tr>\n      <th>161</th>\n      <td>VM</td>\n      <td>187402</td>\n      <td>56460</td>\n      <td>0</td>\n      <td>1825</td>\n      <td>8</td>\n      <td>0</td>\n      <td>5861</td>\n      <td>1</td>\n      <td>0</td>\n      <td>3405</td>\n      <td>0</td>\n      <td>0</td>\n      <td>325</td>\n      <td>0</td>\n      <td>8</td>\n      <td>10</td>\n      <td>11433</td>\n      <td>263.747696</td>\n      <td>2.803291</td>\n    </tr>\n    <tr>\n      <th>162</th>\n      <td>YDSH</td>\n      <td>26176</td>\n      <td>3560</td>\n      <td>40</td>\n      <td>91</td>\n      <td>81</td>\n      <td>32</td>\n      <td>40</td>\n      <td>12</td>\n      <td>6</td>\n      <td>4</td>\n      <td>2</td>\n      <td>0</td>\n      <td>1</td>\n      <td>2</td>\n      <td>5</td>\n      <td>3</td>\n      <td>316</td>\n      <td>45.595320</td>\n      <td>3.504842</td>\n    </tr>\n  </tbody>\n</table>\n<p>163 rows × 20 columns</p>\n</div>",
      "text/plain": "    Subject     Year  Number    A+      A     A-     B+      B    B-    C+  \\\n0       AAS   360617   23290   771   2094    812    517    526   246   135   \n1       ABE   265957   44357   315   2556    800    703    902   240   127   \n2      ACCY  4553856  829676  7416  23142  15600  14839  13614  5703  2798   \n3       ACE  1777080  241702  3523  13421   5040   4316   6859  2610  1627   \n4      ACES   286071   16537   889   1838    259    119    272    68    67   \n..      ...      ...     ...   ...    ...    ...    ...    ...   ...   ...   \n158      UP   578226  104655  1063   3559   2037   1241   1358   487   248   \n159      VB     8040    2489     0    212      6      6    120     1     0   \n160     VCM    74447   24157   302   1321     29     49   1036    20    18   \n161      VM   187402   56460     0   1825      8      0   5861     1     0   \n162    YDSH    26176    3560    40     91     81     32     40    12     6   \n\n        C    C-   D+    D   D-    F    W  Total Students  Average GPA  \\\n0     140    54   29   29   19   76   24            5448   627.599322   \n1     175    46   16   43    6   51   14            5980   460.313666   \n2    2155  1056  253  662  162  513  255           87913  7645.431230   \n3    2282   770  359  623  214  557  103           42201  2908.949399   \n4      79    24   16   26   10   68    6            3735   522.491112   \n..    ...   ...  ...  ...  ...  ...  ...             ...          ...   \n158   293   121   39   74   41  147   39           10708  1001.955127   \n159    40     0    0    2    0    0    0             387    13.974534   \n160   337     1    1   41    0    1    0            3156   128.099232   \n161  3405     0    0  325    0    8   10           11433   263.747696   \n162     4     2    0    1    2    5    3             316    45.595320   \n\n     Overall Average GPA  \n0               3.517162  \n1               3.494786  \n2               3.397299  \n3               3.295548  \n4               3.657438  \n..                   ...  \n158             3.454414  \n159             3.448760  \n160             3.384962  \n161             2.803291  \n162             3.504842  \n\n[163 rows x 20 columns]"
     },
     "execution_count": 15,
     "metadata": {},
     "output_type": "execute_result"
    }
   ],
   "source": [
    "df_group[\"Overall Average GPA\"] = df_group[grade].dot(weight)/ df_group[\"Total Students\"]\n",
    "df_group"
   ]
  },
  {
   "cell_type": "code",
   "execution_count": 25,
   "metadata": {},
   "outputs": [
    {
     "data": {
      "text/html": "<div>\n<style scoped>\n    .dataframe tbody tr th:only-of-type {\n        vertical-align: middle;\n    }\n\n    .dataframe tbody tr th {\n        vertical-align: top;\n    }\n\n    .dataframe thead th {\n        text-align: right;\n    }\n</style>\n<table border=\"1\" class=\"dataframe\">\n  <thead>\n    <tr style=\"text-align: right;\">\n      <th></th>\n      <th>Subject</th>\n      <th>Year</th>\n      <th>Number</th>\n      <th>A+</th>\n      <th>A</th>\n      <th>A-</th>\n      <th>B+</th>\n      <th>B</th>\n      <th>B-</th>\n      <th>C+</th>\n      <th>C</th>\n      <th>C-</th>\n      <th>D+</th>\n      <th>D</th>\n      <th>D-</th>\n      <th>F</th>\n      <th>W</th>\n      <th>Total Students</th>\n      <th>Average GPA</th>\n      <th>Overall Average GPA</th>\n    </tr>\n  </thead>\n  <tbody>\n    <tr>\n      <th>35</th>\n      <td>CB</td>\n      <td>4022</td>\n      <td>1250</td>\n      <td>0</td>\n      <td>140</td>\n      <td>0</td>\n      <td>0</td>\n      <td>17</td>\n      <td>0</td>\n      <td>0</td>\n      <td>1</td>\n      <td>0</td>\n      <td>0</td>\n      <td>0</td>\n      <td>0</td>\n      <td>0</td>\n      <td>2</td>\n      <td>158</td>\n      <td>7.767925</td>\n      <td>3.879747</td>\n    </tr>\n    <tr>\n      <th>61</th>\n      <td>EPOL</td>\n      <td>18169</td>\n      <td>4885</td>\n      <td>16</td>\n      <td>284</td>\n      <td>36</td>\n      <td>8</td>\n      <td>6</td>\n      <td>4</td>\n      <td>0</td>\n      <td>1</td>\n      <td>2</td>\n      <td>0</td>\n      <td>0</td>\n      <td>0</td>\n      <td>3</td>\n      <td>0</td>\n      <td>360</td>\n      <td>34.866105</td>\n      <td>3.868833</td>\n    </tr>\n    <tr>\n      <th>41</th>\n      <td>CHP</td>\n      <td>16140</td>\n      <td>1592</td>\n      <td>42</td>\n      <td>131</td>\n      <td>28</td>\n      <td>8</td>\n      <td>7</td>\n      <td>1</td>\n      <td>0</td>\n      <td>3</td>\n      <td>0</td>\n      <td>0</td>\n      <td>0</td>\n      <td>0</td>\n      <td>1</td>\n      <td>0</td>\n      <td>221</td>\n      <td>30.783745</td>\n      <td>3.850995</td>\n    </tr>\n    <tr>\n      <th>157</th>\n      <td>UKR</td>\n      <td>8048</td>\n      <td>452</td>\n      <td>5</td>\n      <td>190</td>\n      <td>43</td>\n      <td>20</td>\n      <td>8</td>\n      <td>4</td>\n      <td>0</td>\n      <td>1</td>\n      <td>0</td>\n      <td>0</td>\n      <td>0</td>\n      <td>0</td>\n      <td>0</td>\n      <td>0</td>\n      <td>271</td>\n      <td>15.181337</td>\n      <td>3.841661</td>\n    </tr>\n    <tr>\n      <th>34</th>\n      <td>BUS</td>\n      <td>582306</td>\n      <td>33256</td>\n      <td>818</td>\n      <td>5317</td>\n      <td>1104</td>\n      <td>491</td>\n      <td>274</td>\n      <td>93</td>\n      <td>34</td>\n      <td>41</td>\n      <td>9</td>\n      <td>4</td>\n      <td>10</td>\n      <td>4</td>\n      <td>26</td>\n      <td>11</td>\n      <td>8225</td>\n      <td>1105.647911</td>\n      <td>3.828726</td>\n    </tr>\n    <tr>\n      <th>130</th>\n      <td>REES</td>\n      <td>6047</td>\n      <td>603</td>\n      <td>32</td>\n      <td>34</td>\n      <td>7</td>\n      <td>2</td>\n      <td>5</td>\n      <td>2</td>\n      <td>0</td>\n      <td>0</td>\n      <td>0</td>\n      <td>0</td>\n      <td>1</td>\n      <td>0</td>\n      <td>0</td>\n      <td>0</td>\n      <td>83</td>\n      <td>11.434037</td>\n      <td>3.827590</td>\n    </tr>\n    <tr>\n      <th>54</th>\n      <td>EDUC</td>\n      <td>163406</td>\n      <td>14416</td>\n      <td>459</td>\n      <td>2107</td>\n      <td>316</td>\n      <td>160</td>\n      <td>129</td>\n      <td>35</td>\n      <td>23</td>\n      <td>35</td>\n      <td>7</td>\n      <td>2</td>\n      <td>12</td>\n      <td>2</td>\n      <td>13</td>\n      <td>6</td>\n      <td>3300</td>\n      <td>305.457539</td>\n      <td>3.814621</td>\n    </tr>\n    <tr>\n      <th>60</th>\n      <td>EOL</td>\n      <td>102770</td>\n      <td>27489</td>\n      <td>89</td>\n      <td>1147</td>\n      <td>231</td>\n      <td>114</td>\n      <td>93</td>\n      <td>10</td>\n      <td>3</td>\n      <td>9</td>\n      <td>0</td>\n      <td>0</td>\n      <td>5</td>\n      <td>0</td>\n      <td>8</td>\n      <td>3</td>\n      <td>1709</td>\n      <td>193.522492</td>\n      <td>3.807537</td>\n    </tr>\n    <tr>\n      <th>128</th>\n      <td>PSM</td>\n      <td>18145</td>\n      <td>4514</td>\n      <td>130</td>\n      <td>46</td>\n      <td>15</td>\n      <td>4</td>\n      <td>12</td>\n      <td>4</td>\n      <td>2</td>\n      <td>3</td>\n      <td>2</td>\n      <td>0</td>\n      <td>0</td>\n      <td>0</td>\n      <td>1</td>\n      <td>0</td>\n      <td>219</td>\n      <td>34.219398</td>\n      <td>3.803881</td>\n    </tr>\n    <tr>\n      <th>90</th>\n      <td>IS</td>\n      <td>1015522</td>\n      <td>262508</td>\n      <td>1858</td>\n      <td>7984</td>\n      <td>2297</td>\n      <td>906</td>\n      <td>626</td>\n      <td>193</td>\n      <td>55</td>\n      <td>70</td>\n      <td>21</td>\n      <td>5</td>\n      <td>23</td>\n      <td>1</td>\n      <td>40</td>\n      <td>15</td>\n      <td>14079</td>\n      <td>1915.785915</td>\n      <td>3.802956</td>\n    </tr>\n  </tbody>\n</table>\n</div>",
      "text/plain": "    Subject     Year  Number    A+     A    A-   B+    B   B-  C+   C  C-  D+  \\\n35       CB     4022    1250     0   140     0    0   17    0   0   1   0   0   \n61     EPOL    18169    4885    16   284    36    8    6    4   0   1   2   0   \n41      CHP    16140    1592    42   131    28    8    7    1   0   3   0   0   \n157     UKR     8048     452     5   190    43   20    8    4   0   1   0   0   \n34      BUS   582306   33256   818  5317  1104  491  274   93  34  41   9   4   \n130    REES     6047     603    32    34     7    2    5    2   0   0   0   0   \n54     EDUC   163406   14416   459  2107   316  160  129   35  23  35   7   2   \n60      EOL   102770   27489    89  1147   231  114   93   10   3   9   0   0   \n128     PSM    18145    4514   130    46    15    4   12    4   2   3   2   0   \n90       IS  1015522  262508  1858  7984  2297  906  626  193  55  70  21   5   \n\n      D  D-   F   W  Total Students  Average GPA  Overall Average GPA  \n35    0   0   0   2             158     7.767925             3.879747  \n61    0   0   3   0             360    34.866105             3.868833  \n41    0   0   1   0             221    30.783745             3.850995  \n157   0   0   0   0             271    15.181337             3.841661  \n34   10   4  26  11            8225  1105.647911             3.828726  \n130   1   0   0   0              83    11.434037             3.827590  \n54   12   2  13   6            3300   305.457539             3.814621  \n60    5   0   8   3            1709   193.522492             3.807537  \n128   0   0   1   0             219    34.219398             3.803881  \n90   23   1  40  15           14079  1915.785915             3.802956  "
     },
     "execution_count": 25,
     "metadata": {},
     "output_type": "execute_result"
    }
   ],
   "source": [
    "easiest_major= df_group.nlargest(10, \"Overall Average GPA\")\n",
    "easiest_major"
   ]
  },
  {
   "cell_type": "code",
   "execution_count": 26,
   "metadata": {
    "nbgrader": {
     "grade": true,
     "grade_id": "cell-81b547cf0d42b67e",
     "locked": true,
     "points": 1,
     "schema_version": 3,
     "solution": false,
     "task": false
    }
   },
   "outputs": [
    {
     "name": "stdout",
     "output_type": "stream",
     "text": [
      "🎉 All tests passed! 🎉\n"
     ]
    }
   ],
   "source": [
    "## == TEST CASES for Puzzle 3.2 ==\n",
    "# - This read-only cell contains test cases for your previous cell.\n",
    "# - If this cell runs without any error or output, you PASSED all test cases!\n",
    "# - If this cell results in any errors, check you previous cell, make changes, RE-RUN your code, and then RE-RUN this cell.\n",
    "import math\n",
    "assert( math.isclose(df_group[df_group[\"Subject\"] == \"CS\"][\"Overall Average GPA\"].values[0], 3.2788726192300266) ), \"Your overall average GPA does not appear to be correct.\"\n",
    "## == SUCCESS MESSAGE ==\n",
    "# You will only see this message (with the emoji showing) if you passed all test cases:\n",
    "tada = \"\\N{PARTY POPPER}\"\n",
    "print(f\"{tada} All tests passed! {tada}\")"
   ]
  },
  {
   "cell_type": "markdown",
   "metadata": {},
   "source": [
    "### Puzzle 3.3: Visualizing the Grades of Subject Equal to `\"STAT\"`\n",
    "\n",
    "Plot a density histogram of the grades (`\"A+\"` to `\"F\"`) for the subject `\"STAT\"`.\n",
    "\n",
    "Hint (double-click this cell to see it): \n",
    "<span style=\"color:#ffffff00\">\n",
    "    First, extract the row where the subject is \"STAT\".\n",
    "    Then, extract the columns \"A+\" to \"F\" and divide them by the total number of students.\n",
    "    Finally, use plot.bar().\n",
    "</span>"
   ]
  },
  {
   "cell_type": "code",
   "execution_count": 33,
   "metadata": {},
   "outputs": [
    {
     "data": {
      "text/plain": "<matplotlib.axes._subplots.AxesSubplot at 0x7fbdcc518eb0>"
     },
     "execution_count": 33,
     "metadata": {},
     "output_type": "execute_result"
    },
    {
     "data": {
      "image/png": "[encoded data removed]",
      "text/plain": "<Figure size 432x288 with 1 Axes>"
     },
     "metadata": {
      "needs_background": "light"
     },
     "output_type": "display_data"
    }
   ],
   "source": [
    "df2= df_group[df_group[\"Subject\"]==\"STAT\"]\n",
    "df2= df2[grade]/df2[\"Total Students\"].values[0]\n",
    "df2.plot.bar()\n"
   ]
  },
  {
   "cell_type": "markdown",
   "metadata": {},
   "source": [
    "### Puzzle 3.4: ❓ Individual Reflection Question ❓ \n",
    "\n",
    "Density Histogram vs. Frequency Histogram\n",
    "\n",
    "Why should we use density histogram in Puzzle 3.3? Is it meaningful to compare the frequency histogram between different subjects?"
   ]
  },
  {
   "cell_type": "markdown",
   "metadata": {},
   "source": [
    "***Double click this cell and type your answer here.***\n",
    "We should use a density histogram in Puzzle 3.3 to remove the potentential differences in total number of grades per subject. By using a density histogram you can more accurately compare subjects and their grades distrubtions since each subject will have histogram areas that sum to 1. A density histogram will the show a certain letter grade and the percent of students who received that letter grade. Thus comparing density histograms between subjects will be more effective and meaningful. "
   ]
  },
  {
   "cell_type": "markdown",
   "metadata": {},
   "source": [
    "### Puzzle 3.5: Find Your Major\n",
    "\n",
    "Finally, find your major/subject in the dataset and check out how hard it is! \n",
    "\n",
    "Feel free to look around and explore! Part of being a data scientist is being creative and using Python to answer questions that you have.  Write your code below and write comments in Puzzle 3.6 to explain what your code does. For example, what are the hardest classes in your major that have had at least 50 students?"
   ]
  },
  {
   "cell_type": "code",
   "execution_count": 10,
   "metadata": {
    "nbgrader": {
     "grade": false,
     "grade_id": "cell-116a2bb23ee81616",
     "locked": false,
     "schema_version": 3,
     "solution": true,
     "task": false
    }
   },
   "outputs": [
    {
     "data": {
      "text/html": "<div>\n<style scoped>\n    .dataframe tbody tr th:only-of-type {\n        vertical-align: middle;\n    }\n\n    .dataframe tbody tr th {\n        vertical-align: top;\n    }\n\n    .dataframe thead th {\n        text-align: right;\n    }\n</style>\n<table border=\"1\" class=\"dataframe\">\n  <thead>\n    <tr style=\"text-align: right;\">\n      <th></th>\n      <th>Year</th>\n      <th>Term</th>\n      <th>YearTerm</th>\n      <th>Subject</th>\n      <th>Number</th>\n      <th>Course Title</th>\n      <th>A+</th>\n      <th>A</th>\n      <th>A-</th>\n      <th>B+</th>\n      <th>...</th>\n      <th>C</th>\n      <th>C-</th>\n      <th>D+</th>\n      <th>D</th>\n      <th>D-</th>\n      <th>F</th>\n      <th>W</th>\n      <th>Primary Instructor</th>\n      <th>Total Students</th>\n      <th>Average GPA</th>\n    </tr>\n  </thead>\n  <tbody>\n    <tr>\n      <th>332</th>\n      <td>2020</td>\n      <td>Spring</td>\n      <td>2020-sp</td>\n      <td>BADM</td>\n      <td>199</td>\n      <td>Business Honors Ind Study</td>\n      <td>0</td>\n      <td>21</td>\n      <td>2</td>\n      <td>1</td>\n      <td>...</td>\n      <td>0</td>\n      <td>0</td>\n      <td>0</td>\n      <td>0</td>\n      <td>0</td>\n      <td>0</td>\n      <td>0</td>\n      <td>Metzger, Robert L</td>\n      <td>25</td>\n      <td>3.906800</td>\n    </tr>\n    <tr>\n      <th>333</th>\n      <td>2020</td>\n      <td>Spring</td>\n      <td>2020-sp</td>\n      <td>BADM</td>\n      <td>210</td>\n      <td>Business Analytics I</td>\n      <td>2</td>\n      <td>85</td>\n      <td>33</td>\n      <td>19</td>\n      <td>...</td>\n      <td>14</td>\n      <td>4</td>\n      <td>0</td>\n      <td>0</td>\n      <td>0</td>\n      <td>5</td>\n      <td>0</td>\n      <td>Larson, Eric</td>\n      <td>208</td>\n      <td>3.343365</td>\n    </tr>\n    <tr>\n      <th>334</th>\n      <td>2020</td>\n      <td>Spring</td>\n      <td>2020-sp</td>\n      <td>BADM</td>\n      <td>211</td>\n      <td>Business Analytics II</td>\n      <td>3</td>\n      <td>27</td>\n      <td>4</td>\n      <td>5</td>\n      <td>...</td>\n      <td>0</td>\n      <td>0</td>\n      <td>0</td>\n      <td>0</td>\n      <td>0</td>\n      <td>0</td>\n      <td>0</td>\n      <td>Ahsen, Mehmet E</td>\n      <td>45</td>\n      <td>3.726000</td>\n    </tr>\n    <tr>\n      <th>335</th>\n      <td>2020</td>\n      <td>Spring</td>\n      <td>2020-sp</td>\n      <td>BADM</td>\n      <td>211</td>\n      <td>Business Analytics II</td>\n      <td>3</td>\n      <td>32</td>\n      <td>4</td>\n      <td>2</td>\n      <td>...</td>\n      <td>0</td>\n      <td>0</td>\n      <td>0</td>\n      <td>0</td>\n      <td>0</td>\n      <td>0</td>\n      <td>0</td>\n      <td>Ahsen, Mehmet E</td>\n      <td>45</td>\n      <td>3.822444</td>\n    </tr>\n    <tr>\n      <th>336</th>\n      <td>2020</td>\n      <td>Spring</td>\n      <td>2020-sp</td>\n      <td>BADM</td>\n      <td>211</td>\n      <td>Business Analytics II</td>\n      <td>0</td>\n      <td>13</td>\n      <td>4</td>\n      <td>1</td>\n      <td>...</td>\n      <td>1</td>\n      <td>1</td>\n      <td>0</td>\n      <td>0</td>\n      <td>0</td>\n      <td>0</td>\n      <td>0</td>\n      <td>Ahsen, Mehmet E</td>\n      <td>26</td>\n      <td>3.500385</td>\n    </tr>\n    <tr>\n      <th>...</th>\n      <td>...</td>\n      <td>...</td>\n      <td>...</td>\n      <td>...</td>\n      <td>...</td>\n      <td>...</td>\n      <td>...</td>\n      <td>...</td>\n      <td>...</td>\n      <td>...</td>\n      <td>...</td>\n      <td>...</td>\n      <td>...</td>\n      <td>...</td>\n      <td>...</td>\n      <td>...</td>\n      <td>...</td>\n      <td>...</td>\n      <td>...</td>\n      <td>...</td>\n      <td>...</td>\n    </tr>\n    <tr>\n      <th>7344</th>\n      <td>2019</td>\n      <td>Winter</td>\n      <td>2019-wi</td>\n      <td>BADM</td>\n      <td>300</td>\n      <td>The Legal Environment of Bus</td>\n      <td>8</td>\n      <td>22</td>\n      <td>15</td>\n      <td>6</td>\n      <td>...</td>\n      <td>4</td>\n      <td>2</td>\n      <td>0</td>\n      <td>0</td>\n      <td>0</td>\n      <td>0</td>\n      <td>1</td>\n      <td>Fricke, Michael R</td>\n      <td>66</td>\n      <td>3.530909</td>\n    </tr>\n    <tr>\n      <th>7345</th>\n      <td>2019</td>\n      <td>Winter</td>\n      <td>2019-wi</td>\n      <td>BADM</td>\n      <td>310</td>\n      <td>Mgmt and Organizational Beh</td>\n      <td>0</td>\n      <td>64</td>\n      <td>6</td>\n      <td>1</td>\n      <td>...</td>\n      <td>1</td>\n      <td>1</td>\n      <td>0</td>\n      <td>0</td>\n      <td>0</td>\n      <td>2</td>\n      <td>0</td>\n      <td>Gill, Shahbaz</td>\n      <td>78</td>\n      <td>3.760897</td>\n    </tr>\n    <tr>\n      <th>7346</th>\n      <td>2019</td>\n      <td>Winter</td>\n      <td>2019-wi</td>\n      <td>BADM</td>\n      <td>320</td>\n      <td>Principles of Marketing</td>\n      <td>0</td>\n      <td>45</td>\n      <td>2</td>\n      <td>3</td>\n      <td>...</td>\n      <td>0</td>\n      <td>0</td>\n      <td>0</td>\n      <td>1</td>\n      <td>0</td>\n      <td>4</td>\n      <td>0</td>\n      <td>Gill, Shahbaz</td>\n      <td>59</td>\n      <td>3.547966</td>\n    </tr>\n    <tr>\n      <th>7347</th>\n      <td>2019</td>\n      <td>Winter</td>\n      <td>2019-wi</td>\n      <td>BADM</td>\n      <td>350</td>\n      <td>IT for Networked Organizations</td>\n      <td>1</td>\n      <td>17</td>\n      <td>5</td>\n      <td>3</td>\n      <td>...</td>\n      <td>2</td>\n      <td>0</td>\n      <td>0</td>\n      <td>0</td>\n      <td>0</td>\n      <td>0</td>\n      <td>0</td>\n      <td>Sachdev, Vishal</td>\n      <td>29</td>\n      <td>3.701379</td>\n    </tr>\n    <tr>\n      <th>7348</th>\n      <td>2019</td>\n      <td>Winter</td>\n      <td>2019-wi</td>\n      <td>BADM</td>\n      <td>380</td>\n      <td>International Business</td>\n      <td>2</td>\n      <td>9</td>\n      <td>1</td>\n      <td>5</td>\n      <td>...</td>\n      <td>1</td>\n      <td>1</td>\n      <td>0</td>\n      <td>0</td>\n      <td>1</td>\n      <td>0</td>\n      <td>0</td>\n      <td>Bucheli, Marcelo</td>\n      <td>24</td>\n      <td>3.305000</td>\n    </tr>\n  </tbody>\n</table>\n<p>350 rows × 23 columns</p>\n</div>",
      "text/plain": "      Year    Term YearTerm Subject  Number                    Course Title  \\\n332   2020  Spring  2020-sp    BADM     199       Business Honors Ind Study   \n333   2020  Spring  2020-sp    BADM     210            Business Analytics I   \n334   2020  Spring  2020-sp    BADM     211           Business Analytics II   \n335   2020  Spring  2020-sp    BADM     211           Business Analytics II   \n336   2020  Spring  2020-sp    BADM     211           Business Analytics II   \n...    ...     ...      ...     ...     ...                             ...   \n7344  2019  Winter  2019-wi    BADM     300    The Legal Environment of Bus   \n7345  2019  Winter  2019-wi    BADM     310     Mgmt and Organizational Beh   \n7346  2019  Winter  2019-wi    BADM     320         Principles of Marketing   \n7347  2019  Winter  2019-wi    BADM     350  IT for Networked Organizations   \n7348  2019  Winter  2019-wi    BADM     380          International Business   \n\n      A+   A  A-  B+  ...   C  C-  D+  D  D-  F  W  Primary Instructor  \\\n332    0  21   2   1  ...   0   0   0  0   0  0  0   Metzger, Robert L   \n333    2  85  33  19  ...  14   4   0  0   0  5  0        Larson, Eric   \n334    3  27   4   5  ...   0   0   0  0   0  0  0     Ahsen, Mehmet E   \n335    3  32   4   2  ...   0   0   0  0   0  0  0     Ahsen, Mehmet E   \n336    0  13   4   1  ...   1   1   0  0   0  0  0     Ahsen, Mehmet E   \n...   ..  ..  ..  ..  ...  ..  ..  .. ..  .. .. ..                 ...   \n7344   8  22  15   6  ...   4   2   0  0   0  0  1   Fricke, Michael R   \n7345   0  64   6   1  ...   1   1   0  0   0  2  0       Gill, Shahbaz   \n7346   0  45   2   3  ...   0   0   0  1   0  4  0       Gill, Shahbaz   \n7347   1  17   5   3  ...   2   0   0  0   0  0  0     Sachdev, Vishal   \n7348   2   9   1   5  ...   1   1   0  0   1  0  0    Bucheli, Marcelo   \n\n      Total Students  Average GPA  \n332               25     3.906800  \n333              208     3.343365  \n334               45     3.726000  \n335               45     3.822444  \n336               26     3.500385  \n...              ...          ...  \n7344              66     3.530909  \n7345              78     3.760897  \n7346              59     3.547966  \n7347              29     3.701379  \n7348              24     3.305000  \n\n[350 rows x 23 columns]"
     },
     "execution_count": 10,
     "metadata": {},
     "output_type": "execute_result"
    }
   ],
   "source": [
    "# Feel free to explore. Credit will be given as long as you try some new code (i.e., not directly copied from any puzzles).\n",
    "\n",
    "df3= df[(df.Subject==\"BADM\") & (df[\"Total Students\"]>=20) & (df[\"Year\"]>=2019)]\n",
    "df3"
   ]
  },
  {
   "cell_type": "code",
   "execution_count": 11,
   "metadata": {},
   "outputs": [
    {
     "data": {
      "text/html": "<div>\n<style scoped>\n    .dataframe tbody tr th:only-of-type {\n        vertical-align: middle;\n    }\n\n    .dataframe tbody tr th {\n        vertical-align: top;\n    }\n\n    .dataframe thead th {\n        text-align: right;\n    }\n</style>\n<table border=\"1\" class=\"dataframe\">\n  <thead>\n    <tr style=\"text-align: right;\">\n      <th></th>\n      <th>Year</th>\n      <th>Term</th>\n      <th>YearTerm</th>\n      <th>Subject</th>\n      <th>Number</th>\n      <th>Course Title</th>\n      <th>A+</th>\n      <th>A</th>\n      <th>A-</th>\n      <th>B+</th>\n      <th>...</th>\n      <th>C</th>\n      <th>C-</th>\n      <th>D+</th>\n      <th>D</th>\n      <th>D-</th>\n      <th>F</th>\n      <th>W</th>\n      <th>Primary Instructor</th>\n      <th>Total Students</th>\n      <th>Average GPA</th>\n    </tr>\n  </thead>\n  <tbody>\n    <tr>\n      <th>5301</th>\n      <td>2019</td>\n      <td>Spring</td>\n      <td>2019-sp</td>\n      <td>BADM</td>\n      <td>350</td>\n      <td>IT for Networked Organizations</td>\n      <td>0</td>\n      <td>0</td>\n      <td>1</td>\n      <td>3</td>\n      <td>...</td>\n      <td>8</td>\n      <td>4</td>\n      <td>0</td>\n      <td>4</td>\n      <td>0</td>\n      <td>0</td>\n      <td>0</td>\n      <td>Parthasarathy, Rangarajan</td>\n      <td>36</td>\n      <td>2.343056</td>\n    </tr>\n    <tr>\n      <th>7177</th>\n      <td>2019</td>\n      <td>Summer</td>\n      <td>2019-su</td>\n      <td>BADM</td>\n      <td>375</td>\n      <td>Operations Management</td>\n      <td>0</td>\n      <td>6</td>\n      <td>2</td>\n      <td>4</td>\n      <td>...</td>\n      <td>1</td>\n      <td>1</td>\n      <td>2</td>\n      <td>5</td>\n      <td>0</td>\n      <td>4</td>\n      <td>1</td>\n      <td>Scott, Nehemiah</td>\n      <td>35</td>\n      <td>2.400000</td>\n    </tr>\n    <tr>\n      <th>2127</th>\n      <td>2020</td>\n      <td>Summer</td>\n      <td>2020-su</td>\n      <td>BADM</td>\n      <td>375</td>\n      <td>Operations Management</td>\n      <td>0</td>\n      <td>3</td>\n      <td>7</td>\n      <td>3</td>\n      <td>...</td>\n      <td>1</td>\n      <td>1</td>\n      <td>1</td>\n      <td>1</td>\n      <td>4</td>\n      <td>2</td>\n      <td>1</td>\n      <td>Scott, Nehemiah</td>\n      <td>34</td>\n      <td>2.579706</td>\n    </tr>\n    <tr>\n      <th>5302</th>\n      <td>2019</td>\n      <td>Spring</td>\n      <td>2019-sp</td>\n      <td>BADM</td>\n      <td>350</td>\n      <td>IT for Networked Organizations</td>\n      <td>0</td>\n      <td>0</td>\n      <td>1</td>\n      <td>2</td>\n      <td>...</td>\n      <td>2</td>\n      <td>0</td>\n      <td>0</td>\n      <td>2</td>\n      <td>0</td>\n      <td>0</td>\n      <td>0</td>\n      <td>Parthasarathy, Rangarajan</td>\n      <td>24</td>\n      <td>2.624583</td>\n    </tr>\n    <tr>\n      <th>373</th>\n      <td>2020</td>\n      <td>Spring</td>\n      <td>2020-sp</td>\n      <td>BADM</td>\n      <td>350</td>\n      <td>IT for Networked Organizations</td>\n      <td>0</td>\n      <td>0</td>\n      <td>2</td>\n      <td>3</td>\n      <td>...</td>\n      <td>3</td>\n      <td>0</td>\n      <td>0</td>\n      <td>2</td>\n      <td>0</td>\n      <td>0</td>\n      <td>0</td>\n      <td>Parthasarathy, Rangarajan</td>\n      <td>23</td>\n      <td>2.667391</td>\n    </tr>\n    <tr>\n      <th>5303</th>\n      <td>2019</td>\n      <td>Spring</td>\n      <td>2019-sp</td>\n      <td>BADM</td>\n      <td>350</td>\n      <td>IT for Networked Organizations</td>\n      <td>0</td>\n      <td>2</td>\n      <td>2</td>\n      <td>3</td>\n      <td>...</td>\n      <td>1</td>\n      <td>1</td>\n      <td>0</td>\n      <td>1</td>\n      <td>0</td>\n      <td>0</td>\n      <td>0</td>\n      <td>Parthasarathy, Rangarajan</td>\n      <td>33</td>\n      <td>2.889697</td>\n    </tr>\n    <tr>\n      <th>2773</th>\n      <td>2019</td>\n      <td>Fall</td>\n      <td>2019-fa</td>\n      <td>BADM</td>\n      <td>350</td>\n      <td>IT for Networked Organizations</td>\n      <td>0</td>\n      <td>8</td>\n      <td>10</td>\n      <td>13</td>\n      <td>...</td>\n      <td>3</td>\n      <td>1</td>\n      <td>0</td>\n      <td>5</td>\n      <td>0</td>\n      <td>1</td>\n      <td>0</td>\n      <td>Parthasarathy, Rangarajan</td>\n      <td>55</td>\n      <td>2.981818</td>\n    </tr>\n    <tr>\n      <th>5358</th>\n      <td>2019</td>\n      <td>Spring</td>\n      <td>2019-sp</td>\n      <td>BADM</td>\n      <td>590</td>\n      <td>Predictive Data Analytics</td>\n      <td>0</td>\n      <td>15</td>\n      <td>6</td>\n      <td>8</td>\n      <td>...</td>\n      <td>0</td>\n      <td>1</td>\n      <td>10</td>\n      <td>2</td>\n      <td>0</td>\n      <td>0</td>\n      <td>0</td>\n      <td>Ye, Han</td>\n      <td>43</td>\n      <td>2.983721</td>\n    </tr>\n    <tr>\n      <th>2827</th>\n      <td>2019</td>\n      <td>Fall</td>\n      <td>2019-fa</td>\n      <td>BADM</td>\n      <td>554</td>\n      <td>Enterprise Database Management</td>\n      <td>0</td>\n      <td>3</td>\n      <td>6</td>\n      <td>10</td>\n      <td>...</td>\n      <td>1</td>\n      <td>0</td>\n      <td>3</td>\n      <td>0</td>\n      <td>0</td>\n      <td>0</td>\n      <td>0</td>\n      <td>Sachdev, Vishal</td>\n      <td>44</td>\n      <td>2.991591</td>\n    </tr>\n    <tr>\n      <th>386</th>\n      <td>2020</td>\n      <td>Spring</td>\n      <td>2020-sp</td>\n      <td>BADM</td>\n      <td>378</td>\n      <td>Logistics Management</td>\n      <td>0</td>\n      <td>6</td>\n      <td>5</td>\n      <td>1</td>\n      <td>...</td>\n      <td>0</td>\n      <td>1</td>\n      <td>0</td>\n      <td>0</td>\n      <td>0</td>\n      <td>1</td>\n      <td>0</td>\n      <td>Scott, Nehemiah</td>\n      <td>24</td>\n      <td>3.098333</td>\n    </tr>\n  </tbody>\n</table>\n<p>10 rows × 23 columns</p>\n</div>",
      "text/plain": "      Year    Term YearTerm Subject  Number                    Course Title  \\\n5301  2019  Spring  2019-sp    BADM     350  IT for Networked Organizations   \n7177  2019  Summer  2019-su    BADM     375           Operations Management   \n2127  2020  Summer  2020-su    BADM     375           Operations Management   \n5302  2019  Spring  2019-sp    BADM     350  IT for Networked Organizations   \n373   2020  Spring  2020-sp    BADM     350  IT for Networked Organizations   \n5303  2019  Spring  2019-sp    BADM     350  IT for Networked Organizations   \n2773  2019    Fall  2019-fa    BADM     350  IT for Networked Organizations   \n5358  2019  Spring  2019-sp    BADM     590       Predictive Data Analytics   \n2827  2019    Fall  2019-fa    BADM     554  Enterprise Database Management   \n386   2020  Spring  2020-sp    BADM     378            Logistics Management   \n\n      A+   A  A-  B+  ...  C  C-  D+  D  D-  F  W         Primary Instructor  \\\n5301   0   0   1   3  ...  8   4   0  4   0  0  0  Parthasarathy, Rangarajan   \n7177   0   6   2   4  ...  1   1   2  5   0  4  1            Scott, Nehemiah   \n2127   0   3   7   3  ...  1   1   1  1   4  2  1            Scott, Nehemiah   \n5302   0   0   1   2  ...  2   0   0  2   0  0  0  Parthasarathy, Rangarajan   \n373    0   0   2   3  ...  3   0   0  2   0  0  0  Parthasarathy, Rangarajan   \n5303   0   2   2   3  ...  1   1   0  1   0  0  0  Parthasarathy, Rangarajan   \n2773   0   8  10  13  ...  3   1   0  5   0  1  0  Parthasarathy, Rangarajan   \n5358   0  15   6   8  ...  0   1  10  2   0  0  0                    Ye, Han   \n2827   0   3   6  10  ...  1   0   3  0   0  0  0            Sachdev, Vishal   \n386    0   6   5   1  ...  0   1   0  0   0  1  0            Scott, Nehemiah   \n\n      Total Students  Average GPA  \n5301              36     2.343056  \n7177              35     2.400000  \n2127              34     2.579706  \n5302              24     2.624583  \n373               23     2.667391  \n5303              33     2.889697  \n2773              55     2.981818  \n5358              43     2.983721  \n2827              44     2.991591  \n386               24     3.098333  \n\n[10 rows x 23 columns]"
     },
     "execution_count": 11,
     "metadata": {},
     "output_type": "execute_result"
    }
   ],
   "source": [
    "df_hardest_classes_in_major= df3.nsmallest(10, \"Average GPA\")\n",
    "df_hardest_classes_in_major"
   ]
  },
  {
   "cell_type": "markdown",
   "metadata": {},
   "source": [
    "### Puzzle 3.6: ❓ Individual Reflection Question ❓ \n",
    "\n",
    "Explain what you did in Puzzle 3.5 here, as well as what you found!  This is your chance to interpret your results and teach us something that you found interesting :)\n",
    "\n",
    "I found the ten hardest couses by GPA within the Business Adminstration department after 2019. I first created a dataframe of only BADM courses after 2019 with at least 20 students. I then used the nlargest method to find the ten hardest courses by GPA. I found that the hardest BADM courses by GPA after 2019 have been BADM 350, 375, 590,554, and 378."
   ]
  },
  {
   "cell_type": "markdown",
   "metadata": {},
   "source": [
    "***Double click this cell and type your answer here.***"
   ]
  },
  {
   "cell_type": "markdown",
   "metadata": {},
   "source": [
    "# Finale!\n",
    "\n",
    "You're almost done -- congratulations!\n",
    "\n",
    "You need to do two more things:\n",
    "\n",
    "1.  Save your work. To do this, go to File -> Save All\n",
    "\n",
    "2.  After you have saved, exit this notebook and follow the webpage instructions to commit this lab to your Git repository!"
   ]
  }
 ],
 "metadata": {
  "celltoolbar": "Create Assignment",
  "interpreter": {
   "hash": "3b8139b19a42d2cc2d5868d061daa36e817f1d0defedc1ea62988e353be55fb4"
  },
  "kernelspec": {
   "display_name": "Python 3.8.3 64-bit ('base': conda)",
   "name": "python383jvsc74a57bd0b8532a2b837a6fbe15094c719a0937c54384c2ad0b93f1b59ac25bc98c717a2b"
  },
  "language_info": {
   "codemirror_mode": {
    "name": "ipython",
    "version": 3
   },
   "file_extension": ".py",
   "mimetype": "text/x-python",
   "name": "python",
   "nbconvert_exporter": "python",
   "pygments_lexer": "ipython3",
   "version": "3.8.3"
  }
 },
 "nbformat": 4,
 "nbformat_minor": 4
}